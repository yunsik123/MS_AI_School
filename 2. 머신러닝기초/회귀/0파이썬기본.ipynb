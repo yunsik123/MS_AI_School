{
 "cells": [
  {
   "cell_type": "code",
   "execution_count": null,
   "metadata": {
    "id": "H-FX5bBb6cG9"
   },
   "outputs": [],
   "source": [
    "# 미션: 숫자 리스트의 모든 요소를 제곱한 후 새로운 리스트로 반환하기"
   ]
  },
  {
   "cell_type": "code",
   "execution_count": 6,
   "metadata": {
    "id": "8FABTWPE65LD"
   },
   "outputs": [
    {
     "name": "stdout",
     "output_type": "stream",
     "text": [
      "[1, 4, 27, 256, 3125]\n"
     ]
    }
   ],
   "source": [
    "numbers = [1, 2, 3, 4, 5]\n",
    "squared_numbers = [num**num for num in numbers]# TODO: YOUR CODE HERE\n",
    "print(squared_numbers)"
   ]
  },
  {
   "cell_type": "code",
   "execution_count": null,
   "metadata": {
    "id": "1iM_f0bg65Uk"
   },
   "outputs": [],
   "source": [
    "# 미션: 학생들의 이름과 점수가 있는 딕셔너리에서, 점수가 70점 이상인 학생들만 출력"
   ]
  },
  {
   "cell_type": "code",
   "execution_count": 7,
   "metadata": {
    "id": "RYnHlxx47G8c"
   },
   "outputs": [
    {
     "name": "stdout",
     "output_type": "stream",
     "text": [
      "{'Alice': 85, 'Charlie': 72, 'David': 90}\n"
     ]
    }
   ],
   "source": [
    "students = {'Alice': 85, 'Bob': 67, 'Charlie': 72, 'David': 90}\n",
    "passed_students = {name: score for name, score in students.items() if score >= 70} # TODO: YOUR CODE HERE\n",
    "print(passed_students)"
   ]
  },
  {
   "cell_type": "code",
   "execution_count": null,
   "metadata": {
    "id": "0pfxmUda7L1N"
   },
   "outputs": [],
   "source": [
    "# 미션: 두 숫자의 합을 계산하는 함수를 작성"
   ]
  },
  {
   "cell_type": "code",
   "execution_count": 8,
   "metadata": {
    "id": "DQShaNEw7N4r"
   },
   "outputs": [
    {
     "name": "stdout",
     "output_type": "stream",
     "text": [
      "30\n"
     ]
    }
   ],
   "source": [
    "# TODO: YOUR CODE HERE\n",
    "def add_numbers(a,b):\n",
    "    return a+b\n",
    "\n",
    "result = add_numbers(10, 20)\n",
    "print(result)"
   ]
  },
  {
   "cell_type": "code",
   "execution_count": null,
   "metadata": {
    "id": "o0X_wyUW7Vl-"
   },
   "outputs": [],
   "source": [
    "# 미션: 텍스트 파일을 읽고, 파일의 각 줄을 역순으로 출력하세요.\n",
    "# 2~3줄의 문장이 들어있는 간단한 sample.txt 파일을 만들어주세요"
   ]
  },
  {
   "cell_type": "code",
   "execution_count": 24,
   "metadata": {
    "id": "3oF3l-lD7XPD"
   },
   "outputs": [
    {
     "name": "stdout",
     "output_type": "stream",
     "text": [
      "\n",
      "녕안\n",
      "\n",
      "워가반\n",
      "네하곤피 은침아\n"
     ]
    }
   ],
   "source": [
    "with open('sample.txt', 'r') as file:\n",
    "    lines = file.readlines()\n",
    "    reversed_lines = [line[::-1] for line in lines]  # TODO: YOUR CODE HERE\n",
    "    for line in reversed_lines:\n",
    "        print(line)"
   ]
  },
  {
   "cell_type": "code",
   "execution_count": null,
   "metadata": {
    "id": "cLh17mxv8jxj"
   },
   "outputs": [],
   "source": [
    "# 미션: CSV 파일을 읽고, 'column_name' 열의 평균값을 계산하세요.\n",
    "# 먼저 data.csv파일을 만드는 코드셀을 실행하세요"
   ]
  },
  {
   "cell_type": "code",
   "execution_count": 10,
   "metadata": {
    "id": "Qw3tkjvDKbes"
   },
   "outputs": [
    {
     "name": "stdout",
     "output_type": "stream",
     "text": [
      "data.csv 파일이 성공적으로 생성되었습니다.\n"
     ]
    }
   ],
   "source": [
    "import csv\n",
    "\n",
    "# 데이터 정의\n",
    "data = [\n",
    "    ['column_group', 'column_name', 'other_column'],\n",
    "    ['A', 10, 5],\n",
    "    ['B', 20, 15],\n",
    "    ['D', 30, 25],\n",
    "    ['C', 40, 35],\n",
    "    ['A', 50, 45],\n",
    "    ['C', 60, 55],\n",
    "    ['A', 70, 65],\n",
    "    ['D', 80, 75],\n",
    "    ['B', 90, 85],\n",
    "    ['B', 100, 95]\n",
    "]\n",
    "\n",
    "# 파일 쓰기\n",
    "with open('data.csv', 'w', newline='') as file:\n",
    "    writer = csv.writer(file)\n",
    "    writer.writerows(data)\n",
    "\n",
    "print(\"data.csv 파일이 성공적으로 생성되었습니다.\")"
   ]
  },
  {
   "cell_type": "code",
   "execution_count": 20,
   "metadata": {
    "id": "K8dxRpHB8l1C"
   },
   "outputs": [
    {
     "name": "stdout",
     "output_type": "stream",
     "text": [
      "55.0\n"
     ]
    }
   ],
   "source": [
    "import pandas as pd\n",
    "\n",
    "df = pd.read_csv('data.csv')\n",
    "average_value = df['column_name'].mean()# TODO: YOUR CODE HERE\n",
    "print(average_value)"
   ]
  },
  {
   "cell_type": "code",
   "execution_count": null,
   "metadata": {
    "id": "SNzaeZ728sbq"
   },
   "outputs": [],
   "source": [
    "# 미션: 데이터 프레임에서 특정 조건('column_name'열 중 50초과)을 만족하는 행만 선택하세요."
   ]
  },
  {
   "cell_type": "code",
   "execution_count": 25,
   "metadata": {
    "id": "R5Xo6X4K8ujt"
   },
   "outputs": [
    {
     "name": "stdout",
     "output_type": "stream",
     "text": [
      "  column_group  column_name  other_column\n",
      "5            C           60            55\n",
      "6            A           70            65\n",
      "7            D           80            75\n",
      "8            B           90            85\n",
      "9            B          100            95\n"
     ]
    }
   ],
   "source": [
    "filtered_df = df[df['column_name']>50]# TODO: YOUR CODE HERE\n",
    "print(filtered_df)"
   ]
  },
  {
   "cell_type": "code",
   "execution_count": null,
   "metadata": {
    "id": "SepQLBHb9a6k"
   },
   "outputs": [],
   "source": [
    "# 미션: 데이터 프레임을 'column_group' 열에 의해 그룹화하고, 그룹별 합계를 계산하세요."
   ]
  },
  {
   "cell_type": "code",
   "execution_count": 26,
   "metadata": {
    "id": "lwJB45go9c0R"
   },
   "outputs": [
    {
     "name": "stdout",
     "output_type": "stream",
     "text": [
      "              column_name  other_column\n",
      "column_group                           \n",
      "A                     130           115\n",
      "B                     210           195\n",
      "C                     100            90\n",
      "D                     110           100\n"
     ]
    }
   ],
   "source": [
    "grouped_df = df.groupby('column_group').sum() # TODO: YOUR CODE HERE\n",
    "print(grouped_df)"
   ]
  },
  {
   "cell_type": "code",
   "execution_count": 27,
   "metadata": {
    "id": "LAnBLD6UHBbf"
   },
   "outputs": [
    {
     "data": {
      "text/plain": [
       "[9, 20, 21, 24, 26, 38]"
      ]
     },
     "execution_count": 27,
     "metadata": {},
     "output_type": "execute_result"
    }
   ],
   "source": [
    "# 미션: 로또 번호 생성기\n",
    "# 주제: 1부터 45까지의 숫자 중에서 랜덤으로 6개의 로또 번호를 생성하는 프로그램을 작성하세요.\n",
    "# 요구사항: 6개의 숫자가 중복되지 않도록 랜덤으로 생성합니다.\n",
    "import random\n",
    "\n",
    "def generate_lotto_numbers():\n",
    "    lotto_numbers = random.sample(range(1, 46), 6)\n",
    "    lotto_numbers.sort()\n",
    "    return lotto_numbers\n",
    "lotto_numbers = generate_lotto_numbers()\n",
    "lotto_numbers"
   ]
  },
  {
   "cell_type": "code",
   "execution_count": null,
   "metadata": {},
   "outputs": [],
   "source": []
  }
 ],
 "metadata": {
  "colab": {
   "provenance": []
  },
  "kernelspec": {
   "display_name": "Python 3 (ipykernel)",
   "language": "python",
   "name": "python3"
  },
  "language_info": {
   "codemirror_mode": {
    "name": "ipython",
    "version": 3
   },
   "file_extension": ".py",
   "mimetype": "text/x-python",
   "name": "python",
   "nbconvert_exporter": "python",
   "pygments_lexer": "ipython3",
   "version": "3.11.6"
  }
 },
 "nbformat": 4,
 "nbformat_minor": 4
}
