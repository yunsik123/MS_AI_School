{
 "cells": [
  {
   "cell_type": "code",
   "execution_count": null,
   "metadata": {
    "id": "7XSgUttx2t7B"
   },
   "outputs": [],
   "source": [
    "# 사이킷런 라이브러리"
   ]
  },
  {
   "cell_type": "code",
   "execution_count": 1,
   "metadata": {
    "id": "R2jCV_-nV-dt"
   },
   "outputs": [],
   "source": [
    "import numpy as np\n",
    "import pandas as pd\n",
    "import matplotlib.pyplot as plt\n",
    "import seaborn as sns\n",
    "import warnings\n",
    "warnings.filterwarnings(\"ignore\")"
   ]
  },
  {
   "cell_type": "markdown",
   "metadata": {
    "id": "9R7o1k4RWUWQ"
   },
   "source": [
    "## 1.1 당뇨병 예측하기"
   ]
  },
  {
   "cell_type": "markdown",
   "metadata": {
    "id": "tI2o9W9DWXVg"
   },
   "source": [
    "#### 데이터 불러오기"
   ]
  },
  {
   "cell_type": "code",
   "execution_count": 2,
   "metadata": {
    "colab": {
     "base_uri": "https://localhost:8080/",
     "height": 206
    },
    "id": "X3uKyuKa5S5W",
    "outputId": "fb7fbdc6-e11b-436a-ce91-fb08a7df1506"
   },
   "outputs": [
    {
     "data": {
      "text/html": [
       "<div>\n",
       "<style scoped>\n",
       "    .dataframe tbody tr th:only-of-type {\n",
       "        vertical-align: middle;\n",
       "    }\n",
       "\n",
       "    .dataframe tbody tr th {\n",
       "        vertical-align: top;\n",
       "    }\n",
       "\n",
       "    .dataframe thead th {\n",
       "        text-align: right;\n",
       "    }\n",
       "</style>\n",
       "<table border=\"1\" class=\"dataframe\">\n",
       "  <thead>\n",
       "    <tr style=\"text-align: right;\">\n",
       "      <th></th>\n",
       "      <th>age</th>\n",
       "      <th>sex</th>\n",
       "      <th>bmi</th>\n",
       "      <th>bp</th>\n",
       "      <th>s1</th>\n",
       "      <th>s2</th>\n",
       "      <th>s3</th>\n",
       "      <th>s4</th>\n",
       "      <th>s5</th>\n",
       "      <th>s6</th>\n",
       "      <th>target</th>\n",
       "    </tr>\n",
       "  </thead>\n",
       "  <tbody>\n",
       "    <tr>\n",
       "      <th>437</th>\n",
       "      <td>0.041708</td>\n",
       "      <td>0.050680</td>\n",
       "      <td>0.019662</td>\n",
       "      <td>0.059744</td>\n",
       "      <td>-0.005697</td>\n",
       "      <td>-0.002566</td>\n",
       "      <td>-0.028674</td>\n",
       "      <td>-0.002592</td>\n",
       "      <td>0.031193</td>\n",
       "      <td>0.007207</td>\n",
       "      <td>178.0</td>\n",
       "    </tr>\n",
       "    <tr>\n",
       "      <th>438</th>\n",
       "      <td>-0.005515</td>\n",
       "      <td>0.050680</td>\n",
       "      <td>-0.015906</td>\n",
       "      <td>-0.067642</td>\n",
       "      <td>0.049341</td>\n",
       "      <td>0.079165</td>\n",
       "      <td>-0.028674</td>\n",
       "      <td>0.034309</td>\n",
       "      <td>-0.018114</td>\n",
       "      <td>0.044485</td>\n",
       "      <td>104.0</td>\n",
       "    </tr>\n",
       "    <tr>\n",
       "      <th>439</th>\n",
       "      <td>0.041708</td>\n",
       "      <td>0.050680</td>\n",
       "      <td>-0.015906</td>\n",
       "      <td>0.017293</td>\n",
       "      <td>-0.037344</td>\n",
       "      <td>-0.013840</td>\n",
       "      <td>-0.024993</td>\n",
       "      <td>-0.011080</td>\n",
       "      <td>-0.046883</td>\n",
       "      <td>0.015491</td>\n",
       "      <td>132.0</td>\n",
       "    </tr>\n",
       "    <tr>\n",
       "      <th>440</th>\n",
       "      <td>-0.045472</td>\n",
       "      <td>-0.044642</td>\n",
       "      <td>0.039062</td>\n",
       "      <td>0.001215</td>\n",
       "      <td>0.016318</td>\n",
       "      <td>0.015283</td>\n",
       "      <td>-0.028674</td>\n",
       "      <td>0.026560</td>\n",
       "      <td>0.044529</td>\n",
       "      <td>-0.025930</td>\n",
       "      <td>220.0</td>\n",
       "    </tr>\n",
       "    <tr>\n",
       "      <th>441</th>\n",
       "      <td>-0.045472</td>\n",
       "      <td>-0.044642</td>\n",
       "      <td>-0.073030</td>\n",
       "      <td>-0.081413</td>\n",
       "      <td>0.083740</td>\n",
       "      <td>0.027809</td>\n",
       "      <td>0.173816</td>\n",
       "      <td>-0.039493</td>\n",
       "      <td>-0.004222</td>\n",
       "      <td>0.003064</td>\n",
       "      <td>57.0</td>\n",
       "    </tr>\n",
       "  </tbody>\n",
       "</table>\n",
       "</div>"
      ],
      "text/plain": [
       "          age       sex       bmi        bp        s1        s2        s3  \\\n",
       "437  0.041708  0.050680  0.019662  0.059744 -0.005697 -0.002566 -0.028674   \n",
       "438 -0.005515  0.050680 -0.015906 -0.067642  0.049341  0.079165 -0.028674   \n",
       "439  0.041708  0.050680 -0.015906  0.017293 -0.037344 -0.013840 -0.024993   \n",
       "440 -0.045472 -0.044642  0.039062  0.001215  0.016318  0.015283 -0.028674   \n",
       "441 -0.045472 -0.044642 -0.073030 -0.081413  0.083740  0.027809  0.173816   \n",
       "\n",
       "           s4        s5        s6  target  \n",
       "437 -0.002592  0.031193  0.007207   178.0  \n",
       "438  0.034309 -0.018114  0.044485   104.0  \n",
       "439 -0.011080 -0.046883  0.015491   132.0  \n",
       "440  0.026560  0.044529 -0.025930   220.0  \n",
       "441 -0.039493 -0.004222  0.003064    57.0  "
      ]
     },
     "execution_count": 2,
     "metadata": {},
     "output_type": "execute_result"
    }
   ],
   "source": [
    "from sklearn.datasets import load_diabetes\n",
    "\n",
    "# 당뇨병 데이터셋 로드\n",
    "diabetes = load_diabetes()\n",
    "diabetes_X = diabetes.data\n",
    "diabetes_y = diabetes.target\n",
    "\n",
    "# 데이터프레임 생성\n",
    "diabetes_df = pd.DataFrame(diabetes_X, columns=diabetes.feature_names)\n",
    "diabetes_df[\"target\"] = diabetes_y #TODO:YOUR_CODE_HERE\n",
    "\n",
    "diabetes_df.tail(5)"
   ]
  },
  {
   "cell_type": "code",
   "execution_count": 3,
   "metadata": {
    "id": "sbWBMAZD_XMm"
   },
   "outputs": [
    {
     "name": "stdout",
     "output_type": "stream",
     "text": [
      "        age       sex       bmi        bp        s1        s2        s3  \\\n",
      "0  0.038076  0.050680  0.061696  0.021872 -0.044223 -0.034821 -0.043401   \n",
      "1 -0.001882 -0.044642 -0.051474 -0.026328 -0.008449 -0.019163  0.074412   \n",
      "2  0.085299  0.050680  0.044451 -0.005670 -0.045599 -0.034194 -0.032356   \n",
      "3 -0.089063 -0.044642 -0.011595 -0.036656  0.012191  0.024991 -0.036038   \n",
      "4  0.005383 -0.044642 -0.036385  0.021872  0.003935  0.015596  0.008142   \n",
      "\n",
      "         s4        s5        s6  target  \n",
      "0 -0.002592  0.019907 -0.017646   151.0  \n",
      "1 -0.039493 -0.068332 -0.092204    75.0  \n",
      "2 -0.002592  0.002861 -0.025930   141.0  \n",
      "3  0.034309  0.022688 -0.009362   206.0  \n",
      "4 -0.002592 -0.031988 -0.046641   135.0  \n",
      "                age           sex           bmi            bp            s1  \\\n",
      "count  4.420000e+02  4.420000e+02  4.420000e+02  4.420000e+02  4.420000e+02   \n",
      "mean  -2.511817e-19  1.230790e-17 -2.245564e-16 -4.797570e-17 -1.381499e-17   \n",
      "std    4.761905e-02  4.761905e-02  4.761905e-02  4.761905e-02  4.761905e-02   \n",
      "min   -1.072256e-01 -4.464164e-02 -9.027530e-02 -1.123988e-01 -1.267807e-01   \n",
      "25%   -3.729927e-02 -4.464164e-02 -3.422907e-02 -3.665608e-02 -3.424784e-02   \n",
      "50%    5.383060e-03 -4.464164e-02 -7.283766e-03 -5.670422e-03 -4.320866e-03   \n",
      "75%    3.807591e-02  5.068012e-02  3.124802e-02  3.564379e-02  2.835801e-02   \n",
      "max    1.107267e-01  5.068012e-02  1.705552e-01  1.320436e-01  1.539137e-01   \n",
      "\n",
      "                 s2            s3            s4            s5            s6  \\\n",
      "count  4.420000e+02  4.420000e+02  4.420000e+02  4.420000e+02  4.420000e+02   \n",
      "mean   3.918434e-17 -5.777179e-18 -9.042540e-18  9.293722e-17  1.130318e-17   \n",
      "std    4.761905e-02  4.761905e-02  4.761905e-02  4.761905e-02  4.761905e-02   \n",
      "min   -1.156131e-01 -1.023071e-01 -7.639450e-02 -1.260971e-01 -1.377672e-01   \n",
      "25%   -3.035840e-02 -3.511716e-02 -3.949338e-02 -3.324559e-02 -3.317903e-02   \n",
      "50%   -3.819065e-03 -6.584468e-03 -2.592262e-03 -1.947171e-03 -1.077698e-03   \n",
      "75%    2.984439e-02  2.931150e-02  3.430886e-02  3.243232e-02  2.791705e-02   \n",
      "max    1.987880e-01  1.811791e-01  1.852344e-01  1.335973e-01  1.356118e-01   \n",
      "\n",
      "           target  \n",
      "count  442.000000  \n",
      "mean   152.133484  \n",
      "std     77.093005  \n",
      "min     25.000000  \n",
      "25%     87.000000  \n",
      "50%    140.500000  \n",
      "75%    211.500000  \n",
      "max    346.000000  \n",
      "<class 'pandas.core.frame.DataFrame'>\n",
      "RangeIndex: 442 entries, 0 to 441\n",
      "Data columns (total 11 columns):\n",
      " #   Column  Non-Null Count  Dtype  \n",
      "---  ------  --------------  -----  \n",
      " 0   age     442 non-null    float64\n",
      " 1   sex     442 non-null    float64\n",
      " 2   bmi     442 non-null    float64\n",
      " 3   bp      442 non-null    float64\n",
      " 4   s1      442 non-null    float64\n",
      " 5   s2      442 non-null    float64\n",
      " 6   s3      442 non-null    float64\n",
      " 7   s4      442 non-null    float64\n",
      " 8   s5      442 non-null    float64\n",
      " 9   s6      442 non-null    float64\n",
      " 10  target  442 non-null    float64\n",
      "dtypes: float64(11)\n",
      "memory usage: 38.1 KB\n",
      "None\n"
     ]
    }
   ],
   "source": [
    "# 데이터 탐색\n",
    "print(diabetes_df.head())\n",
    "print(diabetes_df.describe())\n",
    "print(diabetes_df.info())"
   ]
  },
  {
   "cell_type": "code",
   "execution_count": 4,
   "metadata": {
    "id": "ufEsQJv-_fNH"
   },
   "outputs": [
    {
     "data": {
      "image/png": "[encoded data removed]",
      "text/plain": [
       "<Figure size 1000x800 with 2 Axes>"
      ]
     },
     "metadata": {},
     "output_type": "display_data"
    }
   ],
   "source": [
    "# 상관관계 히트맵\n",
    "plt.figure(figsize=(10, 8))\n",
    "sns.heatmap(diabetes_df.corr(), annot=True, cmap='coolwarm')\n",
    "plt.show()"
   ]
  },
  {
   "cell_type": "markdown",
   "metadata": {
    "id": "qxDh5nj9_qzQ"
   },
   "source": [
    "#### 데이터 전처리"
   ]
  },
  {
   "cell_type": "code",
   "execution_count": 10,
   "metadata": {
    "colab": {
     "base_uri": "https://localhost:8080/"
    },
    "id": "W5osmNkt_wz4",
    "outputId": "4f6f5ca2-bd68-4d95-e7bb-ca3a0ff60cae"
   },
   "outputs": [
    {
     "name": "stdout",
     "output_type": "stream",
     "text": [
      "age       0\n",
      "sex       0\n",
      "bmi       0\n",
      "bp        0\n",
      "s1        0\n",
      "s2        0\n",
      "s3        0\n",
      "s4        0\n",
      "s5        0\n",
      "s6        0\n",
      "target    0\n",
      "dtype: int64\n"
     ]
    }
   ],
   "source": [
    "# 데이터 전처리를 위한 라이브러리 임포트\n",
    "from sklearn.preprocessing import StandardScaler\n",
    "from sklearn.model_selection import train_test_split\n",
    "\n",
    "# 결측치 확인\n",
    "print(diabetes_df.isnull().sum())\n",
    "\n",
    "# 특징과 타깃 변수 분리\n",
    "X = diabetes_df.drop(['target'], axis =1)#TODO:YOUR_CODE_HERE\n",
    "y = diabetes_df['target']\n",
    "\n",
    "# 데이터 스케일링 (표준화)\n",
    "scaler = StandardScaler()#TODO:YOUR_CODE_HERE\n",
    "X_scaled = scaler.fit_transform(X)\n"
   ]
  },
  {
   "cell_type": "markdown",
   "metadata": {
    "id": "5JmUa5fRWizp"
   },
   "source": [
    "#### 학습/검증 데이터 분리"
   ]
  },
  {
   "cell_type": "code",
   "execution_count": 11,
   "metadata": {
    "id": "5xmPfKDnWZ47"
   },
   "outputs": [],
   "source": [
    "# 훈련 세트와 테스트 세트로 분할\n",
    "X_train, X_test, y_train, y_test = train_test_split(X_scaled, y, test_size=0.2, random_state=101)"
   ]
  },
  {
   "cell_type": "markdown",
   "metadata": {
    "id": "YVUaiQG0WrP_"
   },
   "source": [
    "#### 선형 회귀 모델 학습"
   ]
  },
  {
   "cell_type": "code",
   "execution_count": 12,
   "metadata": {
    "colab": {
     "base_uri": "https://localhost:8080/",
     "height": 74
    },
    "id": "Nfk_eCDrWtO7",
    "outputId": "286f3663-4991-4dd9-da90-ef03d8c65514"
   },
   "outputs": [
    {
     "data": {
      "text/html": [
       "<style>#sk-container-id-1 {color: black;}#sk-container-id-1 pre{padding: 0;}#sk-container-id-1 div.sk-toggleable {background-color: white;}#sk-container-id-1 label.sk-toggleable__label {cursor: pointer;display: block;width: 100%;margin-bottom: 0;padding: 0.3em;box-sizing: border-box;text-align: center;}#sk-container-id-1 label.sk-toggleable__label-arrow:before {content: \"▸\";float: left;margin-right: 0.25em;color: #696969;}#sk-container-id-1 label.sk-toggleable__label-arrow:hover:before {color: black;}#sk-container-id-1 div.sk-estimator:hover label.sk-toggleable__label-arrow:before {color: black;}#sk-container-id-1 div.sk-toggleable__content {max-height: 0;max-width: 0;overflow: hidden;text-align: left;background-color: #f0f8ff;}#sk-container-id-1 div.sk-toggleable__content pre {margin: 0.2em;color: black;border-radius: 0.25em;background-color: #f0f8ff;}#sk-container-id-1 input.sk-toggleable__control:checked~div.sk-toggleable__content {max-height: 200px;max-width: 100%;overflow: auto;}#sk-container-id-1 input.sk-toggleable__control:checked~label.sk-toggleable__label-arrow:before {content: \"▾\";}#sk-container-id-1 div.sk-estimator input.sk-toggleable__control:checked~label.sk-toggleable__label {background-color: #d4ebff;}#sk-container-id-1 div.sk-label input.sk-toggleable__control:checked~label.sk-toggleable__label {background-color: #d4ebff;}#sk-container-id-1 input.sk-hidden--visually {border: 0;clip: rect(1px 1px 1px 1px);clip: rect(1px, 1px, 1px, 1px);height: 1px;margin: -1px;overflow: hidden;padding: 0;position: absolute;width: 1px;}#sk-container-id-1 div.sk-estimator {font-family: monospace;background-color: #f0f8ff;border: 1px dotted black;border-radius: 0.25em;box-sizing: border-box;margin-bottom: 0.5em;}#sk-container-id-1 div.sk-estimator:hover {background-color: #d4ebff;}#sk-container-id-1 div.sk-parallel-item::after {content: \"\";width: 100%;border-bottom: 1px solid gray;flex-grow: 1;}#sk-container-id-1 div.sk-label:hover label.sk-toggleable__label {background-color: #d4ebff;}#sk-container-id-1 div.sk-serial::before {content: \"\";position: absolute;border-left: 1px solid gray;box-sizing: border-box;top: 0;bottom: 0;left: 50%;z-index: 0;}#sk-container-id-1 div.sk-serial {display: flex;flex-direction: column;align-items: center;background-color: white;padding-right: 0.2em;padding-left: 0.2em;position: relative;}#sk-container-id-1 div.sk-item {position: relative;z-index: 1;}#sk-container-id-1 div.sk-parallel {display: flex;align-items: stretch;justify-content: center;background-color: white;position: relative;}#sk-container-id-1 div.sk-item::before, #sk-container-id-1 div.sk-parallel-item::before {content: \"\";position: absolute;border-left: 1px solid gray;box-sizing: border-box;top: 0;bottom: 0;left: 50%;z-index: -1;}#sk-container-id-1 div.sk-parallel-item {display: flex;flex-direction: column;z-index: 1;position: relative;background-color: white;}#sk-container-id-1 div.sk-parallel-item:first-child::after {align-self: flex-end;width: 50%;}#sk-container-id-1 div.sk-parallel-item:last-child::after {align-self: flex-start;width: 50%;}#sk-container-id-1 div.sk-parallel-item:only-child::after {width: 0;}#sk-container-id-1 div.sk-dashed-wrapped {border: 1px dashed gray;margin: 0 0.4em 0.5em 0.4em;box-sizing: border-box;padding-bottom: 0.4em;background-color: white;}#sk-container-id-1 div.sk-label label {font-family: monospace;font-weight: bold;display: inline-block;line-height: 1.2em;}#sk-container-id-1 div.sk-label-container {text-align: center;}#sk-container-id-1 div.sk-container {/* jupyter's `normalize.less` sets `[hidden] { display: none; }` but bootstrap.min.css set `[hidden] { display: none !important; }` so we also need the `!important` here to be able to override the default hidden behavior on the sphinx rendered scikit-learn.org. See: https://github.com/scikit-learn/scikit-learn/issues/21755 */display: inline-block !important;position: relative;}#sk-container-id-1 div.sk-text-repr-fallback {display: none;}</style><div id=\"sk-container-id-1\" class=\"sk-top-container\"><div class=\"sk-text-repr-fallback\"><pre>LinearRegression()</pre><b>In a Jupyter environment, please rerun this cell to show the HTML representation or trust the notebook. <br />On GitHub, the HTML representation is unable to render, please try loading this page with nbviewer.org.</b></div><div class=\"sk-container\" hidden><div class=\"sk-item\"><div class=\"sk-estimator sk-toggleable\"><input class=\"sk-toggleable__control sk-hidden--visually\" id=\"sk-estimator-id-1\" type=\"checkbox\" checked><label for=\"sk-estimator-id-1\" class=\"sk-toggleable__label sk-toggleable__label-arrow\">LinearRegression</label><div class=\"sk-toggleable__content\"><pre>LinearRegression()</pre></div></div></div></div></div>"
      ],
      "text/plain": [
       "LinearRegression()"
      ]
     },
     "execution_count": 12,
     "metadata": {},
     "output_type": "execute_result"
    }
   ],
   "source": [
    "# 선형 회귀 모델 임포트\n",
    "from sklearn.linear_model import LinearRegression\n",
    "from sklearn.metrics import mean_squared_error, r2_score\n",
    "\n",
    "# 선형 회귀 모델 학습\n",
    "lr = LinearRegression()#TODO:YOUR_CODE_HERE\n",
    "lr.fit(X_train, y_train)"
   ]
  },
  {
   "cell_type": "markdown",
   "metadata": {
    "id": "LhOaR8EgWxkS"
   },
   "source": [
    "#### 성능평가"
   ]
  },
  {
   "cell_type": "code",
   "execution_count": 15,
   "metadata": {
    "colab": {
     "base_uri": "https://localhost:8080/"
    },
    "id": "HCj95v13WwSo",
    "outputId": "ee49fb99-7348-488a-c1ff-3fbd1f349dc1"
   },
   "outputs": [
    {
     "name": "stdout",
     "output_type": "stream",
     "text": [
      "Linear Regression MSE: 2778.580\n",
      "Linear Regression R^2: 0.565\n"
     ]
    }
   ],
   "source": [
    "# 예측 수행\n",
    "y_pred = lr.predict(X_test)\n",
    "\n",
    "# 성능 평가\n",
    "mse = mean_squared_error(y_test,y_pred)#TODO:YOUR_CODE_HERE\n",
    "r2 = r2_score(y_test, y_pred)#TODO:YOUR_CODE_HERE\n",
    "\n",
    "print(f\"Linear Regression MSE: {mse:.3f}\")\n",
    "print(f\"Linear Regression R^2: {r2:.3f}\")"
   ]
  },
  {
   "cell_type": "markdown",
   "metadata": {
    "id": "lDktRP9qAYo3"
   },
   "source": [
    "##1.2 다양한 모델과 하이퍼파라미터 튜닝"
   ]
  },
  {
   "cell_type": "code",
   "execution_count": null,
   "metadata": {
    "id": "9eA7vP_KAcsp"
   },
   "outputs": [],
   "source": [
    "# Ridge와 Lasso 회귀 모델 사용"
   ]
  },
  {
   "cell_type": "code",
   "execution_count": 17,
   "metadata": {
    "colab": {
     "base_uri": "https://localhost:8080/"
    },
    "id": "DhW_isXbAkqQ",
    "outputId": "db0457b6-8eb8-4f91-bd3e-65b9fae64a27"
   },
   "outputs": [
    {
     "name": "stdout",
     "output_type": "stream",
     "text": [
      "Best Ridge Parameters: {'alpha': 10}\n",
      "Best Lasso Parameters: {'alpha': 1}\n",
      "Ridge Regression MSE: 2811.155\n",
      "Ridge Regression R^2: 0.560\n",
      "Lasso Regression MSE: 2834.740\n",
      "Lasso Regression R^2: 0.556\n"
     ]
    }
   ],
   "source": [
    "# Ridge와 Lasso 회귀 모델 임포트\n",
    "from sklearn.linear_model import Ridge, Lasso\n",
    "from sklearn.model_selection import GridSearchCV\n",
    "\n",
    "# 하이퍼파라미터 그리드 설정\n",
    "param_grid_ridge = {'alpha': [0.01, 0.1, 1, 10, 100]}\n",
    "param_grid_lasso = {'alpha': [0.01, 0.1, 1, 10, 100]}\n",
    "\n",
    "# GridSearchCV 설정 및 모델 학습 (Ridge)\n",
    "ridge = Ridge() #TODO:YOUR_CODE_HERE\n",
    "grid_search_ridge = GridSearchCV(estimator=ridge, param_grid=param_grid_ridge, scoring='neg_mean_squared_error', cv=5)\n",
    "grid_search_ridge.fit(X_train, y_train)\n",
    "print(f\"Best Ridge Parameters: {grid_search_ridge.best_params_}\")\n",
    "\n",
    "# GridSearchCV 설정 및 모델 학습 (Lasso)\n",
    "lasso = Lasso()#TODO:YOUR_CODE_HERE\n",
    "grid_search_lasso = GridSearchCV(estimator=lasso, param_grid=param_grid_lasso, scoring='neg_mean_squared_error', cv=5)\n",
    "grid_search_lasso.fit(X_train, y_train)\n",
    "print(f\"Best Lasso Parameters: {grid_search_lasso.best_params_}\")\n",
    "\n",
    "# 최적 모델로 예측 및 성능 평가 (Ridge)\n",
    "best_ridge = grid_search_ridge.best_estimator_\n",
    "y_pred_ridge = best_ridge.predict(X_test)\n",
    "mse_ridge = mean_squared_error(y_test, y_pred_ridge)\n",
    "r2_ridge = r2_score(y_test, y_pred_ridge)\n",
    "print(f\"Ridge Regression MSE: {mse_ridge:.3f}\")\n",
    "print(f\"Ridge Regression R^2: {r2_ridge:.3f}\")\n",
    "\n",
    "# 최적 모델로 예측 및 성능 평가 (Lasso)\n",
    "best_lasso = grid_search_lasso.best_estimator_\n",
    "y_pred_lasso = best_lasso.predict(X_test)\n",
    "mse_lasso = mean_squared_error(y_test, y_pred_lasso)\n",
    "r2_lasso = r2_score(y_test, y_pred_lasso)\n",
    "print(f\"Lasso Regression MSE: {mse_lasso:.3f}\")\n",
    "print(f\"Lasso Regression R^2: {r2_lasso:.3f}\")\n"
   ]
  },
  {
   "cell_type": "markdown",
   "metadata": {
    "id": "1aGWIbt4ArA3"
   },
   "source": [
    "#### 교차 검증을 통한 모델 평가"
   ]
  },
  {
   "cell_type": "code",
   "execution_count": 20,
   "metadata": {
    "colab": {
     "base_uri": "https://localhost:8080/"
    },
    "id": "vBqTs3iGAt_t",
    "outputId": "01af0f5c-58b5-4ea1-fa29-db367c178193"
   },
   "outputs": [
    {
     "name": "stdout",
     "output_type": "stream",
     "text": [
      "Cross-validated Ridge Regression MSE: 3023.451\n",
      "Cross-validated Ridge Regression R^2: 0.487\n",
      "Cross-validated Lasso Regression MSE: 3023.616\n",
      "Cross-validated Lasso Regression R^2: 0.488\n"
     ]
    }
   ],
   "source": [
    "# K-fold 교차 검증 설정\n",
    "from sklearn.model_selection import KFold\n",
    "\n",
    "# K-fold 교차 검증 설정\n",
    "kf = KFold(n_splits=5, shuffle=True, random_state=1017)\n",
    "\n",
    "def evaluate_model(model, X, y, kf):\n",
    "    mse_scores = []\n",
    "    r2_scores = []\n",
    "    for train_idx, test_idx in kf.split(X):\n",
    "        X_train, X_test = X[train_idx], X[test_idx]\n",
    "        y_train, y_test = y[train_idx], y[test_idx]\n",
    "        model.fit(X_train, y_train)\n",
    "        y_pred = model.predict(X_test)\n",
    "        mse_scores.append(mean_squared_error(y_test, y_pred))\n",
    "        r2_scores.append(r2_score(y_test, y_pred))\n",
    "    return np.mean(mse_scores), np.mean(r2_scores)\n",
    "\n",
    "# Ridge 모델 교차 검증 평가\n",
    "ridge_mse_cv, ridge_r2_cv = evaluate_model(best_ridge, X_scaled, y, kf)\n",
    "print(f\"Cross-validated Ridge Regression MSE: {ridge_mse_cv:.3f}\")\n",
    "print(f\"Cross-validated Ridge Regression R^2: {ridge_r2_cv:.3f}\")\n",
    "\n",
    "# Lasso 모델 교차 검증 평가\n",
    "lasso_mse_cv, lasso_r2_cv = evaluate_model(best_lasso, X_scaled, y, kf)\n",
    "print(f\"Cross-validated Lasso Regression MSE: {lasso_mse_cv:.3f}\")\n",
    "print(f\"Cross-validated Lasso Regression R^2: {lasso_r2_cv:.3f}\")\n"
   ]
  },
  {
   "cell_type": "code",
   "execution_count": 21,
   "metadata": {
    "colab": {
     "base_uri": "https://localhost:8080/"
    },
    "id": "cVQ8IHmSA1ad",
    "outputId": "65a6ae47-5ad0-4c16-c05f-c772866c13b7"
   },
   "outputs": [
    {
     "name": "stdout",
     "output_type": "stream",
     "text": [
      "New data prediction: 206.603\n"
     ]
    }
   ],
   "source": [
    "# 최적 모델로 최종 예측\n",
    "final_model = best_ridge  # 예시로 Ridge를 선택\n",
    "new_data = scaler.transform([[0.03807591, 0.05068012, 0.06169621, 0.02187235, -0.0442235, -0.03482076, -0.04340085, -0.00259226, 0.01990749, -0.01764613]])  # 예시 데이터\n",
    "prediction = final_model.predict(new_data)\n",
    "print(f\"New data prediction: {prediction[0]:.3f}\")\n"
   ]
  },
  {
   "cell_type": "code",
   "execution_count": null,
   "metadata": {
    "id": "HMS4WsvYYNTG"
   },
   "outputs": [],
   "source": []
  },
  {
   "cell_type": "markdown",
   "metadata": {
    "id": "zmVatop4YWen"
   },
   "source": [
    "## 1.3 데이터 전처리"
   ]
  },
  {
   "cell_type": "markdown",
   "metadata": {
    "id": "y7f6tSpAYZld"
   },
   "source": [
    "### 1.3.1 레이블 인코딩"
   ]
  },
  {
   "cell_type": "code",
   "execution_count": 22,
   "metadata": {
    "colab": {
     "base_uri": "https://localhost:8080/"
    },
    "id": "8gWHmOvOYfsm",
    "outputId": "b5fb51cd-5878-4f22-aa1a-0f7db6d21024"
   },
   "outputs": [
    {
     "name": "stdout",
     "output_type": "stream",
     "text": [
      "인코딩 변환값: [0 1 4 5 3 3 2 2]\n",
      "인코딩 클래스: ['TV' '냉장고' '믹서' '선풍기' '전자레인지' '컴퓨터']\n",
      "디코딩 원본값: ['TV' 'TV' '냉장고' '전자레인지' '선풍기' '믹서']\n"
     ]
    }
   ],
   "source": [
    "from sklearn.preprocessing import LabelEncoder\n",
    "\n",
    "items = [\"TV\", \"냉장고\", \"전자레인지\", \"컴퓨터\", \"선풍기\", \"선풍기\", \"믹서\", \"믹서\"]\n",
    "\n",
    "encoder = LabelEncoder()\n",
    "encoder.fit(items)\n",
    "lables = encoder.transform(items)\n",
    "\n",
    "print(f\"인코딩 변환값: {lables}\")\n",
    "print(\"인코딩 클래스:\", encoder.classes_)\n",
    "print(\"디코딩 원본값:\", encoder.inverse_transform([0,0,1,4,3,2]))"
   ]
  },
  {
   "cell_type": "markdown",
   "metadata": {
    "id": "uNRIxftUYjoe"
   },
   "source": [
    "### 1.3.2 원-핫 인코딩"
   ]
  },
  {
   "cell_type": "code",
   "execution_count": 23,
   "metadata": {
    "colab": {
     "base_uri": "https://localhost:8080/"
    },
    "id": "kZom_IO1Yf0e",
    "outputId": "38137821-c5ab-45b9-d22c-c45b8447b6ea"
   },
   "outputs": [
    {
     "name": "stdout",
     "output_type": "stream",
     "text": [
      "원-핫 인코딩 데이터\n",
      "[[1. 0. 0. 0. 0. 0.]\n",
      " [0. 1. 0. 0. 0. 0.]\n",
      " [0. 0. 0. 0. 1. 0.]\n",
      " [0. 0. 0. 0. 0. 1.]\n",
      " [0. 0. 0. 1. 0. 0.]\n",
      " [0. 0. 0. 1. 0. 0.]\n",
      " [0. 0. 1. 0. 0. 0.]\n",
      " [0. 0. 1. 0. 0. 0.]]\n",
      "원-핫 인코딩 데이터 차원: (8, 6)\n"
     ]
    }
   ],
   "source": [
    "from sklearn.preprocessing import OneHotEncoder\n",
    "\n",
    "items = [\"TV\", \"냉장고\", \"전자레인지\", \"컴퓨터\", \"선풍기\", \"선풍기\", \"믹서\", \"믹서\"]\n",
    "\n",
    "# 숫자형 + 2차원 만들어주기\n",
    "encoder = LabelEncoder()\n",
    "encoder.fit(items)\n",
    "lables = encoder.transform(items).reshape(-1,1)\n",
    "\n",
    "# One-Hot\n",
    "oh_encoder = OneHotEncoder()\n",
    "oh_encoder.fit(lables)\n",
    "oh_lables = oh_encoder.transform(lables)\n",
    "\n",
    "print(\"원-핫 인코딩 데이터\")\n",
    "print(oh_lables.toarray())\n",
    "print(\"원-핫 인코딩 데이터 차원:\", oh_lables.shape)"
   ]
  },
  {
   "cell_type": "code",
   "execution_count": 24,
   "metadata": {
    "id": "S1OHRM2HYueO"
   },
   "outputs": [],
   "source": [
    "# Pandas 원-핫 인코딩"
   ]
  },
  {
   "cell_type": "code",
   "execution_count": 25,
   "metadata": {
    "colab": {
     "base_uri": "https://localhost:8080/",
     "height": 300
    },
    "id": "Lf3YYouqYo0i",
    "outputId": "5e858a5f-5889-4ade-954b-6ebc131b82e3"
   },
   "outputs": [
    {
     "data": {
      "text/html": [
       "<div>\n",
       "<style scoped>\n",
       "    .dataframe tbody tr th:only-of-type {\n",
       "        vertical-align: middle;\n",
       "    }\n",
       "\n",
       "    .dataframe tbody tr th {\n",
       "        vertical-align: top;\n",
       "    }\n",
       "\n",
       "    .dataframe thead th {\n",
       "        text-align: right;\n",
       "    }\n",
       "</style>\n",
       "<table border=\"1\" class=\"dataframe\">\n",
       "  <thead>\n",
       "    <tr style=\"text-align: right;\">\n",
       "      <th></th>\n",
       "      <th>Item_TV</th>\n",
       "      <th>Item_냉장고</th>\n",
       "      <th>Item_믹서</th>\n",
       "      <th>Item_선풍기</th>\n",
       "      <th>Item_전자레인지</th>\n",
       "      <th>Item_컴퓨터</th>\n",
       "    </tr>\n",
       "  </thead>\n",
       "  <tbody>\n",
       "    <tr>\n",
       "      <th>0</th>\n",
       "      <td>True</td>\n",
       "      <td>False</td>\n",
       "      <td>False</td>\n",
       "      <td>False</td>\n",
       "      <td>False</td>\n",
       "      <td>False</td>\n",
       "    </tr>\n",
       "    <tr>\n",
       "      <th>1</th>\n",
       "      <td>False</td>\n",
       "      <td>True</td>\n",
       "      <td>False</td>\n",
       "      <td>False</td>\n",
       "      <td>False</td>\n",
       "      <td>False</td>\n",
       "    </tr>\n",
       "    <tr>\n",
       "      <th>2</th>\n",
       "      <td>False</td>\n",
       "      <td>False</td>\n",
       "      <td>False</td>\n",
       "      <td>False</td>\n",
       "      <td>True</td>\n",
       "      <td>False</td>\n",
       "    </tr>\n",
       "    <tr>\n",
       "      <th>3</th>\n",
       "      <td>False</td>\n",
       "      <td>False</td>\n",
       "      <td>False</td>\n",
       "      <td>False</td>\n",
       "      <td>False</td>\n",
       "      <td>True</td>\n",
       "    </tr>\n",
       "    <tr>\n",
       "      <th>4</th>\n",
       "      <td>False</td>\n",
       "      <td>False</td>\n",
       "      <td>False</td>\n",
       "      <td>True</td>\n",
       "      <td>False</td>\n",
       "      <td>False</td>\n",
       "    </tr>\n",
       "    <tr>\n",
       "      <th>5</th>\n",
       "      <td>False</td>\n",
       "      <td>False</td>\n",
       "      <td>False</td>\n",
       "      <td>True</td>\n",
       "      <td>False</td>\n",
       "      <td>False</td>\n",
       "    </tr>\n",
       "    <tr>\n",
       "      <th>6</th>\n",
       "      <td>False</td>\n",
       "      <td>False</td>\n",
       "      <td>True</td>\n",
       "      <td>False</td>\n",
       "      <td>False</td>\n",
       "      <td>False</td>\n",
       "    </tr>\n",
       "    <tr>\n",
       "      <th>7</th>\n",
       "      <td>False</td>\n",
       "      <td>False</td>\n",
       "      <td>True</td>\n",
       "      <td>False</td>\n",
       "      <td>False</td>\n",
       "      <td>False</td>\n",
       "    </tr>\n",
       "  </tbody>\n",
       "</table>\n",
       "</div>"
      ],
      "text/plain": [
       "   Item_TV  Item_냉장고  Item_믹서  Item_선풍기  Item_전자레인지  Item_컴퓨터\n",
       "0     True     False    False     False       False     False\n",
       "1    False      True    False     False       False     False\n",
       "2    False     False    False     False        True     False\n",
       "3    False     False    False     False       False      True\n",
       "4    False     False    False      True       False     False\n",
       "5    False     False    False      True       False     False\n",
       "6    False     False     True     False       False     False\n",
       "7    False     False     True     False       False     False"
      ]
     },
     "execution_count": 25,
     "metadata": {},
     "output_type": "execute_result"
    }
   ],
   "source": [
    "df = pd.DataFrame(items, columns = [\"Item\"])\n",
    "pd.get_dummies(df)"
   ]
  },
  {
   "cell_type": "markdown",
   "metadata": {
    "id": "pF6uRiVOZa02"
   },
   "source": [
    "### 1.3.3 피처 스케일링"
   ]
  },
  {
   "cell_type": "code",
   "execution_count": 26,
   "metadata": {
    "id": "odayyftrZZ7m"
   },
   "outputs": [],
   "source": [
    "# 피처 스케일링 - 표준화"
   ]
  },
  {
   "cell_type": "code",
   "execution_count": 27,
   "metadata": {
    "id": "7gZjvAfTDmca"
   },
   "outputs": [],
   "source": [
    "from sklearn.datasets import load_iris\n",
    "\n",
    "iris = load_iris()\n",
    "iris_X = iris.data\n",
    "iris_y = iris.target\n",
    "\n",
    "iris_df = pd.DataFrame(iris_X, columns = iris.feature_names)\n",
    "iris_df[\"species\"] = iris_y"
   ]
  },
  {
   "cell_type": "code",
   "execution_count": 28,
   "metadata": {
    "colab": {
     "base_uri": "https://localhost:8080/",
     "height": 206
    },
    "id": "7LAeV-v_Ze-2",
    "outputId": "ddf5df33-105c-4e15-d1e7-e86d21466671"
   },
   "outputs": [
    {
     "data": {
      "text/html": [
       "<div>\n",
       "<style scoped>\n",
       "    .dataframe tbody tr th:only-of-type {\n",
       "        vertical-align: middle;\n",
       "    }\n",
       "\n",
       "    .dataframe tbody tr th {\n",
       "        vertical-align: top;\n",
       "    }\n",
       "\n",
       "    .dataframe thead th {\n",
       "        text-align: right;\n",
       "    }\n",
       "</style>\n",
       "<table border=\"1\" class=\"dataframe\">\n",
       "  <thead>\n",
       "    <tr style=\"text-align: right;\">\n",
       "      <th></th>\n",
       "      <th>sepal length (cm)</th>\n",
       "      <th>sepal width (cm)</th>\n",
       "      <th>petal length (cm)</th>\n",
       "      <th>petal width (cm)</th>\n",
       "      <th>species</th>\n",
       "    </tr>\n",
       "  </thead>\n",
       "  <tbody>\n",
       "    <tr>\n",
       "      <th>0</th>\n",
       "      <td>-0.900681</td>\n",
       "      <td>1.019004</td>\n",
       "      <td>-1.340227</td>\n",
       "      <td>-1.315444</td>\n",
       "      <td>-1.224745</td>\n",
       "    </tr>\n",
       "    <tr>\n",
       "      <th>1</th>\n",
       "      <td>-1.143017</td>\n",
       "      <td>-0.131979</td>\n",
       "      <td>-1.340227</td>\n",
       "      <td>-1.315444</td>\n",
       "      <td>-1.224745</td>\n",
       "    </tr>\n",
       "    <tr>\n",
       "      <th>2</th>\n",
       "      <td>-1.385353</td>\n",
       "      <td>0.328414</td>\n",
       "      <td>-1.397064</td>\n",
       "      <td>-1.315444</td>\n",
       "      <td>-1.224745</td>\n",
       "    </tr>\n",
       "    <tr>\n",
       "      <th>3</th>\n",
       "      <td>-1.506521</td>\n",
       "      <td>0.098217</td>\n",
       "      <td>-1.283389</td>\n",
       "      <td>-1.315444</td>\n",
       "      <td>-1.224745</td>\n",
       "    </tr>\n",
       "    <tr>\n",
       "      <th>4</th>\n",
       "      <td>-1.021849</td>\n",
       "      <td>1.249201</td>\n",
       "      <td>-1.340227</td>\n",
       "      <td>-1.315444</td>\n",
       "      <td>-1.224745</td>\n",
       "    </tr>\n",
       "  </tbody>\n",
       "</table>\n",
       "</div>"
      ],
      "text/plain": [
       "   sepal length (cm)  sepal width (cm)  petal length (cm)  petal width (cm)  \\\n",
       "0          -0.900681          1.019004          -1.340227         -1.315444   \n",
       "1          -1.143017         -0.131979          -1.340227         -1.315444   \n",
       "2          -1.385353          0.328414          -1.397064         -1.315444   \n",
       "3          -1.506521          0.098217          -1.283389         -1.315444   \n",
       "4          -1.021849          1.249201          -1.340227         -1.315444   \n",
       "\n",
       "    species  \n",
       "0 -1.224745  \n",
       "1 -1.224745  \n",
       "2 -1.224745  \n",
       "3 -1.224745  \n",
       "4 -1.224745  "
      ]
     },
     "execution_count": 28,
     "metadata": {},
     "output_type": "execute_result"
    }
   ],
   "source": [
    "from sklearn.preprocessing import StandardScaler\n",
    "\n",
    "scaler = StandardScaler()\n",
    "scaler.fit(iris_df)\n",
    "iris_scaled = scaler.transform(iris_df)\n",
    "\n",
    "iris_scaled_df = pd.DataFrame(iris_scaled, columns = iris_df.columns)\n",
    "iris_scaled_df.head(5)"
   ]
  },
  {
   "cell_type": "markdown",
   "metadata": {
    "id": "uiikPS-EZmpe"
   },
   "source": [
    "![image.png](data:image/png;base64,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)"
   ]
  },
  {
   "cell_type": "code",
   "execution_count": 30,
   "metadata": {
    "id": "uQdsYPDNZknw"
   },
   "outputs": [],
   "source": [
    "# 피처 스케일링 - 정규화"
   ]
  },
  {
   "cell_type": "code",
   "execution_count": 31,
   "metadata": {
    "colab": {
     "base_uri": "https://localhost:8080/",
     "height": 206
    },
    "id": "KegdZM1uZzXW",
    "outputId": "16dae90c-3925-4b17-8730-97929cc33ff0"
   },
   "outputs": [
    {
     "data": {
      "text/html": [
       "<div>\n",
       "<style scoped>\n",
       "    .dataframe tbody tr th:only-of-type {\n",
       "        vertical-align: middle;\n",
       "    }\n",
       "\n",
       "    .dataframe tbody tr th {\n",
       "        vertical-align: top;\n",
       "    }\n",
       "\n",
       "    .dataframe thead th {\n",
       "        text-align: right;\n",
       "    }\n",
       "</style>\n",
       "<table border=\"1\" class=\"dataframe\">\n",
       "  <thead>\n",
       "    <tr style=\"text-align: right;\">\n",
       "      <th></th>\n",
       "      <th>sepal length (cm)</th>\n",
       "      <th>sepal width (cm)</th>\n",
       "      <th>petal length (cm)</th>\n",
       "      <th>petal width (cm)</th>\n",
       "      <th>species</th>\n",
       "    </tr>\n",
       "  </thead>\n",
       "  <tbody>\n",
       "    <tr>\n",
       "      <th>0</th>\n",
       "      <td>0.222222</td>\n",
       "      <td>0.625000</td>\n",
       "      <td>0.067797</td>\n",
       "      <td>0.041667</td>\n",
       "      <td>0.0</td>\n",
       "    </tr>\n",
       "    <tr>\n",
       "      <th>1</th>\n",
       "      <td>0.166667</td>\n",
       "      <td>0.416667</td>\n",
       "      <td>0.067797</td>\n",
       "      <td>0.041667</td>\n",
       "      <td>0.0</td>\n",
       "    </tr>\n",
       "    <tr>\n",
       "      <th>2</th>\n",
       "      <td>0.111111</td>\n",
       "      <td>0.500000</td>\n",
       "      <td>0.050847</td>\n",
       "      <td>0.041667</td>\n",
       "      <td>0.0</td>\n",
       "    </tr>\n",
       "    <tr>\n",
       "      <th>3</th>\n",
       "      <td>0.083333</td>\n",
       "      <td>0.458333</td>\n",
       "      <td>0.084746</td>\n",
       "      <td>0.041667</td>\n",
       "      <td>0.0</td>\n",
       "    </tr>\n",
       "    <tr>\n",
       "      <th>4</th>\n",
       "      <td>0.194444</td>\n",
       "      <td>0.666667</td>\n",
       "      <td>0.067797</td>\n",
       "      <td>0.041667</td>\n",
       "      <td>0.0</td>\n",
       "    </tr>\n",
       "  </tbody>\n",
       "</table>\n",
       "</div>"
      ],
      "text/plain": [
       "   sepal length (cm)  sepal width (cm)  petal length (cm)  petal width (cm)  \\\n",
       "0           0.222222          0.625000           0.067797          0.041667   \n",
       "1           0.166667          0.416667           0.067797          0.041667   \n",
       "2           0.111111          0.500000           0.050847          0.041667   \n",
       "3           0.083333          0.458333           0.084746          0.041667   \n",
       "4           0.194444          0.666667           0.067797          0.041667   \n",
       "\n",
       "   species  \n",
       "0      0.0  \n",
       "1      0.0  \n",
       "2      0.0  \n",
       "3      0.0  \n",
       "4      0.0  "
      ]
     },
     "execution_count": 31,
     "metadata": {},
     "output_type": "execute_result"
    }
   ],
   "source": [
    "from sklearn.preprocessing import MinMaxScaler\n",
    "\n",
    "scaler = MinMaxScaler()\n",
    "scaler.fit(iris_df)\n",
    "iris_scaled = scaler.transform(iris_df)\n",
    "\n",
    "iris_scaled_df = pd.DataFrame(iris_scaled, columns = iris_df.columns)\n",
    "iris_scaled_df.head(5)"
   ]
  },
  {
   "cell_type": "code",
   "execution_count": 37,
   "metadata": {
    "id": "Ncb9CZ24Zrl_"
   },
   "outputs": [],
   "source": [
    "#다음과 같이 정규화 하는 것으로 데이터 값이 0~1 사이로 변환된다. (음수 역시 양수로 변환)"
   ]
  },
  {
   "cell_type": "markdown",
   "metadata": {
    "id": "Vzu91GrAZ5Fe"
   },
   "source": [
    "![image.png](data:image/png;base64,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)"
   ]
  },
  {
   "cell_type": "code",
   "execution_count": 33,
   "metadata": {
    "id": "W1pNPG3dZ7sO"
   },
   "outputs": [],
   "source": [
    "# 스케일링 변환 시 유의사항"
   ]
  },
  {
   "cell_type": "code",
   "execution_count": 36,
   "metadata": {
    "id": "2P1BJgNVZ-V9"
   },
   "outputs": [],
   "source": [
    "#스케일링 변환 시 학습/검증 데이터 모두 동일한 스케일링 기준으로 변환해야한다."
   ]
  },
  {
   "cell_type": "code",
   "execution_count": 35,
   "metadata": {
    "colab": {
     "base_uri": "https://localhost:8080/"
    },
    "id": "TjcJvOOQZ-Y9",
    "outputId": "e9e2aec1-3789-4385-feb8-f7afedcf65c0"
   },
   "outputs": [
    {
     "name": "stdout",
     "output_type": "stream",
     "text": [
      "#1. MinMaxScaler로 학습/검증 데이터 모두 10분의 1로 스케일링\n",
      "#1. 학습 데이터 스케일링: [0.  0.1 0.2 0.3 0.4 0.5 0.6 0.7 0.8 0.9 1. ]\n",
      "#1. 검증 데이터 스케일링: [0.  0.1 0.2 0.3 0.4 0.5]\n",
      "--------------------------------------------------------------------------------\n",
      "#2. 학습 데이터: 10분의 1, 검증 데이터: 5분의 1로 스케일링\n",
      "#2. 학습 데이터 스케일링: [0.  0.1 0.2 0.3 0.4 0.5 0.6 0.7 0.8 0.9 1. ]\n",
      "#2. 검증 데이터 스케일링: [0.  0.2 0.4 0.6 0.8 1. ]\n"
     ]
    }
   ],
   "source": [
    "train_arr = np.arange(0,11).reshape(-1,1)\n",
    "test_arr = np.arange(0,6).reshape(-1,1)\n",
    "\n",
    "# 1. 동일한 스케일링 기준\n",
    "scaler = MinMaxScaler()\n",
    "scaler.fit(train_arr)\n",
    "\n",
    "train_scaled = scaler.transform(train_arr)\n",
    "test_scaled = scaler.transform(test_arr)\n",
    "\n",
    "print(\"#1. MinMaxScaler로 학습/검증 데이터 모두 10분의 1로 스케일링\")\n",
    "print(\"#1. 학습 데이터 스케일링:\", train_scaled.reshape(-1))\n",
    "print(\"#1. 검증 데이터 스케일링:\", test_scaled.reshape(-1))\n",
    "print(\"-\"*80)\n",
    "\n",
    "# 2. 학습/검증 데이터별 다른 스케일링 기준\n",
    "scaler = MinMaxScaler()\n",
    "scaler.fit(train_arr)\n",
    "\n",
    "train_scaled = scaler.transform(train_arr)\n",
    "\n",
    "scaler = MinMaxScaler()\n",
    "scaler.fit(test_arr) # 검증 데이터로 다시 fit 적용\n",
    "\n",
    "test_scaled = scaler.transform(test_arr)\n",
    "\n",
    "print(\"#2. 학습 데이터: 10분의 1, 검증 데이터: 5분의 1로 스케일링\")\n",
    "print(\"#2. 학습 데이터 스케일링:\", train_scaled.reshape(-1))\n",
    "print(\"#2. 검증 데이터 스케일링:\", test_scaled.reshape(-1))"
   ]
  },
  {
   "cell_type": "code",
   "execution_count": null,
   "metadata": {
    "id": "P5oxrydFaF6d"
   },
   "outputs": [],
   "source": []
  },
  {
   "cell_type": "code",
   "execution_count": null,
   "metadata": {},
   "outputs": [],
   "source": []
  },
  {
   "cell_type": "code",
   "execution_count": null,
   "metadata": {},
   "outputs": [],
   "source": []
  }
 ],
 "metadata": {
  "colab": {
   "provenance": []
  },
  "kernelspec": {
   "display_name": "Python 3 (ipykernel)",
   "language": "python",
   "name": "python3"
  },
  "language_info": {
   "codemirror_mode": {
    "name": "ipython",
    "version": 3
   },
   "file_extension": ".py",
   "mimetype": "text/x-python",
   "name": "python",
   "nbconvert_exporter": "python",
   "pygments_lexer": "ipython3",
   "version": "3.11.6"
  }
 },
 "nbformat": 4,
 "nbformat_minor": 4
}
