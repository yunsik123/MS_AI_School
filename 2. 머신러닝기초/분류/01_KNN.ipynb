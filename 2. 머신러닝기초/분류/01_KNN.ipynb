{
 "cells": [
  {
   "cell_type": "code",
   "execution_count": 1,
   "id": "3c3e93a3-af9a-42be-af94-46425d8fdd7f",
   "metadata": {},
   "outputs": [],
   "source": [
    "import numpy as np \n",
    "import matplotlib.pyplot as plt \n",
    "from sklearn.neighbors import KNeighborsClassifier \n"
   ]
  },
  {
   "cell_type": "code",
   "execution_count": 2,
   "id": "58ef06af-39f1-43c6-af7a-3680dac82e45",
   "metadata": {},
   "outputs": [],
   "source": [
    "# 기존 데이터 닥스훈트와 진돗개 \n",
    "\n",
    "dach_length = [55, 57, 64, 63, 58, 49, 54, 61] \n",
    "dach_height = [30, 31, 36, 30, 33, 25, 37, 34] \n",
    "jin_length = [56, 47, 56, 46, 49, 53, 52, 48] \n",
    "jin_height = [52, 52, 50, 53, 50, 53, 49, 54] "
   ]
  },
  {
   "cell_type": "code",
   "execution_count": 3,
   "id": "f7f456d0-5d6f-46b6-b36b-325f6b645229",
   "metadata": {},
   "outputs": [],
   "source": [
    "# 새로운 데이터 \n",
    "\n",
    "newdata_length = [59] \n",
    "newdata_height = [35] \n"
   ]
  },
  {
   "cell_type": "code",
   "execution_count": null,
   "id": "bf8ab009-640b-48e2-a1f5-4889c2f89e6d",
   "metadata": {},
   "outputs": [],
   "source": [
    "plt.scatter(dach_length, dach_height, label='Dachshund') \n",
    "\n",
    "plt.scatter(jin_length, jin_height, label='jindoDog') \n",
    "\n",
    "plt.scatter(newdata_length, newdata_height, label='new', marker='s') \n",
    "plt.legend() \n",
    "plt.show() \n"
   ]
  }
 ],
 "metadata": {
  "kernelspec": {
   "display_name": "Python 3 (ipykernel)",
   "language": "python",
   "name": "python3"
  },
  "language_info": {
   "codemirror_mode": {
    "name": "ipython",
    "version": 3
   },
   "file_extension": ".py",
   "mimetype": "text/x-python",
   "name": "python",
   "nbconvert_exporter": "python",
   "pygments_lexer": "ipython3",
   "version": "3.11.6"
  }
 },
 "nbformat": 4,
 "nbformat_minor": 5
}
