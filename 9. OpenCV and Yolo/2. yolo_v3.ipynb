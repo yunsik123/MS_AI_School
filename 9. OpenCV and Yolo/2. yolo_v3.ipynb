{
 "cells": [
  {
   "cell_type": "code",
   "execution_count": 1,
   "metadata": {},
   "outputs": [
    {
     "name": "stderr",
     "output_type": "stream",
     "text": [
      "c:\\Users\\USER\\AppData\\Local\\Programs\\Python\\Python39\\lib\\site-packages\\tqdm\\auto.py:21: TqdmWarning: IProgress not found. Please update jupyter and ipywidgets. See https://ipywidgets.readthedocs.io/en/stable/user_install.html\n",
      "  from .autonotebook import tqdm as notebook_tqdm\n"
     ]
    }
   ],
   "source": [
    "import gradio as gr\n",
    "import cv2\n",
    "import numpy as np"
   ]
  },
  {
   "cell_type": "code",
   "execution_count": 31,
   "metadata": {},
   "outputs": [],
   "source": [
    "weights_path = 'yolo3/yolov3.weights'\n",
    "config_path = 'yolo3/yolov3.cfg'\n",
    "names_path = 'yolo3/coco.names'\n",
    "\n",
    "#yolov3 모델 로드\n",
    "net = cv2.dnn.readNet(weights_path, config_path)\n",
    "\n",
    "#클래스 이름 로드\n",
    "with open(names_path, 'r') as f:\n",
    "    labels = f.read().strip().split('\\n')\n"
   ]
  },
  {
   "cell_type": "code",
   "execution_count": 32,
   "metadata": {},
   "outputs": [
    {
     "name": "stdout",
     "output_type": "stream",
     "text": [
      "Running on local URL:  http://127.0.0.1:7865\n",
      "\n",
      "To create a public link, set `share=True` in `launch()`.\n"
     ]
    },
    {
     "data": {
      "text/html": [
       "<div><iframe src=\"http://127.0.0.1:7865/\" width=\"100%\" height=\"500\" allow=\"autoplay; camera; microphone; clipboard-read; clipboard-write;\" frameborder=\"0\" allowfullscreen></iframe></div>"
      ],
      "text/plain": [
       "<IPython.core.display.HTML object>"
      ]
     },
     "metadata": {},
     "output_type": "display_data"
    },
    {
     "data": {
      "text/plain": []
     },
     "execution_count": 32,
     "metadata": {},
     "output_type": "execute_result"
    }
   ],
   "source": [
    "def detect_objects(image):\n",
    "    height, width =image.shape[:2]\n",
    "    blob = cv2.dnn.blobFromImage(image, 1/255.0, (416,416), swapRB=True, crop=False)\n",
    "    net.setInput(blob)\n",
    "    layer_names = net.getLayerNames()\n",
    "    \n",
    "    output_layers = [layer_names[i-1] for i in net.getUnconnectedOutLayers()]\n",
    "    detections = net.forward(output_layers)\n",
    "    box_list =[]\n",
    "    confidence_list = []\n",
    "    class_id_list = []\n",
    "    \n",
    "    \n",
    "    for output in detections:\n",
    "        for detection in output:\n",
    "            scores = detection[5:]\n",
    "            class_id = np.argmax(scores)\n",
    "            confidence = scores[class_id]\n",
    "            \n",
    "            if confidence > 0.5:\n",
    "                box = detection[0:4] * np.array([width, height, width, height])\n",
    "                (center_x, center_y,  w, h)= box.astype(\"int\")\n",
    "                x = int(center_x - (w/2))\n",
    "                y = int(center_y - (h/2))\n",
    "                \n",
    "                box_list.append([x, y, int(w), int(h)])\n",
    "                confidence_list.append(float(confidence))\n",
    "                class_id_list.append(class_id)\n",
    "                \n",
    "    \n",
    "    index_list= cv2.dnn.NMSBoxes(box_list, confidence_list,0.5, 0.4)\n",
    "    \n",
    "    if len(index_list)>0:\n",
    "        for i in index_list.flatten():\n",
    "            x,y,w,h = box_list[i]\n",
    "            label = str(labels[class_id_list[i]])\n",
    "            confidence = confidence_list[i]\n",
    "            \n",
    "            #사각형 그리기\n",
    "            cv2.rectangle(image,(x,y),(x+w,y+h),(0,255,0),2)\n",
    "            \n",
    "            #레이블 표시\n",
    "            cv2.putText(image, f\"{label}{confidence:.2f}\",(x,y-10),\n",
    "            cv2.FONT_HERSHEY_COMPLEX,2,(0,255,0),2)    \n",
    "    \n",
    "    return image\n",
    "        \n",
    "sample_image = cv2.imread('detect-people.png')\n",
    "detect_objects(sample_image)\n",
    "\n",
    "#cv2.imshow(\"image\",return_image)\n",
    "\n",
    "from PIL import Image\n",
    "pil_image = Image.fromarray(sample_image)\n",
    "pil_image.show()\n",
    "\n",
    "def stream_webcam(image):\n",
    "    return detect_objects(image)\n",
    "\n",
    "\n",
    "with gr.Blocks() as demo:\n",
    "    with gr.Row():\n",
    "        webcam_input = gr.Image(label=\"실시 간화면\",sources=\"webcam\")\n",
    "        output_image = gr.Image(label=\"검출 화면\")\n",
    "        \n",
    "        webcam_input.stream(fn = stream_webcam, inputs=[webcam_input], outputs=[output_image])\n",
    "\n",
    "        \n",
    "demo.launch()"
   ]
  },
  {
   "cell_type": "code",
   "execution_count": null,
   "metadata": {},
   "outputs": [],
   "source": []
  },
  {
   "cell_type": "code",
   "execution_count": null,
   "metadata": {},
   "outputs": [],
   "source": []
  }
 ],
 "metadata": {
  "kernelspec": {
   "display_name": "Python 3",
   "language": "python",
   "name": "python3"
  },
  "language_info": {
   "codemirror_mode": {
    "name": "ipython",
    "version": 3
   },
   "file_extension": ".py",
   "mimetype": "text/x-python",
   "name": "python",
   "nbconvert_exporter": "python",
   "pygments_lexer": "ipython3",
   "version": "3.9.2"
  }
 },
 "nbformat": 4,
 "nbformat_minor": 2
}
