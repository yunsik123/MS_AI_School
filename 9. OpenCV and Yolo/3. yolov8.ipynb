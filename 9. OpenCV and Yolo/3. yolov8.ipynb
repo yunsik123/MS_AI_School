{
 "cells": [
  {
   "cell_type": "code",
   "execution_count": 4,
   "metadata": {},
   "outputs": [
    {
     "name": "stderr",
     "output_type": "stream",
     "text": [
      "c:\\Users\\USER\\AppData\\Local\\Programs\\Python\\Python39\\lib\\site-packages\\tqdm\\auto.py:21: TqdmWarning: IProgress not found. Please update jupyter and ipywidgets. See https://ipywidgets.readthedocs.io/en/stable/user_install.html\n",
      "  from .autonotebook import tqdm as notebook_tqdm\n"
     ]
    }
   ],
   "source": [
    "import gradio as gr\n",
    "import cv2\n",
    "from ultralytics import YOLO\n",
    "\n",
    "model = YOLO('yolov8n.pt')"
   ]
  },
  {
   "cell_type": "code",
   "execution_count": 5,
   "metadata": {},
   "outputs": [
    {
     "name": "stdout",
     "output_type": "stream",
     "text": [
      "Running on local URL:  http://127.0.0.1:7869\n",
      "\n",
      "To create a public link, set `share=True` in `launch()`.\n"
     ]
    },
    {
     "data": {
      "text/html": [
       "<div><iframe src=\"http://127.0.0.1:7869/\" width=\"100%\" height=\"500\" allow=\"autoplay; camera; microphone; clipboard-read; clipboard-write;\" frameborder=\"0\" allowfullscreen></iframe></div>"
      ],
      "text/plain": [
       "<IPython.core.display.HTML object>"
      ]
     },
     "metadata": {},
     "output_type": "display_data"
    },
    {
     "data": {
      "text/plain": []
     },
     "execution_count": 5,
     "metadata": {},
     "output_type": "execute_result"
    }
   ],
   "source": [
    "def detect_objects(image):\n",
    "    results = model(image)\n",
    "    labels = model.names\n",
    "    for result in results:\n",
    "        boxes = result.boxes.xyxy.cpu().numpy()\n",
    "        confidences = result.boxes.conf.cpu().numpy()\n",
    "        class_ids = result.boxes.clas.cpu().numpy()\n",
    "        for i, box in enumerate(boxes):\n",
    "            x1, y1, x2, y2 =map(int,box)\n",
    "            confidence = confidences[i]\n",
    "            label = labels[class_id]\n",
    "            #사각형 그리기\n",
    "            cv2.rectangle(image,(x1,y1),(x2,y2),(0,255,0),2)\n",
    "            #레이블 표시\n",
    "            cv2.putText(image, f\"{label} {confidence:.2f}\",(x1,y1-10),\n",
    "            cv2.FONT_HERSHEY_SIMPLEx, 2, (0,255,0),2)\n",
    "    return image\n",
    "\n",
    "with gr.Blocks() as demo:\n",
    "    with gr.Row():\n",
    "        webcam_input = gr.Image(label=\"실시 간화면\",sources=\"webcam\")\n",
    "        output_image = gr.Image(label=\"검출 화면\")\n",
    "        \n",
    "        def update(image):\n",
    "            return detect_objects(image)\n",
    "    webcam_input.stream(fn = update, inputs=[webcam_input], outputs=[output_image])\n",
    "\n",
    "        \n",
    "demo.launch()"
   ]
  },
  {
   "cell_type": "code",
   "execution_count": null,
   "metadata": {},
   "outputs": [],
   "source": []
  }
 ],
 "metadata": {
  "kernelspec": {
   "display_name": "Python 3",
   "language": "python",
   "name": "python3"
  },
  "language_info": {
   "codemirror_mode": {
    "name": "ipython",
    "version": 3
   },
   "file_extension": ".py",
   "mimetype": "text/x-python",
   "name": "python",
   "nbconvert_exporter": "python",
   "pygments_lexer": "ipython3",
   "version": "3.9.2rc1"
  }
 },
 "nbformat": 4,
 "nbformat_minor": 2
}
