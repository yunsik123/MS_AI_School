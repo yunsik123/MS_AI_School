{
  "cells": [
    {
      "cell_type": "markdown",
      "source": [
        "## 필요한 라이브러리 Import"
      ],
      "metadata": {}
    },
    {
      "cell_type": "code",
      "source": [
        "import numpy as np\n",
        "import os,sys\n",
        "\n",
        "current_dir = os.getcwd()\n",
        "parent_dir = os.path.dirname(current_dir)\n",
        "sys.path.append(parent_dir)\n",
        "from common.functions import *"
      ],
      "outputs": [],
      "execution_count": 1,
      "metadata": {
        "gather": {
          "logged": 1720661652854
        }
      }
    },
    {
      "cell_type": "markdown",
      "source": [
        "## 입력층에서 1층으로 신호 전달"
      ],
      "metadata": {}
    },
    {
      "cell_type": "code",
      "source": [
        "X = np.array([1.0,0.5])\n",
        "W1 = np.array([[0.1,0.3,0.5],[0.2,0.4,0.6]])\n",
        "B1 = np.array([0.1,0.2,0.3])\n",
        "\n",
        "print('X = ',X)\n",
        "print('B1 = ',B1)\n",
        "print('W1 = ',W1)\n",
        "\n",
        "A1= np.dot(X,W1)+B1\n",
        "print('X*W1 +B1 =',A1)\n",
        "Z1 = sigmoid(A1)"
      ],
      "outputs": [
        {
          "output_type": "stream",
          "name": "stdout",
          "text": "X =  [1.  0.5]\nB1 =  [0.1 0.2 0.3]\nW1 =  [[0.1 0.3 0.5]\n [0.2 0.4 0.6]]\nX*W1 +B1 = [0.3 0.7 1.1]\n"
        }
      ],
      "execution_count": 4,
      "metadata": {
        "gather": {
          "logged": 1720661817058
        }
      }
    },
    {
      "cell_type": "markdown",
      "source": [
        "## 활성화 함수의 적용"
      ],
      "metadata": {}
    },
    {
      "cell_type": "code",
      "source": [
        "Z1 = sigmoid(A1)\n",
        "print('A1 = ',A1)\n",
        "print('Z1 = ', Z1)"
      ],
      "outputs": [
        {
          "output_type": "stream",
          "name": "stdout",
          "text": "A1 =  [0.3 0.7 1.1]\nZ1 =  [0.57444252 0.66818777 0.75026011]\n"
        }
      ],
      "execution_count": 5,
      "metadata": {
        "gather": {
          "logged": 1720663095460
        }
      }
    },
    {
      "cell_type": "markdown",
      "source": [
        "## 1층에서 2층으로 신호 전달"
      ],
      "metadata": {}
    },
    {
      "cell_type": "code",
      "source": [
        "W2 = np.array([[0.1,0.4],[0.2,0.5],[0.3,0.6]])\n",
        "B2 = np.array([0.1,0.2])\n",
        "\n",
        "print('B2 = ', B2)\n",
        "print('W2 = ', W2)\n",
        "\n",
        "A2 = np.dot(Z1,W2)+B2\n",
        "print('Z1*W2 + B2 =',A2)"
      ],
      "outputs": [
        {
          "output_type": "stream",
          "name": "stdout",
          "text": "B2 =  [0.1 0.2]\nW2 =  [[0.1 0.4]\n [0.2 0.5]\n [0.3 0.6]]\nZ1*W2 + B2 = [0.51615984 1.21402696]\n"
        }
      ],
      "execution_count": 7,
      "metadata": {
        "gather": {
          "logged": 1720664634449
        }
      }
    },
    {
      "cell_type": "markdown",
      "source": [
        "## 활성화 함수의 적용\n"
      ],
      "metadata": {}
    },
    {
      "cell_type": "code",
      "source": [
        "print('A2 =',A2)\n",
        "\n",
        "Z2 = sigmoid(A2)\n",
        "\n",
        "print('Z2 = ', Z2)"
      ],
      "outputs": [
        {
          "output_type": "stream",
          "name": "stdout",
          "text": "A2 = [0.51615984 1.21402696]\nZ2 =  [0.62624937 0.7710107 ]\n"
        }
      ],
      "execution_count": 8,
      "metadata": {
        "gather": {
          "logged": 1720664661126
        }
      }
    },
    {
      "cell_type": "markdown",
      "source": [
        "## 2층에서 3층으로 신호 전달"
      ],
      "metadata": {}
    },
    {
      "cell_type": "code",
      "source": [
        "W3 = np.array([[0.2,0.5],[0.3,0.6]])\n",
        "B3 = np.array([0.1,0.2])\n",
        "\n",
        "print('B3 = ',B3)\n",
        "print('W3 =', W3)\n",
        "\n",
        "A3=np.dot(Z2,W3)+B3\n",
        "print('Z2*W3 +B3=',A3)"
      ],
      "outputs": [
        {
          "output_type": "stream",
          "name": "stdout",
          "text": "B3 =  [0.1 0.2]\nW3 = [[0.2 0.5]\n [0.3 0.6]]\nZ2*W3 +B3= [0.45655308 0.9757311 ]\n"
        }
      ],
      "execution_count": 9,
      "metadata": {
        "gather": {
          "logged": 1720665845216
        }
      }
    },
    {
      "cell_type": "markdown",
      "source": [
        "## 최종 출력층에 활성화 함수로 Softmax 적용"
      ],
      "metadata": {}
    },
    {
      "cell_type": "code",
      "source": [
        "print('A3 =', A3)\n",
        "Y = softmax(A3)\n",
        "print('Y = ', Y)\n",
        "#y결과보면 63프로확률로 더높다"
      ],
      "outputs": [
        {
          "output_type": "stream",
          "name": "stdout",
          "text": "A3 = [0.45655308 0.9757311 ]\nY =  [0.37304446 0.62695554]\n"
        }
      ],
      "execution_count": 11,
      "metadata": {
        "gather": {
          "logged": 1720666610207
        }
      }
    },
    {
      "cell_type": "code",
      "source": [],
      "outputs": [],
      "execution_count": null,
      "metadata": {
        "jupyter": {
          "source_hidden": false,
          "outputs_hidden": false
        },
        "nteract": {
          "transient": {
            "deleting": false
          }
        }
      }
    }
  ],
  "metadata": {
    "kernelspec": {
      "name": "python3",
      "language": "python",
      "display_name": "Python 3 (ipykernel)"
    },
    "language_info": {
      "name": "python",
      "version": "3.9.18",
      "mimetype": "text/x-python",
      "codemirror_mode": {
        "name": "ipython",
        "version": 3
      },
      "pygments_lexer": "ipython3",
      "nbconvert_exporter": "python",
      "file_extension": ".py"
    },
    "kernel_info": {
      "name": "python3"
    },
    "nteract": {
      "version": "nteract-front-end@1.0.0"
    },
    "microsoft": {
      "host": {
        "AzureML": {
          "notebookHasBeenCompleted": true
        }
      }
    }
  },
  "nbformat": 4,
  "nbformat_minor": 2
}