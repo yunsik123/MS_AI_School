{
  "cells": [
    {
      "cell_type": "code",
      "source": [
        "# coding: utf-8 \n",
        "\n",
        "import sys, os \n",
        "print(os.getcwd()) \n",
        "current_dir = os.path.dirname(os.getcwd()) \n",
        "parent_dir = os.path.dirname(current_dir) \n",
        "print(current_dir) \n",
        "os.chdir(current_dir) \n",
        "\n",
        "import numpy as np \n",
        "import pickle \n",
        "from dataset.mnist import load_mnist \n",
        "from common.functions import sigmoid, softmax, relu \n",
        "import time \n",
        "\n",
        " \n",
        "def get_split_data(): # 데이터를 불러온 후 split하는 함수 \n",
        "    (X_train, y_train), (X_test, y_test) = load_mnist(normalize=True, flatten=True, one_hot_label=False) \n",
        "    return X_test, y_test \n",
        "\n",
        "def init_network(): # 사전학습된 신경망의 가중치를 불러오는 함수(y = wx + b에서 w의 값들을 담은 파일) \n",
        "    print(os.getcwd()) \n",
        "    with open(\"ch02/sample_weight.pkl\", 'rb') as f: \n",
        "        network = pickle.load(f) \n",
        "    return network \n",
        "\n",
        "\n",
        "def predict(network, x): # 신경망을 통해 계산 후 결과 출력하는 함수 \n",
        "    W1, W2, W3 = network['W1'], network['W2'], network['W3'] \n",
        "    b1, b2, b3 = network['b1'], network['b2'], network['b3'] \n",
        "\n",
        "    a1 = np.dot(x, W1) + b1 \n",
        "    z1 = relu(a1) # 교안에서는 sigmoid이지만 relu 사용(응용 예시) \n",
        "    a2 = np.dot(z1, W2) + b2 \n",
        "    z2 = sigmoid(a2) \n",
        "    a3 = np.dot(z2, W3) + b3 \n",
        "    y = softmax(a3) \n",
        "    \n",
        "    return y \n",
        "\n",
        " \n",
        "\n",
        "x, t = get_split_data() \n",
        "network = init_network() \n",
        "accuracy_cnt = 0 \n",
        "\n",
        "for i in range(len(x)): \n",
        "    y = predict(network, x[i]) \n",
        "    p = np.argmax(y) # 확률이 가장 높은 원소의 인덱스를 p에 저장 \n",
        "    if p == t[i]: \n",
        "        print(i, 'Predicted num=',p,' Original num =',t[i]) \n",
        "        time.sleep(2) # 모델이 잘 맞추고 있는지 확인하기 위해 결과가 뜨는 간격 조정 \n",
        "        accuracy_cnt += 1 \n",
        "        if accuracy_cnt == 20: # 결과값이 20개가 되면 종료 \n",
        "            break \n",
        "\n",
        "print(\"Accuracy:\", str(float(accuracy_cnt) / len(x))) \n",
        "\n",
        " "
      ],
      "outputs": [
        {
          "output_type": "stream",
          "name": "stdout",
          "text": "/mnt/batch/tasks/shared/LS_root/mounts/clusters/student461/code/Users/student46/DL/ch02\n/mnt/batch/tasks/shared/LS_root/mounts/clusters/student461/code/Users/student46/DL\n/mnt/batch/tasks/shared/LS_root/mounts/clusters/student461/code/Users/student46/DL\n0 Predicted num= 7  Original num = 7\n1 Predicted num= 2  Original num = 2\n2 Predicted num= 1  Original num = 1\n3 Predicted num= 0  Original num = 0\n4 Predicted num= 4  Original num = 4\n5 Predicted num= 1  Original num = 1\n6 Predicted num= 4  Original num = 4\n7 Predicted num= 9  Original num = 9\n9 Predicted num= 9  Original num = 9\n10 Predicted num= 0  Original num = 0\n11 Predicted num= 6  Original num = 6\n12 Predicted num= 9  Original num = 9\n13 Predicted num= 0  Original num = 0\n14 Predicted num= 1  Original num = 1\n15 Predicted num= 5  Original num = 5\n16 Predicted num= 9  Original num = 9\n17 Predicted num= 7  Original num = 7\n19 Predicted num= 4  Original num = 4\n20 Predicted num= 9  Original num = 9\n21 Predicted num= 6  Original num = 6\nAccuracy: 0.002\n"
        }
      ],
      "execution_count": 1,
      "metadata": {
        "gather": {
          "logged": 1720681559041
        }
      }
    },
    {
      "cell_type": "code",
      "source": [],
      "outputs": [],
      "execution_count": null,
      "metadata": {
        "jupyter": {
          "source_hidden": false,
          "outputs_hidden": false
        },
        "nteract": {
          "transient": {
            "deleting": false
          }
        },
        "gather": {
          "logged": 1720679197915
        }
      }
    },
    {
      "cell_type": "code",
      "source": [],
      "outputs": [],
      "execution_count": null,
      "metadata": {
        "jupyter": {
          "source_hidden": false,
          "outputs_hidden": false
        },
        "nteract": {
          "transient": {
            "deleting": false
          }
        }
      }
    }
  ],
  "metadata": {
    "kernelspec": {
      "name": "python310-sdkv2",
      "language": "python",
      "display_name": "Python 3.10 - SDK v2"
    },
    "language_info": {
      "name": "python",
      "version": "3.10.14",
      "mimetype": "text/x-python",
      "codemirror_mode": {
        "name": "ipython",
        "version": 3
      },
      "pygments_lexer": "ipython3",
      "nbconvert_exporter": "python",
      "file_extension": ".py"
    },
    "kernel_info": {
      "name": "python310-sdkv2"
    },
    "nteract": {
      "version": "nteract-front-end@1.0.0"
    },
    "microsoft": {
      "host": {
        "AzureML": {
          "notebookHasBeenCompleted": true
        }
      }
    }
  },
  "nbformat": 4,
  "nbformat_minor": 2
}