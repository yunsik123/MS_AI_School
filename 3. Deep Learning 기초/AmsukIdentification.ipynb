{
 "cells": [
  {
   "cell_type": "code",
   "execution_count": 1,
   "metadata": {},
   "outputs": [],
   "source": [
    "#pip install azure-cognitiveservices-vision-customvision"
   ]
  },
  {
   "cell_type": "code",
   "execution_count": 2,
   "metadata": {},
   "outputs": [],
   "source": [
    "from azure.cognitiveservices.vision.customvision.prediction import CustomVisionPredictionClient\n",
    "from msrest.authentication import ApiKeyCredentials"
   ]
  },
  {
   "cell_type": "code",
   "execution_count": 20,
   "metadata": {},
   "outputs": [],
   "source": [
    "#prediction_key = \"700799768f3a4f708adb9591616e4932\"\n",
    "#prediction_endpoint = \"https://customtest-prediction.cognitiveservices.azure.com\"\n",
    "#project_id = \"2a6e1202-f478-46da-bd97-a0e00651d015\"\n",
    "#model_name = \"Iteration1\"\n",
    "\n",
    "#prediction_key = \"201b921992764c2aa4da40ef87063656\"\n",
    "#prediction_endpoint = \"https://findbasalthighlandon-prediction.cognitiveservices.azure.com\"\n",
    "#project_id = \"ba24466c-b3d3-468d-94bb-d464466a3503\"\n",
    "#model_name = \"Iteration1\"\n",
    "\n",
    "prediction_key = \"1bc6002cc4a74ecc973d3bc2d43b04e1\"\n",
    "prediction_endpoint = \"https://b22customvision-prediction.cognitiveservices.azure.com\"\n",
    "project_id = \"ff312c56-019f-4c9e-90fd-9e17138368ff\"\n",
    "model_name = \"Iteration1\""
   ]
  },
  {
   "cell_type": "code",
   "execution_count": 21,
   "metadata": {},
   "outputs": [],
   "source": [
    "credentials = ApiKeyCredentials(in_headers={\"Prediction-key\": prediction_key})\n",
    "predictor = CustomVisionPredictionClient(endpoint=prediction_endpoint, credentials=credentials)"
   ]
  },
  {
   "cell_type": "code",
   "execution_count": 22,
   "metadata": {},
   "outputs": [
    {
     "name": "stdout",
     "output_type": "stream",
     "text": [
      "Tag: crystal, Probability: 0.98\n",
      "Tag: basalt, Probability: 0.02\n"
     ]
    }
   ],
   "source": [
    "image_file = \"./data/Highland/Crustal_Anorthosite_s71-42953.jpg\"\n",
    "\n",
    "with open(image_file, mode=\"rb\") as image_data:\n",
    "    results = predictor.classify_image(project_id, model_name, image_data)\n",
    "\n",
    "for prediction in results.predictions:\n",
    "    print(f\"Tag: {prediction.tag_name}, Probability: {prediction.probability:.2f}\")\n"
   ]
  },
  {
   "cell_type": "code",
   "execution_count": null,
   "metadata": {},
   "outputs": [],
   "source": []
  }
 ],
 "metadata": {
  "kernelspec": {
   "display_name": "Python 3",
   "language": "python",
   "name": "python3"
  },
  "language_info": {
   "codemirror_mode": {
    "name": "ipython",
    "version": 3
   },
   "file_extension": ".py",
   "mimetype": "text/x-python",
   "name": "python",
   "nbconvert_exporter": "python",
   "pygments_lexer": "ipython3",
   "version": "3.10.13"
  }
 },
 "nbformat": 4,
 "nbformat_minor": 2
}
