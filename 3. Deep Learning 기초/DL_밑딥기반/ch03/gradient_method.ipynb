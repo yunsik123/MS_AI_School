{
  "cells": [
    {
      "cell_type": "code",
      "source": [
        "# coding: utf-8\n",
        "import os,sys\n",
        "print(os.getcwd())\n",
        "\n",
        "import numpy as np\n",
        "import matplotlib.pyplot as plt\n",
        "\n",
        "\n",
        "def _numerical_gradient_no_batch(f,x):\n",
        "    h = 1e-4\n",
        "    grad = np.zeros_like(x)\n",
        "\n",
        "    for idx in range(x.size):\n",
        "        tmp_val = x[idx]\n",
        "\n",
        "        #f(x+h)계산\n",
        "        x[idx] = float(tmp_val)+h\n",
        "        fxh1 = f(x)\n",
        "\n",
        "        #f(x-h)계산\n",
        "        x[idx] = tmp_val-h\n",
        "        fxh2 = f(x)\n",
        "\n",
        "        grad[idx] = (fxh1 -fxh2) / (2*h)\n",
        "        x[idx] = tmp_val #값 복원\n",
        "\n",
        "    return grad\n",
        "\n",
        "\n",
        "def numerical_gradient(f,X):\n",
        "    if X.ndim == 1:\n",
        "        return _numerical_gradient_no_batch(f,x)\n",
        "    else:\n",
        "        grad = np.zeros_like(X)\n",
        "\n",
        "        for idx,x in enumerate(X):\n",
        "            grad[idx] = _numerical_gradient_no_batch(f,x)\n",
        "\n",
        "        return grad\n",
        "\n"
      ],
      "outputs": [
        {
          "output_type": "stream",
          "name": "stdout",
          "text": "/mnt/batch/tasks/shared/LS_root/mounts/clusters/student461/code/Users/student46/DL/ch03\n"
        }
      ],
      "execution_count": 1,
      "metadata": {
        "gather": {
          "logged": 1720745899075
        }
      }
    },
    {
      "cell_type": "code",
      "source": [
        "def numerical_gradient(f, X):\n",
        "    if X.ndim == 1:  \n",
        "        return _numerical_gradient_no_batch(f, X) # 변수가 1개일 때 수치미분 수행 \n",
        "    else:  \n",
        "        grad = np.zeros_like(X) \n",
        "\n",
        "        for idx, x in enumerate(X): \n",
        "            grad[idx] = _numerical_gradient_no_batch(f, x) # 변수가 2개 아성일 때 수치미분 수행 \n",
        "\n",
        "        return grad \n",
        "\n",
        " \n",
        "\n",
        "def gradient_descent(f, init_x, lr=0.01, step_num=100): # 수치미분으로 구한 기울기를 이용하여 중심으로 이동 \n",
        "    x = init_x \n",
        "    x_history = [] \n",
        "\n",
        "    for i in range(step_num): \n",
        "        x_history.append( x.copy() ) \n",
        "        grad = numerical_gradient(f, x) \n",
        "        x -= lr * grad \n",
        "\n",
        "    return x, np.array(x_history) \n",
        "\n",
        " \n",
        "\n",
        "def function_2(x): # 입력 함수 \n",
        "    return x[0]**2 + x[1]**2 \n",
        "\n",
        "init_x = np.array([-3.0, 4.0])     \n",
        "\n",
        "lr = 0.1 \n",
        "step_num = 20 \n",
        "x, x_history = gradient_descent(function_2, init_x, lr=lr, # 기울기값을 이용해 중심으로 이동시키는 함수 호출 \n",
        "                                 step_num=step_num) \n",
        "\n",
        "plt.plot( [-5, 5], [0,0], '--b') \n",
        "plt.plot( [0,0], [-5, 5], '--b') \n",
        "plt.plot(x_history[:,0], x_history[:,1], 'o') \n",
        "\n",
        "plt.xlim(-3.5, 3.5) \n",
        "plt.ylim(-4.5, 4.5) \n",
        "plt.xlabel(\"X0\") \n",
        "plt.ylabel(\"X1\") \n",
        "plt.show() "
      ],
      "outputs": [
        {
          "output_type": "display_data",
          "data": {
            "text/plain": "<Figure size 640x480 with 1 Axes>",
            "image/png": "[encoded data removed]"
          },
          "metadata": {}
        }
      ],
      "execution_count": 2,
      "metadata": {
        "jupyter": {
          "source_hidden": false,
          "outputs_hidden": false
        },
        "nteract": {
          "transient": {
            "deleting": false
          }
        },
        "gather": {
          "logged": 1720745899563
        }
      }
    },
    {
      "cell_type": "code",
      "source": [],
      "outputs": [],
      "execution_count": null,
      "metadata": {
        "jupyter": {
          "source_hidden": false,
          "outputs_hidden": false
        },
        "nteract": {
          "transient": {
            "deleting": false
          }
        }
      }
    }
  ],
  "metadata": {
    "kernelspec": {
      "name": "python310-sdkv2",
      "language": "python",
      "display_name": "Python 3.10 - SDK v2"
    },
    "language_info": {
      "name": "python",
      "version": "3.10.14",
      "mimetype": "text/x-python",
      "codemirror_mode": {
        "name": "ipython",
        "version": 3
      },
      "pygments_lexer": "ipython3",
      "nbconvert_exporter": "python",
      "file_extension": ".py"
    },
    "kernel_info": {
      "name": "python310-sdkv2"
    },
    "microsoft": {
      "host": {
        "AzureML": {
          "notebookHasBeenCompleted": true
        }
      }
    },
    "nteract": {
      "version": "nteract-front-end@1.0.0"
    }
  },
  "nbformat": 4,
  "nbformat_minor": 2
}