{
  "cells": [
    {
      "cell_type": "code",
      "source": [
        "# coding: utf-8\n",
        "import sys, os\n",
        "from pathlib import Path\n",
        "\n",
        "print(os.getcwd())\n",
        "current_dir = os.path.dirname(os.getcwd())\n",
        "print(current_dir)\n",
        "os.chdir(current_dir)\n",
        "\n",
        "\n",
        "import numpy as np \n",
        "import pickle \n",
        "from dataset.mnist import load_mnist \n",
        "from common.functions import sigmoid, softmax, relu \n",
        "import time \n",
        "\n",
        " \n",
        "def get_data(): # 데이터를 불러온 후 split하는 함수 \n",
        "    (x_train, t_train), (x_test, t_test) = load_mnist(normalize=True, flatten=True, one_hot_label=False) \n",
        "    return x_test, t_test \n",
        "\n",
        "def init_network(): # 사전학습된 신경망의 가중치를 불러오는 함수(y = wx + b에서 w의 값들을 담은 파일)  \n",
        "    with open(\"ch02/sample_weight.pkl\", 'rb') as f: \n",
        "        network = pickle.load(f) \n",
        "    return network \n",
        "\n",
        "\n",
        "def predict(network, x): # 신경망을 통해 계산 후 결과 출력하는 함수 \n",
        "    W1, W2, W3 = network['W1'], network['W2'], network['W3'] \n",
        "    b1, b2, b3 = network['b1'], network['b2'], network['b3'] \n",
        "\n",
        "    a1 = np.dot(x, W1) + b1 \n",
        "    z1 = relu(a1) # 교안에서는 sigmoid이지만 relu 사용(응용 예시) \n",
        "    a2 = np.dot(z1, W2) + b2 \n",
        "    z2 = sigmoid(a2) \n",
        "    a3 = np.dot(z2, W3) + b3 \n",
        "    y = softmax(a3) \n",
        "    \n",
        "    return y \n",
        "\n",
        " \n",
        "\n",
        "x, t = get_data() \n",
        "network = init_network() \n",
        "\n",
        "batch_size = 100\n",
        "accuracy_cnt = 0\n",
        "\n",
        "for i in range(0,len(x),batch_size): \n",
        "    x_batch = x[i:i+batch_size]\n",
        "    y_batch = predict(network, x_batch)\n",
        "    p = np.argmax(y_batch,axis=1)\n",
        "    accuracy_cnt += np.sum(p == t[i:i+batch_size])\n",
        "\n",
        "    \n",
        "\n",
        "print(\"Accuracy:\", str(float(accuracy_cnt) / len(x))) \n",
        "\n",
        " \n",
        "\n"
      ],
      "outputs": [
        {
          "output_type": "stream",
          "name": "stdout",
          "text": "/mnt/batch/tasks/shared/LS_root/mounts/clusters/student461/code/Users/student46/DL/ch02\n/mnt/batch/tasks/shared/LS_root/mounts/clusters/student461/code/Users/student46/DL\nAccuracy: 0.8668\n"
        }
      ],
      "execution_count": 1,
      "metadata": {
        "gather": {
          "logged": 1720684099302
        }
      }
    },
    {
      "cell_type": "code",
      "source": [],
      "outputs": [],
      "execution_count": null,
      "metadata": {
        "jupyter": {
          "source_hidden": false,
          "outputs_hidden": false
        },
        "nteract": {
          "transient": {
            "deleting": false
          }
        }
      }
    }
  ],
  "metadata": {
    "kernelspec": {
      "name": "python310-sdkv2",
      "language": "python",
      "display_name": "Python 3.10 - SDK v2"
    },
    "language_info": {
      "name": "python",
      "version": "3.10.14",
      "mimetype": "text/x-python",
      "codemirror_mode": {
        "name": "ipython",
        "version": 3
      },
      "pygments_lexer": "ipython3",
      "nbconvert_exporter": "python",
      "file_extension": ".py"
    },
    "kernel_info": {
      "name": "python310-sdkv2"
    },
    "microsoft": {
      "host": {
        "AzureML": {
          "notebookHasBeenCompleted": true
        }
      }
    },
    "nteract": {
      "version": "nteract-front-end@1.0.0"
    }
  },
  "nbformat": 4,
  "nbformat_minor": 2
}