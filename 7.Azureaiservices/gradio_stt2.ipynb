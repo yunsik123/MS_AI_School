{
 "cells": [
  {
   "cell_type": "code",
   "execution_count": null,
   "metadata": {},
   "outputs": [],
   "source": [
    "%pip install gradio"
   ]
  },
  {
   "cell_type": "code",
   "execution_count": 12,
   "metadata": {},
   "outputs": [
    {
     "name": "stdout",
     "output_type": "stream",
     "text": [
      "Requirement already satisfied: requests in /Users/fimtrus/.pyenv/versions/3.11.9/envs/openai/lib/python3.11/site-packages (2.32.3)\n",
      "Requirement already satisfied: charset-normalizer<4,>=2 in /Users/fimtrus/.pyenv/versions/3.11.9/envs/openai/lib/python3.11/site-packages (from requests) (3.3.2)\n",
      "Requirement already satisfied: idna<4,>=2.5 in /Users/fimtrus/.pyenv/versions/3.11.9/envs/openai/lib/python3.11/site-packages (from requests) (3.7)\n",
      "Requirement already satisfied: urllib3<3,>=1.21.1 in /Users/fimtrus/.pyenv/versions/3.11.9/envs/openai/lib/python3.11/site-packages (from requests) (2.2.2)\n",
      "Requirement already satisfied: certifi>=2017.4.17 in /Users/fimtrus/.pyenv/versions/3.11.9/envs/openai/lib/python3.11/site-packages (from requests) (2024.7.4)\n",
      "Note: you may need to restart the kernel to use updated packages.\n"
     ]
    }
   ],
   "source": [
    "%pip install requests"
   ]
  },
  {
   "cell_type": "code",
   "execution_count": 13,
   "metadata": {},
   "outputs": [
    {
     "name": "stdout",
     "output_type": "stream",
     "text": [
      "Running on local URL:  http://127.0.0.1:7869\n",
      "\n",
      "To create a public link, set `share=True` in `launch()`.\n"
     ]
    },
    {
     "data": {
      "text/html": [
       "<div><iframe src=\"http://127.0.0.1:7869/\" width=\"100%\" height=\"500\" allow=\"autoplay; camera; microphone; clipboard-read; clipboard-write;\" frameborder=\"0\" allowfullscreen></iframe></div>"
      ],
      "text/plain": [
       "<IPython.core.display.HTML object>"
      ]
     },
     "metadata": {},
     "output_type": "display_data"
    },
    {
     "data": {
      "text/plain": []
     },
     "execution_count": 13,
     "metadata": {},
     "output_type": "execute_result"
    }
   ],
   "source": [
    "import gradio as gr\n",
    "import requests\n",
    "# def request_stt\n",
    "\n",
    "def reqeust_stt(audio_path):\n",
    "    endpoint = \"https://eastus.stt.speech.microsoft.com/speech/recognition/conversation/cognitiveservices/v1?language=ko-KR&format=detailed\"\n",
    "    api_key = \"8e5931bade634c4e859a8e7544f87ff7\"\n",
    "\n",
    "    with open(audio_path, 'rb') as audio:\n",
    "        audio_data = audio.read()\n",
    "\n",
    "    headers = {\n",
    "        \"Content-Type\": \"audio/wave\",\n",
    "        \"Ocp-Apim-Subscription-Key\": api_key\n",
    "    }\n",
    "\n",
    "    response = requests.post(endpoint,\n",
    "                             headers=headers,\n",
    "                             data=audio_data)\n",
    "    \n",
    "    if response.status_code == 200:\n",
    "        response_json = response.json()\n",
    "        status = response_json.get('RecognitionStatus')\n",
    "        if status == \"Success\":\n",
    "            return response_json[\"DisplayText\"]\n",
    "        else:\n",
    "            return \"\"\n",
    "    else:\n",
    "        return \"\"\n",
    "\n",
    "def change_audio(audio_path):\n",
    "    if audio_path:\n",
    "        text = reqeust_stt(audio_path=audio_path)\n",
    "        return text\n",
    "    else:\n",
    "        return \"\"\n",
    "\n",
    "with gr.Blocks() as demo:\n",
    "    with gr.Column():\n",
    "        gr.Markdown('<h3>Speech To Text</h3>')\n",
    "        input_mic = gr.Audio(label=\"마이크 입력\", sources=\"microphone\", type=\"filepath\")\n",
    "        output_textbox = gr.Textbox(label=\"출력 텍스트\", placeholder=\"변환된 텍스트\", interactive=False)\n",
    "\n",
    "        input_mic.change(fn=change_audio, inputs=[input_mic], outputs=[output_textbox])\n",
    "\n",
    "demo.launch()\n",
    "    "
   ]
  },
  {
   "cell_type": "code",
   "execution_count": null,
   "metadata": {},
   "outputs": [],
   "source": []
  }
 ],
 "metadata": {
  "kernelspec": {
   "display_name": "openai",
   "language": "python",
   "name": "python3"
  },
  "language_info": {
   "codemirror_mode": {
    "name": "ipython",
    "version": 3
   },
   "file_extension": ".py",
   "mimetype": "text/x-python",
   "name": "python",
   "nbconvert_exporter": "python",
   "pygments_lexer": "ipython3",
   "version": "3.11.9"
  }
 },
 "nbformat": 4,
 "nbformat_minor": 2
}
