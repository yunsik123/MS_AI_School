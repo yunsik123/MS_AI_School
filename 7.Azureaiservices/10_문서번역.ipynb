{
 "cells": [
  {
   "cell_type": "code",
   "execution_count": null,
   "metadata": {},
   "outputs": [],
   "source": [
    "\n",
    "import requests\n",
    "import os\n",
    "\n",
    "#Construct URL\n",
    "endpoint = \"<Your document translation endpoint>\"\n",
    "path = \"/translator/document:translate\"\n",
    "url = endpoint + path\n",
    "\n",
    "headers = {\n",
    "    \"Ocp-Apim-Subscription-Key\": \"<Your resource key>\"\n",
    "}\n",
    "\n",
    "# Define the parameters \n",
    "# Get list of supported languages and code here: https://aka.ms/TranslatorLanguageCodes \n",
    "params = {\n",
    "    \"sourceLanguage\": \"<source language code>\",\n",
    "    \"targetLanguage\": \"<target language code>\",\n",
    "    \"api-version\": \"2023-11-01-preview\"\n",
    "}\n",
    "\n",
    "# Include full path, file name and extension\n",
    "input_file = \"<full path to source file>\"\n",
    "output_file = \"<full path to translated file>\"\n",
    "\n",
    "# Open the input file in binary mode\n",
    "with open(input_file, \"rb\") as document:\n",
    "    # Define the data to be sent\n",
    "    # Find list of supported content types here: https://aka.ms/dtsync-content-type\n",
    "    data = {\n",
    "        \"document\": (os.path.basename(input_file), document, \"<Your file content type>\")\n",
    "    }\n",
    "\n",
    "    # Send the POST request\n",
    "    response = requests.post(url, headers=headers, files=data, params=params)\n",
    "\n",
    "# Write the response content to a file\n",
    "with open(output_file, \"wb\") as output_document:\n",
    "    output_document.write(response.content)"
   ]
  }
 ],
 "metadata": {
  "language_info": {
   "name": "python"
  }
 },
 "nbformat": 4,
 "nbformat_minor": 2
}
