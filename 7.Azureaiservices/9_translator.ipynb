{
 "cells": [
  {
   "cell_type": "code",
   "execution_count": null,
   "metadata": {},
   "outputs": [],
   "source": [
    "using System.Text;\n",
    "using Newtonsoft.Json;\n",
    "\n",
    "class Program\n",
    "{\n",
    "    private static readonly string key = \"<your-translator-key>\";\n",
    "    private static readonly string endpoint = \"https://api.cognitive.microsofttranslator.com\";\n",
    "\n",
    "    // location, also known as region.\n",
    "    // required if you're using a multi-service or regional (not global) resource. It can be found in the Azure portal on the Keys and Endpoint page.\n",
    "    private static readonly string location = \"<YOUR-RESOURCE-LOCATION>\";\n",
    "\n",
    "    static async Task Main(string[] args)\n",
    "    {\n",
    "        // Input and output languages are defined as parameters.\n",
    "        string route = \"/translate?api-version=3.0&from=en&to=fr&to=zu\";\n",
    "        string textToTranslate = \"I would really like to drive your car around the block a few times!\";\n",
    "        object[] body = new object[] { new { Text = textToTranslate } };\n",
    "        var requestBody = JsonConvert.SerializeObject(body);\n",
    "\n",
    "        using (var client = new HttpClient())\n",
    "        using (var request = new HttpRequestMessage())\n",
    "        {\n",
    "            // Build the request.\n",
    "            request.Method = HttpMethod.Post;\n",
    "            request.RequestUri = new Uri(endpoint + route);\n",
    "            request.Content = new StringContent(requestBody, Encoding.UTF8 \"application/json\");\n",
    "            request.Headers.Add(\"Ocp-Apim-Subscription-Key\", key);\n",
    "            // location required if you're using a multi-service or regional (not global) resource.\n",
    "            request.Headers.Add(\"Ocp-Apim-Subscription-Region\", location);\n",
    "\n",
    "            // Send the request and get response.\n",
    "            HttpResponseMessage response = await client.SendAsync(request).ConfigureAwait(false);\n",
    "            // Read response as a string.\n",
    "            string result = await response.Content.ReadAsStringAsync();\n",
    "            Console.WriteLine(result);\n",
    "        }\n",
    "    }\n",
    "}"
   ]
  }
 ],
 "metadata": {
  "language_info": {
   "name": "python"
  }
 },
 "nbformat": 4,
 "nbformat_minor": 2
}
