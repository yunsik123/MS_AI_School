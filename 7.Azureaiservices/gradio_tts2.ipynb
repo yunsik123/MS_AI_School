{
 "cells": [
  {
   "cell_type": "code",
   "execution_count": 7,
   "metadata": {},
   "outputs": [
    {
     "name": "stdout",
     "output_type": "stream",
     "text": [
      "Running on local URL:  http://127.0.0.1:7873\n",
      "\n",
      "To create a public link, set `share=True` in `launch()`.\n"
     ]
    },
    {
     "data": {
      "text/html": [
       "<div><iframe src=\"http://127.0.0.1:7873/\" width=\"100%\" height=\"500\" allow=\"autoplay; camera; microphone; clipboard-read; clipboard-write;\" frameborder=\"0\" allowfullscreen></iframe></div>"
      ],
      "text/plain": [
       "<IPython.core.display.HTML object>"
      ]
     },
     "metadata": {},
     "output_type": "display_data"
    },
    {
     "data": {
      "text/plain": []
     },
     "execution_count": 7,
     "metadata": {},
     "output_type": "execute_result"
    }
   ],
   "source": [
    "import gradio as gr\n",
    "import requests\n",
    "\n",
    "def get_token():\n",
    "    endpoint = \"https://eastus.api.cognitive.microsoft.com/sts/v1.0/issueToken\"\n",
    "    api_key = \"8e5931bade634c4e859a8e7544f87ff7\"\n",
    "\n",
    "    headers = {\n",
    "        \"Ocp-Apim-Subscription-Key\": api_key,\n",
    "    }\n",
    "    \n",
    "    response = requests.post(endpoint,\n",
    "                             headers=headers)\n",
    "    \n",
    "    if response.status_code == 200:\n",
    "        access_token = response.text\n",
    "        return access_token\n",
    "    else:\n",
    "        return ''\n",
    "\n",
    "def request_tts(text):\n",
    "    endpoint = \"https://eastus.tts.speech.microsoft.com/cognitiveservices/v1\"\n",
    "    access_token = get_token()\n",
    "   \n",
    "    headers = {\n",
    "        \"Content-Type\": \"application/ssml+xml\",\n",
    "        \"User-Agent\": \"testForEducation\",\n",
    "        \"X-Microsoft-OutputFormat\": \"riff-24khz-16bit-mono-pcm\",\n",
    "        \"Authorization\": f\"Bearer {access_token}\"\n",
    "    }\n",
    "\n",
    "    data = f\"\"\"\n",
    "    <speak version='1.0' xml:lang='ko-KR'><voice xml:lang='ko-KR' xml:gender='Female' name='ko-KR-JiMinNeural'>\n",
    "        {text}\n",
    "    </voice></speak>\n",
    "    \"\"\"\n",
    "\n",
    "    response = requests.post(endpoint,\n",
    "                             headers=headers,\n",
    "                             data=data)\n",
    "    \n",
    "    if response.status_code == 200:\n",
    "        file_name = 'response_audio.wav'\n",
    "        with open(file_name, \"wb\") as audio_file:\n",
    "            audio_file.write(response.content)\n",
    "        return file_name\n",
    "    else:\n",
    "        return None\n",
    "\n",
    "def click_tts(text):\n",
    "\n",
    "    file_name = request_tts(text)\n",
    "\n",
    "    if file_name:\n",
    "        return file_name\n",
    "    else:\n",
    "        return None\n",
    "\n",
    "with gr.Blocks() as demo:\n",
    "    with gr.Column():\n",
    "        gr.Markdown('<h3>Text To Speech</h3>')\n",
    "        input_textbox = gr.Textbox(label=\"입력 텍스트\", placeholder=\"텍스트를 입력하세요\")\n",
    "        send_button = gr.Button(\"전송\")\n",
    "        output_audio = gr.Audio(label=\"출력 오디오\", type=\"filepath\", interactive=False)\n",
    "\n",
    "        send_button.click(fn=click_tts, inputs=[input_textbox], outputs=[output_audio])\n",
    "\n",
    "\n",
    "demo.launch()"
   ]
  },
  {
   "cell_type": "code",
   "execution_count": null,
   "metadata": {},
   "outputs": [],
   "source": []
  }
 ],
 "metadata": {
  "kernelspec": {
   "display_name": "openai",
   "language": "python",
   "name": "python3"
  },
  "language_info": {
   "codemirror_mode": {
    "name": "ipython",
    "version": 3
   },
   "file_extension": ".py",
   "mimetype": "text/x-python",
   "name": "python",
   "nbconvert_exporter": "python",
   "pygments_lexer": "ipython3",
   "version": "3.11.9"
  }
 },
 "nbformat": 4,
 "nbformat_minor": 2
}
