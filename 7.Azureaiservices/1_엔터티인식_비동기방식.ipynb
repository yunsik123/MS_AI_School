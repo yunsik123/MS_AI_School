{
 "cells": [
  {
   "cell_type": "code",
   "execution_count": 1,
   "metadata": {},
   "outputs": [
    {
     "name": "stdout",
     "output_type": "stream",
     "text": [
      "In this sample, we are a catering business, and we're looking to sort the reviews for our organization based off of the organization that hired us for catering\n",
      "Entity 'Foo Company' has category 'Organization'\n",
      "Entity 'Contoso' has category 'Person'\n",
      "Entity 'annual' has category 'DateTime'\n",
      "Entity 'founding ceremony' has category 'Event'\n",
      "Entity 'food' has category 'Product'\n",
      "Entity 'Foo Company' has category 'Organization'\n",
      "Entity 'Contoso' has category 'Person'\n",
      "Entity 'food' has category 'Product'\n",
      "Entity 'Bar Company' has category 'Organization'\n",
      "Entity 'service' has category 'Skill'\n",
      "Entity 'Contoso' has category 'Person'\n",
      "Entity 'sliders' has category 'Product'\n",
      "\n",
      "\n",
      "Organization 'Foo Company' has left us the following review(s): I work for Foo Company, and we hired Contoso for our annual founding ceremony. The food\n",
      "        was amazing and we all can't say enough good words about the quality and the level of service.\n",
      "\n",
      "We at the Foo Company re-hired Contoso after all of our past successes with the company.\n",
      "        Though the food was still great, I feel there has been a quality drop since their last time\n",
      "        catering for us. Is anyone else running into the same problem?\n",
      "\n",
      "\n",
      "Organization 'Bar Company' has left us the following review(s): Bar Company is over the moon about the service we received from Contoso, the best sliders ever!!!!\n"
     ]
    }
   ],
   "source": [
    "import asyncio\n",
    "from azure.core.credentials import AzureKeyCredential\n",
    "from azure.ai.textanalytics.aio import TextAnalyticsClient\n",
    "\n",
    "async def sample_recognize_entities_async() -> None:\n",
    "    print(\n",
    "        \"In this sample, we are a catering business, and we're looking to sort the reviews \"\n",
    "        \"for our organization based off of the organization that hired us for catering\"\n",
    "    )\n",
    "\n",
    "    # [START recognize_entities_async]\n",
    "    key = '6a258144d9e34b3ab0879549f3ea0bc1'\n",
    "    endpoint = 'https://b22language.cognitiveservices.azure.com/'\n",
    "\n",
    "    text_analytics_client = TextAnalyticsClient(endpoint=endpoint, credential=AzureKeyCredential(key))\n",
    "    reviews = [\n",
    "        \"\"\"I work for Foo Company, and we hired Contoso for our annual founding ceremony. The food\n",
    "        was amazing and we all can't say enough good words about the quality and the level of service.\"\"\",\n",
    "        \"\"\"We at the Foo Company re-hired Contoso after all of our past successes with the company.\n",
    "        Though the food was still great, I feel there has been a quality drop since their last time\n",
    "        catering for us. Is anyone else running into the same problem?\"\"\",\n",
    "        \"\"\"Bar Company is over the moon about the service we received from Contoso, the best sliders ever!!!!\"\"\"\n",
    "    ]\n",
    "\n",
    "    async with text_analytics_client:\n",
    "        result = await text_analytics_client.recognize_entities(reviews)\n",
    "\n",
    "    result = [review for review in result if not review.is_error]\n",
    "    organization_to_reviews = {}\n",
    "\n",
    "    for idx, review in enumerate(result):\n",
    "        for entity in review.entities:\n",
    "            print(f\"Entity '{entity.text}' has category '{entity.category}'\")\n",
    "\n",
    "            if entity.category == 'Organization':\n",
    "                organization_to_reviews.setdefault(entity.text, [])\n",
    "                organization_to_reviews[entity.text].append(reviews[idx])\n",
    "\n",
    "    for organization, reviews in organization_to_reviews.items():\n",
    "        print(\n",
    "            \"\\n\\nOrganization '{}' has left us the following review(s): {}\".format(\n",
    "                organization, \"\\n\\n\".join(reviews)\n",
    "            )\n",
    "        )\n",
    "    # [END recognize_entities_async]\n",
    "\n",
    "# Jupyter 노트북에서는 직접 await를 사용하여 비동기 함수를 호출합니다.\n",
    "await sample_recognize_entities_async()\n"
   ]
  },
  {
   "cell_type": "code",
   "execution_count": null,
   "metadata": {},
   "outputs": [],
   "source": []
  }
 ],
 "metadata": {
  "kernelspec": {
   "display_name": "Python 3",
   "language": "python",
   "name": "python3"
  },
  "language_info": {
   "codemirror_mode": {
    "name": "ipython",
    "version": 3
   },
   "file_extension": ".py",
   "mimetype": "text/x-python",
   "name": "python",
   "nbconvert_exporter": "python",
   "pygments_lexer": "ipython3",
   "version": "3.9.2"
  }
 },
 "nbformat": 4,
 "nbformat_minor": 2
}
