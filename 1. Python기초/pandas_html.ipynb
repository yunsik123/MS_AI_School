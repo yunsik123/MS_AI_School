{
 "cells": [
  {
   "cell_type": "code",
   "execution_count": 3,
   "id": "23684c46-a5cc-4d43-8d8d-6df229301002",
   "metadata": {},
   "outputs": [],
   "source": [
    "import pandas as pd\n",
    "table = \"https://ko.wikipedia.org/wiki/%EB%8C%80%ED%95%9C%EB%AF%BC%EA%B5%AD%EC%9D%98_%EC%9D%B8%EA%B5%AC\"\n",
    "\n",
    "tdata = pd.read_html(table)"
   ]
  },
  {
   "cell_type": "code",
   "execution_count": 4,
   "id": "c9507fd6-9f8a-46bb-a988-998ec2f0c0db",
   "metadata": {},
   "outputs": [
    {
     "data": {
      "text/plain": [
       "34"
      ]
     },
     "execution_count": 4,
     "metadata": {},
     "output_type": "execute_result"
    }
   ],
   "source": [
    "len(tdata)"
   ]
  },
  {
   "cell_type": "code",
   "execution_count": 6,
   "id": "d547c3a6-cfae-40a5-9c36-fd455ad2b671",
   "metadata": {},
   "outputs": [],
   "source": [
    "df1=tdata[4] #광복이전\n",
    "df2=tdata[5] #광복이후"
   ]
  },
  {
   "cell_type": "code",
   "execution_count": 10,
   "id": "9eed594e-8f7e-42a4-9485-7d141d2cbaaf",
   "metadata": {},
   "outputs": [],
   "source": [
    "#광복이전과 광복이후 데이터 병합\n",
    "df=pd.concat([df1,df2])"
   ]
  },
  {
   "cell_type": "code",
   "execution_count": 11,
   "id": "dbe3743d-6d5d-4270-b047-86ac53dd0df3",
   "metadata": {},
   "outputs": [],
   "source": [
    "#get과 post방식이 있는데 get방식을 이용해서 가져올거임\n",
    "#정적 bs4\n",
    "#동적 Selenium\n",
    "#오픈 API 구글 네이버 카카오등"
   ]
  },
  {
   "cell_type": "code",
   "execution_count": 13,
   "id": "ea79c5e8-30fc-4e68-9e28-b04ae7e28bc0",
   "metadata": {},
   "outputs": [
    {
     "name": "stdout",
     "output_type": "stream",
     "text": [
      "Requirement already satisfied: requests in /opt/conda/lib/python3.11/site-packages (2.31.0)\n",
      "Requirement already satisfied: charset-normalizer<4,>=2 in /opt/conda/lib/python3.11/site-packages (from requests) (3.3.0)\n",
      "Requirement already satisfied: idna<4,>=2.5 in /opt/conda/lib/python3.11/site-packages (from requests) (3.4)\n",
      "Requirement already satisfied: urllib3<3,>=1.21.1 in /opt/conda/lib/python3.11/site-packages (from requests) (2.0.7)\n",
      "Requirement already satisfied: certifi>=2017.4.17 in /opt/conda/lib/python3.11/site-packages (from requests) (2023.7.22)\n",
      "Note: you may need to restart the kernel to use updated packages.\n"
     ]
    }
   ],
   "source": [
    "from"
   ]
  },
  {
   "cell_type": "code",
   "execution_count": 14,
   "id": "73d10438-fcdb-4c9d-b976-cb65811fece5",
   "metadata": {},
   "outputs": [
    {
     "name": "stdout",
     "output_type": "stream",
     "text": [
      "Requirement already satisfied: beautifulsoup4 in /opt/conda/lib/python3.11/site-packages (4.12.2)\n",
      "Requirement already satisfied: soupsieve>1.2 in /opt/conda/lib/python3.11/site-packages (from beautifulsoup4) (2.5)\n",
      "Note: you may need to restart the kernel to use updated packages.\n"
     ]
    }
   ],
   "source": []
  },
  {
   "cell_type": "code",
   "execution_count": null,
   "id": "80bfbb86-6f70-41a8-9882-801d63aba291",
   "metadata": {},
   "outputs": [],
   "source": []
  }
 ],
 "metadata": {
  "kernelspec": {
   "display_name": "Python 3 (ipykernel)",
   "language": "python",
   "name": "python3"
  },
  "language_info": {
   "codemirror_mode": {
    "name": "ipython",
    "version": 3
   },
   "file_extension": ".py",
   "mimetype": "text/x-python",
   "name": "python",
   "nbconvert_exporter": "python",
   "pygments_lexer": "ipython3",
   "version": "3.11.6"
  }
 },
 "nbformat": 4,
 "nbformat_minor": 5
}
