{
 "cells": [
  {
   "cell_type": "code",
   "execution_count": 25,
   "id": "7a68b6e4-1573-4738-bbbd-e7628bc47274",
   "metadata": {},
   "outputs": [],
   "source": [
    "import requests\n",
    "from bs4 import BeautifulSoup\n",
    "\n",
    "\n",
    "location = '한남동'\n",
    "search_query = location + \" 날씨\"\n",
    "base_url=\"https://search.daum.net/search?nil_suggest=btn&w=tot&DA=SBC&q=\"\n",
    "url= base_url + search_query\n",
    "\n",
    "\n",
    "\n",
    "html_weather=requests.get(url).text\n",
    "soup_weather=BeautifulSoup(html_weather,'lxml')"
   ]
  },
  {
   "cell_type": "code",
   "execution_count": 26,
   "id": "e754c59b-b4ea-49bb-bad0-235c0dd34997",
   "metadata": {},
   "outputs": [],
   "source": [
    "txt_temp = soup_weather.select_one('strong.txt_temp')\n",
    "txt_weather = soup_weather.select_one('span.txt_weather')"
   ]
  },
  {
   "cell_type": "code",
   "execution_count": 27,
   "id": "ab1417a1-5863-4967-bc70-b19dd7d9ec82",
   "metadata": {},
   "outputs": [],
   "source": [
    "dl_weather=soup_weather.select('dl.dl_weather dd')\n",
    "[wind_speed,humidity,pm10]=[x.text for x in dl_weather]"
   ]
  },
  {
   "cell_type": "code",
   "execution_count": 28,
   "id": "04de317a-f70c-4a47-a164-0e48e4ab63be",
   "metadata": {},
   "outputs": [
    {
     "name": "stdout",
     "output_type": "stream",
     "text": [
      "현재 풍속:(wind_speed),현재 습도 : 42%, 미세먼지 : 보통 (40㎍/㎥)\n"
     ]
    }
   ],
   "source": [
    "print(f'현재 풍속:(wind_speed),현재 습도 : {humidity}, 미세먼지 : {pm10}')"
   ]
  },
  {
   "cell_type": "code",
   "execution_count": 29,
   "id": "e1b59504-d8e4-4b8f-8e64-aed1b801f8d3",
   "metadata": {},
   "outputs": [
    {
     "name": "stdout",
     "output_type": "stream",
     "text": [
      "2.0m/s\n",
      "42%\n",
      "보통 (40㎍/㎥)\n"
     ]
    }
   ],
   "source": [
    "for value in dl_weather:\n",
    "    print(value.text)"
   ]
  },
  {
   "cell_type": "code",
   "execution_count": 34,
   "id": "9de27a0d-9a1a-4568-9410-f84c7a9248f9",
   "metadata": {},
   "outputs": [
    {
     "name": "stdin",
     "output_type": "stream",
     "text": [
      "조회활동입력 평내동\n"
     ]
    },
    {
     "name": "stdout",
     "output_type": "stream",
     "text": [
      "------[오늘의 날씨 정보]---------\n",
      "설정 지역 : 평내동\n",
      "설정 지역 온도 : 30℃\n",
      "설정 지역 날씨 : 11시 현재, 구름많음\n",
      "현재 풍속:1.4m/s, 현재 습도 : 47%, 미세먼지 : 좋음 (23㎍/㎥)\n"
     ]
    }
   ],
   "source": [
    "def get_weather_daum(location):\n",
    "    search_query = location + \" 날씨\"\n",
    "    base_url=\"https://search.daum.net/search?nil_suggest=btn&w=tot&DA=SBC&q=\"\n",
    "    url= base_url + search_query\n",
    "\n",
    "\n",
    "\n",
    "    html_weather=requests.get(url).text\n",
    "    soup_weather=BeautifulSoup(html_weather,'lxml')\n",
    "\n",
    "    txt_temp = soup_weather.select_one('strong.txt_temp').text\n",
    "    txt_weather = soup_weather.select_one('span.txt_weather').text\n",
    "    dl_weather=soup_weather.select('dl.dl_weather dd')\n",
    "    [wind_speed,humidity,pm10]=[x.text for x in dl_weather]\n",
    "\n",
    "    return txt_temp,txt_weather, wind_speed,humidity,pm10\n",
    "\n",
    "location=input(\"조회활동입력\")\n",
    "txt_temp,txt_weather, wind_speed,humidity,pm10=get_weather_daum(location)\n",
    "print(\"------[오늘의 날씨 정보]---------\")\n",
    "print(f\"설정 지역 : {location}\")\n",
    "print(f\"설정 지역 온도 : {txt_temp}\")\n",
    "print(f\"설정 지역 날씨 : {txt_weather}\")\n",
    "print(f'현재 풍속:{wind_speed}, 현재 습도 : {humidity}, 미세먼지 : {pm10}')"
   ]
  },
  {
   "cell_type": "code",
   "execution_count": null,
   "id": "5f0f7f1a-c743-4d66-80f1-75ed05b2c0bb",
   "metadata": {},
   "outputs": [],
   "source": []
  }
 ],
 "metadata": {
  "kernelspec": {
   "display_name": "Python 3 (ipykernel)",
   "language": "python",
   "name": "python3"
  },
  "language_info": {
   "codemirror_mode": {
    "name": "ipython",
    "version": 3
   },
   "file_extension": ".py",
   "mimetype": "text/x-python",
   "name": "python",
   "nbconvert_exporter": "python",
   "pygments_lexer": "ipython3",
   "version": "3.11.6"
  }
 },
 "nbformat": 4,
 "nbformat_minor": 5
}
