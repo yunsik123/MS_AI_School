{
 "cells": [
  {
   "cell_type": "code",
   "execution_count": 4,
   "id": "6fc3c43d-c603-479c-a6fc-1ddcd1af838d",
   "metadata": {},
   "outputs": [
    {
     "name": "stdout",
     "output_type": "stream",
     "text": [
      "자동차1의 색상은 빨강이며, 현재 속도는 30km입니다.\n",
      "자동차2의 색상은 파랑이며, 현재 속도는 60km입니다.\n",
      "자동차3의 색상은 노랑이며, 현재 속도는 0km입니다.\n"
     ]
    }
   ],
   "source": [
    "class Car:\n",
    "    color = \"\"\n",
    "    speed = 0\n",
    "\n",
    "    def upSpeed(self,value):\n",
    "        self.speed += value\n",
    "    def downSpeed(self,value):\n",
    "        self.speed -= value\n",
    "\n",
    "myCar1 = Car()\n",
    "myCar1.color = \"빨강\"\n",
    "myCar1.speed = 0\n",
    "\n",
    "myCar2 = Car()\n",
    "myCar2.color = \"파랑\"\n",
    "myCar2.speed = 0\n",
    "\n",
    "myCar3 = Car()\n",
    "myCar3.color = \"노랑\"\n",
    "myCar3.speed = 0\n",
    "\n",
    "myCar1.upSpeed(30)\n",
    "print(\"자동차1의 색상은 %s이며, 현재 속도는 %dkm입니다.\" % (myCar1.color,myCar1.speed))\n",
    "\n",
    "myCar2.upSpeed(60)\n",
    "print(\"자동차2의 색상은 %s이며, 현재 속도는 %dkm입니다.\" % (myCar2.color,myCar2.speed))\n",
    "\n",
    "myCar3.upSpeed(0)\n",
    "print(\"자동차3의 색상은 %s이며, 현재 속도는 %dkm입니다.\" % (myCar3.color,myCar3.speed))"
   ]
  },
  {
   "cell_type": "code",
   "execution_count": 6,
   "id": "445bcb78-4412-4190-94b7-b746d4b45858",
   "metadata": {},
   "outputs": [
    {
     "name": "stdout",
     "output_type": "stream",
     "text": [
      "자동차1의 색상은 빨강이며, 현재 속도는 0km입니다.\n",
      "자동차2의 색상은 빨강이며, 현재 속도는 0km입니다.\n"
     ]
    }
   ],
   "source": [
    "#생성자의 개념 __init__()이 생긴이유\n",
    "#필드값을 초기화시키는 함수\n",
    "\n",
    "class Car:\n",
    "    color = \"\"\n",
    "    speed = 0\n",
    "\n",
    "    def __init__(self):\n",
    "        self.color=\"빨강\"\n",
    "        self.speed=0\n",
    "    \n",
    "\n",
    "    def upSpeed(self,value):\n",
    "        self.speed += value\n",
    "    def downSpeed(self,value):\n",
    "        self.speed -= value\n",
    "\n",
    "myCar1=Car()\n",
    "myCar2=Car()\n",
    "\n",
    "print(\"자동차1의 색상은 %s이며, 현재 속도는 %dkm입니다.\" % (myCar1.color,myCar1.speed))\n",
    "print(\"자동차2의 색상은 %s이며, 현재 속도는 %dkm입니다.\" % (myCar2.color,myCar2.speed))"
   ]
  },
  {
   "cell_type": "code",
   "execution_count": 7,
   "id": "0fe77ace-d48e-45f7-8816-16a935c681d8",
   "metadata": {},
   "outputs": [
    {
     "name": "stdout",
     "output_type": "stream",
     "text": [
      "자동차1의 색상은 빨강이며, 현재 속도는 30km입니다.\n",
      "자동차2의 색상은 파랑이며, 현재 속도는 60km입니다.\n"
     ]
    }
   ],
   "source": [
    "#매개변수가 있는 생성자를 만들수도있다.\n",
    "#생성자의 개념 __init__()이 생긴이유\n",
    "#필드값을 초기화시키는 함수\n",
    "\n",
    "class Car:\n",
    "    color = \"\"\n",
    "    speed = 0\n",
    "\n",
    "    def __init__(self,value1,value2):\n",
    "        self.color=value1\n",
    "        self.speed=value2\n",
    "    \n",
    "\n",
    "    def upSpeed(self,value):\n",
    "        self.speed += value\n",
    "    def downSpeed(self,value):\n",
    "        self.speed -= value\n",
    "\n",
    "myCar1=Car(\"빨강\",30)\n",
    "myCar2=Car(\"파랑\",60)\n",
    "\n",
    "print(\"자동차1의 색상은 %s이며, 현재 속도는 %dkm입니다.\" % (myCar1.color,myCar1.speed))\n",
    "print(\"자동차2의 색상은 %s이며, 현재 속도는 %dkm입니다.\" % (myCar2.color,myCar2.speed))"
   ]
  },
  {
   "cell_type": "code",
   "execution_count": 9,
   "id": "574beb28-b609-4846-b96d-667bddc1d77b",
   "metadata": {},
   "outputs": [
    {
     "name": "stdout",
     "output_type": "stream",
     "text": [
      "자동차1의 현재 속도는 30km, 생산된 자동차는 총 1대입니다.\n",
      "자동차2의 현재 속도는 60km, 생산된 자동차는 총 2대입니다.\n"
     ]
    }
   ],
   "source": [
    "#class의 다른방식\n",
    "class Car:\n",
    "    color = \"\"\n",
    "    speed = 0\n",
    "    count = 0\n",
    "\n",
    "    def printMessage():\n",
    "        print(\"시험 출력입니다.\")\n",
    "\n",
    "    def __init__(self):\n",
    "        self.speed = 0\n",
    "        Car.count += 1\n",
    "\n",
    "#변수 선언\n",
    "myCar1, myCar2 = None, None\n",
    "\n",
    "#메인 코드 부분\n",
    "myCar1 = Car()\n",
    "myCar1.speed = 30\n",
    "print(\"자동차1의 현재 속도는 %dkm, 생산된 자동차는 총 %d대입니다.\" %(myCar1.speed, Car.count))\n",
    "\n",
    "myCar2=Car()\n",
    "myCar2.speed = 60\n",
    "print(\"자동차2의 현재 속도는 %dkm, 생산된 자동차는 총 %d대입니다.\" %(myCar2.speed, myCar2.count))"
   ]
  },
  {
   "cell_type": "code",
   "execution_count": 12,
   "id": "21340061-f607-45d4-aad8-0a3bf7b392a4",
   "metadata": {},
   "outputs": [
    {
     "name": "stdout",
     "output_type": "stream",
     "text": [
      "트럭-->현재 속도(슈퍼 클래스): 200\n",
      "승용차-->현재 속도(서브 클래스): 150\n"
     ]
    }
   ],
   "source": [
    "#객체 지향에서 상속\n",
    "#필드랑 메서드가 있을때 몇가지는 가져가고 몇가지는 안가져가는거임\n",
    "#메서드 오버라이딩(메서드 재정의)\n",
    "\n",
    "class Car:\n",
    "    speed = 0\n",
    "    def upSpeed(self, value):\n",
    "        self.speed+=value\n",
    "\n",
    "        print(\"현재 속도(슈퍼 클래스): %d\" % self.speed)\n",
    "\n",
    "class Sedan(Car):\n",
    "    def upSpeed(self,value):\n",
    "        self.speed += value\n",
    "\n",
    "        if self.speed > 150:\n",
    "            self.speed = 150\n",
    "        print(\"현재 속도(서브 클래스): %d\" % self.speed)\n",
    "\n",
    "class Truck(Car):\n",
    "    pass\n",
    "\n",
    "sedan1, truck1 = None, None\n",
    "\n",
    "truck1=Truck()\n",
    "sedan1=Sedan()\n",
    "\n",
    "print(\"트럭-->\", end=\"\")\n",
    "truck1.upSpeed(200)\n",
    "\n",
    "print(\"승용차-->\",end=\"\")\n",
    "sedan1.upSpeed(200)"
   ]
  },
  {
   "cell_type": "code",
   "execution_count": 13,
   "id": "80f7aa63-47cc-47af-a59b-55f7500b8329",
   "metadata": {},
   "outputs": [],
   "source": [
    "#서브 클래스에서 메서드 오버라이딩을 할 때, 슈퍼 클래스의 메서드나 속성을 사용해야 하는\n",
    "#경우에는 super()메서드를 사용하면 된다."
   ]
  },
  {
   "cell_type": "code",
   "execution_count": 24,
   "id": "3f423e23-f287-4b4d-abe9-7829eb8c9c33",
   "metadata": {},
   "outputs": [
    {
     "name": "stdout",
     "output_type": "stream",
     "text": [
      "100 길이의 선이 생성되었습니다.\n",
      "200 길이의 선이 생성되었습니다.\n",
      "선의 길이 : 100\n",
      "두 선의 길이 합: 300\n",
      "선분 2가 더 기네요.\n",
      "100 길이의 선이 삭제되었습니다.\n",
      "200 길이의 선이 삭제되었습니다.\n"
     ]
    }
   ],
   "source": [
    "#클래스의 특별한 메서드\n",
    "#__del__() 메서드\n",
    "#__repr__() 메서드\n",
    "#__add__() 메서드\n",
    "#그외에 다양한 비교 메서드 __lt__ __eq__ 등등 less than eqaul\n",
    "\n",
    "#클래스끼리 더할수도 있는데 \n",
    "class Line:\n",
    "    length=0\n",
    "    \n",
    "    def __init__(self,length):\n",
    "        self.length = length\n",
    "        print(self.length, '길이의 선이 생성되었습니다.')\n",
    "        \n",
    "    def __del__(self):\n",
    "        print(self.length, '길이의 선이 삭제되었습니다.')\n",
    "    \n",
    "    def __repr__(self):\n",
    "        return '선의 길이 : '+ str(self.length)\n",
    "\n",
    "    def __add__(self,other):\n",
    "        return self.length + other.length\n",
    "\n",
    "    def __lt__(self, other):\n",
    "        return self.length < other.length\n",
    "\n",
    "    def __eq__(self, other):\n",
    "        return self.length == other.length\n",
    "\n",
    "#메인코드부분#\n",
    "myLine1 = Line(100)\n",
    "myLine2 = Line(200)\n",
    "\n",
    "print(myLine1)\n",
    "\n",
    "print('두 선의 길이 합:', myLine1 + myLine2)\n",
    "\n",
    "if myLine1 < myLine2:\n",
    "    print('선분 2가 더 기네요.')\n",
    "elif myLine1 == myLine2:\n",
    "    print('두 선분이 같네요.')\n",
    "else: \n",
    "    print('모르겠네요.')\n",
    "\n",
    "del(myLine1)"
   ]
  },
  {
   "cell_type": "code",
   "execution_count": 23,
   "id": "6221c3c1-830b-4f0f-9e82-f11da774f84c",
   "metadata": {},
   "outputs": [
    {
     "name": "stdout",
     "output_type": "stream",
     "text": [
      "100 길이의 선이 생성되었습니다.\n",
      "200 길이의 선이 생성되었습니다.\n",
      "선의 길이 : 100\n",
      "두 선의 길이 합: 300\n",
      "선분 2가 더 기네요.\n",
      "100 길이의 선이 삭제되었습니다.\n",
      "200 길이의 선이 삭제되었습니다.\n"
     ]
    }
   ],
   "source": [
    "#클래스의 특별한 메서드\n",
    "#__del__() 메서드\n",
    "#__repr__() 메서드\n",
    "#__add__() 메서드\n",
    "#그외에 다양한 비교 메서드 __lt__ __eq__ 등등 less than eqaul\n",
    " \n",
    "#클래스끼리 더할수도 있는데 \n",
    "class Line:\n",
    "    length=0\n",
    "    def __init__(self,length):\n",
    "        self.length = length\n",
    "        print(self.length, '길이의 선이 생성되었습니다.')\n",
    "    def __del__(self):\n",
    "        print(self.length, '길이의 선이 삭제되었습니다.')\n",
    "    def __repr__(self):\n",
    "        return '선의 길이 : '+ str(self.length)\n",
    " \n",
    "    def __add__(self,other):\n",
    "        return self.length + other.length\n",
    " \n",
    "    def __lt__(self, other):\n",
    "        return self.length < other.length\n",
    " \n",
    "    def __eq__(self, other):\n",
    "        return self.length == other.length\n",
    " \n",
    "#메인코드부분#\n",
    "myLine1 = Line(100)\n",
    "myLine2 = Line(200)\n",
    " \n",
    "print(myLine1)\n",
    " \n",
    "print('두 선의 길이 합:', myLine1 + myLine2)\n",
    " \n",
    "if myLine1 < myLine2:\n",
    "    print('선분 2가 더 기네요.')\n",
    "elif myLine1 == myLine2:\n",
    "    print('두 선분이 같네요.')\n",
    "else: \n",
    "    print('모르겠네요.')\n",
    " \n",
    "del(myLine1)"
   ]
  },
  {
   "cell_type": "code",
   "execution_count": null,
   "id": "0b568967-bae5-4445-82b6-f7fe6a7588ab",
   "metadata": {},
   "outputs": [],
   "source": []
  }
 ],
 "metadata": {
  "kernelspec": {
   "display_name": "Python 3 (ipykernel)",
   "language": "python",
   "name": "python3"
  },
  "language_info": {
   "codemirror_mode": {
    "name": "ipython",
    "version": 3
   },
   "file_extension": ".py",
   "mimetype": "text/x-python",
   "name": "python",
   "nbconvert_exporter": "python",
   "pygments_lexer": "ipython3",
   "version": "3.11.6"
  }
 },
 "nbformat": 4,
 "nbformat_minor": 5
}
