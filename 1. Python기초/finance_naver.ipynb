{
 "cells": [
  {
   "cell_type": "code",
   "execution_count": null,
   "id": "208b14a2-88f2-41b3-94a9-8ae40a892b29",
   "metadata": {},
   "outputs": [],
   "source": [
    "import pandas as pd\n",
    "import warnings\n",
    "#url안에 변수를 넣는 것\n",
    "\n",
    "df=pd.DataFrame()\n",
    "warnings.filterwarnings('ignore')\n",
    "\n",
    "code_in = int(input(\"통화유형 선택 (0:USD, 1:EUR, 2:JPY)\"))\n",
    "currency_symbols=['USD','EUR','JPY']\n",
    "currency_name=['미국 달러','유럽연합 유로','일본 엔(100)']\n",
    "code = currency_symbols[code_in]\n",
    "for page_num in range(1,11):\n",
    "    base_url=f\"https://finance.naver.com/marketindex/exchangeDailyQuote.naver?marketindexCd=FX_{code}KRW&page={page_num}\"\n",
    "    temp=pd.read_html(base_url,encoding='cp949',header=1)\n",
    "\n",
    "    df=pd.concat([df,temp[0]])\n",
    "\n",
    "print(f\"==={currency_name[code_in]}*****\")\n",
    "print(df)\n",
    "\n",
    "\n"
   ]
  }
 ],
 "metadata": {
  "kernelspec": {
   "display_name": "Python 3 (ipykernel)",
   "language": "python",
   "name": "python3"
  },
  "language_info": {
   "codemirror_mode": {
    "name": "ipython",
    "version": 3
   },
   "file_extension": ".py",
   "mimetype": "text/x-python",
   "name": "python",
   "nbconvert_exporter": "python",
   "pygments_lexer": "ipython3",
   "version": "3.11.6"
  }
 },
 "nbformat": 4,
 "nbformat_minor": 5
}
