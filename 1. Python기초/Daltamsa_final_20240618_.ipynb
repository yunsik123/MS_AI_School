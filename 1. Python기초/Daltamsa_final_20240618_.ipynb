{
  "cells": [
    {
      "cell_type": "code",
      "source": [
        "# pandas 라이브러리를 Import하여 pd 로 이름지음\n",
        "import pandas as pd\n"
      ],
      "outputs": [],
      "execution_count": 1,
      "metadata": {
        "gather": {
          "logged": 1718683920330
        }
      }
    },
    {
      "cell_type": "code",
      "source": [
        "# 데이터 파일을 읽어들임.\n",
        "rock_samples = pd.read_csv('rocksamples.csv')"
      ],
      "outputs": [],
      "execution_count": 2,
      "metadata": {
        "gather": {
          "logged": 1718683920480
        }
      }
    },
    {
      "cell_type": "code",
      "source": [
        "rock_samples.head()\n",
        "\n"
      ],
      "outputs": [
        {
          "output_type": "execute_result",
          "execution_count": 3,
          "data": {
            "text/plain": "      ID   Mission    Type   Subtype  Weight (g)  Pristine (%)\n0  10001  Apollo11    Soil  Unsieved       125.8         88.36\n1  10002  Apollo11    Soil  Unsieved      5629.0         93.73\n2  10003  Apollo11  Basalt  Ilmenite       213.0         65.56\n3  10004  Apollo11    Core  Unsieved        44.8         71.76\n4  10005  Apollo11    Core  Unsieved        53.4         40.31",
            "text/html": "<div>\n<style scoped>\n    .dataframe tbody tr th:only-of-type {\n        vertical-align: middle;\n    }\n\n    .dataframe tbody tr th {\n        vertical-align: top;\n    }\n\n    .dataframe thead th {\n        text-align: right;\n    }\n</style>\n<table border=\"1\" class=\"dataframe\">\n  <thead>\n    <tr style=\"text-align: right;\">\n      <th></th>\n      <th>ID</th>\n      <th>Mission</th>\n      <th>Type</th>\n      <th>Subtype</th>\n      <th>Weight (g)</th>\n      <th>Pristine (%)</th>\n    </tr>\n  </thead>\n  <tbody>\n    <tr>\n      <th>0</th>\n      <td>10001</td>\n      <td>Apollo11</td>\n      <td>Soil</td>\n      <td>Unsieved</td>\n      <td>125.8</td>\n      <td>88.36</td>\n    </tr>\n    <tr>\n      <th>1</th>\n      <td>10002</td>\n      <td>Apollo11</td>\n      <td>Soil</td>\n      <td>Unsieved</td>\n      <td>5629.0</td>\n      <td>93.73</td>\n    </tr>\n    <tr>\n      <th>2</th>\n      <td>10003</td>\n      <td>Apollo11</td>\n      <td>Basalt</td>\n      <td>Ilmenite</td>\n      <td>213.0</td>\n      <td>65.56</td>\n    </tr>\n    <tr>\n      <th>3</th>\n      <td>10004</td>\n      <td>Apollo11</td>\n      <td>Core</td>\n      <td>Unsieved</td>\n      <td>44.8</td>\n      <td>71.76</td>\n    </tr>\n    <tr>\n      <th>4</th>\n      <td>10005</td>\n      <td>Apollo11</td>\n      <td>Core</td>\n      <td>Unsieved</td>\n      <td>53.4</td>\n      <td>40.31</td>\n    </tr>\n  </tbody>\n</table>\n</div>"
          },
          "metadata": {}
        }
      ],
      "execution_count": 3,
      "metadata": {
        "gather": {
          "logged": 1718683920653
        }
      }
    },
    {
      "cell_type": "code",
      "source": [
        "#rock_samples 데이터프레임 정보 알아본다.\n",
        "rock_samples.info()"
      ],
      "outputs": [
        {
          "output_type": "stream",
          "name": "stdout",
          "text": "<class 'pandas.core.frame.DataFrame'>\nRangeIndex: 2229 entries, 0 to 2228\nData columns (total 6 columns):\n #   Column        Non-Null Count  Dtype  \n---  ------        --------------  -----  \n 0   ID            2229 non-null   int64  \n 1   Mission       2229 non-null   object \n 2   Type          2229 non-null   object \n 3   Subtype       2226 non-null   object \n 4   Weight (g)    2229 non-null   float64\n 5   Pristine (%)  2229 non-null   float64\ndtypes: float64(2), int64(1), object(3)\nmemory usage: 104.6+ KB\n"
        }
      ],
      "execution_count": 4,
      "metadata": {
        "gather": {
          "logged": 1718683920791
        }
      }
    },
    {
      "cell_type": "code",
      "source": [
        "#rock_samples 데이터프레임 행수 알아봄\n",
        "rock_samples.shape[0]\n"
      ],
      "outputs": [
        {
          "output_type": "execute_result",
          "execution_count": 5,
          "data": {
            "text/plain": "2229"
          },
          "metadata": {}
        }
      ],
      "execution_count": 5,
      "metadata": {
        "gather": {
          "logged": 1718683920927
        }
      }
    },
    {
      "cell_type": "code",
      "source": [
        "#rock_samples 데이터 프레임의 인덱스\n",
        "rock_samples.index"
      ],
      "outputs": [
        {
          "output_type": "execute_result",
          "execution_count": 6,
          "data": {
            "text/plain": "RangeIndex(start=0, stop=2229, step=1)"
          },
          "metadata": {}
        }
      ],
      "execution_count": 6,
      "metadata": {
        "gather": {
          "logged": 1718683921069
        }
      }
    },
    {
      "cell_type": "code",
      "source": [
        "#rock_samples 데이터프레임 열수\n",
        "rock_samples.shape[1]\n"
      ],
      "outputs": [
        {
          "output_type": "execute_result",
          "execution_count": 7,
          "data": {
            "text/plain": "6"
          },
          "metadata": {}
        }
      ],
      "execution_count": 7,
      "metadata": {
        "gather": {
          "logged": 1718683921221
        }
      }
    },
    {
      "cell_type": "code",
      "source": [
        "#rock_samples 데이터프레임의 모양을 알아본다.\n",
        "rock_samples.shape"
      ],
      "outputs": [
        {
          "output_type": "execute_result",
          "execution_count": 8,
          "data": {
            "text/plain": "(2229, 6)"
          },
          "metadata": {}
        }
      ],
      "execution_count": 8,
      "metadata": {
        "gather": {
          "logged": 1718683921363
        }
      }
    },
    {
      "cell_type": "code",
      "source": [
        "#rock_samples 데이터프레임의 컬럼명을 알아본다.\n",
        "rock_samples.columns"
      ],
      "outputs": [
        {
          "output_type": "execute_result",
          "execution_count": 9,
          "data": {
            "text/plain": "Index(['ID', 'Mission', 'Type', 'Subtype', 'Weight (g)', 'Pristine (%)'], dtype='object')"
          },
          "metadata": {}
        }
      ],
      "execution_count": 9,
      "metadata": {
        "gather": {
          "logged": 1718683921516
        }
      }
    },
    {
      "cell_type": "code",
      "source": [
        "#rock_samples 데이터프레임 컬럼들의 데이터타입을 알아본다.\n",
        "rock_samples.dtypes"
      ],
      "outputs": [
        {
          "output_type": "execute_result",
          "execution_count": 10,
          "data": {
            "text/plain": "ID                int64\nMission          object\nType             object\nSubtype          object\nWeight (g)      float64\nPristine (%)    float64\ndtype: object"
          },
          "metadata": {}
        }
      ],
      "execution_count": 10,
      "metadata": {
        "gather": {
          "logged": 1718683921666
        }
      }
    },
    {
      "cell_type": "code",
      "source": [
        "# rock_samples 데이터프레임 수치 데이터의 요약 통계를 알아본다.\n",
        "rock_samples.describe()\n"
      ],
      "outputs": [
        {
          "output_type": "execute_result",
          "execution_count": 11,
          "data": {
            "text/plain": "                 ID    Weight (g)  Pristine (%)\ncount   2229.000000   2229.000000   2229.000000\nmean   52058.432032    168.253024     84.512764\nstd    26207.651471    637.286458     22.057299\nmin    10001.000000      0.000000      0.000000\n25%    15437.000000      3.000000     80.010000\n50%    65527.000000     10.200000     92.300000\n75%    72142.000000     93.490000     98.140000\nmax    79537.000000  11729.000000    180.000000",
            "text/html": "<div>\n<style scoped>\n    .dataframe tbody tr th:only-of-type {\n        vertical-align: middle;\n    }\n\n    .dataframe tbody tr th {\n        vertical-align: top;\n    }\n\n    .dataframe thead th {\n        text-align: right;\n    }\n</style>\n<table border=\"1\" class=\"dataframe\">\n  <thead>\n    <tr style=\"text-align: right;\">\n      <th></th>\n      <th>ID</th>\n      <th>Weight (g)</th>\n      <th>Pristine (%)</th>\n    </tr>\n  </thead>\n  <tbody>\n    <tr>\n      <th>count</th>\n      <td>2229.000000</td>\n      <td>2229.000000</td>\n      <td>2229.000000</td>\n    </tr>\n    <tr>\n      <th>mean</th>\n      <td>52058.432032</td>\n      <td>168.253024</td>\n      <td>84.512764</td>\n    </tr>\n    <tr>\n      <th>std</th>\n      <td>26207.651471</td>\n      <td>637.286458</td>\n      <td>22.057299</td>\n    </tr>\n    <tr>\n      <th>min</th>\n      <td>10001.000000</td>\n      <td>0.000000</td>\n      <td>0.000000</td>\n    </tr>\n    <tr>\n      <th>25%</th>\n      <td>15437.000000</td>\n      <td>3.000000</td>\n      <td>80.010000</td>\n    </tr>\n    <tr>\n      <th>50%</th>\n      <td>65527.000000</td>\n      <td>10.200000</td>\n      <td>92.300000</td>\n    </tr>\n    <tr>\n      <th>75%</th>\n      <td>72142.000000</td>\n      <td>93.490000</td>\n      <td>98.140000</td>\n    </tr>\n    <tr>\n      <th>max</th>\n      <td>79537.000000</td>\n      <td>11729.000000</td>\n      <td>180.000000</td>\n    </tr>\n  </tbody>\n</table>\n</div>"
          },
          "metadata": {}
        }
      ],
      "execution_count": 11,
      "metadata": {
        "gather": {
          "logged": 1718683921813
        }
      }
    },
    {
      "cell_type": "code",
      "source": [
        "# rock_samples 데이터프레임의 마지막 다섯행을 알아본다.\n",
        "rock_samples.tail()\n"
      ],
      "outputs": [
        {
          "output_type": "execute_result",
          "execution_count": 12,
          "data": {
            "text/plain": "         ID   Mission     Type   Subtype  Weight (g)  Pristine (%)\n2224  79528  Apollo17  Breccia  Regolith        2.38         100.0\n2225  79529  Apollo17  Breccia  Regolith        1.84         100.0\n2226  79535  Apollo17  Breccia  Regolith        1.69         100.0\n2227  79536  Apollo17  Breccia  Regolith        1.66         100.0\n2228  79537  Apollo17  Breccia  Regolith        1.05         100.0",
            "text/html": "<div>\n<style scoped>\n    .dataframe tbody tr th:only-of-type {\n        vertical-align: middle;\n    }\n\n    .dataframe tbody tr th {\n        vertical-align: top;\n    }\n\n    .dataframe thead th {\n        text-align: right;\n    }\n</style>\n<table border=\"1\" class=\"dataframe\">\n  <thead>\n    <tr style=\"text-align: right;\">\n      <th></th>\n      <th>ID</th>\n      <th>Mission</th>\n      <th>Type</th>\n      <th>Subtype</th>\n      <th>Weight (g)</th>\n      <th>Pristine (%)</th>\n    </tr>\n  </thead>\n  <tbody>\n    <tr>\n      <th>2224</th>\n      <td>79528</td>\n      <td>Apollo17</td>\n      <td>Breccia</td>\n      <td>Regolith</td>\n      <td>2.38</td>\n      <td>100.0</td>\n    </tr>\n    <tr>\n      <th>2225</th>\n      <td>79529</td>\n      <td>Apollo17</td>\n      <td>Breccia</td>\n      <td>Regolith</td>\n      <td>1.84</td>\n      <td>100.0</td>\n    </tr>\n    <tr>\n      <th>2226</th>\n      <td>79535</td>\n      <td>Apollo17</td>\n      <td>Breccia</td>\n      <td>Regolith</td>\n      <td>1.69</td>\n      <td>100.0</td>\n    </tr>\n    <tr>\n      <th>2227</th>\n      <td>79536</td>\n      <td>Apollo17</td>\n      <td>Breccia</td>\n      <td>Regolith</td>\n      <td>1.66</td>\n      <td>100.0</td>\n    </tr>\n    <tr>\n      <th>2228</th>\n      <td>79537</td>\n      <td>Apollo17</td>\n      <td>Breccia</td>\n      <td>Regolith</td>\n      <td>1.05</td>\n      <td>100.0</td>\n    </tr>\n  </tbody>\n</table>\n</div>"
          },
          "metadata": {}
        }
      ],
      "execution_count": 12,
      "metadata": {
        "gather": {
          "logged": 1718683921958
        }
      }
    },
    {
      "cell_type": "markdown",
      "source": [
        "## 누락값 검사"
      ],
      "metadata": {}
    },
    {
      "cell_type": "code",
      "source": [
        "# 1단계 -> rock_samples 데이터프레임에 있는 모든 값이 null 인지 알아본다.\n",
        "rock_samples.isnull()"
      ],
      "outputs": [
        {
          "output_type": "execute_result",
          "execution_count": 13,
          "data": {
            "text/plain": "         ID  Mission   Type  Subtype  Weight (g)  Pristine (%)\n0     False    False  False    False       False         False\n1     False    False  False    False       False         False\n2     False    False  False    False       False         False\n3     False    False  False    False       False         False\n4     False    False  False    False       False         False\n...     ...      ...    ...      ...         ...           ...\n2224  False    False  False    False       False         False\n2225  False    False  False    False       False         False\n2226  False    False  False    False       False         False\n2227  False    False  False    False       False         False\n2228  False    False  False    False       False         False\n\n[2229 rows x 6 columns]",
            "text/html": "<div>\n<style scoped>\n    .dataframe tbody tr th:only-of-type {\n        vertical-align: middle;\n    }\n\n    .dataframe tbody tr th {\n        vertical-align: top;\n    }\n\n    .dataframe thead th {\n        text-align: right;\n    }\n</style>\n<table border=\"1\" class=\"dataframe\">\n  <thead>\n    <tr style=\"text-align: right;\">\n      <th></th>\n      <th>ID</th>\n      <th>Mission</th>\n      <th>Type</th>\n      <th>Subtype</th>\n      <th>Weight (g)</th>\n      <th>Pristine (%)</th>\n    </tr>\n  </thead>\n  <tbody>\n    <tr>\n      <th>0</th>\n      <td>False</td>\n      <td>False</td>\n      <td>False</td>\n      <td>False</td>\n      <td>False</td>\n      <td>False</td>\n    </tr>\n    <tr>\n      <th>1</th>\n      <td>False</td>\n      <td>False</td>\n      <td>False</td>\n      <td>False</td>\n      <td>False</td>\n      <td>False</td>\n    </tr>\n    <tr>\n      <th>2</th>\n      <td>False</td>\n      <td>False</td>\n      <td>False</td>\n      <td>False</td>\n      <td>False</td>\n      <td>False</td>\n    </tr>\n    <tr>\n      <th>3</th>\n      <td>False</td>\n      <td>False</td>\n      <td>False</td>\n      <td>False</td>\n      <td>False</td>\n      <td>False</td>\n    </tr>\n    <tr>\n      <th>4</th>\n      <td>False</td>\n      <td>False</td>\n      <td>False</td>\n      <td>False</td>\n      <td>False</td>\n      <td>False</td>\n    </tr>\n    <tr>\n      <th>...</th>\n      <td>...</td>\n      <td>...</td>\n      <td>...</td>\n      <td>...</td>\n      <td>...</td>\n      <td>...</td>\n    </tr>\n    <tr>\n      <th>2224</th>\n      <td>False</td>\n      <td>False</td>\n      <td>False</td>\n      <td>False</td>\n      <td>False</td>\n      <td>False</td>\n    </tr>\n    <tr>\n      <th>2225</th>\n      <td>False</td>\n      <td>False</td>\n      <td>False</td>\n      <td>False</td>\n      <td>False</td>\n      <td>False</td>\n    </tr>\n    <tr>\n      <th>2226</th>\n      <td>False</td>\n      <td>False</td>\n      <td>False</td>\n      <td>False</td>\n      <td>False</td>\n      <td>False</td>\n    </tr>\n    <tr>\n      <th>2227</th>\n      <td>False</td>\n      <td>False</td>\n      <td>False</td>\n      <td>False</td>\n      <td>False</td>\n      <td>False</td>\n    </tr>\n    <tr>\n      <th>2228</th>\n      <td>False</td>\n      <td>False</td>\n      <td>False</td>\n      <td>False</td>\n      <td>False</td>\n      <td>False</td>\n    </tr>\n  </tbody>\n</table>\n<p>2229 rows × 6 columns</p>\n</div>"
          },
          "metadata": {}
        }
      ],
      "execution_count": 13,
      "metadata": {
        "gather": {
          "logged": 1718683922187
        }
      }
    },
    {
      "cell_type": "code",
      "source": [
        "#2단계 -> 1단계 결과인 데이터 프레임의 각컬럼값들을 더한다. false:0, True:1\n",
        "rock_samples.isnull().sum()\n"
      ],
      "outputs": [
        {
          "output_type": "execute_result",
          "execution_count": 14,
          "data": {
            "text/plain": "ID              0\nMission         0\nType            0\nSubtype         3\nWeight (g)      0\nPristine (%)    0\ndtype: int64"
          },
          "metadata": {}
        }
      ],
      "execution_count": 14,
      "metadata": {
        "gather": {
          "logged": 1718683922531
        }
      }
    },
    {
      "cell_type": "markdown",
      "source": [
        "## 컬럼값 변환 : weight(g) -> weight(kg)\n",
        "    "
      ],
      "metadata": {}
    },
    {
      "cell_type": "code",
      "source": [
        "rock_samples.head(2)"
      ],
      "outputs": [
        {
          "output_type": "execute_result",
          "execution_count": 15,
          "data": {
            "text/plain": "      ID   Mission  Type   Subtype  Weight (g)  Pristine (%)\n0  10001  Apollo11  Soil  Unsieved       125.8         88.36\n1  10002  Apollo11  Soil  Unsieved      5629.0         93.73",
            "text/html": "<div>\n<style scoped>\n    .dataframe tbody tr th:only-of-type {\n        vertical-align: middle;\n    }\n\n    .dataframe tbody tr th {\n        vertical-align: top;\n    }\n\n    .dataframe thead th {\n        text-align: right;\n    }\n</style>\n<table border=\"1\" class=\"dataframe\">\n  <thead>\n    <tr style=\"text-align: right;\">\n      <th></th>\n      <th>ID</th>\n      <th>Mission</th>\n      <th>Type</th>\n      <th>Subtype</th>\n      <th>Weight (g)</th>\n      <th>Pristine (%)</th>\n    </tr>\n  </thead>\n  <tbody>\n    <tr>\n      <th>0</th>\n      <td>10001</td>\n      <td>Apollo11</td>\n      <td>Soil</td>\n      <td>Unsieved</td>\n      <td>125.8</td>\n      <td>88.36</td>\n    </tr>\n    <tr>\n      <th>1</th>\n      <td>10002</td>\n      <td>Apollo11</td>\n      <td>Soil</td>\n      <td>Unsieved</td>\n      <td>5629.0</td>\n      <td>93.73</td>\n    </tr>\n  </tbody>\n</table>\n</div>"
          },
          "metadata": {}
        }
      ],
      "execution_count": 15,
      "metadata": {
        "gather": {
          "logged": 1718683922744
        }
      }
    },
    {
      "cell_type": "code",
      "source": [
        "rock_samples['Weight (g)']"
      ],
      "outputs": [
        {
          "output_type": "execute_result",
          "execution_count": 16,
          "data": {
            "text/plain": "0        125.80\n1       5629.00\n2        213.00\n3         44.80\n4         53.40\n         ...   \n2224       2.38\n2225       1.84\n2226       1.69\n2227       1.66\n2228       1.05\nName: Weight (g), Length: 2229, dtype: float64"
          },
          "metadata": {}
        }
      ],
      "execution_count": 16,
      "metadata": {
        "gather": {
          "logged": 1718683922899
        }
      }
    },
    {
      "cell_type": "code",
      "source": [
        "# 1단계 -> 컬럼값변환 : rock_samples['Weight (g)'] -> rock_samples['Weight (kg)]\n",
        "rock_samples['Weight (g)'] = rock_samples['Weight (g)'].apply(lambda x : x * 0.001)\n",
        "rock_samples['Weight (g)']"
      ],
      "outputs": [
        {
          "output_type": "execute_result",
          "execution_count": 17,
          "data": {
            "text/plain": "0       0.12580\n1       5.62900\n2       0.21300\n3       0.04480\n4       0.05340\n         ...   \n2224    0.00238\n2225    0.00184\n2226    0.00169\n2227    0.00166\n2228    0.00105\nName: Weight (g), Length: 2229, dtype: float64"
          },
          "metadata": {}
        }
      ],
      "execution_count": 17,
      "metadata": {
        "gather": {
          "logged": 1718683923109
        }
      }
    },
    {
      "cell_type": "code",
      "source": [
        "rock_samples.head()\n"
      ],
      "outputs": [
        {
          "output_type": "execute_result",
          "execution_count": 18,
          "data": {
            "text/plain": "      ID   Mission    Type   Subtype  Weight (g)  Pristine (%)\n0  10001  Apollo11    Soil  Unsieved      0.1258         88.36\n1  10002  Apollo11    Soil  Unsieved      5.6290         93.73\n2  10003  Apollo11  Basalt  Ilmenite      0.2130         65.56\n3  10004  Apollo11    Core  Unsieved      0.0448         71.76\n4  10005  Apollo11    Core  Unsieved      0.0534         40.31",
            "text/html": "<div>\n<style scoped>\n    .dataframe tbody tr th:only-of-type {\n        vertical-align: middle;\n    }\n\n    .dataframe tbody tr th {\n        vertical-align: top;\n    }\n\n    .dataframe thead th {\n        text-align: right;\n    }\n</style>\n<table border=\"1\" class=\"dataframe\">\n  <thead>\n    <tr style=\"text-align: right;\">\n      <th></th>\n      <th>ID</th>\n      <th>Mission</th>\n      <th>Type</th>\n      <th>Subtype</th>\n      <th>Weight (g)</th>\n      <th>Pristine (%)</th>\n    </tr>\n  </thead>\n  <tbody>\n    <tr>\n      <th>0</th>\n      <td>10001</td>\n      <td>Apollo11</td>\n      <td>Soil</td>\n      <td>Unsieved</td>\n      <td>0.1258</td>\n      <td>88.36</td>\n    </tr>\n    <tr>\n      <th>1</th>\n      <td>10002</td>\n      <td>Apollo11</td>\n      <td>Soil</td>\n      <td>Unsieved</td>\n      <td>5.6290</td>\n      <td>93.73</td>\n    </tr>\n    <tr>\n      <th>2</th>\n      <td>10003</td>\n      <td>Apollo11</td>\n      <td>Basalt</td>\n      <td>Ilmenite</td>\n      <td>0.2130</td>\n      <td>65.56</td>\n    </tr>\n    <tr>\n      <th>3</th>\n      <td>10004</td>\n      <td>Apollo11</td>\n      <td>Core</td>\n      <td>Unsieved</td>\n      <td>0.0448</td>\n      <td>71.76</td>\n    </tr>\n    <tr>\n      <th>4</th>\n      <td>10005</td>\n      <td>Apollo11</td>\n      <td>Core</td>\n      <td>Unsieved</td>\n      <td>0.0534</td>\n      <td>40.31</td>\n    </tr>\n  </tbody>\n</table>\n</div>"
          },
          "metadata": {}
        }
      ],
      "execution_count": 18,
      "metadata": {
        "gather": {
          "logged": 1718683923395
        }
      }
    },
    {
      "cell_type": "code",
      "source": [
        "#2단계 -> 컬럼명 변환 : 'Weight(g)' -> 'Weight(kg)\n",
        "rock_samples.rename(columns={'Weight (g)' : 'Weight (kg)'}, inplace=True)\n",
        "rock_samples.head()"
      ],
      "outputs": [
        {
          "output_type": "execute_result",
          "execution_count": 19,
          "data": {
            "text/plain": "      ID   Mission    Type   Subtype  Weight (kg)  Pristine (%)\n0  10001  Apollo11    Soil  Unsieved       0.1258         88.36\n1  10002  Apollo11    Soil  Unsieved       5.6290         93.73\n2  10003  Apollo11  Basalt  Ilmenite       0.2130         65.56\n3  10004  Apollo11    Core  Unsieved       0.0448         71.76\n4  10005  Apollo11    Core  Unsieved       0.0534         40.31",
            "text/html": "<div>\n<style scoped>\n    .dataframe tbody tr th:only-of-type {\n        vertical-align: middle;\n    }\n\n    .dataframe tbody tr th {\n        vertical-align: top;\n    }\n\n    .dataframe thead th {\n        text-align: right;\n    }\n</style>\n<table border=\"1\" class=\"dataframe\">\n  <thead>\n    <tr style=\"text-align: right;\">\n      <th></th>\n      <th>ID</th>\n      <th>Mission</th>\n      <th>Type</th>\n      <th>Subtype</th>\n      <th>Weight (kg)</th>\n      <th>Pristine (%)</th>\n    </tr>\n  </thead>\n  <tbody>\n    <tr>\n      <th>0</th>\n      <td>10001</td>\n      <td>Apollo11</td>\n      <td>Soil</td>\n      <td>Unsieved</td>\n      <td>0.1258</td>\n      <td>88.36</td>\n    </tr>\n    <tr>\n      <th>1</th>\n      <td>10002</td>\n      <td>Apollo11</td>\n      <td>Soil</td>\n      <td>Unsieved</td>\n      <td>5.6290</td>\n      <td>93.73</td>\n    </tr>\n    <tr>\n      <th>2</th>\n      <td>10003</td>\n      <td>Apollo11</td>\n      <td>Basalt</td>\n      <td>Ilmenite</td>\n      <td>0.2130</td>\n      <td>65.56</td>\n    </tr>\n    <tr>\n      <th>3</th>\n      <td>10004</td>\n      <td>Apollo11</td>\n      <td>Core</td>\n      <td>Unsieved</td>\n      <td>0.0448</td>\n      <td>71.76</td>\n    </tr>\n    <tr>\n      <th>4</th>\n      <td>10005</td>\n      <td>Apollo11</td>\n      <td>Core</td>\n      <td>Unsieved</td>\n      <td>0.0534</td>\n      <td>40.31</td>\n    </tr>\n  </tbody>\n</table>\n</div>"
          },
          "metadata": {}
        }
      ],
      "execution_count": 19,
      "metadata": {
        "gather": {
          "logged": 1718683923601
        }
      }
    },
    {
      "cell_type": "markdown",
      "source": [
        "## 아폴로 임무별 데이터 프레임 만들기 : missions"
      ],
      "metadata": {}
    },
    {
      "cell_type": "code",
      "source": [
        "# 빈 데이터 프레임을 만들고 변수 missions에 할당한다.\n",
        "missions = pd.DataFrame()\n",
        "missions"
      ],
      "outputs": [
        {
          "output_type": "execute_result",
          "execution_count": 20,
          "data": {
            "text/plain": "Empty DataFrame\nColumns: []\nIndex: []",
            "text/html": "<div>\n<style scoped>\n    .dataframe tbody tr th:only-of-type {\n        vertical-align: middle;\n    }\n\n    .dataframe tbody tr th {\n        vertical-align: top;\n    }\n\n    .dataframe thead th {\n        text-align: right;\n    }\n</style>\n<table border=\"1\" class=\"dataframe\">\n  <thead>\n    <tr style=\"text-align: right;\">\n      <th></th>\n    </tr>\n  </thead>\n  <tbody>\n  </tbody>\n</table>\n</div>"
          },
          "metadata": {}
        }
      ],
      "execution_count": 20,
      "metadata": {
        "gather": {
          "logged": 1718683923800
        }
      }
    },
    {
      "cell_type": "code",
      "source": [
        "type(missions)"
      ],
      "outputs": [
        {
          "output_type": "execute_result",
          "execution_count": 21,
          "data": {
            "text/plain": "pandas.core.frame.DataFrame"
          },
          "metadata": {}
        }
      ],
      "execution_count": 21,
      "metadata": {
        "gather": {
          "logged": 1718683924006
        }
      }
    },
    {
      "cell_type": "code",
      "source": [
        "#rock_samples['Mission']의 중복되지 않은 고유값들을 알아본다.\n",
        "rock_samples['Mission'].unique()"
      ],
      "outputs": [
        {
          "output_type": "execute_result",
          "execution_count": 22,
          "data": {
            "text/plain": "array(['Apollo11', 'Apollo12', 'Apollo14', 'Apollo15', 'Apollo16',\n       'Apollo17'], dtype=object)"
          },
          "metadata": {}
        }
      ],
      "execution_count": 22,
      "metadata": {
        "gather": {
          "logged": 1718683924154
        }
      }
    },
    {
      "cell_type": "code",
      "source": [
        "#위의 값들을 mission 데이터프레임의 새로운 컬럼인 mission['Mission']에 할당한다.\n",
        "missions['Mission']=rock_samples['Mission'].unique()\n",
        "missions"
      ],
      "outputs": [
        {
          "output_type": "execute_result",
          "execution_count": 23,
          "data": {
            "text/plain": "    Mission\n0  Apollo11\n1  Apollo12\n2  Apollo14\n3  Apollo15\n4  Apollo16\n5  Apollo17",
            "text/html": "<div>\n<style scoped>\n    .dataframe tbody tr th:only-of-type {\n        vertical-align: middle;\n    }\n\n    .dataframe tbody tr th {\n        vertical-align: top;\n    }\n\n    .dataframe thead th {\n        text-align: right;\n    }\n</style>\n<table border=\"1\" class=\"dataframe\">\n  <thead>\n    <tr style=\"text-align: right;\">\n      <th></th>\n      <th>Mission</th>\n    </tr>\n  </thead>\n  <tbody>\n    <tr>\n      <th>0</th>\n      <td>Apollo11</td>\n    </tr>\n    <tr>\n      <th>1</th>\n      <td>Apollo12</td>\n    </tr>\n    <tr>\n      <th>2</th>\n      <td>Apollo14</td>\n    </tr>\n    <tr>\n      <th>3</th>\n      <td>Apollo15</td>\n    </tr>\n    <tr>\n      <th>4</th>\n      <td>Apollo16</td>\n    </tr>\n    <tr>\n      <th>5</th>\n      <td>Apollo17</td>\n    </tr>\n  </tbody>\n</table>\n</div>"
          },
          "metadata": {}
        }
      ],
      "execution_count": 23,
      "metadata": {
        "gather": {
          "logged": 1718683924367
        }
      }
    },
    {
      "cell_type": "code",
      "source": [
        "# rock_samples 데이터프레임의 'Mission' 컬럼을 기준으로 그룹으로 나눈다 -> groupby()\n",
        "# 나누어진 그룹에서 'weight (kg)' 컬럼의 총합을 구한다 -> groupby('Mission')['weight (kg)].sum()\n",
        "# 결국 아폴로 달탐사 임무별로 수집해온 암석 샘플 총중량을 구해서 새로운 변수에 할당한다. -> 이 변수는 시리즈이다.\n",
        "sample_total_weight = rock_samples.groupby('Mission')['Weight (kg)'].sum()\n",
        "sample_total_weight\n"
      ],
      "outputs": [
        {
          "output_type": "execute_result",
          "execution_count": 24,
          "data": {
            "text/plain": "Mission\nApollo11     21.55424\nApollo12     34.34238\nApollo14     41.83363\nApollo15     75.39910\nApollo16     92.46262\nApollo17    109.44402\nName: Weight (kg), dtype: float64"
          },
          "metadata": {}
        }
      ],
      "execution_count": 24,
      "metadata": {
        "gather": {
          "logged": 1718683924585
        }
      }
    },
    {
      "cell_type": "code",
      "source": [
        "# missions 데이터프레임과 sample_total_weight 시리즈를 병합한다.\n",
        "missions = pd.merge(missions, sample_total_weight, on='Mission')\n",
        "missions"
      ],
      "outputs": [
        {
          "output_type": "execute_result",
          "execution_count": 25,
          "data": {
            "text/plain": "    Mission  Weight (kg)\n0  Apollo11     21.55424\n1  Apollo12     34.34238\n2  Apollo14     41.83363\n3  Apollo15     75.39910\n4  Apollo16     92.46262\n5  Apollo17    109.44402",
            "text/html": "<div>\n<style scoped>\n    .dataframe tbody tr th:only-of-type {\n        vertical-align: middle;\n    }\n\n    .dataframe tbody tr th {\n        vertical-align: top;\n    }\n\n    .dataframe thead th {\n        text-align: right;\n    }\n</style>\n<table border=\"1\" class=\"dataframe\">\n  <thead>\n    <tr style=\"text-align: right;\">\n      <th></th>\n      <th>Mission</th>\n      <th>Weight (kg)</th>\n    </tr>\n  </thead>\n  <tbody>\n    <tr>\n      <th>0</th>\n      <td>Apollo11</td>\n      <td>21.55424</td>\n    </tr>\n    <tr>\n      <th>1</th>\n      <td>Apollo12</td>\n      <td>34.34238</td>\n    </tr>\n    <tr>\n      <th>2</th>\n      <td>Apollo14</td>\n      <td>41.83363</td>\n    </tr>\n    <tr>\n      <th>3</th>\n      <td>Apollo15</td>\n      <td>75.39910</td>\n    </tr>\n    <tr>\n      <th>4</th>\n      <td>Apollo16</td>\n      <td>92.46262</td>\n    </tr>\n    <tr>\n      <th>5</th>\n      <td>Apollo17</td>\n      <td>109.44402</td>\n    </tr>\n  </tbody>\n</table>\n</div>"
          },
          "metadata": {}
        }
      ],
      "execution_count": 25,
      "metadata": {
        "gather": {
          "logged": 1718683924918
        }
      }
    },
    {
      "cell_type": "code",
      "source": [
        "# 애매한 컬럼명인 'Weight (kg)' 을 'Sample weight (kg)'으로 변경한다.\n",
        "type(missions)\n",
        "missions.rename(columns={'Weight (kg)' : 'Sample weight (kg)'}, inplace=True)\n",
        "missions"
      ],
      "outputs": [
        {
          "output_type": "execute_result",
          "execution_count": 26,
          "data": {
            "text/plain": "    Mission  Sample weight (kg)\n0  Apollo11            21.55424\n1  Apollo12            34.34238\n2  Apollo14            41.83363\n3  Apollo15            75.39910\n4  Apollo16            92.46262\n5  Apollo17           109.44402",
            "text/html": "<div>\n<style scoped>\n    .dataframe tbody tr th:only-of-type {\n        vertical-align: middle;\n    }\n\n    .dataframe tbody tr th {\n        vertical-align: top;\n    }\n\n    .dataframe thead th {\n        text-align: right;\n    }\n</style>\n<table border=\"1\" class=\"dataframe\">\n  <thead>\n    <tr style=\"text-align: right;\">\n      <th></th>\n      <th>Mission</th>\n      <th>Sample weight (kg)</th>\n    </tr>\n  </thead>\n  <tbody>\n    <tr>\n      <th>0</th>\n      <td>Apollo11</td>\n      <td>21.55424</td>\n    </tr>\n    <tr>\n      <th>1</th>\n      <td>Apollo12</td>\n      <td>34.34238</td>\n    </tr>\n    <tr>\n      <th>2</th>\n      <td>Apollo14</td>\n      <td>41.83363</td>\n    </tr>\n    <tr>\n      <th>3</th>\n      <td>Apollo15</td>\n      <td>75.39910</td>\n    </tr>\n    <tr>\n      <th>4</th>\n      <td>Apollo16</td>\n      <td>92.46262</td>\n    </tr>\n    <tr>\n      <th>5</th>\n      <td>Apollo17</td>\n      <td>109.44402</td>\n    </tr>\n  </tbody>\n</table>\n</div>"
          },
          "metadata": {}
        }
      ],
      "execution_count": 26,
      "metadata": {
        "gather": {
          "logged": 1718683925125
        }
      }
    },
    {
      "cell_type": "code",
      "source": [
        "# 아폴로 임무간의 수집해온 암석 샘플 총중량 차이를 나타내는 컬럼 'Weight diff'를 missions 데이터프레임에 추가한다.\n",
        "missions['Weight diff'] = missions['Sample weight (kg)'].diff()\n",
        "missions"
      ],
      "outputs": [
        {
          "output_type": "execute_result",
          "execution_count": 27,
          "data": {
            "text/plain": "    Mission  Sample weight (kg)  Weight diff\n0  Apollo11            21.55424          NaN\n1  Apollo12            34.34238     12.78814\n2  Apollo14            41.83363      7.49125\n3  Apollo15            75.39910     33.56547\n4  Apollo16            92.46262     17.06352\n5  Apollo17           109.44402     16.98140",
            "text/html": "<div>\n<style scoped>\n    .dataframe tbody tr th:only-of-type {\n        vertical-align: middle;\n    }\n\n    .dataframe tbody tr th {\n        vertical-align: top;\n    }\n\n    .dataframe thead th {\n        text-align: right;\n    }\n</style>\n<table border=\"1\" class=\"dataframe\">\n  <thead>\n    <tr style=\"text-align: right;\">\n      <th></th>\n      <th>Mission</th>\n      <th>Sample weight (kg)</th>\n      <th>Weight diff</th>\n    </tr>\n  </thead>\n  <tbody>\n    <tr>\n      <th>0</th>\n      <td>Apollo11</td>\n      <td>21.55424</td>\n      <td>NaN</td>\n    </tr>\n    <tr>\n      <th>1</th>\n      <td>Apollo12</td>\n      <td>34.34238</td>\n      <td>12.78814</td>\n    </tr>\n    <tr>\n      <th>2</th>\n      <td>Apollo14</td>\n      <td>41.83363</td>\n      <td>7.49125</td>\n    </tr>\n    <tr>\n      <th>3</th>\n      <td>Apollo15</td>\n      <td>75.39910</td>\n      <td>33.56547</td>\n    </tr>\n    <tr>\n      <th>4</th>\n      <td>Apollo16</td>\n      <td>92.46262</td>\n      <td>17.06352</td>\n    </tr>\n    <tr>\n      <th>5</th>\n      <td>Apollo17</td>\n      <td>109.44402</td>\n      <td>16.98140</td>\n    </tr>\n  </tbody>\n</table>\n</div>"
          },
          "metadata": {}
        }
      ],
      "execution_count": 27,
      "metadata": {
        "gather": {
          "logged": 1718683925270
        }
      }
    },
    {
      "cell_type": "code",
      "source": [
        "# 아폴로 11은 그 전 달탐사가 없으므로 비교대상이 없어서 NaN 값을 가지게 되는데 이 값을 0으로 표시한다.\n",
        "missions.fillna(value=0, inplace=True)\n",
        "missions"
      ],
      "outputs": [
        {
          "output_type": "execute_result",
          "execution_count": 28,
          "data": {
            "text/plain": "    Mission  Sample weight (kg)  Weight diff\n0  Apollo11            21.55424      0.00000\n1  Apollo12            34.34238     12.78814\n2  Apollo14            41.83363      7.49125\n3  Apollo15            75.39910     33.56547\n4  Apollo16            92.46262     17.06352\n5  Apollo17           109.44402     16.98140",
            "text/html": "<div>\n<style scoped>\n    .dataframe tbody tr th:only-of-type {\n        vertical-align: middle;\n    }\n\n    .dataframe tbody tr th {\n        vertical-align: top;\n    }\n\n    .dataframe thead th {\n        text-align: right;\n    }\n</style>\n<table border=\"1\" class=\"dataframe\">\n  <thead>\n    <tr style=\"text-align: right;\">\n      <th></th>\n      <th>Mission</th>\n      <th>Sample weight (kg)</th>\n      <th>Weight diff</th>\n    </tr>\n  </thead>\n  <tbody>\n    <tr>\n      <th>0</th>\n      <td>Apollo11</td>\n      <td>21.55424</td>\n      <td>0.00000</td>\n    </tr>\n    <tr>\n      <th>1</th>\n      <td>Apollo12</td>\n      <td>34.34238</td>\n      <td>12.78814</td>\n    </tr>\n    <tr>\n      <th>2</th>\n      <td>Apollo14</td>\n      <td>41.83363</td>\n      <td>7.49125</td>\n    </tr>\n    <tr>\n      <th>3</th>\n      <td>Apollo15</td>\n      <td>75.39910</td>\n      <td>33.56547</td>\n    </tr>\n    <tr>\n      <th>4</th>\n      <td>Apollo16</td>\n      <td>92.46262</td>\n      <td>17.06352</td>\n    </tr>\n    <tr>\n      <th>5</th>\n      <td>Apollo17</td>\n      <td>109.44402</td>\n      <td>16.98140</td>\n    </tr>\n  </tbody>\n</table>\n</div>"
          },
          "metadata": {}
        }
      ],
      "execution_count": 28,
      "metadata": {
        "gather": {
          "logged": 1718683925470
        }
      }
    },
    {
      "cell_type": "code",
      "source": [
        "# 달탐사선 = 달모듈 + 명령모듈 --> 이 둘을 합쳐서 승무원 모듈\n",
        "# 달 모듈의 이름, 중량, 아폴로 임무간 중량차를 나타내는 3개의 컬럼을 missions 데이터프레임에 추가한다.\n",
        "달모듈이름 = ['Eagle (LM-5)', 'Intrepid (LM-6)', 'Antares (LM-8)', 'Falcon (LM-10)', 'Orion (LM-11)', 'Challenger (LM-12)']\n",
        "달모듈중량 = [15103, 15235, 15264, 16430, 16445, 16456]\n",
        "\n",
        "missions['Lunar module (LM)'] = 달모듈이름\n",
        "missions['LM mass (kg)'] = 달모듈중량\n",
        "missions"
      ],
      "outputs": [
        {
          "output_type": "execute_result",
          "execution_count": 29,
          "data": {
            "text/plain": "    Mission  Sample weight (kg)  Weight diff   Lunar module (LM)  LM mass (kg)\n0  Apollo11            21.55424      0.00000        Eagle (LM-5)         15103\n1  Apollo12            34.34238     12.78814     Intrepid (LM-6)         15235\n2  Apollo14            41.83363      7.49125      Antares (LM-8)         15264\n3  Apollo15            75.39910     33.56547      Falcon (LM-10)         16430\n4  Apollo16            92.46262     17.06352       Orion (LM-11)         16445\n5  Apollo17           109.44402     16.98140  Challenger (LM-12)         16456",
            "text/html": "<div>\n<style scoped>\n    .dataframe tbody tr th:only-of-type {\n        vertical-align: middle;\n    }\n\n    .dataframe tbody tr th {\n        vertical-align: top;\n    }\n\n    .dataframe thead th {\n        text-align: right;\n    }\n</style>\n<table border=\"1\" class=\"dataframe\">\n  <thead>\n    <tr style=\"text-align: right;\">\n      <th></th>\n      <th>Mission</th>\n      <th>Sample weight (kg)</th>\n      <th>Weight diff</th>\n      <th>Lunar module (LM)</th>\n      <th>LM mass (kg)</th>\n    </tr>\n  </thead>\n  <tbody>\n    <tr>\n      <th>0</th>\n      <td>Apollo11</td>\n      <td>21.55424</td>\n      <td>0.00000</td>\n      <td>Eagle (LM-5)</td>\n      <td>15103</td>\n    </tr>\n    <tr>\n      <th>1</th>\n      <td>Apollo12</td>\n      <td>34.34238</td>\n      <td>12.78814</td>\n      <td>Intrepid (LM-6)</td>\n      <td>15235</td>\n    </tr>\n    <tr>\n      <th>2</th>\n      <td>Apollo14</td>\n      <td>41.83363</td>\n      <td>7.49125</td>\n      <td>Antares (LM-8)</td>\n      <td>15264</td>\n    </tr>\n    <tr>\n      <th>3</th>\n      <td>Apollo15</td>\n      <td>75.39910</td>\n      <td>33.56547</td>\n      <td>Falcon (LM-10)</td>\n      <td>16430</td>\n    </tr>\n    <tr>\n      <th>4</th>\n      <td>Apollo16</td>\n      <td>92.46262</td>\n      <td>17.06352</td>\n      <td>Orion (LM-11)</td>\n      <td>16445</td>\n    </tr>\n    <tr>\n      <th>5</th>\n      <td>Apollo17</td>\n      <td>109.44402</td>\n      <td>16.98140</td>\n      <td>Challenger (LM-12)</td>\n      <td>16456</td>\n    </tr>\n  </tbody>\n</table>\n</div>"
          },
          "metadata": {}
        }
      ],
      "execution_count": 29,
      "metadata": {
        "gather": {
          "logged": 1718683925665
        }
      }
    },
    {
      "cell_type": "code",
      "source": [
        "# 아폴로 임무별로 달모듈 중량 차이를 구해서 새로운 컬럼 'LM mass diff'를 만들어서  missions 데이터프레임에 추가한다.\n",
        "missions['LM mass diff'] = missions['LM mass (kg)'].diff()\n",
        "missions"
      ],
      "outputs": [
        {
          "output_type": "execute_result",
          "execution_count": 30,
          "data": {
            "text/plain": "    Mission  Sample weight (kg)  Weight diff   Lunar module (LM)  \\\n0  Apollo11            21.55424      0.00000        Eagle (LM-5)   \n1  Apollo12            34.34238     12.78814     Intrepid (LM-6)   \n2  Apollo14            41.83363      7.49125      Antares (LM-8)   \n3  Apollo15            75.39910     33.56547      Falcon (LM-10)   \n4  Apollo16            92.46262     17.06352       Orion (LM-11)   \n5  Apollo17           109.44402     16.98140  Challenger (LM-12)   \n\n   LM mass (kg)  LM mass diff  \n0         15103           NaN  \n1         15235         132.0  \n2         15264          29.0  \n3         16430        1166.0  \n4         16445          15.0  \n5         16456          11.0  ",
            "text/html": "<div>\n<style scoped>\n    .dataframe tbody tr th:only-of-type {\n        vertical-align: middle;\n    }\n\n    .dataframe tbody tr th {\n        vertical-align: top;\n    }\n\n    .dataframe thead th {\n        text-align: right;\n    }\n</style>\n<table border=\"1\" class=\"dataframe\">\n  <thead>\n    <tr style=\"text-align: right;\">\n      <th></th>\n      <th>Mission</th>\n      <th>Sample weight (kg)</th>\n      <th>Weight diff</th>\n      <th>Lunar module (LM)</th>\n      <th>LM mass (kg)</th>\n      <th>LM mass diff</th>\n    </tr>\n  </thead>\n  <tbody>\n    <tr>\n      <th>0</th>\n      <td>Apollo11</td>\n      <td>21.55424</td>\n      <td>0.00000</td>\n      <td>Eagle (LM-5)</td>\n      <td>15103</td>\n      <td>NaN</td>\n    </tr>\n    <tr>\n      <th>1</th>\n      <td>Apollo12</td>\n      <td>34.34238</td>\n      <td>12.78814</td>\n      <td>Intrepid (LM-6)</td>\n      <td>15235</td>\n      <td>132.0</td>\n    </tr>\n    <tr>\n      <th>2</th>\n      <td>Apollo14</td>\n      <td>41.83363</td>\n      <td>7.49125</td>\n      <td>Antares (LM-8)</td>\n      <td>15264</td>\n      <td>29.0</td>\n    </tr>\n    <tr>\n      <th>3</th>\n      <td>Apollo15</td>\n      <td>75.39910</td>\n      <td>33.56547</td>\n      <td>Falcon (LM-10)</td>\n      <td>16430</td>\n      <td>1166.0</td>\n    </tr>\n    <tr>\n      <th>4</th>\n      <td>Apollo16</td>\n      <td>92.46262</td>\n      <td>17.06352</td>\n      <td>Orion (LM-11)</td>\n      <td>16445</td>\n      <td>15.0</td>\n    </tr>\n    <tr>\n      <th>5</th>\n      <td>Apollo17</td>\n      <td>109.44402</td>\n      <td>16.98140</td>\n      <td>Challenger (LM-12)</td>\n      <td>16456</td>\n      <td>11.0</td>\n    </tr>\n  </tbody>\n</table>\n</div>"
          },
          "metadata": {}
        }
      ],
      "execution_count": 30,
      "metadata": {
        "gather": {
          "logged": 1718683925862
        }
      }
    },
    {
      "cell_type": "code",
      "source": [
        "missions.fillna(value=0, inplace=True)\n",
        "missions"
      ],
      "outputs": [
        {
          "output_type": "execute_result",
          "execution_count": 31,
          "data": {
            "text/plain": "    Mission  Sample weight (kg)  Weight diff   Lunar module (LM)  \\\n0  Apollo11            21.55424      0.00000        Eagle (LM-5)   \n1  Apollo12            34.34238     12.78814     Intrepid (LM-6)   \n2  Apollo14            41.83363      7.49125      Antares (LM-8)   \n3  Apollo15            75.39910     33.56547      Falcon (LM-10)   \n4  Apollo16            92.46262     17.06352       Orion (LM-11)   \n5  Apollo17           109.44402     16.98140  Challenger (LM-12)   \n\n   LM mass (kg)  LM mass diff  \n0         15103           0.0  \n1         15235         132.0  \n2         15264          29.0  \n3         16430        1166.0  \n4         16445          15.0  \n5         16456          11.0  ",
            "text/html": "<div>\n<style scoped>\n    .dataframe tbody tr th:only-of-type {\n        vertical-align: middle;\n    }\n\n    .dataframe tbody tr th {\n        vertical-align: top;\n    }\n\n    .dataframe thead th {\n        text-align: right;\n    }\n</style>\n<table border=\"1\" class=\"dataframe\">\n  <thead>\n    <tr style=\"text-align: right;\">\n      <th></th>\n      <th>Mission</th>\n      <th>Sample weight (kg)</th>\n      <th>Weight diff</th>\n      <th>Lunar module (LM)</th>\n      <th>LM mass (kg)</th>\n      <th>LM mass diff</th>\n    </tr>\n  </thead>\n  <tbody>\n    <tr>\n      <th>0</th>\n      <td>Apollo11</td>\n      <td>21.55424</td>\n      <td>0.00000</td>\n      <td>Eagle (LM-5)</td>\n      <td>15103</td>\n      <td>0.0</td>\n    </tr>\n    <tr>\n      <th>1</th>\n      <td>Apollo12</td>\n      <td>34.34238</td>\n      <td>12.78814</td>\n      <td>Intrepid (LM-6)</td>\n      <td>15235</td>\n      <td>132.0</td>\n    </tr>\n    <tr>\n      <th>2</th>\n      <td>Apollo14</td>\n      <td>41.83363</td>\n      <td>7.49125</td>\n      <td>Antares (LM-8)</td>\n      <td>15264</td>\n      <td>29.0</td>\n    </tr>\n    <tr>\n      <th>3</th>\n      <td>Apollo15</td>\n      <td>75.39910</td>\n      <td>33.56547</td>\n      <td>Falcon (LM-10)</td>\n      <td>16430</td>\n      <td>1166.0</td>\n    </tr>\n    <tr>\n      <th>4</th>\n      <td>Apollo16</td>\n      <td>92.46262</td>\n      <td>17.06352</td>\n      <td>Orion (LM-11)</td>\n      <td>16445</td>\n      <td>15.0</td>\n    </tr>\n    <tr>\n      <th>5</th>\n      <td>Apollo17</td>\n      <td>109.44402</td>\n      <td>16.98140</td>\n      <td>Challenger (LM-12)</td>\n      <td>16456</td>\n      <td>11.0</td>\n    </tr>\n  </tbody>\n</table>\n</div>"
          },
          "metadata": {}
        }
      ],
      "execution_count": 31,
      "metadata": {
        "gather": {
          "logged": 1718683926130
        }
      }
    },
    {
      "cell_type": "code",
      "source": [
        "#명령모듈의 이름, 중ㅑㅇ 아폴로임무간 중량차를 나타내는 3개의 개로운 컬럼을 missionms 데이터프레임에 추가한다.\n",
        "명령모듈이름 = ['Columbia (CSM-107]', 'Yankee Clipper (CM-100])', 'Kitty Hawk (CM-110)', 'Endeavor (CM-112)', 'Casper (CM-113)', 'America (CM-114)']\n",
        "명령모듈중량 = [5560, 5609, 5758, 5875, 5840, 5960]\n",
        "\n",
        "missions['Command Module (CM)'] = 명령모듈이름\n",
        "missions['CM Mass (kg)'] = 명령모듈중량\n",
        "missions"
      ],
      "outputs": [
        {
          "output_type": "execute_result",
          "execution_count": 32,
          "data": {
            "text/plain": "    Mission  Sample weight (kg)  Weight diff   Lunar module (LM)  \\\n0  Apollo11            21.55424      0.00000        Eagle (LM-5)   \n1  Apollo12            34.34238     12.78814     Intrepid (LM-6)   \n2  Apollo14            41.83363      7.49125      Antares (LM-8)   \n3  Apollo15            75.39910     33.56547      Falcon (LM-10)   \n4  Apollo16            92.46262     17.06352       Orion (LM-11)   \n5  Apollo17           109.44402     16.98140  Challenger (LM-12)   \n\n   LM mass (kg)  LM mass diff       Command Module (CM)  CM Mass (kg)  \n0         15103           0.0        Columbia (CSM-107]          5560  \n1         15235         132.0  Yankee Clipper (CM-100])          5609  \n2         15264          29.0       Kitty Hawk (CM-110)          5758  \n3         16430        1166.0         Endeavor (CM-112)          5875  \n4         16445          15.0           Casper (CM-113)          5840  \n5         16456          11.0          America (CM-114)          5960  ",
            "text/html": "<div>\n<style scoped>\n    .dataframe tbody tr th:only-of-type {\n        vertical-align: middle;\n    }\n\n    .dataframe tbody tr th {\n        vertical-align: top;\n    }\n\n    .dataframe thead th {\n        text-align: right;\n    }\n</style>\n<table border=\"1\" class=\"dataframe\">\n  <thead>\n    <tr style=\"text-align: right;\">\n      <th></th>\n      <th>Mission</th>\n      <th>Sample weight (kg)</th>\n      <th>Weight diff</th>\n      <th>Lunar module (LM)</th>\n      <th>LM mass (kg)</th>\n      <th>LM mass diff</th>\n      <th>Command Module (CM)</th>\n      <th>CM Mass (kg)</th>\n    </tr>\n  </thead>\n  <tbody>\n    <tr>\n      <th>0</th>\n      <td>Apollo11</td>\n      <td>21.55424</td>\n      <td>0.00000</td>\n      <td>Eagle (LM-5)</td>\n      <td>15103</td>\n      <td>0.0</td>\n      <td>Columbia (CSM-107]</td>\n      <td>5560</td>\n    </tr>\n    <tr>\n      <th>1</th>\n      <td>Apollo12</td>\n      <td>34.34238</td>\n      <td>12.78814</td>\n      <td>Intrepid (LM-6)</td>\n      <td>15235</td>\n      <td>132.0</td>\n      <td>Yankee Clipper (CM-100])</td>\n      <td>5609</td>\n    </tr>\n    <tr>\n      <th>2</th>\n      <td>Apollo14</td>\n      <td>41.83363</td>\n      <td>7.49125</td>\n      <td>Antares (LM-8)</td>\n      <td>15264</td>\n      <td>29.0</td>\n      <td>Kitty Hawk (CM-110)</td>\n      <td>5758</td>\n    </tr>\n    <tr>\n      <th>3</th>\n      <td>Apollo15</td>\n      <td>75.39910</td>\n      <td>33.56547</td>\n      <td>Falcon (LM-10)</td>\n      <td>16430</td>\n      <td>1166.0</td>\n      <td>Endeavor (CM-112)</td>\n      <td>5875</td>\n    </tr>\n    <tr>\n      <th>4</th>\n      <td>Apollo16</td>\n      <td>92.46262</td>\n      <td>17.06352</td>\n      <td>Orion (LM-11)</td>\n      <td>16445</td>\n      <td>15.0</td>\n      <td>Casper (CM-113)</td>\n      <td>5840</td>\n    </tr>\n    <tr>\n      <th>5</th>\n      <td>Apollo17</td>\n      <td>109.44402</td>\n      <td>16.98140</td>\n      <td>Challenger (LM-12)</td>\n      <td>16456</td>\n      <td>11.0</td>\n      <td>America (CM-114)</td>\n      <td>5960</td>\n    </tr>\n  </tbody>\n</table>\n</div>"
          },
          "metadata": {}
        }
      ],
      "execution_count": 32,
      "metadata": {
        "gather": {
          "logged": 1718683926455
        }
      }
    },
    {
      "cell_type": "code",
      "source": [
        "#아폴로 임무별로 명령모듈 중량 차이를 구해서 새로운 컬럼 'CM Mass diff'를 만들어 missions 데이터프레임에 추가한다.\n",
        "missions['CM mass diff'] = missions['CM Mass (kg)'].diff()\n",
        "missions.fillna(value=0, inplace=True)\n",
        "missions"
      ],
      "outputs": [
        {
          "output_type": "execute_result",
          "execution_count": 33,
          "data": {
            "text/plain": "    Mission  Sample weight (kg)  Weight diff   Lunar module (LM)  \\\n0  Apollo11            21.55424      0.00000        Eagle (LM-5)   \n1  Apollo12            34.34238     12.78814     Intrepid (LM-6)   \n2  Apollo14            41.83363      7.49125      Antares (LM-8)   \n3  Apollo15            75.39910     33.56547      Falcon (LM-10)   \n4  Apollo16            92.46262     17.06352       Orion (LM-11)   \n5  Apollo17           109.44402     16.98140  Challenger (LM-12)   \n\n   LM mass (kg)  LM mass diff       Command Module (CM)  CM Mass (kg)  \\\n0         15103           0.0        Columbia (CSM-107]          5560   \n1         15235         132.0  Yankee Clipper (CM-100])          5609   \n2         15264          29.0       Kitty Hawk (CM-110)          5758   \n3         16430        1166.0         Endeavor (CM-112)          5875   \n4         16445          15.0           Casper (CM-113)          5840   \n5         16456          11.0          America (CM-114)          5960   \n\n   CM mass diff  \n0           0.0  \n1          49.0  \n2         149.0  \n3         117.0  \n4         -35.0  \n5         120.0  ",
            "text/html": "<div>\n<style scoped>\n    .dataframe tbody tr th:only-of-type {\n        vertical-align: middle;\n    }\n\n    .dataframe tbody tr th {\n        vertical-align: top;\n    }\n\n    .dataframe thead th {\n        text-align: right;\n    }\n</style>\n<table border=\"1\" class=\"dataframe\">\n  <thead>\n    <tr style=\"text-align: right;\">\n      <th></th>\n      <th>Mission</th>\n      <th>Sample weight (kg)</th>\n      <th>Weight diff</th>\n      <th>Lunar module (LM)</th>\n      <th>LM mass (kg)</th>\n      <th>LM mass diff</th>\n      <th>Command Module (CM)</th>\n      <th>CM Mass (kg)</th>\n      <th>CM mass diff</th>\n    </tr>\n  </thead>\n  <tbody>\n    <tr>\n      <th>0</th>\n      <td>Apollo11</td>\n      <td>21.55424</td>\n      <td>0.00000</td>\n      <td>Eagle (LM-5)</td>\n      <td>15103</td>\n      <td>0.0</td>\n      <td>Columbia (CSM-107]</td>\n      <td>5560</td>\n      <td>0.0</td>\n    </tr>\n    <tr>\n      <th>1</th>\n      <td>Apollo12</td>\n      <td>34.34238</td>\n      <td>12.78814</td>\n      <td>Intrepid (LM-6)</td>\n      <td>15235</td>\n      <td>132.0</td>\n      <td>Yankee Clipper (CM-100])</td>\n      <td>5609</td>\n      <td>49.0</td>\n    </tr>\n    <tr>\n      <th>2</th>\n      <td>Apollo14</td>\n      <td>41.83363</td>\n      <td>7.49125</td>\n      <td>Antares (LM-8)</td>\n      <td>15264</td>\n      <td>29.0</td>\n      <td>Kitty Hawk (CM-110)</td>\n      <td>5758</td>\n      <td>149.0</td>\n    </tr>\n    <tr>\n      <th>3</th>\n      <td>Apollo15</td>\n      <td>75.39910</td>\n      <td>33.56547</td>\n      <td>Falcon (LM-10)</td>\n      <td>16430</td>\n      <td>1166.0</td>\n      <td>Endeavor (CM-112)</td>\n      <td>5875</td>\n      <td>117.0</td>\n    </tr>\n    <tr>\n      <th>4</th>\n      <td>Apollo16</td>\n      <td>92.46262</td>\n      <td>17.06352</td>\n      <td>Orion (LM-11)</td>\n      <td>16445</td>\n      <td>15.0</td>\n      <td>Casper (CM-113)</td>\n      <td>5840</td>\n      <td>-35.0</td>\n    </tr>\n    <tr>\n      <th>5</th>\n      <td>Apollo17</td>\n      <td>109.44402</td>\n      <td>16.98140</td>\n      <td>Challenger (LM-12)</td>\n      <td>16456</td>\n      <td>11.0</td>\n      <td>America (CM-114)</td>\n      <td>5960</td>\n      <td>120.0</td>\n    </tr>\n  </tbody>\n</table>\n</div>"
          },
          "metadata": {}
        }
      ],
      "execution_count": 33,
      "metadata": {
        "gather": {
          "logged": 1718683926662
        }
      }
    },
    {
      "cell_type": "code",
      "source": [
        "# 달 모듈과 명령모듈 중량을 합한 값을 'Total weight (kg)'라는 새로운 컬럼을 만들어 missions 데이터프레임에 추가한다.\n",
        "missions['Total weight (kg)'] = missions['LM mass (kg)'] + missions['CM Mass (kg)']\n",
        "missions"
      ],
      "outputs": [
        {
          "output_type": "execute_result",
          "execution_count": 34,
          "data": {
            "text/plain": "    Mission  Sample weight (kg)  Weight diff   Lunar module (LM)  \\\n0  Apollo11            21.55424      0.00000        Eagle (LM-5)   \n1  Apollo12            34.34238     12.78814     Intrepid (LM-6)   \n2  Apollo14            41.83363      7.49125      Antares (LM-8)   \n3  Apollo15            75.39910     33.56547      Falcon (LM-10)   \n4  Apollo16            92.46262     17.06352       Orion (LM-11)   \n5  Apollo17           109.44402     16.98140  Challenger (LM-12)   \n\n   LM mass (kg)  LM mass diff       Command Module (CM)  CM Mass (kg)  \\\n0         15103           0.0        Columbia (CSM-107]          5560   \n1         15235         132.0  Yankee Clipper (CM-100])          5609   \n2         15264          29.0       Kitty Hawk (CM-110)          5758   \n3         16430        1166.0         Endeavor (CM-112)          5875   \n4         16445          15.0           Casper (CM-113)          5840   \n5         16456          11.0          America (CM-114)          5960   \n\n   CM mass diff  Total weight (kg)  \n0           0.0              20663  \n1          49.0              20844  \n2         149.0              21022  \n3         117.0              22305  \n4         -35.0              22285  \n5         120.0              22416  ",
            "text/html": "<div>\n<style scoped>\n    .dataframe tbody tr th:only-of-type {\n        vertical-align: middle;\n    }\n\n    .dataframe tbody tr th {\n        vertical-align: top;\n    }\n\n    .dataframe thead th {\n        text-align: right;\n    }\n</style>\n<table border=\"1\" class=\"dataframe\">\n  <thead>\n    <tr style=\"text-align: right;\">\n      <th></th>\n      <th>Mission</th>\n      <th>Sample weight (kg)</th>\n      <th>Weight diff</th>\n      <th>Lunar module (LM)</th>\n      <th>LM mass (kg)</th>\n      <th>LM mass diff</th>\n      <th>Command Module (CM)</th>\n      <th>CM Mass (kg)</th>\n      <th>CM mass diff</th>\n      <th>Total weight (kg)</th>\n    </tr>\n  </thead>\n  <tbody>\n    <tr>\n      <th>0</th>\n      <td>Apollo11</td>\n      <td>21.55424</td>\n      <td>0.00000</td>\n      <td>Eagle (LM-5)</td>\n      <td>15103</td>\n      <td>0.0</td>\n      <td>Columbia (CSM-107]</td>\n      <td>5560</td>\n      <td>0.0</td>\n      <td>20663</td>\n    </tr>\n    <tr>\n      <th>1</th>\n      <td>Apollo12</td>\n      <td>34.34238</td>\n      <td>12.78814</td>\n      <td>Intrepid (LM-6)</td>\n      <td>15235</td>\n      <td>132.0</td>\n      <td>Yankee Clipper (CM-100])</td>\n      <td>5609</td>\n      <td>49.0</td>\n      <td>20844</td>\n    </tr>\n    <tr>\n      <th>2</th>\n      <td>Apollo14</td>\n      <td>41.83363</td>\n      <td>7.49125</td>\n      <td>Antares (LM-8)</td>\n      <td>15264</td>\n      <td>29.0</td>\n      <td>Kitty Hawk (CM-110)</td>\n      <td>5758</td>\n      <td>149.0</td>\n      <td>21022</td>\n    </tr>\n    <tr>\n      <th>3</th>\n      <td>Apollo15</td>\n      <td>75.39910</td>\n      <td>33.56547</td>\n      <td>Falcon (LM-10)</td>\n      <td>16430</td>\n      <td>1166.0</td>\n      <td>Endeavor (CM-112)</td>\n      <td>5875</td>\n      <td>117.0</td>\n      <td>22305</td>\n    </tr>\n    <tr>\n      <th>4</th>\n      <td>Apollo16</td>\n      <td>92.46262</td>\n      <td>17.06352</td>\n      <td>Orion (LM-11)</td>\n      <td>16445</td>\n      <td>15.0</td>\n      <td>Casper (CM-113)</td>\n      <td>5840</td>\n      <td>-35.0</td>\n      <td>22285</td>\n    </tr>\n    <tr>\n      <th>5</th>\n      <td>Apollo17</td>\n      <td>109.44402</td>\n      <td>16.98140</td>\n      <td>Challenger (LM-12)</td>\n      <td>16456</td>\n      <td>11.0</td>\n      <td>America (CM-114)</td>\n      <td>5960</td>\n      <td>120.0</td>\n      <td>22416</td>\n    </tr>\n  </tbody>\n</table>\n</div>"
          },
          "metadata": {}
        }
      ],
      "execution_count": 34,
      "metadata": {
        "gather": {
          "logged": 1718683926809
        }
      }
    },
    {
      "cell_type": "code",
      "source": [
        "# 승무원 영역을 나타내는 'Total weight (kg)'의 아폴로 임무별 중량 차이를 구하는 새로운 컬럼 'Total weight diff'를 missions 데이터프레임에 추가한다.\n",
        "missions['Total weight diff'] = missions['Total weight (kg)'].diff()\n",
        "missions.fillna(value=0, inplace=True)\n",
        "missions"
      ],
      "outputs": [
        {
          "output_type": "execute_result",
          "execution_count": 35,
          "data": {
            "text/plain": "    Mission  Sample weight (kg)  Weight diff   Lunar module (LM)  \\\n0  Apollo11            21.55424      0.00000        Eagle (LM-5)   \n1  Apollo12            34.34238     12.78814     Intrepid (LM-6)   \n2  Apollo14            41.83363      7.49125      Antares (LM-8)   \n3  Apollo15            75.39910     33.56547      Falcon (LM-10)   \n4  Apollo16            92.46262     17.06352       Orion (LM-11)   \n5  Apollo17           109.44402     16.98140  Challenger (LM-12)   \n\n   LM mass (kg)  LM mass diff       Command Module (CM)  CM Mass (kg)  \\\n0         15103           0.0        Columbia (CSM-107]          5560   \n1         15235         132.0  Yankee Clipper (CM-100])          5609   \n2         15264          29.0       Kitty Hawk (CM-110)          5758   \n3         16430        1166.0         Endeavor (CM-112)          5875   \n4         16445          15.0           Casper (CM-113)          5840   \n5         16456          11.0          America (CM-114)          5960   \n\n   CM mass diff  Total weight (kg)  Total weight diff  \n0           0.0              20663                0.0  \n1          49.0              20844              181.0  \n2         149.0              21022              178.0  \n3         117.0              22305             1283.0  \n4         -35.0              22285              -20.0  \n5         120.0              22416              131.0  ",
            "text/html": "<div>\n<style scoped>\n    .dataframe tbody tr th:only-of-type {\n        vertical-align: middle;\n    }\n\n    .dataframe tbody tr th {\n        vertical-align: top;\n    }\n\n    .dataframe thead th {\n        text-align: right;\n    }\n</style>\n<table border=\"1\" class=\"dataframe\">\n  <thead>\n    <tr style=\"text-align: right;\">\n      <th></th>\n      <th>Mission</th>\n      <th>Sample weight (kg)</th>\n      <th>Weight diff</th>\n      <th>Lunar module (LM)</th>\n      <th>LM mass (kg)</th>\n      <th>LM mass diff</th>\n      <th>Command Module (CM)</th>\n      <th>CM Mass (kg)</th>\n      <th>CM mass diff</th>\n      <th>Total weight (kg)</th>\n      <th>Total weight diff</th>\n    </tr>\n  </thead>\n  <tbody>\n    <tr>\n      <th>0</th>\n      <td>Apollo11</td>\n      <td>21.55424</td>\n      <td>0.00000</td>\n      <td>Eagle (LM-5)</td>\n      <td>15103</td>\n      <td>0.0</td>\n      <td>Columbia (CSM-107]</td>\n      <td>5560</td>\n      <td>0.0</td>\n      <td>20663</td>\n      <td>0.0</td>\n    </tr>\n    <tr>\n      <th>1</th>\n      <td>Apollo12</td>\n      <td>34.34238</td>\n      <td>12.78814</td>\n      <td>Intrepid (LM-6)</td>\n      <td>15235</td>\n      <td>132.0</td>\n      <td>Yankee Clipper (CM-100])</td>\n      <td>5609</td>\n      <td>49.0</td>\n      <td>20844</td>\n      <td>181.0</td>\n    </tr>\n    <tr>\n      <th>2</th>\n      <td>Apollo14</td>\n      <td>41.83363</td>\n      <td>7.49125</td>\n      <td>Antares (LM-8)</td>\n      <td>15264</td>\n      <td>29.0</td>\n      <td>Kitty Hawk (CM-110)</td>\n      <td>5758</td>\n      <td>149.0</td>\n      <td>21022</td>\n      <td>178.0</td>\n    </tr>\n    <tr>\n      <th>3</th>\n      <td>Apollo15</td>\n      <td>75.39910</td>\n      <td>33.56547</td>\n      <td>Falcon (LM-10)</td>\n      <td>16430</td>\n      <td>1166.0</td>\n      <td>Endeavor (CM-112)</td>\n      <td>5875</td>\n      <td>117.0</td>\n      <td>22305</td>\n      <td>1283.0</td>\n    </tr>\n    <tr>\n      <th>4</th>\n      <td>Apollo16</td>\n      <td>92.46262</td>\n      <td>17.06352</td>\n      <td>Orion (LM-11)</td>\n      <td>16445</td>\n      <td>15.0</td>\n      <td>Casper (CM-113)</td>\n      <td>5840</td>\n      <td>-35.0</td>\n      <td>22285</td>\n      <td>-20.0</td>\n    </tr>\n    <tr>\n      <th>5</th>\n      <td>Apollo17</td>\n      <td>109.44402</td>\n      <td>16.98140</td>\n      <td>Challenger (LM-12)</td>\n      <td>16456</td>\n      <td>11.0</td>\n      <td>America (CM-114)</td>\n      <td>5960</td>\n      <td>120.0</td>\n      <td>22416</td>\n      <td>131.0</td>\n    </tr>\n  </tbody>\n</table>\n</div>"
          },
          "metadata": {}
        }
      ],
      "execution_count": 35,
      "metadata": {
        "gather": {
          "logged": 1718683926958
        }
      }
    },
    {
      "cell_type": "code",
      "source": [
        "# 페이로드에서 승무원 영역이 차지하는 비율 구하기 -> 'Crewed area : Payload'\n",
        "saturnVPayload = 43500\n",
        "missions['Crewed area : Payload'] = missions['Total weight (kg)'] / saturnVPayload\n",
        "missions\n"
      ],
      "outputs": [
        {
          "output_type": "execute_result",
          "execution_count": 36,
          "data": {
            "text/plain": "    Mission  Sample weight (kg)  Weight diff   Lunar module (LM)  \\\n0  Apollo11            21.55424      0.00000        Eagle (LM-5)   \n1  Apollo12            34.34238     12.78814     Intrepid (LM-6)   \n2  Apollo14            41.83363      7.49125      Antares (LM-8)   \n3  Apollo15            75.39910     33.56547      Falcon (LM-10)   \n4  Apollo16            92.46262     17.06352       Orion (LM-11)   \n5  Apollo17           109.44402     16.98140  Challenger (LM-12)   \n\n   LM mass (kg)  LM mass diff       Command Module (CM)  CM Mass (kg)  \\\n0         15103           0.0        Columbia (CSM-107]          5560   \n1         15235         132.0  Yankee Clipper (CM-100])          5609   \n2         15264          29.0       Kitty Hawk (CM-110)          5758   \n3         16430        1166.0         Endeavor (CM-112)          5875   \n4         16445          15.0           Casper (CM-113)          5840   \n5         16456          11.0          America (CM-114)          5960   \n\n   CM mass diff  Total weight (kg)  Total weight diff  Crewed area : Payload  \n0           0.0              20663                0.0               0.475011  \n1          49.0              20844              181.0               0.479172  \n2         149.0              21022              178.0               0.483264  \n3         117.0              22305             1283.0               0.512759  \n4         -35.0              22285              -20.0               0.512299  \n5         120.0              22416              131.0               0.515310  ",
            "text/html": "<div>\n<style scoped>\n    .dataframe tbody tr th:only-of-type {\n        vertical-align: middle;\n    }\n\n    .dataframe tbody tr th {\n        vertical-align: top;\n    }\n\n    .dataframe thead th {\n        text-align: right;\n    }\n</style>\n<table border=\"1\" class=\"dataframe\">\n  <thead>\n    <tr style=\"text-align: right;\">\n      <th></th>\n      <th>Mission</th>\n      <th>Sample weight (kg)</th>\n      <th>Weight diff</th>\n      <th>Lunar module (LM)</th>\n      <th>LM mass (kg)</th>\n      <th>LM mass diff</th>\n      <th>Command Module (CM)</th>\n      <th>CM Mass (kg)</th>\n      <th>CM mass diff</th>\n      <th>Total weight (kg)</th>\n      <th>Total weight diff</th>\n      <th>Crewed area : Payload</th>\n    </tr>\n  </thead>\n  <tbody>\n    <tr>\n      <th>0</th>\n      <td>Apollo11</td>\n      <td>21.55424</td>\n      <td>0.00000</td>\n      <td>Eagle (LM-5)</td>\n      <td>15103</td>\n      <td>0.0</td>\n      <td>Columbia (CSM-107]</td>\n      <td>5560</td>\n      <td>0.0</td>\n      <td>20663</td>\n      <td>0.0</td>\n      <td>0.475011</td>\n    </tr>\n    <tr>\n      <th>1</th>\n      <td>Apollo12</td>\n      <td>34.34238</td>\n      <td>12.78814</td>\n      <td>Intrepid (LM-6)</td>\n      <td>15235</td>\n      <td>132.0</td>\n      <td>Yankee Clipper (CM-100])</td>\n      <td>5609</td>\n      <td>49.0</td>\n      <td>20844</td>\n      <td>181.0</td>\n      <td>0.479172</td>\n    </tr>\n    <tr>\n      <th>2</th>\n      <td>Apollo14</td>\n      <td>41.83363</td>\n      <td>7.49125</td>\n      <td>Antares (LM-8)</td>\n      <td>15264</td>\n      <td>29.0</td>\n      <td>Kitty Hawk (CM-110)</td>\n      <td>5758</td>\n      <td>149.0</td>\n      <td>21022</td>\n      <td>178.0</td>\n      <td>0.483264</td>\n    </tr>\n    <tr>\n      <th>3</th>\n      <td>Apollo15</td>\n      <td>75.39910</td>\n      <td>33.56547</td>\n      <td>Falcon (LM-10)</td>\n      <td>16430</td>\n      <td>1166.0</td>\n      <td>Endeavor (CM-112)</td>\n      <td>5875</td>\n      <td>117.0</td>\n      <td>22305</td>\n      <td>1283.0</td>\n      <td>0.512759</td>\n    </tr>\n    <tr>\n      <th>4</th>\n      <td>Apollo16</td>\n      <td>92.46262</td>\n      <td>17.06352</td>\n      <td>Orion (LM-11)</td>\n      <td>16445</td>\n      <td>15.0</td>\n      <td>Casper (CM-113)</td>\n      <td>5840</td>\n      <td>-35.0</td>\n      <td>22285</td>\n      <td>-20.0</td>\n      <td>0.512299</td>\n    </tr>\n    <tr>\n      <th>5</th>\n      <td>Apollo17</td>\n      <td>109.44402</td>\n      <td>16.98140</td>\n      <td>Challenger (LM-12)</td>\n      <td>16456</td>\n      <td>11.0</td>\n      <td>America (CM-114)</td>\n      <td>5960</td>\n      <td>120.0</td>\n      <td>22416</td>\n      <td>131.0</td>\n      <td>0.515310</td>\n    </tr>\n  </tbody>\n</table>\n</div>"
          },
          "metadata": {}
        }
      ],
      "execution_count": 36,
      "metadata": {
        "gather": {
          "logged": 1718683927168
        }
      }
    },
    {
      "cell_type": "code",
      "source": [
        "# 승무원 영역에서 암석 샘플이 차지하는 비율 구하기 -> 'Sample : Crewed area'\n",
        "missions['Sample : Crewed area'] = missions['Sample weight (kg)'] / missions['Total weight (kg)']\n",
        "missions"
      ],
      "outputs": [
        {
          "output_type": "execute_result",
          "execution_count": 37,
          "data": {
            "text/plain": "    Mission  Sample weight (kg)  Weight diff   Lunar module (LM)  \\\n0  Apollo11            21.55424      0.00000        Eagle (LM-5)   \n1  Apollo12            34.34238     12.78814     Intrepid (LM-6)   \n2  Apollo14            41.83363      7.49125      Antares (LM-8)   \n3  Apollo15            75.39910     33.56547      Falcon (LM-10)   \n4  Apollo16            92.46262     17.06352       Orion (LM-11)   \n5  Apollo17           109.44402     16.98140  Challenger (LM-12)   \n\n   LM mass (kg)  LM mass diff       Command Module (CM)  CM Mass (kg)  \\\n0         15103           0.0        Columbia (CSM-107]          5560   \n1         15235         132.0  Yankee Clipper (CM-100])          5609   \n2         15264          29.0       Kitty Hawk (CM-110)          5758   \n3         16430        1166.0         Endeavor (CM-112)          5875   \n4         16445          15.0           Casper (CM-113)          5840   \n5         16456          11.0          America (CM-114)          5960   \n\n   CM mass diff  Total weight (kg)  Total weight diff  Crewed area : Payload  \\\n0           0.0              20663                0.0               0.475011   \n1          49.0              20844              181.0               0.479172   \n2         149.0              21022              178.0               0.483264   \n3         117.0              22305             1283.0               0.512759   \n4         -35.0              22285              -20.0               0.512299   \n5         120.0              22416              131.0               0.515310   \n\n   Sample : Crewed area  \n0              0.001043  \n1              0.001648  \n2              0.001990  \n3              0.003380  \n4              0.004149  \n5              0.004882  ",
            "text/html": "<div>\n<style scoped>\n    .dataframe tbody tr th:only-of-type {\n        vertical-align: middle;\n    }\n\n    .dataframe tbody tr th {\n        vertical-align: top;\n    }\n\n    .dataframe thead th {\n        text-align: right;\n    }\n</style>\n<table border=\"1\" class=\"dataframe\">\n  <thead>\n    <tr style=\"text-align: right;\">\n      <th></th>\n      <th>Mission</th>\n      <th>Sample weight (kg)</th>\n      <th>Weight diff</th>\n      <th>Lunar module (LM)</th>\n      <th>LM mass (kg)</th>\n      <th>LM mass diff</th>\n      <th>Command Module (CM)</th>\n      <th>CM Mass (kg)</th>\n      <th>CM mass diff</th>\n      <th>Total weight (kg)</th>\n      <th>Total weight diff</th>\n      <th>Crewed area : Payload</th>\n      <th>Sample : Crewed area</th>\n    </tr>\n  </thead>\n  <tbody>\n    <tr>\n      <th>0</th>\n      <td>Apollo11</td>\n      <td>21.55424</td>\n      <td>0.00000</td>\n      <td>Eagle (LM-5)</td>\n      <td>15103</td>\n      <td>0.0</td>\n      <td>Columbia (CSM-107]</td>\n      <td>5560</td>\n      <td>0.0</td>\n      <td>20663</td>\n      <td>0.0</td>\n      <td>0.475011</td>\n      <td>0.001043</td>\n    </tr>\n    <tr>\n      <th>1</th>\n      <td>Apollo12</td>\n      <td>34.34238</td>\n      <td>12.78814</td>\n      <td>Intrepid (LM-6)</td>\n      <td>15235</td>\n      <td>132.0</td>\n      <td>Yankee Clipper (CM-100])</td>\n      <td>5609</td>\n      <td>49.0</td>\n      <td>20844</td>\n      <td>181.0</td>\n      <td>0.479172</td>\n      <td>0.001648</td>\n    </tr>\n    <tr>\n      <th>2</th>\n      <td>Apollo14</td>\n      <td>41.83363</td>\n      <td>7.49125</td>\n      <td>Antares (LM-8)</td>\n      <td>15264</td>\n      <td>29.0</td>\n      <td>Kitty Hawk (CM-110)</td>\n      <td>5758</td>\n      <td>149.0</td>\n      <td>21022</td>\n      <td>178.0</td>\n      <td>0.483264</td>\n      <td>0.001990</td>\n    </tr>\n    <tr>\n      <th>3</th>\n      <td>Apollo15</td>\n      <td>75.39910</td>\n      <td>33.56547</td>\n      <td>Falcon (LM-10)</td>\n      <td>16430</td>\n      <td>1166.0</td>\n      <td>Endeavor (CM-112)</td>\n      <td>5875</td>\n      <td>117.0</td>\n      <td>22305</td>\n      <td>1283.0</td>\n      <td>0.512759</td>\n      <td>0.003380</td>\n    </tr>\n    <tr>\n      <th>4</th>\n      <td>Apollo16</td>\n      <td>92.46262</td>\n      <td>17.06352</td>\n      <td>Orion (LM-11)</td>\n      <td>16445</td>\n      <td>15.0</td>\n      <td>Casper (CM-113)</td>\n      <td>5840</td>\n      <td>-35.0</td>\n      <td>22285</td>\n      <td>-20.0</td>\n      <td>0.512299</td>\n      <td>0.004149</td>\n    </tr>\n    <tr>\n      <th>5</th>\n      <td>Apollo17</td>\n      <td>109.44402</td>\n      <td>16.98140</td>\n      <td>Challenger (LM-12)</td>\n      <td>16456</td>\n      <td>11.0</td>\n      <td>America (CM-114)</td>\n      <td>5960</td>\n      <td>120.0</td>\n      <td>22416</td>\n      <td>131.0</td>\n      <td>0.515310</td>\n      <td>0.004882</td>\n    </tr>\n  </tbody>\n</table>\n</div>"
          },
          "metadata": {}
        }
      ],
      "execution_count": 37,
      "metadata": {
        "gather": {
          "logged": 1718683927317
        }
      }
    },
    {
      "cell_type": "code",
      "source": [
        "# 페이로드에서 샘플이 차지하는 비율 구하기 -> 'Sample : Payload'\n",
        "missions['Sample : Payload'] = missions['Sample weight (kg)'] / saturnVPayload\n",
        "missions"
      ],
      "outputs": [
        {
          "output_type": "execute_result",
          "execution_count": 38,
          "data": {
            "text/plain": "    Mission  Sample weight (kg)  Weight diff   Lunar module (LM)  \\\n0  Apollo11            21.55424      0.00000        Eagle (LM-5)   \n1  Apollo12            34.34238     12.78814     Intrepid (LM-6)   \n2  Apollo14            41.83363      7.49125      Antares (LM-8)   \n3  Apollo15            75.39910     33.56547      Falcon (LM-10)   \n4  Apollo16            92.46262     17.06352       Orion (LM-11)   \n5  Apollo17           109.44402     16.98140  Challenger (LM-12)   \n\n   LM mass (kg)  LM mass diff       Command Module (CM)  CM Mass (kg)  \\\n0         15103           0.0        Columbia (CSM-107]          5560   \n1         15235         132.0  Yankee Clipper (CM-100])          5609   \n2         15264          29.0       Kitty Hawk (CM-110)          5758   \n3         16430        1166.0         Endeavor (CM-112)          5875   \n4         16445          15.0           Casper (CM-113)          5840   \n5         16456          11.0          America (CM-114)          5960   \n\n   CM mass diff  Total weight (kg)  Total weight diff  Crewed area : Payload  \\\n0           0.0              20663                0.0               0.475011   \n1          49.0              20844              181.0               0.479172   \n2         149.0              21022              178.0               0.483264   \n3         117.0              22305             1283.0               0.512759   \n4         -35.0              22285              -20.0               0.512299   \n5         120.0              22416              131.0               0.515310   \n\n   Sample : Crewed area  Sample : Payload  \n0              0.001043          0.000495  \n1              0.001648          0.000789  \n2              0.001990          0.000962  \n3              0.003380          0.001733  \n4              0.004149          0.002126  \n5              0.004882          0.002516  ",
            "text/html": "<div>\n<style scoped>\n    .dataframe tbody tr th:only-of-type {\n        vertical-align: middle;\n    }\n\n    .dataframe tbody tr th {\n        vertical-align: top;\n    }\n\n    .dataframe thead th {\n        text-align: right;\n    }\n</style>\n<table border=\"1\" class=\"dataframe\">\n  <thead>\n    <tr style=\"text-align: right;\">\n      <th></th>\n      <th>Mission</th>\n      <th>Sample weight (kg)</th>\n      <th>Weight diff</th>\n      <th>Lunar module (LM)</th>\n      <th>LM mass (kg)</th>\n      <th>LM mass diff</th>\n      <th>Command Module (CM)</th>\n      <th>CM Mass (kg)</th>\n      <th>CM mass diff</th>\n      <th>Total weight (kg)</th>\n      <th>Total weight diff</th>\n      <th>Crewed area : Payload</th>\n      <th>Sample : Crewed area</th>\n      <th>Sample : Payload</th>\n    </tr>\n  </thead>\n  <tbody>\n    <tr>\n      <th>0</th>\n      <td>Apollo11</td>\n      <td>21.55424</td>\n      <td>0.00000</td>\n      <td>Eagle (LM-5)</td>\n      <td>15103</td>\n      <td>0.0</td>\n      <td>Columbia (CSM-107]</td>\n      <td>5560</td>\n      <td>0.0</td>\n      <td>20663</td>\n      <td>0.0</td>\n      <td>0.475011</td>\n      <td>0.001043</td>\n      <td>0.000495</td>\n    </tr>\n    <tr>\n      <th>1</th>\n      <td>Apollo12</td>\n      <td>34.34238</td>\n      <td>12.78814</td>\n      <td>Intrepid (LM-6)</td>\n      <td>15235</td>\n      <td>132.0</td>\n      <td>Yankee Clipper (CM-100])</td>\n      <td>5609</td>\n      <td>49.0</td>\n      <td>20844</td>\n      <td>181.0</td>\n      <td>0.479172</td>\n      <td>0.001648</td>\n      <td>0.000789</td>\n    </tr>\n    <tr>\n      <th>2</th>\n      <td>Apollo14</td>\n      <td>41.83363</td>\n      <td>7.49125</td>\n      <td>Antares (LM-8)</td>\n      <td>15264</td>\n      <td>29.0</td>\n      <td>Kitty Hawk (CM-110)</td>\n      <td>5758</td>\n      <td>149.0</td>\n      <td>21022</td>\n      <td>178.0</td>\n      <td>0.483264</td>\n      <td>0.001990</td>\n      <td>0.000962</td>\n    </tr>\n    <tr>\n      <th>3</th>\n      <td>Apollo15</td>\n      <td>75.39910</td>\n      <td>33.56547</td>\n      <td>Falcon (LM-10)</td>\n      <td>16430</td>\n      <td>1166.0</td>\n      <td>Endeavor (CM-112)</td>\n      <td>5875</td>\n      <td>117.0</td>\n      <td>22305</td>\n      <td>1283.0</td>\n      <td>0.512759</td>\n      <td>0.003380</td>\n      <td>0.001733</td>\n    </tr>\n    <tr>\n      <th>4</th>\n      <td>Apollo16</td>\n      <td>92.46262</td>\n      <td>17.06352</td>\n      <td>Orion (LM-11)</td>\n      <td>16445</td>\n      <td>15.0</td>\n      <td>Casper (CM-113)</td>\n      <td>5840</td>\n      <td>-35.0</td>\n      <td>22285</td>\n      <td>-20.0</td>\n      <td>0.512299</td>\n      <td>0.004149</td>\n      <td>0.002126</td>\n    </tr>\n    <tr>\n      <th>5</th>\n      <td>Apollo17</td>\n      <td>109.44402</td>\n      <td>16.98140</td>\n      <td>Challenger (LM-12)</td>\n      <td>16456</td>\n      <td>11.0</td>\n      <td>America (CM-114)</td>\n      <td>5960</td>\n      <td>120.0</td>\n      <td>22416</td>\n      <td>131.0</td>\n      <td>0.515310</td>\n      <td>0.004882</td>\n      <td>0.002516</td>\n    </tr>\n  </tbody>\n</table>\n</div>"
          },
          "metadata": {}
        }
      ],
      "execution_count": 38,
      "metadata": {
        "gather": {
          "logged": 1718683927516
        }
      }
    },
    {
      "cell_type": "markdown",
      "source": [
        "## artemis_mission 데이터프레임 만들기"
      ],
      "metadata": {}
    },
    {
      "cell_type": "code",
      "source": [
        "artemis_crewedArea = 26520\n",
        "\n",
        "artemis_dict = {'Mission' : ['artemis1', 'artemis1b', 'artemis2'],\n",
        "                'Total weight (kg)' : [artemis_crewedArea, artemis_crewedArea, artemis_crewedArea],\n",
        "                'Payload (kg)' : [26988, 37965, 42955]\n",
        "               }\n",
        "\n",
        "artemis_mission = pd.DataFrame(artemis_dict)\n",
        "artemis_mission "
      ],
      "outputs": [
        {
          "output_type": "execute_result",
          "execution_count": 39,
          "data": {
            "text/plain": "     Mission  Total weight (kg)  Payload (kg)\n0   artemis1              26520         26988\n1  artemis1b              26520         37965\n2   artemis2              26520         42955",
            "text/html": "<div>\n<style scoped>\n    .dataframe tbody tr th:only-of-type {\n        vertical-align: middle;\n    }\n\n    .dataframe tbody tr th {\n        vertical-align: top;\n    }\n\n    .dataframe thead th {\n        text-align: right;\n    }\n</style>\n<table border=\"1\" class=\"dataframe\">\n  <thead>\n    <tr style=\"text-align: right;\">\n      <th></th>\n      <th>Mission</th>\n      <th>Total weight (kg)</th>\n      <th>Payload (kg)</th>\n    </tr>\n  </thead>\n  <tbody>\n    <tr>\n      <th>0</th>\n      <td>artemis1</td>\n      <td>26520</td>\n      <td>26988</td>\n    </tr>\n    <tr>\n      <th>1</th>\n      <td>artemis1b</td>\n      <td>26520</td>\n      <td>37965</td>\n    </tr>\n    <tr>\n      <th>2</th>\n      <td>artemis2</td>\n      <td>26520</td>\n      <td>42955</td>\n    </tr>\n  </tbody>\n</table>\n</div>"
          },
          "metadata": {}
        }
      ],
      "execution_count": 39,
      "metadata": {
        "gather": {
          "logged": 1718683927721
        }
      }
    },
    {
      "cell_type": "code",
      "source": [
        "# missions 데이터프레임에서 'Crewed area : Payload', 'Sample : Crewed area', 'Sample : payload' 의 평균값을 구한다.\n",
        "crewedArea_payload_ratio = missions['Crewed area : Payload'].mean()\n",
        "print(crewedArea_payload_ratio)\n",
        "\n",
        "sample_crewedArea_ratio = missions['Sample : Crewed area'].mean()\n",
        "print(sample_crewedArea_ratio)\n",
        "\n",
        "sample_payload_ratio = missions['Sample : Payload'].mean()\n",
        "print(sample_payload_ratio)\n"
      ],
      "outputs": [
        {
          "output_type": "stream",
          "name": "stdout",
          "text": "0.4963026819923371\n0.002848764392685611\n0.0014369195019157087\n"
        }
      ],
      "execution_count": 40,
      "metadata": {
        "gather": {
          "logged": 1718683928021
        }
      }
    },
    {
      "cell_type": "code",
      "source": [
        "# missions 데이터프레임에서 'Sample weight (kg)'의 총합을 구한다.\n",
        "total_weight = missions['Sample weight (kg)'].sum()\n",
        "total_weight"
      ],
      "outputs": [
        {
          "output_type": "execute_result",
          "execution_count": 41,
          "data": {
            "text/plain": "375.03598999999997"
          },
          "metadata": {}
        }
      ],
      "execution_count": 41,
      "metadata": {
        "jupyter": {
          "source_hidden": false,
          "outputs_hidden": false
        },
        "nteract": {
          "transient": {
            "deleting": false
          }
        },
        "gather": {
          "logged": 1718683928212
        }
      }
    },
    {
      "cell_type": "code",
      "source": [
        "#artemis_missions 데이터 프레임에 'Sample weight from total (kg)' 컬럼을 추가한다.\n",
        "\n",
        "artemis_mission['Sample weight from total (kg)'] = artemis_mission['Total weight (kg)'] * sample_crewedArea_ratio\n",
        "artemis_mission"
      ],
      "outputs": [
        {
          "output_type": "execute_result",
          "execution_count": 42,
          "data": {
            "text/plain": "     Mission  Total weight (kg)  Payload (kg)  Sample weight from total (kg)\n0   artemis1              26520         26988                      75.549232\n1  artemis1b              26520         37965                      75.549232\n2   artemis2              26520         42955                      75.549232",
            "text/html": "<div>\n<style scoped>\n    .dataframe tbody tr th:only-of-type {\n        vertical-align: middle;\n    }\n\n    .dataframe tbody tr th {\n        vertical-align: top;\n    }\n\n    .dataframe thead th {\n        text-align: right;\n    }\n</style>\n<table border=\"1\" class=\"dataframe\">\n  <thead>\n    <tr style=\"text-align: right;\">\n      <th></th>\n      <th>Mission</th>\n      <th>Total weight (kg)</th>\n      <th>Payload (kg)</th>\n      <th>Sample weight from total (kg)</th>\n    </tr>\n  </thead>\n  <tbody>\n    <tr>\n      <th>0</th>\n      <td>artemis1</td>\n      <td>26520</td>\n      <td>26988</td>\n      <td>75.549232</td>\n    </tr>\n    <tr>\n      <th>1</th>\n      <td>artemis1b</td>\n      <td>26520</td>\n      <td>37965</td>\n      <td>75.549232</td>\n    </tr>\n    <tr>\n      <th>2</th>\n      <td>artemis2</td>\n      <td>26520</td>\n      <td>42955</td>\n      <td>75.549232</td>\n    </tr>\n  </tbody>\n</table>\n</div>"
          },
          "metadata": {}
        }
      ],
      "execution_count": 42,
      "metadata": {
        "jupyter": {
          "source_hidden": false,
          "outputs_hidden": false
        },
        "nteract": {
          "transient": {
            "deleting": false
          }
        },
        "gather": {
          "logged": 1718683928361
        }
      }
    },
    {
      "cell_type": "code",
      "source": [
        "#artemis_mission 데이터프레임에 'Sample weight from payload (kg)' 컬럼을 추가한다.\n",
        "\n",
        "artemis_mission['Sample weight from payload (kg)'] = artemis_mission['Payload (kg)'] * sample_payload_ratio\n",
        "artemis_mission"
      ],
      "outputs": [
        {
          "output_type": "execute_result",
          "execution_count": 43,
          "data": {
            "text/plain": "     Mission  Total weight (kg)  Payload (kg)  Sample weight from total (kg)  \\\n0   artemis1              26520         26988                      75.549232   \n1  artemis1b              26520         37965                      75.549232   \n2   artemis2              26520         42955                      75.549232   \n\n   Sample weight from payload (kg)  \n0                        38.779584  \n1                        54.552649  \n2                        61.722877  ",
            "text/html": "<div>\n<style scoped>\n    .dataframe tbody tr th:only-of-type {\n        vertical-align: middle;\n    }\n\n    .dataframe tbody tr th {\n        vertical-align: top;\n    }\n\n    .dataframe thead th {\n        text-align: right;\n    }\n</style>\n<table border=\"1\" class=\"dataframe\">\n  <thead>\n    <tr style=\"text-align: right;\">\n      <th></th>\n      <th>Mission</th>\n      <th>Total weight (kg)</th>\n      <th>Payload (kg)</th>\n      <th>Sample weight from total (kg)</th>\n      <th>Sample weight from payload (kg)</th>\n    </tr>\n  </thead>\n  <tbody>\n    <tr>\n      <th>0</th>\n      <td>artemis1</td>\n      <td>26520</td>\n      <td>26988</td>\n      <td>75.549232</td>\n      <td>38.779584</td>\n    </tr>\n    <tr>\n      <th>1</th>\n      <td>artemis1b</td>\n      <td>26520</td>\n      <td>37965</td>\n      <td>75.549232</td>\n      <td>54.552649</td>\n    </tr>\n    <tr>\n      <th>2</th>\n      <td>artemis2</td>\n      <td>26520</td>\n      <td>42955</td>\n      <td>75.549232</td>\n      <td>61.722877</td>\n    </tr>\n  </tbody>\n</table>\n</div>"
          },
          "metadata": {}
        }
      ],
      "execution_count": 43,
      "metadata": {
        "jupyter": {
          "source_hidden": false,
          "outputs_hidden": false
        },
        "nteract": {
          "transient": {
            "deleting": false
          }
        },
        "gather": {
          "logged": 1718683928565
        }
      }
    },
    {
      "cell_type": "code",
      "source": [
        "# artemis_mission 데이터프레임에 'Estimated sample weight (kg)' 컬럼을 추가한다.\n",
        "\n",
        "artemis_mission['Estimated sample weight (kg)'] = (artemis_mission['Sample weight from total (kg)'] + artemis_mission['Sample weight from payload (kg)']) / 2\n",
        "artemis_mission"
      ],
      "outputs": [
        {
          "output_type": "execute_result",
          "execution_count": 44,
          "data": {
            "text/plain": "     Mission  Total weight (kg)  Payload (kg)  Sample weight from total (kg)  \\\n0   artemis1              26520         26988                      75.549232   \n1  artemis1b              26520         37965                      75.549232   \n2   artemis2              26520         42955                      75.549232   \n\n   Sample weight from payload (kg)  Estimated sample weight (kg)  \n0                        38.779584                     57.164408  \n1                        54.552649                     65.050940  \n2                        61.722877                     68.636054  ",
            "text/html": "<div>\n<style scoped>\n    .dataframe tbody tr th:only-of-type {\n        vertical-align: middle;\n    }\n\n    .dataframe tbody tr th {\n        vertical-align: top;\n    }\n\n    .dataframe thead th {\n        text-align: right;\n    }\n</style>\n<table border=\"1\" class=\"dataframe\">\n  <thead>\n    <tr style=\"text-align: right;\">\n      <th></th>\n      <th>Mission</th>\n      <th>Total weight (kg)</th>\n      <th>Payload (kg)</th>\n      <th>Sample weight from total (kg)</th>\n      <th>Sample weight from payload (kg)</th>\n      <th>Estimated sample weight (kg)</th>\n    </tr>\n  </thead>\n  <tbody>\n    <tr>\n      <th>0</th>\n      <td>artemis1</td>\n      <td>26520</td>\n      <td>26988</td>\n      <td>75.549232</td>\n      <td>38.779584</td>\n      <td>57.164408</td>\n    </tr>\n    <tr>\n      <th>1</th>\n      <td>artemis1b</td>\n      <td>26520</td>\n      <td>37965</td>\n      <td>75.549232</td>\n      <td>54.552649</td>\n      <td>65.050940</td>\n    </tr>\n    <tr>\n      <th>2</th>\n      <td>artemis2</td>\n      <td>26520</td>\n      <td>42955</td>\n      <td>75.549232</td>\n      <td>61.722877</td>\n      <td>68.636054</td>\n    </tr>\n  </tbody>\n</table>\n</div>"
          },
          "metadata": {}
        }
      ],
      "execution_count": 44,
      "metadata": {
        "jupyter": {
          "source_hidden": false,
          "outputs_hidden": false
        },
        "nteract": {
          "transient": {
            "deleting": false
          }
        },
        "gather": {
          "logged": 1718683928731
        }
      }
    },
    {
      "cell_type": "markdown",
      "source": [
        "##아르테미스 임무에서 가져올 암석 종류 구하기"
      ],
      "metadata": {
        "nteract": {
          "transient": {
            "deleting": false
          }
        }
      }
    },
    {
      "cell_type": "code",
      "source": [
        "rock_samples.head()"
      ],
      "outputs": [
        {
          "output_type": "execute_result",
          "execution_count": 45,
          "data": {
            "text/plain": "      ID   Mission    Type   Subtype  Weight (kg)  Pristine (%)\n0  10001  Apollo11    Soil  Unsieved       0.1258         88.36\n1  10002  Apollo11    Soil  Unsieved       5.6290         93.73\n2  10003  Apollo11  Basalt  Ilmenite       0.2130         65.56\n3  10004  Apollo11    Core  Unsieved       0.0448         71.76\n4  10005  Apollo11    Core  Unsieved       0.0534         40.31",
            "text/html": "<div>\n<style scoped>\n    .dataframe tbody tr th:only-of-type {\n        vertical-align: middle;\n    }\n\n    .dataframe tbody tr th {\n        vertical-align: top;\n    }\n\n    .dataframe thead th {\n        text-align: right;\n    }\n</style>\n<table border=\"1\" class=\"dataframe\">\n  <thead>\n    <tr style=\"text-align: right;\">\n      <th></th>\n      <th>ID</th>\n      <th>Mission</th>\n      <th>Type</th>\n      <th>Subtype</th>\n      <th>Weight (kg)</th>\n      <th>Pristine (%)</th>\n    </tr>\n  </thead>\n  <tbody>\n    <tr>\n      <th>0</th>\n      <td>10001</td>\n      <td>Apollo11</td>\n      <td>Soil</td>\n      <td>Unsieved</td>\n      <td>0.1258</td>\n      <td>88.36</td>\n    </tr>\n    <tr>\n      <th>1</th>\n      <td>10002</td>\n      <td>Apollo11</td>\n      <td>Soil</td>\n      <td>Unsieved</td>\n      <td>5.6290</td>\n      <td>93.73</td>\n    </tr>\n    <tr>\n      <th>2</th>\n      <td>10003</td>\n      <td>Apollo11</td>\n      <td>Basalt</td>\n      <td>Ilmenite</td>\n      <td>0.2130</td>\n      <td>65.56</td>\n    </tr>\n    <tr>\n      <th>3</th>\n      <td>10004</td>\n      <td>Apollo11</td>\n      <td>Core</td>\n      <td>Unsieved</td>\n      <td>0.0448</td>\n      <td>71.76</td>\n    </tr>\n    <tr>\n      <th>4</th>\n      <td>10005</td>\n      <td>Apollo11</td>\n      <td>Core</td>\n      <td>Unsieved</td>\n      <td>0.0534</td>\n      <td>40.31</td>\n    </tr>\n  </tbody>\n</table>\n</div>"
          },
          "metadata": {}
        }
      ],
      "execution_count": 45,
      "metadata": {
        "jupyter": {
          "source_hidden": false,
          "outputs_hidden": false
        },
        "nteract": {
          "transient": {
            "deleting": false
          }
        },
        "gather": {
          "logged": 1718683929003
        }
      }
    },
    {
      "cell_type": "code",
      "source": [
        "# rock_samples 데이터프레임에 암석샘플의 남은 양을 나타내는 'Remaining (kg)' 컬럼을 만든다.\n",
        "\n",
        "rock_samples['Remaining (kg)'] = rock_samples['Weight (kg)'] * rock_samples['Pristine (%)'] * 0.01\n",
        "rock_samples.head()"
      ],
      "outputs": [
        {
          "output_type": "execute_result",
          "execution_count": 46,
          "data": {
            "text/plain": "      ID   Mission    Type   Subtype  Weight (kg)  Pristine (%)  \\\n0  10001  Apollo11    Soil  Unsieved       0.1258         88.36   \n1  10002  Apollo11    Soil  Unsieved       5.6290         93.73   \n2  10003  Apollo11  Basalt  Ilmenite       0.2130         65.56   \n3  10004  Apollo11    Core  Unsieved       0.0448         71.76   \n4  10005  Apollo11    Core  Unsieved       0.0534         40.31   \n\n   Remaining (kg)  \n0        0.111157  \n1        5.276062  \n2        0.139643  \n3        0.032148  \n4        0.021526  ",
            "text/html": "<div>\n<style scoped>\n    .dataframe tbody tr th:only-of-type {\n        vertical-align: middle;\n    }\n\n    .dataframe tbody tr th {\n        vertical-align: top;\n    }\n\n    .dataframe thead th {\n        text-align: right;\n    }\n</style>\n<table border=\"1\" class=\"dataframe\">\n  <thead>\n    <tr style=\"text-align: right;\">\n      <th></th>\n      <th>ID</th>\n      <th>Mission</th>\n      <th>Type</th>\n      <th>Subtype</th>\n      <th>Weight (kg)</th>\n      <th>Pristine (%)</th>\n      <th>Remaining (kg)</th>\n    </tr>\n  </thead>\n  <tbody>\n    <tr>\n      <th>0</th>\n      <td>10001</td>\n      <td>Apollo11</td>\n      <td>Soil</td>\n      <td>Unsieved</td>\n      <td>0.1258</td>\n      <td>88.36</td>\n      <td>0.111157</td>\n    </tr>\n    <tr>\n      <th>1</th>\n      <td>10002</td>\n      <td>Apollo11</td>\n      <td>Soil</td>\n      <td>Unsieved</td>\n      <td>5.6290</td>\n      <td>93.73</td>\n      <td>5.276062</td>\n    </tr>\n    <tr>\n      <th>2</th>\n      <td>10003</td>\n      <td>Apollo11</td>\n      <td>Basalt</td>\n      <td>Ilmenite</td>\n      <td>0.2130</td>\n      <td>65.56</td>\n      <td>0.139643</td>\n    </tr>\n    <tr>\n      <th>3</th>\n      <td>10004</td>\n      <td>Apollo11</td>\n      <td>Core</td>\n      <td>Unsieved</td>\n      <td>0.0448</td>\n      <td>71.76</td>\n      <td>0.032148</td>\n    </tr>\n    <tr>\n      <th>4</th>\n      <td>10005</td>\n      <td>Apollo11</td>\n      <td>Core</td>\n      <td>Unsieved</td>\n      <td>0.0534</td>\n      <td>40.31</td>\n      <td>0.021526</td>\n    </tr>\n  </tbody>\n</table>\n</div>"
          },
          "metadata": {}
        }
      ],
      "execution_count": 46,
      "metadata": {
        "jupyter": {
          "source_hidden": false,
          "outputs_hidden": false
        },
        "nteract": {
          "transient": {
            "deleting": false
          }
        },
        "gather": {
          "logged": 1718683929399
        }
      }
    },
    {
      "cell_type": "code",
      "source": [
        "rock_samples.describe()"
      ],
      "outputs": [
        {
          "output_type": "execute_result",
          "execution_count": 47,
          "data": {
            "text/plain": "                 ID  Weight (kg)  Pristine (%)  Remaining (kg)\ncount   2229.000000  2229.000000   2229.000000     2229.000000\nmean   52058.432032     0.168253     84.512764        0.138103\nstd    26207.651471     0.637286     22.057299        0.525954\nmin    10001.000000     0.000000      0.000000        0.000000\n25%    15437.000000     0.003000     80.010000        0.002432\n50%    65527.000000     0.010200     92.300000        0.008530\n75%    72142.000000     0.093490     98.140000        0.078240\nmax    79537.000000    11.729000    180.000000       11.169527",
            "text/html": "<div>\n<style scoped>\n    .dataframe tbody tr th:only-of-type {\n        vertical-align: middle;\n    }\n\n    .dataframe tbody tr th {\n        vertical-align: top;\n    }\n\n    .dataframe thead th {\n        text-align: right;\n    }\n</style>\n<table border=\"1\" class=\"dataframe\">\n  <thead>\n    <tr style=\"text-align: right;\">\n      <th></th>\n      <th>ID</th>\n      <th>Weight (kg)</th>\n      <th>Pristine (%)</th>\n      <th>Remaining (kg)</th>\n    </tr>\n  </thead>\n  <tbody>\n    <tr>\n      <th>count</th>\n      <td>2229.000000</td>\n      <td>2229.000000</td>\n      <td>2229.000000</td>\n      <td>2229.000000</td>\n    </tr>\n    <tr>\n      <th>mean</th>\n      <td>52058.432032</td>\n      <td>0.168253</td>\n      <td>84.512764</td>\n      <td>0.138103</td>\n    </tr>\n    <tr>\n      <th>std</th>\n      <td>26207.651471</td>\n      <td>0.637286</td>\n      <td>22.057299</td>\n      <td>0.525954</td>\n    </tr>\n    <tr>\n      <th>min</th>\n      <td>10001.000000</td>\n      <td>0.000000</td>\n      <td>0.000000</td>\n      <td>0.000000</td>\n    </tr>\n    <tr>\n      <th>25%</th>\n      <td>15437.000000</td>\n      <td>0.003000</td>\n      <td>80.010000</td>\n      <td>0.002432</td>\n    </tr>\n    <tr>\n      <th>50%</th>\n      <td>65527.000000</td>\n      <td>0.010200</td>\n      <td>92.300000</td>\n      <td>0.008530</td>\n    </tr>\n    <tr>\n      <th>75%</th>\n      <td>72142.000000</td>\n      <td>0.093490</td>\n      <td>98.140000</td>\n      <td>0.078240</td>\n    </tr>\n    <tr>\n      <th>max</th>\n      <td>79537.000000</td>\n      <td>11.729000</td>\n      <td>180.000000</td>\n      <td>11.169527</td>\n    </tr>\n  </tbody>\n</table>\n</div>"
          },
          "metadata": {}
        }
      ],
      "execution_count": 47,
      "metadata": {
        "jupyter": {
          "source_hidden": false,
          "outputs_hidden": false
        },
        "nteract": {
          "transient": {
            "deleting": false
          }
        },
        "gather": {
          "logged": 1718683929880
        }
      }
    },
    {
      "cell_type": "code",
      "source": [
        "# rock_samples['Weight (kg)']의 모든 값이 0.16kg 이상 인지를 알아본다.\n",
        "\n",
        "rock_samples['Weight (kg)'] >= 0.16"
      ],
      "outputs": [
        {
          "output_type": "execute_result",
          "execution_count": 48,
          "data": {
            "text/plain": "0       False\n1        True\n2        True\n3       False\n4       False\n        ...  \n2224    False\n2225    False\n2226    False\n2227    False\n2228    False\nName: Weight (kg), Length: 2229, dtype: bool"
          },
          "metadata": {}
        }
      ],
      "execution_count": 48,
      "metadata": {
        "jupyter": {
          "source_hidden": false,
          "outputs_hidden": false
        },
        "nteract": {
          "transient": {
            "deleting": false
          }
        },
        "gather": {
          "logged": 1718683930026
        }
      }
    },
    {
      "cell_type": "code",
      "source": [
        "(rock_samples['Weight (kg)'] >= 0.16) & (rock_samples['Pristine (%)'] <= 50)"
      ],
      "outputs": [
        {
          "output_type": "execute_result",
          "execution_count": 49,
          "data": {
            "text/plain": "0       False\n1       False\n2       False\n3       False\n4       False\n        ...  \n2224    False\n2225    False\n2226    False\n2227    False\n2228    False\nLength: 2229, dtype: bool"
          },
          "metadata": {}
        }
      ],
      "execution_count": 49,
      "metadata": {
        "jupyter": {
          "source_hidden": false,
          "outputs_hidden": false
        },
        "nteract": {
          "transient": {
            "deleting": false
          }
        },
        "gather": {
          "logged": 1718683930391
        }
      }
    },
    {
      "cell_type": "code",
      "source": [
        "#위의 두 조건을 모두 만족하는 행만 추출해서 low_samples라는 데이터 프레임을 만든다.\n",
        "\n",
        "low_samples = rock_samples.loc[(rock_samples['Weight (kg)'] >= 0.16) & (rock_samples['Pristine (%)'] <= 50)]\n",
        "low_samples.head()\n"
      ],
      "outputs": [
        {
          "output_type": "execute_result",
          "execution_count": 50,
          "data": {
            "text/plain": "       ID   Mission     Type   Subtype  Weight (kg)  Pristine (%)  \\\n11  10017  Apollo11   Basalt  Ilmenite        0.973         43.71   \n14  10020  Apollo11   Basalt  Ilmenite        0.425         27.88   \n15  10021  Apollo11  Breccia  Regolith        0.250         30.21   \n29  10045  Apollo11   Basalt   Olivine        0.185         12.13   \n37  10057  Apollo11   Basalt  Ilmenite        0.919         35.15   \n\n    Remaining (kg)  \n11        0.425298  \n14        0.118490  \n15        0.075525  \n29        0.022441  \n37        0.323028  ",
            "text/html": "<div>\n<style scoped>\n    .dataframe tbody tr th:only-of-type {\n        vertical-align: middle;\n    }\n\n    .dataframe tbody tr th {\n        vertical-align: top;\n    }\n\n    .dataframe thead th {\n        text-align: right;\n    }\n</style>\n<table border=\"1\" class=\"dataframe\">\n  <thead>\n    <tr style=\"text-align: right;\">\n      <th></th>\n      <th>ID</th>\n      <th>Mission</th>\n      <th>Type</th>\n      <th>Subtype</th>\n      <th>Weight (kg)</th>\n      <th>Pristine (%)</th>\n      <th>Remaining (kg)</th>\n    </tr>\n  </thead>\n  <tbody>\n    <tr>\n      <th>11</th>\n      <td>10017</td>\n      <td>Apollo11</td>\n      <td>Basalt</td>\n      <td>Ilmenite</td>\n      <td>0.973</td>\n      <td>43.71</td>\n      <td>0.425298</td>\n    </tr>\n    <tr>\n      <th>14</th>\n      <td>10020</td>\n      <td>Apollo11</td>\n      <td>Basalt</td>\n      <td>Ilmenite</td>\n      <td>0.425</td>\n      <td>27.88</td>\n      <td>0.118490</td>\n    </tr>\n    <tr>\n      <th>15</th>\n      <td>10021</td>\n      <td>Apollo11</td>\n      <td>Breccia</td>\n      <td>Regolith</td>\n      <td>0.250</td>\n      <td>30.21</td>\n      <td>0.075525</td>\n    </tr>\n    <tr>\n      <th>29</th>\n      <td>10045</td>\n      <td>Apollo11</td>\n      <td>Basalt</td>\n      <td>Olivine</td>\n      <td>0.185</td>\n      <td>12.13</td>\n      <td>0.022441</td>\n    </tr>\n    <tr>\n      <th>37</th>\n      <td>10057</td>\n      <td>Apollo11</td>\n      <td>Basalt</td>\n      <td>Ilmenite</td>\n      <td>0.919</td>\n      <td>35.15</td>\n      <td>0.323028</td>\n    </tr>\n  </tbody>\n</table>\n</div>"
          },
          "metadata": {}
        }
      ],
      "execution_count": 50,
      "metadata": {
        "jupyter": {
          "source_hidden": false,
          "outputs_hidden": false
        },
        "nteract": {
          "transient": {
            "deleting": false
          }
        },
        "gather": {
          "logged": 1718683930536
        }
      }
    },
    {
      "cell_type": "code",
      "source": [
        "low_samples.info()"
      ],
      "outputs": [
        {
          "output_type": "stream",
          "name": "stdout",
          "text": "<class 'pandas.core.frame.DataFrame'>\nIndex: 27 entries, 11 to 2183\nData columns (total 7 columns):\n #   Column          Non-Null Count  Dtype  \n---  ------          --------------  -----  \n 0   ID              27 non-null     int64  \n 1   Mission         27 non-null     object \n 2   Type            27 non-null     object \n 3   Subtype         27 non-null     object \n 4   Weight (kg)     27 non-null     float64\n 5   Pristine (%)    27 non-null     float64\n 6   Remaining (kg)  27 non-null     float64\ndtypes: float64(3), int64(1), object(3)\nmemory usage: 1.7+ KB\n"
        }
      ],
      "execution_count": 51,
      "metadata": {
        "jupyter": {
          "source_hidden": false,
          "outputs_hidden": false
        },
        "nteract": {
          "transient": {
            "deleting": false
          }
        },
        "gather": {
          "logged": 1718683930723
        }
      }
    },
    {
      "cell_type": "code",
      "source": [
        "# low_samples 데이터프레임에서 암석유형('Type')별로 개수를 센다.\n",
        "\n",
        "low_samples.groupby('Type')['ID'].count()"
      ],
      "outputs": [
        {
          "output_type": "execute_result",
          "execution_count": 52,
          "data": {
            "text/plain": "Type\nBasalt     14\nBreccia     8\nCore        1\nSoil        4\nName: ID, dtype: int64"
          },
          "metadata": {}
        }
      ],
      "execution_count": 52,
      "metadata": {
        "jupyter": {
          "source_hidden": false,
          "outputs_hidden": false
        },
        "nteract": {
          "transient": {
            "deleting": false
          }
        },
        "gather": {
          "logged": 1718683930863
        }
      }
    },
    {
      "cell_type": "code",
      "source": [
        "#low_samples['Type']의 값이 'Basalt'이거나 'Breccia' 인지를 물어본다. -> isin(리스트)\n",
        "\n",
        "low_samples['Type'].isin(['Basalt', 'Breccia'])"
      ],
      "outputs": [
        {
          "output_type": "execute_result",
          "execution_count": 53,
          "data": {
            "text/plain": "11       True\n14       True\n15       True\n29       True\n37       True\n39       True\n52       True\n59      False\n68       True\n69      False\n72       True\n94      False\n113      True\n118      True\n120      True\n353     False\n354     False\n426      True\n534      True\n570      True\n575      True\n607      True\n718      True\n722      True\n1221     True\n1645     True\n2183     True\nName: Type, dtype: bool"
          },
          "metadata": {}
        }
      ],
      "execution_count": 53,
      "metadata": {
        "jupyter": {
          "source_hidden": false,
          "outputs_hidden": false
        },
        "nteract": {
          "transient": {
            "deleting": false
          }
        },
        "gather": {
          "logged": 1718683931015
        }
      }
    },
    {
      "cell_type": "code",
      "source": [
        "# low_samples['Type'] 의 값이 'Basalt'이거나 'Breccia'인 행만 추출해서 needed_samples 데이터프레임을 만든다.\n",
        "\n",
        "needed_samples = low_samples.loc[low_samples['Type'].isin(['Basalt', 'Breccia'])]\n",
        "needed_samples"
      ],
      "outputs": [
        {
          "output_type": "execute_result",
          "execution_count": 54,
          "data": {
            "text/plain": "         ID   Mission     Type      Subtype  Weight (kg)  Pristine (%)  \\\n11    10017  Apollo11   Basalt     Ilmenite       0.9730         43.71   \n14    10020  Apollo11   Basalt     Ilmenite       0.4250         27.88   \n15    10021  Apollo11  Breccia     Regolith       0.2500         30.21   \n29    10045  Apollo11   Basalt      Olivine       0.1850         12.13   \n37    10057  Apollo11   Basalt     Ilmenite       0.9190         35.15   \n39    10059  Apollo11  Breccia     Regolith       0.1880         36.94   \n52    10072  Apollo11   Basalt     Ilmenite       0.4470         15.22   \n68    12002  Apollo12   Basalt      Olivine       1.5300         49.04   \n72    12006  Apollo12   Basalt      Olivine       0.2064          0.53   \n113   12047  Apollo12   Basalt     Ilmenite       0.1930         33.70   \n118   12053  Apollo12   Basalt    Pigeonite       0.8790         46.43   \n120   12055  Apollo12   Basalt    Pigeonite       0.9120         26.00   \n426   15205  Apollo15  Breccia     Regolith       0.3373         24.70   \n534   15405  Apollo15  Breccia   ImpactMelt       0.5131         35.91   \n570   15475  Apollo15   Basalt    Pigeonite       0.4068         49.60   \n575   15498  Apollo15  Breccia     Regolith       2.3400         34.11   \n607   15555  Apollo15   Basalt      Olivine       9.6140         46.61   \n718   60016  Apollo16  Breccia   Fragmental       4.3070         49.57   \n722   60025  Apollo16  Breccia  Anorthosite       1.8360         43.61   \n1221  66075  Apollo16  Breccia   Fragmental       0.3471         32.97   \n1645  71566  Apollo17   Basalt     Ilmenite       0.4144         45.06   \n2183  79155  Apollo17   Basalt     Ilmenite       0.3188         25.97   \n\n      Remaining (kg)  \n11          0.425298  \n14          0.118490  \n15          0.075525  \n29          0.022441  \n37          0.323028  \n39          0.069447  \n52          0.068033  \n68          0.750312  \n72          0.001094  \n113         0.065041  \n118         0.408120  \n120         0.237120  \n426         0.083313  \n534         0.184254  \n570         0.201773  \n575         0.798174  \n607         4.481085  \n718         2.134980  \n722         0.800680  \n1221        0.114439  \n1645        0.186729  \n2183        0.082792  ",
            "text/html": "<div>\n<style scoped>\n    .dataframe tbody tr th:only-of-type {\n        vertical-align: middle;\n    }\n\n    .dataframe tbody tr th {\n        vertical-align: top;\n    }\n\n    .dataframe thead th {\n        text-align: right;\n    }\n</style>\n<table border=\"1\" class=\"dataframe\">\n  <thead>\n    <tr style=\"text-align: right;\">\n      <th></th>\n      <th>ID</th>\n      <th>Mission</th>\n      <th>Type</th>\n      <th>Subtype</th>\n      <th>Weight (kg)</th>\n      <th>Pristine (%)</th>\n      <th>Remaining (kg)</th>\n    </tr>\n  </thead>\n  <tbody>\n    <tr>\n      <th>11</th>\n      <td>10017</td>\n      <td>Apollo11</td>\n      <td>Basalt</td>\n      <td>Ilmenite</td>\n      <td>0.9730</td>\n      <td>43.71</td>\n      <td>0.425298</td>\n    </tr>\n    <tr>\n      <th>14</th>\n      <td>10020</td>\n      <td>Apollo11</td>\n      <td>Basalt</td>\n      <td>Ilmenite</td>\n      <td>0.4250</td>\n      <td>27.88</td>\n      <td>0.118490</td>\n    </tr>\n    <tr>\n      <th>15</th>\n      <td>10021</td>\n      <td>Apollo11</td>\n      <td>Breccia</td>\n      <td>Regolith</td>\n      <td>0.2500</td>\n      <td>30.21</td>\n      <td>0.075525</td>\n    </tr>\n    <tr>\n      <th>29</th>\n      <td>10045</td>\n      <td>Apollo11</td>\n      <td>Basalt</td>\n      <td>Olivine</td>\n      <td>0.1850</td>\n      <td>12.13</td>\n      <td>0.022441</td>\n    </tr>\n    <tr>\n      <th>37</th>\n      <td>10057</td>\n      <td>Apollo11</td>\n      <td>Basalt</td>\n      <td>Ilmenite</td>\n      <td>0.9190</td>\n      <td>35.15</td>\n      <td>0.323028</td>\n    </tr>\n    <tr>\n      <th>39</th>\n      <td>10059</td>\n      <td>Apollo11</td>\n      <td>Breccia</td>\n      <td>Regolith</td>\n      <td>0.1880</td>\n      <td>36.94</td>\n      <td>0.069447</td>\n    </tr>\n    <tr>\n      <th>52</th>\n      <td>10072</td>\n      <td>Apollo11</td>\n      <td>Basalt</td>\n      <td>Ilmenite</td>\n      <td>0.4470</td>\n      <td>15.22</td>\n      <td>0.068033</td>\n    </tr>\n    <tr>\n      <th>68</th>\n      <td>12002</td>\n      <td>Apollo12</td>\n      <td>Basalt</td>\n      <td>Olivine</td>\n      <td>1.5300</td>\n      <td>49.04</td>\n      <td>0.750312</td>\n    </tr>\n    <tr>\n      <th>72</th>\n      <td>12006</td>\n      <td>Apollo12</td>\n      <td>Basalt</td>\n      <td>Olivine</td>\n      <td>0.2064</td>\n      <td>0.53</td>\n      <td>0.001094</td>\n    </tr>\n    <tr>\n      <th>113</th>\n      <td>12047</td>\n      <td>Apollo12</td>\n      <td>Basalt</td>\n      <td>Ilmenite</td>\n      <td>0.1930</td>\n      <td>33.70</td>\n      <td>0.065041</td>\n    </tr>\n    <tr>\n      <th>118</th>\n      <td>12053</td>\n      <td>Apollo12</td>\n      <td>Basalt</td>\n      <td>Pigeonite</td>\n      <td>0.8790</td>\n      <td>46.43</td>\n      <td>0.408120</td>\n    </tr>\n    <tr>\n      <th>120</th>\n      <td>12055</td>\n      <td>Apollo12</td>\n      <td>Basalt</td>\n      <td>Pigeonite</td>\n      <td>0.9120</td>\n      <td>26.00</td>\n      <td>0.237120</td>\n    </tr>\n    <tr>\n      <th>426</th>\n      <td>15205</td>\n      <td>Apollo15</td>\n      <td>Breccia</td>\n      <td>Regolith</td>\n      <td>0.3373</td>\n      <td>24.70</td>\n      <td>0.083313</td>\n    </tr>\n    <tr>\n      <th>534</th>\n      <td>15405</td>\n      <td>Apollo15</td>\n      <td>Breccia</td>\n      <td>ImpactMelt</td>\n      <td>0.5131</td>\n      <td>35.91</td>\n      <td>0.184254</td>\n    </tr>\n    <tr>\n      <th>570</th>\n      <td>15475</td>\n      <td>Apollo15</td>\n      <td>Basalt</td>\n      <td>Pigeonite</td>\n      <td>0.4068</td>\n      <td>49.60</td>\n      <td>0.201773</td>\n    </tr>\n    <tr>\n      <th>575</th>\n      <td>15498</td>\n      <td>Apollo15</td>\n      <td>Breccia</td>\n      <td>Regolith</td>\n      <td>2.3400</td>\n      <td>34.11</td>\n      <td>0.798174</td>\n    </tr>\n    <tr>\n      <th>607</th>\n      <td>15555</td>\n      <td>Apollo15</td>\n      <td>Basalt</td>\n      <td>Olivine</td>\n      <td>9.6140</td>\n      <td>46.61</td>\n      <td>4.481085</td>\n    </tr>\n    <tr>\n      <th>718</th>\n      <td>60016</td>\n      <td>Apollo16</td>\n      <td>Breccia</td>\n      <td>Fragmental</td>\n      <td>4.3070</td>\n      <td>49.57</td>\n      <td>2.134980</td>\n    </tr>\n    <tr>\n      <th>722</th>\n      <td>60025</td>\n      <td>Apollo16</td>\n      <td>Breccia</td>\n      <td>Anorthosite</td>\n      <td>1.8360</td>\n      <td>43.61</td>\n      <td>0.800680</td>\n    </tr>\n    <tr>\n      <th>1221</th>\n      <td>66075</td>\n      <td>Apollo16</td>\n      <td>Breccia</td>\n      <td>Fragmental</td>\n      <td>0.3471</td>\n      <td>32.97</td>\n      <td>0.114439</td>\n    </tr>\n    <tr>\n      <th>1645</th>\n      <td>71566</td>\n      <td>Apollo17</td>\n      <td>Basalt</td>\n      <td>Ilmenite</td>\n      <td>0.4144</td>\n      <td>45.06</td>\n      <td>0.186729</td>\n    </tr>\n    <tr>\n      <th>2183</th>\n      <td>79155</td>\n      <td>Apollo17</td>\n      <td>Basalt</td>\n      <td>Ilmenite</td>\n      <td>0.3188</td>\n      <td>25.97</td>\n      <td>0.082792</td>\n    </tr>\n  </tbody>\n</table>\n</div>"
          },
          "metadata": {}
        }
      ],
      "execution_count": 54,
      "metadata": {
        "jupyter": {
          "source_hidden": false,
          "outputs_hidden": false
        },
        "nteract": {
          "transient": {
            "deleting": false
          }
        },
        "gather": {
          "logged": 1718683931182
        }
      }
    },
    {
      "cell_type": "code",
      "source": [
        "needed_samples.info()"
      ],
      "outputs": [
        {
          "output_type": "stream",
          "name": "stdout",
          "text": "<class 'pandas.core.frame.DataFrame'>\nIndex: 22 entries, 11 to 2183\nData columns (total 7 columns):\n #   Column          Non-Null Count  Dtype  \n---  ------          --------------  -----  \n 0   ID              22 non-null     int64  \n 1   Mission         22 non-null     object \n 2   Type            22 non-null     object \n 3   Subtype         22 non-null     object \n 4   Weight (kg)     22 non-null     float64\n 5   Pristine (%)    22 non-null     float64\n 6   Remaining (kg)  22 non-null     float64\ndtypes: float64(3), int64(1), object(3)\nmemory usage: 1.4+ KB\n"
        }
      ],
      "execution_count": 55,
      "metadata": {
        "jupyter": {
          "source_hidden": false,
          "outputs_hidden": false
        },
        "nteract": {
          "transient": {
            "deleting": false
          }
        },
        "gather": {
          "logged": 1718683931320
        }
      }
    },
    {
      "cell_type": "code",
      "source": [
        "# needed_samples 데이터프레임에서 'Type'으로 groupby해서 암석 샘플의 총중량의 합을 구한다.abs\n",
        "\n",
        "needed_samples.groupby('Type')['Weight (kg)'].sum()"
      ],
      "outputs": [
        {
          "output_type": "execute_result",
          "execution_count": 56,
          "data": {
            "text/plain": "Type\nBasalt     17.4234\nBreccia    10.1185\nName: Weight (kg), dtype: float64"
          },
          "metadata": {}
        }
      ],
      "execution_count": 56,
      "metadata": {
        "jupyter": {
          "source_hidden": false,
          "outputs_hidden": false
        },
        "nteract": {
          "transient": {
            "deleting": false
          }
        },
        "gather": {
          "logged": 1718683931459
        }
      }
    },
    {
      "cell_type": "code",
      "source": [
        "# rock_samples 데이터프레임에서 'Type'으로 groupby 해서 암석 샘플의 중량의 합을 구한다. \n",
        "#           -> 아폴로 임무에서 처음부터 수집이 안된 암석을 구한다.\n",
        "\n",
        "rock_samples.groupby('Type')['Weight (kg)'].sum()"
      ],
      "outputs": [
        {
          "output_type": "execute_result",
          "execution_count": 57,
          "data": {
            "text/plain": "Type\nBasalt      93.14077\nBreccia    168.88075\nCore        19.93587\nCrustal      4.74469\nSoil        87.58981\nSpecial      0.74410\nName: Weight (kg), dtype: float64"
          },
          "metadata": {}
        }
      ],
      "execution_count": 57,
      "metadata": {
        "jupyter": {
          "source_hidden": false,
          "outputs_hidden": false
        },
        "nteract": {
          "transient": {
            "deleting": false
          }
        },
        "gather": {
          "logged": 1718683931606
        }
      }
    },
    {
      "cell_type": "code",
      "source": [
        "rock_samples['Type'] == 'Crustal'"
      ],
      "outputs": [
        {
          "output_type": "execute_result",
          "execution_count": 58,
          "data": {
            "text/plain": "0       False\n1       False\n2       False\n3       False\n4       False\n        ...  \n2224    False\n2225    False\n2226    False\n2227    False\n2228    False\nName: Type, Length: 2229, dtype: bool"
          },
          "metadata": {}
        }
      ],
      "execution_count": 58,
      "metadata": {
        "jupyter": {
          "source_hidden": false,
          "outputs_hidden": false
        },
        "nteract": {
          "transient": {
            "deleting": false
          }
        },
        "gather": {
          "logged": 1718683931765
        }
      }
    },
    {
      "cell_type": "code",
      "source": [
        "# rock_samples에서 'Type'이 'Crustal'. 인 행만 추출한다.\n",
        "crustal = rock_samples.loc[rock_samples['Type'] == 'Crustal']\n",
        "crustal"
      ],
      "outputs": [
        {
          "output_type": "execute_result",
          "execution_count": 59,
          "data": {
            "text/plain": "         ID   Mission     Type      Subtype  Weight (kg)  Pristine (%)  \\\n497   15361  Apollo15  Crustal  Cataclastic      0.00090         66.56   \n498   15362  Apollo15  Crustal  Cataclastic      0.00420         56.88   \n499   15363  Apollo15  Crustal  Cataclastic      0.00050         71.00   \n540   15415  Apollo15  Crustal  Anorthosite      0.26940         67.07   \n557   15437  Apollo15  Crustal  Anorthosite      0.00100         80.00   \n731   60057  Apollo16  Crustal  Anorthosite      0.00310        100.00   \n733   60059  Apollo16  Crustal  Anorthosite      0.00105        100.00   \n769   60619  Apollo16  Crustal  Anorthosite      0.02800         90.75   \n802   61017  Apollo16  Crustal  Anorthosite      0.00262        100.00   \n831   61226  Apollo16  Crustal  Anorthosite      0.00153        100.00   \n887   61577  Apollo16  Crustal  Anorthosite      0.00021         76.19   \n894   62236  Apollo16  Crustal  Anorthosite      0.05727         76.76   \n895   62237  Apollo16  Crustal  Anorthosite      0.06235         62.81   \n896   62238  Apollo16  Crustal  Anorthosite      0.00157        100.00   \n903   62246  Apollo16  Crustal  Anorthosite      0.00459         95.49   \n1009  64516  Apollo16  Crustal  Anorthosite      0.00293         94.23   \n1012  64519  Apollo16  Crustal  Anorthosite      0.00112         95.55   \n1013  64525  Apollo16  Crustal  Anorthosite      0.00111         86.72   \n1201  65909  Apollo16  Crustal  Anorthosite      0.00202         86.36   \n1203  65916  Apollo16  Crustal  Anorthosite      0.00099         95.98   \n1313  67635  Apollo16  Crustal  Anorthosite      0.00912         87.37   \n1314  67636  Apollo16  Crustal  Anorthosite      0.00323         87.62   \n1315  67637  Apollo16  Crustal  Anorthosite      0.00234         88.68   \n1401  67955  Apollo16  Crustal   Fragmental      0.16260         85.94   \n1721  72415  Apollo17  Crustal  Cataclasite      0.03234         58.89   \n1722  72416  Apollo17  Crustal  Cataclasite      0.01153         64.61   \n1723  72417  Apollo17  Crustal  Cataclasite      0.01132          2.76   \n1724  72418  Apollo17  Crustal  Cataclasite      0.00355         88.25   \n1762  72559  Apollo17  Crustal  Cataclasite      0.02780         95.41   \n1793  73146  Apollo17  Crustal  Cataclasite      0.00301         90.03   \n1957  76235  Apollo17  Crustal  Cataclasite      0.02656         60.36   \n1999  76335  Apollo17  Crustal  Cataclasite      0.50289         97.14   \n2008  76535  Apollo17  Crustal   Troctolite      0.15550         47.89   \n2009  76536  Apollo17  Crustal  Cataclasite      0.01026         93.16   \n2032  77017  Apollo17  Crustal  Cataclasite      1.73000         93.14   \n2037  77077  Apollo17  Crustal  Cataclasite      0.00000         90.64   \n2043  77215  Apollo17  Crustal  Cataclasite      0.84640         93.03   \n2075  78155  Apollo17  Crustal  Cataclasite      0.00000         87.66   \n2086  78235  Apollo17  Crustal       Norite      0.19900         69.76   \n2087  78236  Apollo17  Crustal       Norite      0.00000         87.73   \n2088  78237  Apollo17  Crustal       Norite      0.00000          0.00   \n2089  78238  Apollo17  Crustal       Norite      0.00000         86.03   \n2092  78256  Apollo17  Crustal     Pristine      0.00000          0.00   \n2126  78517  Apollo17  Crustal  Cataclasite      0.00182         82.97   \n2130  78527  Apollo17  Crustal  Cataclasite      0.00516         82.05   \n2189  79215  Apollo17  Crustal  Cataclasite      0.55380         93.33   \n\n      Remaining (kg)  \n497         0.000599  \n498         0.002389  \n499         0.000355  \n540         0.180687  \n557         0.000800  \n731         0.003100  \n733         0.001050  \n769         0.025410  \n802         0.002620  \n831         0.001530  \n887         0.000160  \n894         0.043960  \n895         0.039162  \n896         0.001570  \n903         0.004383  \n1009        0.002761  \n1012        0.001070  \n1013        0.000963  \n1201        0.001744  \n1203        0.000950  \n1313        0.007968  \n1314        0.002830  \n1315        0.002075  \n1401        0.139738  \n1721        0.019045  \n1722        0.007450  \n1723        0.000312  \n1724        0.003133  \n1762        0.026524  \n1793        0.002710  \n1957        0.016032  \n1999        0.488507  \n2008        0.074469  \n2009        0.009558  \n2032        1.611322  \n2037        0.000000  \n2043        0.787406  \n2075        0.000000  \n2086        0.138822  \n2087        0.000000  \n2088        0.000000  \n2089        0.000000  \n2092        0.000000  \n2126        0.001510  \n2130        0.004234  \n2189        0.516862  ",
            "text/html": "<div>\n<style scoped>\n    .dataframe tbody tr th:only-of-type {\n        vertical-align: middle;\n    }\n\n    .dataframe tbody tr th {\n        vertical-align: top;\n    }\n\n    .dataframe thead th {\n        text-align: right;\n    }\n</style>\n<table border=\"1\" class=\"dataframe\">\n  <thead>\n    <tr style=\"text-align: right;\">\n      <th></th>\n      <th>ID</th>\n      <th>Mission</th>\n      <th>Type</th>\n      <th>Subtype</th>\n      <th>Weight (kg)</th>\n      <th>Pristine (%)</th>\n      <th>Remaining (kg)</th>\n    </tr>\n  </thead>\n  <tbody>\n    <tr>\n      <th>497</th>\n      <td>15361</td>\n      <td>Apollo15</td>\n      <td>Crustal</td>\n      <td>Cataclastic</td>\n      <td>0.00090</td>\n      <td>66.56</td>\n      <td>0.000599</td>\n    </tr>\n    <tr>\n      <th>498</th>\n      <td>15362</td>\n      <td>Apollo15</td>\n      <td>Crustal</td>\n      <td>Cataclastic</td>\n      <td>0.00420</td>\n      <td>56.88</td>\n      <td>0.002389</td>\n    </tr>\n    <tr>\n      <th>499</th>\n      <td>15363</td>\n      <td>Apollo15</td>\n      <td>Crustal</td>\n      <td>Cataclastic</td>\n      <td>0.00050</td>\n      <td>71.00</td>\n      <td>0.000355</td>\n    </tr>\n    <tr>\n      <th>540</th>\n      <td>15415</td>\n      <td>Apollo15</td>\n      <td>Crustal</td>\n      <td>Anorthosite</td>\n      <td>0.26940</td>\n      <td>67.07</td>\n      <td>0.180687</td>\n    </tr>\n    <tr>\n      <th>557</th>\n      <td>15437</td>\n      <td>Apollo15</td>\n      <td>Crustal</td>\n      <td>Anorthosite</td>\n      <td>0.00100</td>\n      <td>80.00</td>\n      <td>0.000800</td>\n    </tr>\n    <tr>\n      <th>731</th>\n      <td>60057</td>\n      <td>Apollo16</td>\n      <td>Crustal</td>\n      <td>Anorthosite</td>\n      <td>0.00310</td>\n      <td>100.00</td>\n      <td>0.003100</td>\n    </tr>\n    <tr>\n      <th>733</th>\n      <td>60059</td>\n      <td>Apollo16</td>\n      <td>Crustal</td>\n      <td>Anorthosite</td>\n      <td>0.00105</td>\n      <td>100.00</td>\n      <td>0.001050</td>\n    </tr>\n    <tr>\n      <th>769</th>\n      <td>60619</td>\n      <td>Apollo16</td>\n      <td>Crustal</td>\n      <td>Anorthosite</td>\n      <td>0.02800</td>\n      <td>90.75</td>\n      <td>0.025410</td>\n    </tr>\n    <tr>\n      <th>802</th>\n      <td>61017</td>\n      <td>Apollo16</td>\n      <td>Crustal</td>\n      <td>Anorthosite</td>\n      <td>0.00262</td>\n      <td>100.00</td>\n      <td>0.002620</td>\n    </tr>\n    <tr>\n      <th>831</th>\n      <td>61226</td>\n      <td>Apollo16</td>\n      <td>Crustal</td>\n      <td>Anorthosite</td>\n      <td>0.00153</td>\n      <td>100.00</td>\n      <td>0.001530</td>\n    </tr>\n    <tr>\n      <th>887</th>\n      <td>61577</td>\n      <td>Apollo16</td>\n      <td>Crustal</td>\n      <td>Anorthosite</td>\n      <td>0.00021</td>\n      <td>76.19</td>\n      <td>0.000160</td>\n    </tr>\n    <tr>\n      <th>894</th>\n      <td>62236</td>\n      <td>Apollo16</td>\n      <td>Crustal</td>\n      <td>Anorthosite</td>\n      <td>0.05727</td>\n      <td>76.76</td>\n      <td>0.043960</td>\n    </tr>\n    <tr>\n      <th>895</th>\n      <td>62237</td>\n      <td>Apollo16</td>\n      <td>Crustal</td>\n      <td>Anorthosite</td>\n      <td>0.06235</td>\n      <td>62.81</td>\n      <td>0.039162</td>\n    </tr>\n    <tr>\n      <th>896</th>\n      <td>62238</td>\n      <td>Apollo16</td>\n      <td>Crustal</td>\n      <td>Anorthosite</td>\n      <td>0.00157</td>\n      <td>100.00</td>\n      <td>0.001570</td>\n    </tr>\n    <tr>\n      <th>903</th>\n      <td>62246</td>\n      <td>Apollo16</td>\n      <td>Crustal</td>\n      <td>Anorthosite</td>\n      <td>0.00459</td>\n      <td>95.49</td>\n      <td>0.004383</td>\n    </tr>\n    <tr>\n      <th>1009</th>\n      <td>64516</td>\n      <td>Apollo16</td>\n      <td>Crustal</td>\n      <td>Anorthosite</td>\n      <td>0.00293</td>\n      <td>94.23</td>\n      <td>0.002761</td>\n    </tr>\n    <tr>\n      <th>1012</th>\n      <td>64519</td>\n      <td>Apollo16</td>\n      <td>Crustal</td>\n      <td>Anorthosite</td>\n      <td>0.00112</td>\n      <td>95.55</td>\n      <td>0.001070</td>\n    </tr>\n    <tr>\n      <th>1013</th>\n      <td>64525</td>\n      <td>Apollo16</td>\n      <td>Crustal</td>\n      <td>Anorthosite</td>\n      <td>0.00111</td>\n      <td>86.72</td>\n      <td>0.000963</td>\n    </tr>\n    <tr>\n      <th>1201</th>\n      <td>65909</td>\n      <td>Apollo16</td>\n      <td>Crustal</td>\n      <td>Anorthosite</td>\n      <td>0.00202</td>\n      <td>86.36</td>\n      <td>0.001744</td>\n    </tr>\n    <tr>\n      <th>1203</th>\n      <td>65916</td>\n      <td>Apollo16</td>\n      <td>Crustal</td>\n      <td>Anorthosite</td>\n      <td>0.00099</td>\n      <td>95.98</td>\n      <td>0.000950</td>\n    </tr>\n    <tr>\n      <th>1313</th>\n      <td>67635</td>\n      <td>Apollo16</td>\n      <td>Crustal</td>\n      <td>Anorthosite</td>\n      <td>0.00912</td>\n      <td>87.37</td>\n      <td>0.007968</td>\n    </tr>\n    <tr>\n      <th>1314</th>\n      <td>67636</td>\n      <td>Apollo16</td>\n      <td>Crustal</td>\n      <td>Anorthosite</td>\n      <td>0.00323</td>\n      <td>87.62</td>\n      <td>0.002830</td>\n    </tr>\n    <tr>\n      <th>1315</th>\n      <td>67637</td>\n      <td>Apollo16</td>\n      <td>Crustal</td>\n      <td>Anorthosite</td>\n      <td>0.00234</td>\n      <td>88.68</td>\n      <td>0.002075</td>\n    </tr>\n    <tr>\n      <th>1401</th>\n      <td>67955</td>\n      <td>Apollo16</td>\n      <td>Crustal</td>\n      <td>Fragmental</td>\n      <td>0.16260</td>\n      <td>85.94</td>\n      <td>0.139738</td>\n    </tr>\n    <tr>\n      <th>1721</th>\n      <td>72415</td>\n      <td>Apollo17</td>\n      <td>Crustal</td>\n      <td>Cataclasite</td>\n      <td>0.03234</td>\n      <td>58.89</td>\n      <td>0.019045</td>\n    </tr>\n    <tr>\n      <th>1722</th>\n      <td>72416</td>\n      <td>Apollo17</td>\n      <td>Crustal</td>\n      <td>Cataclasite</td>\n      <td>0.01153</td>\n      <td>64.61</td>\n      <td>0.007450</td>\n    </tr>\n    <tr>\n      <th>1723</th>\n      <td>72417</td>\n      <td>Apollo17</td>\n      <td>Crustal</td>\n      <td>Cataclasite</td>\n      <td>0.01132</td>\n      <td>2.76</td>\n      <td>0.000312</td>\n    </tr>\n    <tr>\n      <th>1724</th>\n      <td>72418</td>\n      <td>Apollo17</td>\n      <td>Crustal</td>\n      <td>Cataclasite</td>\n      <td>0.00355</td>\n      <td>88.25</td>\n      <td>0.003133</td>\n    </tr>\n    <tr>\n      <th>1762</th>\n      <td>72559</td>\n      <td>Apollo17</td>\n      <td>Crustal</td>\n      <td>Cataclasite</td>\n      <td>0.02780</td>\n      <td>95.41</td>\n      <td>0.026524</td>\n    </tr>\n    <tr>\n      <th>1793</th>\n      <td>73146</td>\n      <td>Apollo17</td>\n      <td>Crustal</td>\n      <td>Cataclasite</td>\n      <td>0.00301</td>\n      <td>90.03</td>\n      <td>0.002710</td>\n    </tr>\n    <tr>\n      <th>1957</th>\n      <td>76235</td>\n      <td>Apollo17</td>\n      <td>Crustal</td>\n      <td>Cataclasite</td>\n      <td>0.02656</td>\n      <td>60.36</td>\n      <td>0.016032</td>\n    </tr>\n    <tr>\n      <th>1999</th>\n      <td>76335</td>\n      <td>Apollo17</td>\n      <td>Crustal</td>\n      <td>Cataclasite</td>\n      <td>0.50289</td>\n      <td>97.14</td>\n      <td>0.488507</td>\n    </tr>\n    <tr>\n      <th>2008</th>\n      <td>76535</td>\n      <td>Apollo17</td>\n      <td>Crustal</td>\n      <td>Troctolite</td>\n      <td>0.15550</td>\n      <td>47.89</td>\n      <td>0.074469</td>\n    </tr>\n    <tr>\n      <th>2009</th>\n      <td>76536</td>\n      <td>Apollo17</td>\n      <td>Crustal</td>\n      <td>Cataclasite</td>\n      <td>0.01026</td>\n      <td>93.16</td>\n      <td>0.009558</td>\n    </tr>\n    <tr>\n      <th>2032</th>\n      <td>77017</td>\n      <td>Apollo17</td>\n      <td>Crustal</td>\n      <td>Cataclasite</td>\n      <td>1.73000</td>\n      <td>93.14</td>\n      <td>1.611322</td>\n    </tr>\n    <tr>\n      <th>2037</th>\n      <td>77077</td>\n      <td>Apollo17</td>\n      <td>Crustal</td>\n      <td>Cataclasite</td>\n      <td>0.00000</td>\n      <td>90.64</td>\n      <td>0.000000</td>\n    </tr>\n    <tr>\n      <th>2043</th>\n      <td>77215</td>\n      <td>Apollo17</td>\n      <td>Crustal</td>\n      <td>Cataclasite</td>\n      <td>0.84640</td>\n      <td>93.03</td>\n      <td>0.787406</td>\n    </tr>\n    <tr>\n      <th>2075</th>\n      <td>78155</td>\n      <td>Apollo17</td>\n      <td>Crustal</td>\n      <td>Cataclasite</td>\n      <td>0.00000</td>\n      <td>87.66</td>\n      <td>0.000000</td>\n    </tr>\n    <tr>\n      <th>2086</th>\n      <td>78235</td>\n      <td>Apollo17</td>\n      <td>Crustal</td>\n      <td>Norite</td>\n      <td>0.19900</td>\n      <td>69.76</td>\n      <td>0.138822</td>\n    </tr>\n    <tr>\n      <th>2087</th>\n      <td>78236</td>\n      <td>Apollo17</td>\n      <td>Crustal</td>\n      <td>Norite</td>\n      <td>0.00000</td>\n      <td>87.73</td>\n      <td>0.000000</td>\n    </tr>\n    <tr>\n      <th>2088</th>\n      <td>78237</td>\n      <td>Apollo17</td>\n      <td>Crustal</td>\n      <td>Norite</td>\n      <td>0.00000</td>\n      <td>0.00</td>\n      <td>0.000000</td>\n    </tr>\n    <tr>\n      <th>2089</th>\n      <td>78238</td>\n      <td>Apollo17</td>\n      <td>Crustal</td>\n      <td>Norite</td>\n      <td>0.00000</td>\n      <td>86.03</td>\n      <td>0.000000</td>\n    </tr>\n    <tr>\n      <th>2092</th>\n      <td>78256</td>\n      <td>Apollo17</td>\n      <td>Crustal</td>\n      <td>Pristine</td>\n      <td>0.00000</td>\n      <td>0.00</td>\n      <td>0.000000</td>\n    </tr>\n    <tr>\n      <th>2126</th>\n      <td>78517</td>\n      <td>Apollo17</td>\n      <td>Crustal</td>\n      <td>Cataclasite</td>\n      <td>0.00182</td>\n      <td>82.97</td>\n      <td>0.001510</td>\n    </tr>\n    <tr>\n      <th>2130</th>\n      <td>78527</td>\n      <td>Apollo17</td>\n      <td>Crustal</td>\n      <td>Cataclasite</td>\n      <td>0.00516</td>\n      <td>82.05</td>\n      <td>0.004234</td>\n    </tr>\n    <tr>\n      <th>2189</th>\n      <td>79215</td>\n      <td>Apollo17</td>\n      <td>Crustal</td>\n      <td>Cataclasite</td>\n      <td>0.55380</td>\n      <td>93.33</td>\n      <td>0.516862</td>\n    </tr>\n  </tbody>\n</table>\n</div>"
          },
          "metadata": {}
        }
      ],
      "execution_count": 59,
      "metadata": {
        "jupyter": {
          "source_hidden": false,
          "outputs_hidden": false
        },
        "nteract": {
          "transient": {
            "deleting": false
          }
        },
        "gather": {
          "logged": 1718683931927
        }
      }
    },
    {
      "cell_type": "code",
      "source": [
        "# needed_samples에 crustal을 추가한다.\n",
        "\n",
        "needed_samples = pd.concat([needed_samples, crustal])\n",
        "needed_samples"
      ],
      "outputs": [
        {
          "output_type": "execute_result",
          "execution_count": 60,
          "data": {
            "text/plain": "         ID   Mission     Type      Subtype  Weight (kg)  Pristine (%)  \\\n11    10017  Apollo11   Basalt     Ilmenite      0.97300         43.71   \n14    10020  Apollo11   Basalt     Ilmenite      0.42500         27.88   \n15    10021  Apollo11  Breccia     Regolith      0.25000         30.21   \n29    10045  Apollo11   Basalt      Olivine      0.18500         12.13   \n37    10057  Apollo11   Basalt     Ilmenite      0.91900         35.15   \n...     ...       ...      ...          ...          ...           ...   \n2089  78238  Apollo17  Crustal       Norite      0.00000         86.03   \n2092  78256  Apollo17  Crustal     Pristine      0.00000          0.00   \n2126  78517  Apollo17  Crustal  Cataclasite      0.00182         82.97   \n2130  78527  Apollo17  Crustal  Cataclasite      0.00516         82.05   \n2189  79215  Apollo17  Crustal  Cataclasite      0.55380         93.33   \n\n      Remaining (kg)  \n11          0.425298  \n14          0.118490  \n15          0.075525  \n29          0.022441  \n37          0.323028  \n...              ...  \n2089        0.000000  \n2092        0.000000  \n2126        0.001510  \n2130        0.004234  \n2189        0.516862  \n\n[68 rows x 7 columns]",
            "text/html": "<div>\n<style scoped>\n    .dataframe tbody tr th:only-of-type {\n        vertical-align: middle;\n    }\n\n    .dataframe tbody tr th {\n        vertical-align: top;\n    }\n\n    .dataframe thead th {\n        text-align: right;\n    }\n</style>\n<table border=\"1\" class=\"dataframe\">\n  <thead>\n    <tr style=\"text-align: right;\">\n      <th></th>\n      <th>ID</th>\n      <th>Mission</th>\n      <th>Type</th>\n      <th>Subtype</th>\n      <th>Weight (kg)</th>\n      <th>Pristine (%)</th>\n      <th>Remaining (kg)</th>\n    </tr>\n  </thead>\n  <tbody>\n    <tr>\n      <th>11</th>\n      <td>10017</td>\n      <td>Apollo11</td>\n      <td>Basalt</td>\n      <td>Ilmenite</td>\n      <td>0.97300</td>\n      <td>43.71</td>\n      <td>0.425298</td>\n    </tr>\n    <tr>\n      <th>14</th>\n      <td>10020</td>\n      <td>Apollo11</td>\n      <td>Basalt</td>\n      <td>Ilmenite</td>\n      <td>0.42500</td>\n      <td>27.88</td>\n      <td>0.118490</td>\n    </tr>\n    <tr>\n      <th>15</th>\n      <td>10021</td>\n      <td>Apollo11</td>\n      <td>Breccia</td>\n      <td>Regolith</td>\n      <td>0.25000</td>\n      <td>30.21</td>\n      <td>0.075525</td>\n    </tr>\n    <tr>\n      <th>29</th>\n      <td>10045</td>\n      <td>Apollo11</td>\n      <td>Basalt</td>\n      <td>Olivine</td>\n      <td>0.18500</td>\n      <td>12.13</td>\n      <td>0.022441</td>\n    </tr>\n    <tr>\n      <th>37</th>\n      <td>10057</td>\n      <td>Apollo11</td>\n      <td>Basalt</td>\n      <td>Ilmenite</td>\n      <td>0.91900</td>\n      <td>35.15</td>\n      <td>0.323028</td>\n    </tr>\n    <tr>\n      <th>...</th>\n      <td>...</td>\n      <td>...</td>\n      <td>...</td>\n      <td>...</td>\n      <td>...</td>\n      <td>...</td>\n      <td>...</td>\n    </tr>\n    <tr>\n      <th>2089</th>\n      <td>78238</td>\n      <td>Apollo17</td>\n      <td>Crustal</td>\n      <td>Norite</td>\n      <td>0.00000</td>\n      <td>86.03</td>\n      <td>0.000000</td>\n    </tr>\n    <tr>\n      <th>2092</th>\n      <td>78256</td>\n      <td>Apollo17</td>\n      <td>Crustal</td>\n      <td>Pristine</td>\n      <td>0.00000</td>\n      <td>0.00</td>\n      <td>0.000000</td>\n    </tr>\n    <tr>\n      <th>2126</th>\n      <td>78517</td>\n      <td>Apollo17</td>\n      <td>Crustal</td>\n      <td>Cataclasite</td>\n      <td>0.00182</td>\n      <td>82.97</td>\n      <td>0.001510</td>\n    </tr>\n    <tr>\n      <th>2130</th>\n      <td>78527</td>\n      <td>Apollo17</td>\n      <td>Crustal</td>\n      <td>Cataclasite</td>\n      <td>0.00516</td>\n      <td>82.05</td>\n      <td>0.004234</td>\n    </tr>\n    <tr>\n      <th>2189</th>\n      <td>79215</td>\n      <td>Apollo17</td>\n      <td>Crustal</td>\n      <td>Cataclasite</td>\n      <td>0.55380</td>\n      <td>93.33</td>\n      <td>0.516862</td>\n    </tr>\n  </tbody>\n</table>\n<p>68 rows × 7 columns</p>\n</div>"
          },
          "metadata": {}
        }
      ],
      "execution_count": 60,
      "metadata": {
        "jupyter": {
          "source_hidden": false,
          "outputs_hidden": false
        },
        "nteract": {
          "transient": {
            "deleting": false
          }
        },
        "gather": {
          "logged": 1718683932081
        }
      }
    },
    {
      "cell_type": "code",
      "source": [
        "needed_samples.info()"
      ],
      "outputs": [
        {
          "output_type": "stream",
          "name": "stdout",
          "text": "<class 'pandas.core.frame.DataFrame'>\nIndex: 68 entries, 11 to 2189\nData columns (total 7 columns):\n #   Column          Non-Null Count  Dtype  \n---  ------          --------------  -----  \n 0   ID              68 non-null     int64  \n 1   Mission         68 non-null     object \n 2   Type            68 non-null     object \n 3   Subtype         68 non-null     object \n 4   Weight (kg)     68 non-null     float64\n 5   Pristine (%)    68 non-null     float64\n 6   Remaining (kg)  68 non-null     float64\ndtypes: float64(3), int64(1), object(3)\nmemory usage: 4.2+ KB\n"
        }
      ],
      "execution_count": 61,
      "metadata": {
        "jupyter": {
          "source_hidden": false,
          "outputs_hidden": false
        },
        "nteract": {
          "transient": {
            "deleting": false
          }
        },
        "gather": {
          "logged": 1718683932244
        }
      }
    },
    {
      "cell_type": "code",
      "source": [
        "needed_samples.Type.unique()"
      ],
      "outputs": [
        {
          "output_type": "execute_result",
          "execution_count": 62,
          "data": {
            "text/plain": "array(['Basalt', 'Breccia', 'Crustal'], dtype=object)"
          },
          "metadata": {}
        }
      ],
      "execution_count": 62,
      "metadata": {
        "jupyter": {
          "source_hidden": false,
          "outputs_hidden": false
        },
        "nteract": {
          "transient": {
            "deleting": false
          }
        },
        "gather": {
          "logged": 1718683955389
        }
      }
    },
    {
      "cell_type": "code",
      "source": [
        "needed_samples['Type'].unique()"
      ],
      "outputs": [
        {
          "output_type": "execute_result",
          "execution_count": 63,
          "data": {
            "text/plain": "array(['Basalt', 'Breccia', 'Crustal'], dtype=object)"
          },
          "metadata": {}
        }
      ],
      "execution_count": 63,
      "metadata": {
        "jupyter": {
          "source_hidden": false,
          "outputs_hidden": false
        },
        "nteract": {
          "transient": {
            "deleting": false
          }
        },
        "gather": {
          "logged": 1718683995393
        }
      }
    },
    {
      "cell_type": "markdown",
      "source": [
        "## needed samples overview 만들기"
      ],
      "metadata": {
        "nteract": {
          "transient": {
            "deleting": false
          }
        }
      }
    },
    {
      "cell_type": "code",
      "source": [
        "## 아르테미스 임무에 전달할 최종 데이터프레임 needed_samples_overview 만든다.\n",
        "needed_samples_overview = pd.DataFrame()\n",
        "needed_samples_overview"
      ],
      "outputs": [
        {
          "output_type": "execute_result",
          "execution_count": 64,
          "data": {
            "text/plain": "Empty DataFrame\nColumns: []\nIndex: []",
            "text/html": "<div>\n<style scoped>\n    .dataframe tbody tr th:only-of-type {\n        vertical-align: middle;\n    }\n\n    .dataframe tbody tr th {\n        vertical-align: top;\n    }\n\n    .dataframe thead th {\n        text-align: right;\n    }\n</style>\n<table border=\"1\" class=\"dataframe\">\n  <thead>\n    <tr style=\"text-align: right;\">\n      <th></th>\n    </tr>\n  </thead>\n  <tbody>\n  </tbody>\n</table>\n</div>"
          },
          "metadata": {}
        }
      ],
      "execution_count": 64,
      "metadata": {
        "jupyter": {
          "source_hidden": false,
          "outputs_hidden": false
        },
        "nteract": {
          "transient": {
            "deleting": false
          }
        },
        "gather": {
          "logged": 1718685037125
        }
      }
    },
    {
      "cell_type": "code",
      "source": [
        "# needed samples 데이터프레임에서 중복되지 않은 암석유형을 추출한다.\n",
        "needed_samples_overview['Type'] = needed_samples.Type.unique()\n",
        "needed_samples_overview"
      ],
      "outputs": [
        {
          "output_type": "execute_result",
          "execution_count": 66,
          "data": {
            "text/plain": "      Type\n0   Basalt\n1  Breccia\n2  Crustal",
            "text/html": "<div>\n<style scoped>\n    .dataframe tbody tr th:only-of-type {\n        vertical-align: middle;\n    }\n\n    .dataframe tbody tr th {\n        vertical-align: top;\n    }\n\n    .dataframe thead th {\n        text-align: right;\n    }\n</style>\n<table border=\"1\" class=\"dataframe\">\n  <thead>\n    <tr style=\"text-align: right;\">\n      <th></th>\n      <th>Type</th>\n    </tr>\n  </thead>\n  <tbody>\n    <tr>\n      <th>0</th>\n      <td>Basalt</td>\n    </tr>\n    <tr>\n      <th>1</th>\n      <td>Breccia</td>\n    </tr>\n    <tr>\n      <th>2</th>\n      <td>Crustal</td>\n    </tr>\n  </tbody>\n</table>\n</div>"
          },
          "metadata": {}
        }
      ],
      "execution_count": 66,
      "metadata": {
        "jupyter": {
          "source_hidden": false,
          "outputs_hidden": false
        },
        "nteract": {
          "transient": {
            "deleting": false
          }
        },
        "gather": {
          "logged": 1718685109777
        }
      }
    },
    {
      "cell_type": "code",
      "source": [
        "# needed_samples 데이터프레임에서 암석유형별('Type') 중량 합을 구한다.\n",
        "\n",
        "needed_samples.groupby('Type')['Weight (kg)'].sum()"
      ],
      "outputs": [
        {
          "output_type": "execute_result",
          "execution_count": 67,
          "data": {
            "text/plain": "Type\nBasalt     17.42340\nBreccia    10.11850\nCrustal     4.74469\nName: Weight (kg), dtype: float64"
          },
          "metadata": {}
        }
      ],
      "execution_count": 67,
      "metadata": {
        "jupyter": {
          "source_hidden": false,
          "outputs_hidden": false
        },
        "nteract": {
          "transient": {
            "deleting": false
          }
        },
        "gather": {
          "logged": 1718685228127
        }
      }
    },
    {
      "cell_type": "code",
      "source": [
        "needed_sample_weight = needed_samples.groupby('Type')['Weight (kg)'].sum().reset_index()\n",
        "needed_sample_weight"
      ],
      "outputs": [
        {
          "output_type": "execute_result",
          "execution_count": 69,
          "data": {
            "text/plain": "      Type  Weight (kg)\n0   Basalt     17.42340\n1  Breccia     10.11850\n2  Crustal      4.74469",
            "text/html": "<div>\n<style scoped>\n    .dataframe tbody tr th:only-of-type {\n        vertical-align: middle;\n    }\n\n    .dataframe tbody tr th {\n        vertical-align: top;\n    }\n\n    .dataframe thead th {\n        text-align: right;\n    }\n</style>\n<table border=\"1\" class=\"dataframe\">\n  <thead>\n    <tr style=\"text-align: right;\">\n      <th></th>\n      <th>Type</th>\n      <th>Weight (kg)</th>\n    </tr>\n  </thead>\n  <tbody>\n    <tr>\n      <th>0</th>\n      <td>Basalt</td>\n      <td>17.42340</td>\n    </tr>\n    <tr>\n      <th>1</th>\n      <td>Breccia</td>\n      <td>10.11850</td>\n    </tr>\n    <tr>\n      <th>2</th>\n      <td>Crustal</td>\n      <td>4.74469</td>\n    </tr>\n  </tbody>\n</table>\n</div>"
          },
          "metadata": {}
        }
      ],
      "execution_count": 69,
      "metadata": {
        "jupyter": {
          "source_hidden": false,
          "outputs_hidden": false
        },
        "nteract": {
          "transient": {
            "deleting": false
          }
        },
        "gather": {
          "logged": 1718685364437
        }
      }
    },
    {
      "cell_type": "code",
      "source": [
        "# 두 데이터프레임을 병합한다.\n",
        "\n",
        "needed_samples_overview = pd.merge(needed_samples_overview, needed_sample_weight, on='Type')\n",
        "needed_samples_overview"
      ],
      "outputs": [
        {
          "output_type": "execute_result",
          "execution_count": 70,
          "data": {
            "text/plain": "      Type  Weight (kg)\n0   Basalt     17.42340\n1  Breccia     10.11850\n2  Crustal      4.74469",
            "text/html": "<div>\n<style scoped>\n    .dataframe tbody tr th:only-of-type {\n        vertical-align: middle;\n    }\n\n    .dataframe tbody tr th {\n        vertical-align: top;\n    }\n\n    .dataframe thead th {\n        text-align: right;\n    }\n</style>\n<table border=\"1\" class=\"dataframe\">\n  <thead>\n    <tr style=\"text-align: right;\">\n      <th></th>\n      <th>Type</th>\n      <th>Weight (kg)</th>\n    </tr>\n  </thead>\n  <tbody>\n    <tr>\n      <th>0</th>\n      <td>Basalt</td>\n      <td>17.42340</td>\n    </tr>\n    <tr>\n      <th>1</th>\n      <td>Breccia</td>\n      <td>10.11850</td>\n    </tr>\n    <tr>\n      <th>2</th>\n      <td>Crustal</td>\n      <td>4.74469</td>\n    </tr>\n  </tbody>\n</table>\n</div>"
          },
          "metadata": {}
        }
      ],
      "execution_count": 70,
      "metadata": {
        "jupyter": {
          "source_hidden": false,
          "outputs_hidden": false
        },
        "nteract": {
          "transient": {
            "deleting": false
          }
        },
        "gather": {
          "logged": 1718685506197
        }
      }
    },
    {
      "cell_type": "code",
      "source": [
        "# 애매한 컬럼명을 변경한다.\n",
        "\n",
        "needed_samples_overview.rename(columns={'Weight (kg)' : 'Total weight (kg)'}, inplace=True)\n",
        "needed_samples_overview"
      ],
      "outputs": [
        {
          "output_type": "execute_result",
          "execution_count": 71,
          "data": {
            "text/plain": "      Type  Total weight (kg)\n0   Basalt           17.42340\n1  Breccia           10.11850\n2  Crustal            4.74469",
            "text/html": "<div>\n<style scoped>\n    .dataframe tbody tr th:only-of-type {\n        vertical-align: middle;\n    }\n\n    .dataframe tbody tr th {\n        vertical-align: top;\n    }\n\n    .dataframe thead th {\n        text-align: right;\n    }\n</style>\n<table border=\"1\" class=\"dataframe\">\n  <thead>\n    <tr style=\"text-align: right;\">\n      <th></th>\n      <th>Type</th>\n      <th>Total weight (kg)</th>\n    </tr>\n  </thead>\n  <tbody>\n    <tr>\n      <th>0</th>\n      <td>Basalt</td>\n      <td>17.42340</td>\n    </tr>\n    <tr>\n      <th>1</th>\n      <td>Breccia</td>\n      <td>10.11850</td>\n    </tr>\n    <tr>\n      <th>2</th>\n      <td>Crustal</td>\n      <td>4.74469</td>\n    </tr>\n  </tbody>\n</table>\n</div>"
          },
          "metadata": {}
        }
      ],
      "execution_count": 71,
      "metadata": {
        "jupyter": {
          "source_hidden": false,
          "outputs_hidden": false
        },
        "nteract": {
          "transient": {
            "deleting": false
          }
        },
        "gather": {
          "logged": 1718685632691
        }
      }
    },
    {
      "cell_type": "code",
      "source": [
        "# needed_samples 데이터프레임에서 암석유형별 중량의 평균을 구한다.\n",
        "\n",
        "needed_sample_ave_weight = needed_samples.groupby('Type')['Weight (kg)'].mean().reset_index()\n",
        "needed_sample_ave_weight"
      ],
      "outputs": [
        {
          "output_type": "execute_result",
          "execution_count": 73,
          "data": {
            "text/plain": "      Type  Weight (kg)\n0   Basalt     1.244529\n1  Breccia     1.264813\n2  Crustal     0.103145",
            "text/html": "<div>\n<style scoped>\n    .dataframe tbody tr th:only-of-type {\n        vertical-align: middle;\n    }\n\n    .dataframe tbody tr th {\n        vertical-align: top;\n    }\n\n    .dataframe thead th {\n        text-align: right;\n    }\n</style>\n<table border=\"1\" class=\"dataframe\">\n  <thead>\n    <tr style=\"text-align: right;\">\n      <th></th>\n      <th>Type</th>\n      <th>Weight (kg)</th>\n    </tr>\n  </thead>\n  <tbody>\n    <tr>\n      <th>0</th>\n      <td>Basalt</td>\n      <td>1.244529</td>\n    </tr>\n    <tr>\n      <th>1</th>\n      <td>Breccia</td>\n      <td>1.264813</td>\n    </tr>\n    <tr>\n      <th>2</th>\n      <td>Crustal</td>\n      <td>0.103145</td>\n    </tr>\n  </tbody>\n</table>\n</div>"
          },
          "metadata": {}
        }
      ],
      "execution_count": 73,
      "metadata": {
        "jupyter": {
          "source_hidden": false,
          "outputs_hidden": false
        },
        "nteract": {
          "transient": {
            "deleting": false
          }
        },
        "gather": {
          "logged": 1718685790983
        }
      }
    },
    {
      "cell_type": "code",
      "source": [
        "# 두 데이터프레임을 병합한다.\n",
        "needed_samples_overview = pd.merge(needed_samples_overview, needed_sample_ave_weight, on='Type')\n",
        "needed_samples_overview"
      ],
      "outputs": [
        {
          "output_type": "execute_result",
          "execution_count": 75,
          "data": {
            "text/plain": "      Type  Total weight (kg)  Weight (kg)\n0   Basalt           17.42340     1.244529\n1  Breccia           10.11850     1.264813\n2  Crustal            4.74469     0.103145",
            "text/html": "<div>\n<style scoped>\n    .dataframe tbody tr th:only-of-type {\n        vertical-align: middle;\n    }\n\n    .dataframe tbody tr th {\n        vertical-align: top;\n    }\n\n    .dataframe thead th {\n        text-align: right;\n    }\n</style>\n<table border=\"1\" class=\"dataframe\">\n  <thead>\n    <tr style=\"text-align: right;\">\n      <th></th>\n      <th>Type</th>\n      <th>Total weight (kg)</th>\n      <th>Weight (kg)</th>\n    </tr>\n  </thead>\n  <tbody>\n    <tr>\n      <th>0</th>\n      <td>Basalt</td>\n      <td>17.42340</td>\n      <td>1.244529</td>\n    </tr>\n    <tr>\n      <th>1</th>\n      <td>Breccia</td>\n      <td>10.11850</td>\n      <td>1.264813</td>\n    </tr>\n    <tr>\n      <th>2</th>\n      <td>Crustal</td>\n      <td>4.74469</td>\n      <td>0.103145</td>\n    </tr>\n  </tbody>\n</table>\n</div>"
          },
          "metadata": {}
        }
      ],
      "execution_count": 75,
      "metadata": {
        "jupyter": {
          "source_hidden": false,
          "outputs_hidden": false
        },
        "nteract": {
          "transient": {
            "deleting": false
          }
        },
        "gather": {
          "logged": 1718685883504
        }
      }
    },
    {
      "cell_type": "code",
      "source": [
        "# 애매한 컬럼명을 변경한다.\n",
        "\n",
        "needed_samples_overview.rename(columns={'Weight (kg)' : 'Average weight (kg)'}, inplace=True)\n",
        "needed_samples_overview"
      ],
      "outputs": [
        {
          "output_type": "execute_result",
          "execution_count": 76,
          "data": {
            "text/plain": "      Type  Total weight (kg)  Average weight (kg)\n0   Basalt           17.42340             1.244529\n1  Breccia           10.11850             1.264813\n2  Crustal            4.74469             0.103145",
            "text/html": "<div>\n<style scoped>\n    .dataframe tbody tr th:only-of-type {\n        vertical-align: middle;\n    }\n\n    .dataframe tbody tr th {\n        vertical-align: top;\n    }\n\n    .dataframe thead th {\n        text-align: right;\n    }\n</style>\n<table border=\"1\" class=\"dataframe\">\n  <thead>\n    <tr style=\"text-align: right;\">\n      <th></th>\n      <th>Type</th>\n      <th>Total weight (kg)</th>\n      <th>Average weight (kg)</th>\n    </tr>\n  </thead>\n  <tbody>\n    <tr>\n      <th>0</th>\n      <td>Basalt</td>\n      <td>17.42340</td>\n      <td>1.244529</td>\n    </tr>\n    <tr>\n      <th>1</th>\n      <td>Breccia</td>\n      <td>10.11850</td>\n      <td>1.264813</td>\n    </tr>\n    <tr>\n      <th>2</th>\n      <td>Crustal</td>\n      <td>4.74469</td>\n      <td>0.103145</td>\n    </tr>\n  </tbody>\n</table>\n</div>"
          },
          "metadata": {}
        }
      ],
      "execution_count": 76,
      "metadata": {
        "jupyter": {
          "source_hidden": false,
          "outputs_hidden": false
        },
        "nteract": {
          "transient": {
            "deleting": false
          }
        },
        "gather": {
          "logged": 1718685955093
        }
      }
    },
    {
      "cell_type": "code",
      "source": [
        "# rock_samples 데이터프레임에서 암석유형별('Type') 개수를 구해서 total_rock_count 라는 데이터프레임을 만든다.\n",
        "\n",
        "total_rock_count = rock_samples.groupby('Type')['ID'].count().reset_index()\n",
        "total_rock_count"
      ],
      "outputs": [
        {
          "output_type": "execute_result",
          "execution_count": 79,
          "data": {
            "text/plain": "      Type   ID\n0   Basalt  351\n1  Breccia  959\n2     Core   56\n3  Crustal   46\n4     Soil  813\n5  Special    4",
            "text/html": "<div>\n<style scoped>\n    .dataframe tbody tr th:only-of-type {\n        vertical-align: middle;\n    }\n\n    .dataframe tbody tr th {\n        vertical-align: top;\n    }\n\n    .dataframe thead th {\n        text-align: right;\n    }\n</style>\n<table border=\"1\" class=\"dataframe\">\n  <thead>\n    <tr style=\"text-align: right;\">\n      <th></th>\n      <th>Type</th>\n      <th>ID</th>\n    </tr>\n  </thead>\n  <tbody>\n    <tr>\n      <th>0</th>\n      <td>Basalt</td>\n      <td>351</td>\n    </tr>\n    <tr>\n      <th>1</th>\n      <td>Breccia</td>\n      <td>959</td>\n    </tr>\n    <tr>\n      <th>2</th>\n      <td>Core</td>\n      <td>56</td>\n    </tr>\n    <tr>\n      <th>3</th>\n      <td>Crustal</td>\n      <td>46</td>\n    </tr>\n    <tr>\n      <th>4</th>\n      <td>Soil</td>\n      <td>813</td>\n    </tr>\n    <tr>\n      <th>5</th>\n      <td>Special</td>\n      <td>4</td>\n    </tr>\n  </tbody>\n</table>\n</div>"
          },
          "metadata": {}
        }
      ],
      "execution_count": 79,
      "metadata": {
        "jupyter": {
          "source_hidden": false,
          "outputs_hidden": false
        },
        "nteract": {
          "transient": {
            "deleting": false
          }
        },
        "gather": {
          "logged": 1718686270585
        }
      }
    },
    {
      "cell_type": "code",
      "source": [
        "needed_samples_overview = pd.merge(needed_samples_overview, total_rock_count, on='Type')\n",
        "needed_samples_overview"
      ],
      "outputs": [
        {
          "output_type": "execute_result",
          "execution_count": 80,
          "data": {
            "text/plain": "      Type  Total weight (kg)  Average weight (kg)   ID\n0   Basalt           17.42340             1.244529  351\n1  Breccia           10.11850             1.264813  959\n2  Crustal            4.74469             0.103145   46",
            "text/html": "<div>\n<style scoped>\n    .dataframe tbody tr th:only-of-type {\n        vertical-align: middle;\n    }\n\n    .dataframe tbody tr th {\n        vertical-align: top;\n    }\n\n    .dataframe thead th {\n        text-align: right;\n    }\n</style>\n<table border=\"1\" class=\"dataframe\">\n  <thead>\n    <tr style=\"text-align: right;\">\n      <th></th>\n      <th>Type</th>\n      <th>Total weight (kg)</th>\n      <th>Average weight (kg)</th>\n      <th>ID</th>\n    </tr>\n  </thead>\n  <tbody>\n    <tr>\n      <th>0</th>\n      <td>Basalt</td>\n      <td>17.42340</td>\n      <td>1.244529</td>\n      <td>351</td>\n    </tr>\n    <tr>\n      <th>1</th>\n      <td>Breccia</td>\n      <td>10.11850</td>\n      <td>1.264813</td>\n      <td>959</td>\n    </tr>\n    <tr>\n      <th>2</th>\n      <td>Crustal</td>\n      <td>4.74469</td>\n      <td>0.103145</td>\n      <td>46</td>\n    </tr>\n  </tbody>\n</table>\n</div>"
          },
          "metadata": {}
        }
      ],
      "execution_count": 80,
      "metadata": {
        "jupyter": {
          "source_hidden": false,
          "outputs_hidden": false
        },
        "nteract": {
          "transient": {
            "deleting": false
          }
        },
        "gather": {
          "logged": 1718686309369
        }
      }
    },
    {
      "cell_type": "code",
      "source": [
        "# 애매한 컬럼명을 변경한다.\n",
        "\n",
        "needed_samples_overview.rename(columns={'ID' : 'Number of samples'}, inplace=True)\n",
        "needed_samples_overview"
      ],
      "outputs": [
        {
          "output_type": "execute_result",
          "execution_count": 81,
          "data": {
            "text/plain": "      Type  Total weight (kg)  Average weight (kg)  Number of samples\n0   Basalt           17.42340             1.244529                351\n1  Breccia           10.11850             1.264813                959\n2  Crustal            4.74469             0.103145                 46",
            "text/html": "<div>\n<style scoped>\n    .dataframe tbody tr th:only-of-type {\n        vertical-align: middle;\n    }\n\n    .dataframe tbody tr th {\n        vertical-align: top;\n    }\n\n    .dataframe thead th {\n        text-align: right;\n    }\n</style>\n<table border=\"1\" class=\"dataframe\">\n  <thead>\n    <tr style=\"text-align: right;\">\n      <th></th>\n      <th>Type</th>\n      <th>Total weight (kg)</th>\n      <th>Average weight (kg)</th>\n      <th>Number of samples</th>\n    </tr>\n  </thead>\n  <tbody>\n    <tr>\n      <th>0</th>\n      <td>Basalt</td>\n      <td>17.42340</td>\n      <td>1.244529</td>\n      <td>351</td>\n    </tr>\n    <tr>\n      <th>1</th>\n      <td>Breccia</td>\n      <td>10.11850</td>\n      <td>1.264813</td>\n      <td>959</td>\n    </tr>\n    <tr>\n      <th>2</th>\n      <td>Crustal</td>\n      <td>4.74469</td>\n      <td>0.103145</td>\n      <td>46</td>\n    </tr>\n  </tbody>\n</table>\n</div>"
          },
          "metadata": {}
        }
      ],
      "execution_count": 81,
      "metadata": {
        "jupyter": {
          "source_hidden": false,
          "outputs_hidden": false
        },
        "nteract": {
          "transient": {
            "deleting": false
          }
        },
        "gather": {
          "logged": 1718686425106
        }
      }
    },
    {
      "cell_type": "code",
      "source": [
        "# needed_samples_overview['Number of samples'] 의 총합을 구하고 total_rocks에 할당\n",
        "\n",
        "total_rocks = needed_samples_overview['Number of samples'].sum()\n",
        "total_rocks"
      ],
      "outputs": [
        {
          "output_type": "execute_result",
          "execution_count": 82,
          "data": {
            "text/plain": "1356"
          },
          "metadata": {}
        }
      ],
      "execution_count": 82,
      "metadata": {
        "jupyter": {
          "source_hidden": false,
          "outputs_hidden": false
        },
        "nteract": {
          "transient": {
            "deleting": false
          }
        },
        "gather": {
          "logged": 1718686527101
        }
      }
    },
    {
      "cell_type": "code",
      "source": [
        "# 각 암석유형별로 차지하는 비율을 구해서 'Percentage of rocks'라는 컬럼에 할당한다.\n",
        "needed_samples_overview['Percentage of rocks'] = needed_samples_overview['Number of samples'] / total_rocks\n",
        "needed_samples_overview"
      ],
      "outputs": [
        {
          "output_type": "execute_result",
          "execution_count": 83,
          "data": {
            "text/plain": "      Type  Total weight (kg)  Average weight (kg)  Number of samples  \\\n0   Basalt           17.42340             1.244529                351   \n1  Breccia           10.11850             1.264813                959   \n2  Crustal            4.74469             0.103145                 46   \n\n   Percentage of rocks  \n0             0.258850  \n1             0.707227  \n2             0.033923  ",
            "text/html": "<div>\n<style scoped>\n    .dataframe tbody tr th:only-of-type {\n        vertical-align: middle;\n    }\n\n    .dataframe tbody tr th {\n        vertical-align: top;\n    }\n\n    .dataframe thead th {\n        text-align: right;\n    }\n</style>\n<table border=\"1\" class=\"dataframe\">\n  <thead>\n    <tr style=\"text-align: right;\">\n      <th></th>\n      <th>Type</th>\n      <th>Total weight (kg)</th>\n      <th>Average weight (kg)</th>\n      <th>Number of samples</th>\n      <th>Percentage of rocks</th>\n    </tr>\n  </thead>\n  <tbody>\n    <tr>\n      <th>0</th>\n      <td>Basalt</td>\n      <td>17.42340</td>\n      <td>1.244529</td>\n      <td>351</td>\n      <td>0.258850</td>\n    </tr>\n    <tr>\n      <th>1</th>\n      <td>Breccia</td>\n      <td>10.11850</td>\n      <td>1.264813</td>\n      <td>959</td>\n      <td>0.707227</td>\n    </tr>\n    <tr>\n      <th>2</th>\n      <td>Crustal</td>\n      <td>4.74469</td>\n      <td>0.103145</td>\n      <td>46</td>\n      <td>0.033923</td>\n    </tr>\n  </tbody>\n</table>\n</div>"
          },
          "metadata": {}
        }
      ],
      "execution_count": 83,
      "metadata": {
        "jupyter": {
          "source_hidden": false,
          "outputs_hidden": false
        },
        "nteract": {
          "transient": {
            "deleting": false
          }
        },
        "gather": {
          "logged": 1718686635216
        }
      }
    },
    {
      "cell_type": "code",
      "source": [
        "artemis_mission"
      ],
      "outputs": [
        {
          "output_type": "execute_result",
          "execution_count": 84,
          "data": {
            "text/plain": "     Mission  Total weight (kg)  Payload (kg)  Sample weight from total (kg)  \\\n0   artemis1              26520         26988                      75.549232   \n1  artemis1b              26520         37965                      75.549232   \n2   artemis2              26520         42955                      75.549232   \n\n   Sample weight from payload (kg)  Estimated sample weight (kg)  \n0                        38.779584                     57.164408  \n1                        54.552649                     65.050940  \n2                        61.722877                     68.636054  ",
            "text/html": "<div>\n<style scoped>\n    .dataframe tbody tr th:only-of-type {\n        vertical-align: middle;\n    }\n\n    .dataframe tbody tr th {\n        vertical-align: top;\n    }\n\n    .dataframe thead th {\n        text-align: right;\n    }\n</style>\n<table border=\"1\" class=\"dataframe\">\n  <thead>\n    <tr style=\"text-align: right;\">\n      <th></th>\n      <th>Mission</th>\n      <th>Total weight (kg)</th>\n      <th>Payload (kg)</th>\n      <th>Sample weight from total (kg)</th>\n      <th>Sample weight from payload (kg)</th>\n      <th>Estimated sample weight (kg)</th>\n    </tr>\n  </thead>\n  <tbody>\n    <tr>\n      <th>0</th>\n      <td>artemis1</td>\n      <td>26520</td>\n      <td>26988</td>\n      <td>75.549232</td>\n      <td>38.779584</td>\n      <td>57.164408</td>\n    </tr>\n    <tr>\n      <th>1</th>\n      <td>artemis1b</td>\n      <td>26520</td>\n      <td>37965</td>\n      <td>75.549232</td>\n      <td>54.552649</td>\n      <td>65.050940</td>\n    </tr>\n    <tr>\n      <th>2</th>\n      <td>artemis2</td>\n      <td>26520</td>\n      <td>42955</td>\n      <td>75.549232</td>\n      <td>61.722877</td>\n      <td>68.636054</td>\n    </tr>\n  </tbody>\n</table>\n</div>"
          },
          "metadata": {}
        }
      ],
      "execution_count": 84,
      "metadata": {
        "jupyter": {
          "source_hidden": false,
          "outputs_hidden": false
        },
        "nteract": {
          "transient": {
            "deleting": false
          }
        },
        "gather": {
          "logged": 1718686674903
        }
      }
    },
    {
      "cell_type": "code",
      "source": [
        "# artemis_mission['Estimated sample weight (kg)']의 평균을 구해서 Artemis 달탐사의 에상 암석 중량을 구한다.\n",
        "\n",
        "artemis_ave_weight =  artemis_mission['Estimated sample weight (kg)'].mean()\n",
        "artemis_ave_weight"
      ],
      "outputs": [
        {
          "output_type": "execute_result",
          "execution_count": 85,
          "data": {
            "text/plain": "63.61713411579792"
          },
          "metadata": {}
        }
      ],
      "execution_count": 85,
      "metadata": {
        "jupyter": {
          "source_hidden": false,
          "outputs_hidden": false
        },
        "nteract": {
          "transient": {
            "deleting": false
          }
        },
        "gather": {
          "logged": 1718686817437
        }
      }
    },
    {
      "cell_type": "code",
      "source": [
        "# needed_samples_overview['Weight to collect'] 컬럼을 만든다.\n",
        "\n",
        "needed_samples_overview['Weight to collect'] = needed_samples_overview['Percentage of rocks'] * artemis_ave_weight\n",
        "needed_samples_overview"
      ],
      "outputs": [
        {
          "output_type": "execute_result",
          "execution_count": 86,
          "data": {
            "text/plain": "      Type  Total weight (kg)  Average weight (kg)  Number of samples  \\\n0   Basalt           17.42340             1.244529                351   \n1  Breccia           10.11850             1.264813                959   \n2  Crustal            4.74469             0.103145                 46   \n\n   Percentage of rocks  Weight to collect  \n0             0.258850          16.467267  \n1             0.707227          44.991764  \n2             0.033923           2.158103  ",
            "text/html": "<div>\n<style scoped>\n    .dataframe tbody tr th:only-of-type {\n        vertical-align: middle;\n    }\n\n    .dataframe tbody tr th {\n        vertical-align: top;\n    }\n\n    .dataframe thead th {\n        text-align: right;\n    }\n</style>\n<table border=\"1\" class=\"dataframe\">\n  <thead>\n    <tr style=\"text-align: right;\">\n      <th></th>\n      <th>Type</th>\n      <th>Total weight (kg)</th>\n      <th>Average weight (kg)</th>\n      <th>Number of samples</th>\n      <th>Percentage of rocks</th>\n      <th>Weight to collect</th>\n    </tr>\n  </thead>\n  <tbody>\n    <tr>\n      <th>0</th>\n      <td>Basalt</td>\n      <td>17.42340</td>\n      <td>1.244529</td>\n      <td>351</td>\n      <td>0.258850</td>\n      <td>16.467267</td>\n    </tr>\n    <tr>\n      <th>1</th>\n      <td>Breccia</td>\n      <td>10.11850</td>\n      <td>1.264813</td>\n      <td>959</td>\n      <td>0.707227</td>\n      <td>44.991764</td>\n    </tr>\n    <tr>\n      <th>2</th>\n      <td>Crustal</td>\n      <td>4.74469</td>\n      <td>0.103145</td>\n      <td>46</td>\n      <td>0.033923</td>\n      <td>2.158103</td>\n    </tr>\n  </tbody>\n</table>\n</div>"
          },
          "metadata": {}
        }
      ],
      "execution_count": 86,
      "metadata": {
        "jupyter": {
          "source_hidden": false,
          "outputs_hidden": false
        },
        "nteract": {
          "transient": {
            "deleting": false
          }
        },
        "gather": {
          "logged": 1718686970547
        }
      }
    },
    {
      "cell_type": "code",
      "source": [
        "# 수집할 각각의 암석 개수를 알려준다.\n",
        "\n",
        "needed_samples_overview['Rocks to collect'] = needed_samples_overview['Weight to collect'] / needed_samples_overview['Average weight (kg)']\n",
        "needed_samples_overview"
      ],
      "outputs": [
        {
          "output_type": "execute_result",
          "execution_count": 87,
          "data": {
            "text/plain": "      Type  Total weight (kg)  Average weight (kg)  Number of samples  \\\n0   Basalt           17.42340             1.244529                351   \n1  Breccia           10.11850             1.264813                959   \n2  Crustal            4.74469             0.103145                 46   \n\n   Percentage of rocks  Weight to collect  Rocks to collect  \n0             0.258850          16.467267         13.231731  \n1             0.707227          44.991764         35.571884  \n2             0.033923           2.158103         20.922917  ",
            "text/html": "<div>\n<style scoped>\n    .dataframe tbody tr th:only-of-type {\n        vertical-align: middle;\n    }\n\n    .dataframe tbody tr th {\n        vertical-align: top;\n    }\n\n    .dataframe thead th {\n        text-align: right;\n    }\n</style>\n<table border=\"1\" class=\"dataframe\">\n  <thead>\n    <tr style=\"text-align: right;\">\n      <th></th>\n      <th>Type</th>\n      <th>Total weight (kg)</th>\n      <th>Average weight (kg)</th>\n      <th>Number of samples</th>\n      <th>Percentage of rocks</th>\n      <th>Weight to collect</th>\n      <th>Rocks to collect</th>\n    </tr>\n  </thead>\n  <tbody>\n    <tr>\n      <th>0</th>\n      <td>Basalt</td>\n      <td>17.42340</td>\n      <td>1.244529</td>\n      <td>351</td>\n      <td>0.258850</td>\n      <td>16.467267</td>\n      <td>13.231731</td>\n    </tr>\n    <tr>\n      <th>1</th>\n      <td>Breccia</td>\n      <td>10.11850</td>\n      <td>1.264813</td>\n      <td>959</td>\n      <td>0.707227</td>\n      <td>44.991764</td>\n      <td>35.571884</td>\n    </tr>\n    <tr>\n      <th>2</th>\n      <td>Crustal</td>\n      <td>4.74469</td>\n      <td>0.103145</td>\n      <td>46</td>\n      <td>0.033923</td>\n      <td>2.158103</td>\n      <td>20.922917</td>\n    </tr>\n  </tbody>\n</table>\n</div>"
          },
          "metadata": {}
        }
      ],
      "execution_count": 87,
      "metadata": {
        "jupyter": {
          "source_hidden": false,
          "outputs_hidden": false
        },
        "nteract": {
          "transient": {
            "deleting": false
          }
        },
        "gather": {
          "logged": 1718687100407
        }
      }
    }
  ],
  "metadata": {
    "kernelspec": {
      "name": "python3",
      "language": "python",
      "display_name": "Python 3 (ipykernel)"
    },
    "language_info": {
      "name": "python",
      "version": "3.8.5",
      "mimetype": "text/x-python",
      "codemirror_mode": {
        "name": "ipython",
        "version": 3
      },
      "pygments_lexer": "ipython3",
      "nbconvert_exporter": "python",
      "file_extension": ".py"
    },
    "kernel_info": {
      "name": "python3"
    },
    "nteract": {
      "version": "nteract-front-end@1.0.0"
    },
    "microsoft": {
      "host": {
        "AzureML": {
          "notebookHasBeenCompleted": true
        }
      }
    }
  },
  "nbformat": 4,
  "nbformat_minor": 2
}