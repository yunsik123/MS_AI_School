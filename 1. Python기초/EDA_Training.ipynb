{
 "cells": [
  {
   "cell_type": "markdown",
   "metadata": {
    "id": "do7VdYgXhTXF"
   },
   "source": [
    "##**★ 다음과 같이 작성해보세요.**\n",
    "- 다음과 같이 검색하여 파일을 생성합니다. 파일이름은 임의로 설정합니다.\n",
    " - 기상자료개발포털 : http://data.kma.go.kr --> '기후통계분석' --> '통계분석' --> '조건별 통계'\n",
    " - 지역/지점 : *조별 지정된 지역 선택*\n",
    " - 기간 : 일, 2010 ~ 2023\n",
    " - 월 : 1 ~ 12, 일 : 1 ~ 31"
   ]
  },
  {
   "cell_type": "markdown",
   "metadata": {
    "id": "jNozRgar9n7o"
   },
   "source": [
    "###**1. 데이터 불러오기**"
   ]
  },
  {
   "cell_type": "code",
   "execution_count": 21,
   "metadata": {
    "id": "5WoxHqCfk0xA"
   },
   "outputs": [
    {
     "data": {
      "text/html": [
       "<div>\n",
       "<style scoped>\n",
       "    .dataframe tbody tr th:only-of-type {\n",
       "        vertical-align: middle;\n",
       "    }\n",
       "\n",
       "    .dataframe tbody tr th {\n",
       "        vertical-align: top;\n",
       "    }\n",
       "\n",
       "    .dataframe thead th {\n",
       "        text-align: right;\n",
       "    }\n",
       "</style>\n",
       "<table border=\"1\" class=\"dataframe\">\n",
       "  <thead>\n",
       "    <tr style=\"text-align: right;\">\n",
       "      <th></th>\n",
       "      <th>\\t\\t지점번호</th>\n",
       "      <th>지점명</th>\n",
       "      <th>일시</th>\n",
       "      <th>평균기온(℃)</th>\n",
       "      <th>최고기온(℃)</th>\n",
       "      <th>\\t최고기온시각</th>\n",
       "      <th>최저기온(℃)</th>\n",
       "      <th>최저기온시각일교차</th>\n",
       "      <th>Unnamed: 8</th>\n",
       "    </tr>\n",
       "  </thead>\n",
       "  <tbody>\n",
       "    <tr>\n",
       "      <th>0</th>\n",
       "      <td>\\t\\t108</td>\n",
       "      <td>서울</td>\n",
       "      <td>2010-01-01</td>\n",
       "      <td>-7.6</td>\n",
       "      <td>-3.6</td>\n",
       "      <td>15:01</td>\n",
       "      <td>-12.7</td>\n",
       "      <td>6:54</td>\n",
       "      <td>9.1</td>\n",
       "    </tr>\n",
       "    <tr>\n",
       "      <th>1</th>\n",
       "      <td>\\t\\t108</td>\n",
       "      <td>서울</td>\n",
       "      <td>2010-01-02</td>\n",
       "      <td>-3.6</td>\n",
       "      <td>0.2</td>\n",
       "      <td>15:24</td>\n",
       "      <td>-7.4</td>\n",
       "      <td>23:59</td>\n",
       "      <td>7.6</td>\n",
       "    </tr>\n",
       "    <tr>\n",
       "      <th>2</th>\n",
       "      <td>\\t\\t108</td>\n",
       "      <td>서울</td>\n",
       "      <td>2010-01-03</td>\n",
       "      <td>-6.8</td>\n",
       "      <td>-3.2</td>\n",
       "      <td>14:38</td>\n",
       "      <td>-10.5</td>\n",
       "      <td>7:48</td>\n",
       "      <td>7.3</td>\n",
       "    </tr>\n",
       "    <tr>\n",
       "      <th>3</th>\n",
       "      <td>\\t\\t108</td>\n",
       "      <td>서울</td>\n",
       "      <td>2010-01-04</td>\n",
       "      <td>-5.9</td>\n",
       "      <td>-3.4</td>\n",
       "      <td>14:25</td>\n",
       "      <td>-8.0</td>\n",
       "      <td>24:00:00</td>\n",
       "      <td>4.6</td>\n",
       "    </tr>\n",
       "    <tr>\n",
       "      <th>4</th>\n",
       "      <td>\\t\\t108</td>\n",
       "      <td>서울</td>\n",
       "      <td>2010-01-05</td>\n",
       "      <td>-9.9</td>\n",
       "      <td>-7.0</td>\n",
       "      <td>15:06</td>\n",
       "      <td>-12.3</td>\n",
       "      <td>23:33</td>\n",
       "      <td>5.3</td>\n",
       "    </tr>\n",
       "  </tbody>\n",
       "</table>\n",
       "</div>"
      ],
      "text/plain": [
       "  \\t\\t지점번호 지점명          일시  평균기온(℃)  최고기온(℃) \\t최고기온시각  최저기온(℃) 최저기온시각일교차  \\\n",
       "0  \\t\\t108  서울  2010-01-01     -7.6     -3.6    15:01    -12.7      6:54   \n",
       "1  \\t\\t108  서울  2010-01-02     -3.6      0.2    15:24     -7.4     23:59   \n",
       "2  \\t\\t108  서울  2010-01-03     -6.8     -3.2    14:38    -10.5      7:48   \n",
       "3  \\t\\t108  서울  2010-01-04     -5.9     -3.4    14:25     -8.0  24:00:00   \n",
       "4  \\t\\t108  서울  2010-01-05     -9.9     -7.0    15:06    -12.3     23:33   \n",
       "\n",
       "   Unnamed: 8  \n",
       "0         9.1  \n",
       "1         7.6  \n",
       "2         7.3  \n",
       "3         4.6  \n",
       "4         5.3  "
      ]
     },
     "execution_count": 21,
     "metadata": {},
     "output_type": "execute_result"
    }
   ],
   "source": [
    "import pandas as pd\n",
    "temp=pd.read_csv(\"extremum_20240626150326.csv\",encoding='euc-kr')\n",
    "temp.head()"
   ]
  },
  {
   "cell_type": "markdown",
   "metadata": {
    "id": "OZkW86Zq9vFU"
   },
   "source": [
    "###**2. 데이터 셋 재조정**\n",
    " - 지점번호, 지점명을 제외한 데이터만 가져오기<br>\n",
    "   - 변수명 = 변수명.loc[행레이블,열레이블]\n",
    " - 열이름 변경\n",
    "    - 변수명.columns=['열이름', '열이름', ....]"
   ]
  },
  {
   "cell_type": "code",
   "execution_count": 24,
   "metadata": {
    "id": "Aqzk-SDFlhxc"
   },
   "outputs": [
    {
     "name": "stdout",
     "output_type": "stream",
     "text": [
      "<class 'pandas.core.frame.DataFrame'>\n",
      "RangeIndex: 5121 entries, 0 to 5120\n",
      "Data columns (total 7 columns):\n",
      " #   Column  Non-Null Count  Dtype  \n",
      "---  ------  --------------  -----  \n",
      " 0   일시      5113 non-null   object \n",
      " 1   평균기온    5113 non-null   float64\n",
      " 2   최고기온    5112 non-null   float64\n",
      " 3   최고기온시각  5112 non-null   object \n",
      " 4   최저기온    5112 non-null   float64\n",
      " 5   최조기온시각  5112 non-null   object \n",
      " 6   일교차     5111 non-null   float64\n",
      "dtypes: float64(4), object(3)\n",
      "memory usage: 280.2+ KB\n"
     ]
    }
   ],
   "source": [
    "# 지점번호, 지점명을 제외한 데이터만 data 변수로 저장\n",
    "# 데이터프레임 변수 data의 열번호 변경 ==> '일시','평균기온','최고기온','최고기온시각','최저기온','최조기온시각','일교차'\n",
    "data=temp.loc[:,'일시':]\n",
    "data.columns=['일시','평균기온','최고기온','최고기온시각','최저기온','최조기온시각','일교차']\n",
    "data.info()"
   ]
  },
  {
   "cell_type": "markdown",
   "metadata": {
    "id": "XHk6gCsX_J7p"
   },
   "source": [
    "###**3. 결측값 확인**\n",
    "- 결측값 개수 확인 : 변수명.isnull().sum()\n",
    "- 결측값 데이터 확인 : 변수명[변수명['컬럼명'].isnull( )]"
   ]
  },
  {
   "cell_type": "code",
   "execution_count": 25,
   "metadata": {
    "id": "Yw46LBvX6tpw"
   },
   "outputs": [
    {
     "data": {
      "text/plain": [
       "일시         8\n",
       "평균기온       8\n",
       "최고기온       9\n",
       "최고기온시각     9\n",
       "최저기온       9\n",
       "최조기온시각     9\n",
       "일교차       10\n",
       "dtype: int64"
      ]
     },
     "execution_count": 25,
     "metadata": {},
     "output_type": "execute_result"
    }
   ],
   "source": [
    "# 결측값 개수 확인\n",
    "data.isnull().sum()"
   ]
  },
  {
   "cell_type": "code",
   "execution_count": 26,
   "metadata": {
    "id": "aJyqk1-FGrON"
   },
   "outputs": [
    {
     "data": {
      "text/html": [
       "<div>\n",
       "<style scoped>\n",
       "    .dataframe tbody tr th:only-of-type {\n",
       "        vertical-align: middle;\n",
       "    }\n",
       "\n",
       "    .dataframe tbody tr th {\n",
       "        vertical-align: top;\n",
       "    }\n",
       "\n",
       "    .dataframe thead th {\n",
       "        text-align: right;\n",
       "    }\n",
       "</style>\n",
       "<table border=\"1\" class=\"dataframe\">\n",
       "  <thead>\n",
       "    <tr style=\"text-align: right;\">\n",
       "      <th></th>\n",
       "      <th>일시</th>\n",
       "      <th>평균기온</th>\n",
       "      <th>최고기온</th>\n",
       "      <th>최고기온시각</th>\n",
       "      <th>최저기온</th>\n",
       "      <th>최조기온시각</th>\n",
       "      <th>일교차</th>\n",
       "    </tr>\n",
       "  </thead>\n",
       "  <tbody>\n",
       "    <tr>\n",
       "      <th>5113</th>\n",
       "      <td>NaN</td>\n",
       "      <td>NaN</td>\n",
       "      <td>NaN</td>\n",
       "      <td>NaN</td>\n",
       "      <td>NaN</td>\n",
       "      <td>NaN</td>\n",
       "      <td>NaN</td>\n",
       "    </tr>\n",
       "    <tr>\n",
       "      <th>5114</th>\n",
       "      <td>NaN</td>\n",
       "      <td>NaN</td>\n",
       "      <td>NaN</td>\n",
       "      <td>NaN</td>\n",
       "      <td>NaN</td>\n",
       "      <td>NaN</td>\n",
       "      <td>NaN</td>\n",
       "    </tr>\n",
       "    <tr>\n",
       "      <th>5115</th>\n",
       "      <td>NaN</td>\n",
       "      <td>NaN</td>\n",
       "      <td>NaN</td>\n",
       "      <td>NaN</td>\n",
       "      <td>NaN</td>\n",
       "      <td>NaN</td>\n",
       "      <td>NaN</td>\n",
       "    </tr>\n",
       "    <tr>\n",
       "      <th>5116</th>\n",
       "      <td>NaN</td>\n",
       "      <td>NaN</td>\n",
       "      <td>NaN</td>\n",
       "      <td>NaN</td>\n",
       "      <td>NaN</td>\n",
       "      <td>NaN</td>\n",
       "      <td>NaN</td>\n",
       "    </tr>\n",
       "    <tr>\n",
       "      <th>5117</th>\n",
       "      <td>NaN</td>\n",
       "      <td>NaN</td>\n",
       "      <td>NaN</td>\n",
       "      <td>NaN</td>\n",
       "      <td>NaN</td>\n",
       "      <td>NaN</td>\n",
       "      <td>NaN</td>\n",
       "    </tr>\n",
       "    <tr>\n",
       "      <th>5118</th>\n",
       "      <td>NaN</td>\n",
       "      <td>NaN</td>\n",
       "      <td>NaN</td>\n",
       "      <td>NaN</td>\n",
       "      <td>NaN</td>\n",
       "      <td>NaN</td>\n",
       "      <td>NaN</td>\n",
       "    </tr>\n",
       "    <tr>\n",
       "      <th>5119</th>\n",
       "      <td>NaN</td>\n",
       "      <td>NaN</td>\n",
       "      <td>NaN</td>\n",
       "      <td>NaN</td>\n",
       "      <td>NaN</td>\n",
       "      <td>NaN</td>\n",
       "      <td>NaN</td>\n",
       "    </tr>\n",
       "    <tr>\n",
       "      <th>5120</th>\n",
       "      <td>NaN</td>\n",
       "      <td>NaN</td>\n",
       "      <td>NaN</td>\n",
       "      <td>NaN</td>\n",
       "      <td>NaN</td>\n",
       "      <td>NaN</td>\n",
       "      <td>NaN</td>\n",
       "    </tr>\n",
       "  </tbody>\n",
       "</table>\n",
       "</div>"
      ],
      "text/plain": [
       "       일시  평균기온  최고기온 최고기온시각  최저기온 최조기온시각  일교차\n",
       "5113  NaN   NaN   NaN    NaN   NaN    NaN  NaN\n",
       "5114  NaN   NaN   NaN    NaN   NaN    NaN  NaN\n",
       "5115  NaN   NaN   NaN    NaN   NaN    NaN  NaN\n",
       "5116  NaN   NaN   NaN    NaN   NaN    NaN  NaN\n",
       "5117  NaN   NaN   NaN    NaN   NaN    NaN  NaN\n",
       "5118  NaN   NaN   NaN    NaN   NaN    NaN  NaN\n",
       "5119  NaN   NaN   NaN    NaN   NaN    NaN  NaN\n",
       "5120  NaN   NaN   NaN    NaN   NaN    NaN  NaN"
      ]
     },
     "execution_count": 26,
     "metadata": {},
     "output_type": "execute_result"
    }
   ],
   "source": [
    "# 결측값 데이터 확인\n",
    "data[data['일시'].isnull()]"
   ]
  },
  {
   "cell_type": "markdown",
   "metadata": {
    "id": "lin2FuCMBvL9"
   },
   "source": [
    "###**4. 결측값 행/열 삭제**\n",
    "- 결측값이 들어있는 행 전체 삭제하기 : 변수명.dropna(axis=0)\n",
    "- 결측값이 들어있는 열 전체 삭제하기 : 변수명.dropna(axis=1)\n"
   ]
  },
  {
   "cell_type": "code",
   "execution_count": 32,
   "metadata": {
    "id": "l6KMN4J34onK"
   },
   "outputs": [],
   "source": [
    "# 결측값 행 전체 삭제\n",
    "data.dropna(axis=0,inplace=True)"
   ]
  },
  {
   "cell_type": "code",
   "execution_count": 33,
   "metadata": {
    "id": "el5TkGdXFumO"
   },
   "outputs": [
    {
     "name": "stdout",
     "output_type": "stream",
     "text": [
      "<class 'pandas.core.frame.DataFrame'>\n",
      "Index: 5111 entries, 0 to 5112\n",
      "Data columns (total 7 columns):\n",
      " #   Column  Non-Null Count  Dtype  \n",
      "---  ------  --------------  -----  \n",
      " 0   일시      5111 non-null   object \n",
      " 1   평균기온    5111 non-null   float64\n",
      " 2   최고기온    5111 non-null   float64\n",
      " 3   최고기온시각  5111 non-null   object \n",
      " 4   최저기온    5111 non-null   float64\n",
      " 5   최조기온시각  5111 non-null   object \n",
      " 6   일교차     5111 non-null   float64\n",
      "dtypes: float64(4), object(3)\n",
      "memory usage: 319.4+ KB\n"
     ]
    },
    {
     "data": {
      "text/plain": [
       "일시        0\n",
       "평균기온      0\n",
       "최고기온      0\n",
       "최고기온시각    0\n",
       "최저기온      0\n",
       "최조기온시각    0\n",
       "일교차       0\n",
       "dtype: int64"
      ]
     },
     "execution_count": 33,
     "metadata": {},
     "output_type": "execute_result"
    }
   ],
   "source": [
    "# 기본 정보 확인\n",
    "data.info()\n",
    "data.isnull().sum()"
   ]
  },
  {
   "cell_type": "markdown",
   "metadata": {
    "id": "7ZQV3sJKHhTr"
   },
   "source": [
    "###**5-1. 최고기온과 해당 날짜 출력**\n",
    "- ⓐ 최고기온 계산 : '최고기온' 컬럼에서 최대값 계산(max() 함수)\n",
    " - hint : 변수명['컬럼명'].max( )\n",
    "- '최고기온' 컬럼에서 'ⓐ 계산된 최고기온'과 같은 데이터 검색\n",
    " - hint : 변수명[변수명['컬럼명'] == 비교값] [ ['컬럼명1', '컬럼명2', ....] ]\n",
    "- index 재조정 : 변수명.reset_index( )\n",
    "- '날짜', '최고온도' 컬럼 출력 : 변수명.loc[행레이블,열레이블]\n",
    "\n",
    "```\n",
    "[출력결과]\n",
    "00 지역에서 최고 기온이 가장 높았던 날은 0000-00-00 로 00.0도 였습니다.\n",
    "```\n",
    "\n"
   ]
  },
  {
   "cell_type": "code",
   "execution_count": 46,
   "metadata": {
    "id": "tZzwW6zwmt6f"
   },
   "outputs": [
    {
     "name": "stdout",
     "output_type": "stream",
     "text": [
      "서울의 최고 기온이 가장 높았던 날은 2018-08-01 로  39.6 도 였습니다.\n"
     ]
    }
   ],
   "source": [
    "# '최고기온' 컬럼에서 '계산된 최고기온'과 같은 데이터 검색하여 maxData 변수에 저장\n",
    "# maxData 데이터프레임의 index 초기화\n",
    "# maxData 데이터프레임에서 '일시'와 '최고기온' 출력 - 변수명.loc[0,열이름]\n",
    "maxData = data.loc[data['최고기온']==data['최고기온'].max(),['일시','평균기온','최고기온','최저기온','일교차']]\n",
    "maxData = maxData.reset_index()\n",
    "print('서울의 최고 기온이 가장 높았던 날은', maxData.loc[0,'일시'],'로 ', maxData.loc[0,'최고기온'],'도 였습니다.')"
   ]
  },
  {
   "cell_type": "markdown",
   "metadata": {
    "id": "LxySdGNlKvTW"
   },
   "source": [
    "###**5-2. 최저기온와 해당 날짜 출력**\n",
    "- ⓑ 최저기온 계산 : '최저기온' 컬럼에서 최소값 계산(min() 함수)\n",
    "- '최저기온' 컬럼에서 'ⓑ 계산된 최저기온'과 같은 데이터 검색\n",
    "- index 재조정 : 변수명.reset_index( )\n",
    "- '날짜', '최저온도' 컬럼 출력 : 변수명.loc[행레이블,열레이블]\n",
    "\n",
    "```\n",
    "[출력결과]\n",
    "00 지역에서 최저 기온이 가장 낮았던 날은 0000-00-00 로 00.0도 였습니다.\n",
    "```"
   ]
  },
  {
   "cell_type": "code",
   "execution_count": 48,
   "metadata": {
    "id": "y6TcAlYiLYI0"
   },
   "outputs": [
    {
     "name": "stdout",
     "output_type": "stream",
     "text": [
      "서울의 최저 기온이 가장 낮았던 날은 2018-08-02 로  30.3 도 였습니다.\n"
     ]
    }
   ],
   "source": [
    "# '최저기온' 컬럼에서 '계산된 최저기온'과 같은 데이터 검색하여 minData 변수에 저장\n",
    "# minData 데이터프레임의 index 초기화\n",
    "# minData 데이터프레임에서 '일시'와 '최저기온' 출력 - 변수명.loc[0,열이름]\n",
    "minData = data.loc[data['최저기온']==data['최저기온'].max(),['일시','평균기온','최고기온','최저기온','일교차']]\n",
    "minData = minData.reset_index()\n",
    "print('서울의 최저 기온이 가장 낮았던 날은', minData.loc[0,'일시'],'로 ', minData.loc[0,'최저기온'],'도 였습니다.')\n"
   ]
  },
  {
   "cell_type": "markdown",
   "metadata": {
    "id": "zOZH6L4UMo4v"
   },
   "source": [
    "###**7. 본인 생일 날짜의 기온 변화 그래프 작성**\n",
    "- **1단계 : '일시' 열에서 '년'만, '월-일'만 추출하여 새로운 열 생성**\n",
    " - 인덱싱 : 변수명['컬럼명'].str[ ]\n",
    " - '년도' 열 생성 : '일시' 컬럼의 값에서 앞 4자리까지만 추출 ==> data['년도'] = data['일시'].str[ :4 ]\n",
    " - '날짜' 열 생성 : '일시' 컬럼의 값에서 5자리부터 끝까지만 추출 ==> data['날짜'] = data['일시'].str[ 5: ]\n",
    "\n",
    "- **2단계 : 생성된 '날짜'열 값에서 본인 생일과 동일한 날짜 검색**\n",
    "- **3단계 :'년도(2010 ~ 2023)'별로 '최고기온'과 '최저기온' 변화 꺽은선 그래프 작성**\n",
    "  - 차트 크기 : plt.figure(figsize=(가로, 세로)), 단위:inch\n",
    "  - 차트 제목 : plt.title(\"제목\")\n",
    "  - 차트 범례 : plt.legend( )\n",
    "  - 차트 보여주기 : plt.show( )"
   ]
  },
  {
   "cell_type": "code",
   "execution_count": 49,
   "metadata": {
    "id": "7k-hfxJPWXWZ"
   },
   "outputs": [
    {
     "name": "stdout",
     "output_type": "stream",
     "text": [
      "Collecting koreanize-matplotlib\n",
      "  Downloading koreanize_matplotlib-0.1.1-py3-none-any.whl.metadata (992 bytes)\n",
      "Requirement already satisfied: matplotlib in /opt/conda/lib/python3.11/site-packages (from koreanize-matplotlib) (3.8.0)\n",
      "Requirement already satisfied: contourpy>=1.0.1 in /opt/conda/lib/python3.11/site-packages (from matplotlib->koreanize-matplotlib) (1.1.1)\n",
      "Requirement already satisfied: cycler>=0.10 in /opt/conda/lib/python3.11/site-packages (from matplotlib->koreanize-matplotlib) (0.12.1)\n",
      "Requirement already satisfied: fonttools>=4.22.0 in /opt/conda/lib/python3.11/site-packages (from matplotlib->koreanize-matplotlib) (4.43.1)\n",
      "Requirement already satisfied: kiwisolver>=1.0.1 in /opt/conda/lib/python3.11/site-packages (from matplotlib->koreanize-matplotlib) (1.4.5)\n",
      "Requirement already satisfied: numpy<2,>=1.21 in /opt/conda/lib/python3.11/site-packages (from matplotlib->koreanize-matplotlib) (1.24.4)\n",
      "Requirement already satisfied: packaging>=20.0 in /opt/conda/lib/python3.11/site-packages (from matplotlib->koreanize-matplotlib) (23.2)\n",
      "Requirement already satisfied: pillow>=6.2.0 in /opt/conda/lib/python3.11/site-packages (from matplotlib->koreanize-matplotlib) (10.1.0)\n",
      "Requirement already satisfied: pyparsing>=2.3.1 in /opt/conda/lib/python3.11/site-packages (from matplotlib->koreanize-matplotlib) (3.1.1)\n",
      "Requirement already satisfied: python-dateutil>=2.7 in /opt/conda/lib/python3.11/site-packages (from matplotlib->koreanize-matplotlib) (2.8.2)\n",
      "Requirement already satisfied: six>=1.5 in /opt/conda/lib/python3.11/site-packages (from python-dateutil>=2.7->matplotlib->koreanize-matplotlib) (1.16.0)\n",
      "Downloading koreanize_matplotlib-0.1.1-py3-none-any.whl (7.9 MB)\n",
      "\u001b[2K   \u001b[90m━━━━━━━━━━━━━━━━━━━━━━━━━━━━━━━━━━━━━━━━\u001b[0m \u001b[32m7.9/7.9 MB\u001b[0m \u001b[31m88.0 MB/s\u001b[0m eta \u001b[36m0:00:00\u001b[0mta \u001b[36m0:00:01\u001b[0m\n",
      "\u001b[?25hInstalling collected packages: koreanize-matplotlib\n",
      "Successfully installed koreanize-matplotlib-0.1.1\n"
     ]
    }
   ],
   "source": [
    "# 한글 폰트 설치\n",
    "#!pip install koreanize-matplotlib\n",
    "import koreanize_matplotlib"
   ]
  },
  {
   "cell_type": "code",
   "execution_count": 59,
   "metadata": {
    "id": "OTB9D59QRY5V"
   },
   "outputs": [
    {
     "name": "stdout",
     "output_type": "stream",
     "text": [
      "<class 'pandas.core.frame.DataFrame'>\n",
      "Index: 5111 entries, 0 to 5112\n",
      "Data columns (total 9 columns):\n",
      " #   Column  Non-Null Count  Dtype  \n",
      "---  ------  --------------  -----  \n",
      " 0   일시      5111 non-null   object \n",
      " 1   평균기온    5111 non-null   float64\n",
      " 2   최고기온    5111 non-null   float64\n",
      " 3   최고기온시각  5111 non-null   object \n",
      " 4   최저기온    5111 non-null   float64\n",
      " 5   최조기온시각  5111 non-null   object \n",
      " 6   일교차     5111 non-null   float64\n",
      " 7   년도      5111 non-null   object \n",
      " 8   날짜      5111 non-null   object \n",
      "dtypes: float64(4), object(5)\n",
      "memory usage: 399.3+ KB\n",
      "<class 'pandas.core.frame.DataFrame'>\n",
      "Index: 5111 entries, 0 to 5112\n",
      "Data columns (total 9 columns):\n",
      " #   Column  Non-Null Count  Dtype  \n",
      "---  ------  --------------  -----  \n",
      " 0   일시      5111 non-null   object \n",
      " 1   평균기온    5111 non-null   float64\n",
      " 2   최고기온    5111 non-null   float64\n",
      " 3   최고기온시각  5111 non-null   object \n",
      " 4   최저기온    5111 non-null   float64\n",
      " 5   최조기온시각  5111 non-null   object \n",
      " 6   일교차     5111 non-null   float64\n",
      " 7   년도      5111 non-null   int64  \n",
      " 8   날짜      5111 non-null   object \n",
      "dtypes: float64(4), int64(1), object(4)\n",
      "memory usage: 399.3+ KB\n"
     ]
    }
   ],
   "source": [
    "# 1단계 : '일시' 열에서 새로운 열 '년도'과 '날짜'열 생성\n",
    "data['년도']=data['일시'].str[:4]\n",
    "data['날짜']=data['일시'].str[5:]\n",
    "data.info()\n",
    "\n",
    "data['년도']=data['년도'].astype('int')\n",
    "data.info()\n"
   ]
  },
  {
   "cell_type": "code",
   "execution_count": 60,
   "metadata": {},
   "outputs": [
    {
     "data": {
      "text/plain": [
       "년도\n",
       "2010    12.140822\n",
       "2011    12.082192\n",
       "2012    12.268579\n",
       "2013    12.563562\n",
       "2014    13.400274\n",
       "2015    13.621918\n",
       "2016    13.592896\n",
       "2017    13.077747\n",
       "2018    13.002466\n",
       "2019    13.598904\n",
       "2020    13.271858\n",
       "2021    13.752055\n",
       "2022    13.259066\n",
       "2023    14.109041\n",
       "Name: 평균기온, dtype: float64"
      ]
     },
     "execution_count": 60,
     "metadata": {},
     "output_type": "execute_result"
    }
   ],
   "source": [
    "#년도별로 평균기온의 평균 계산\n",
    "data.groupby('년도')['평균기온'].mean()"
   ]
  },
  {
   "cell_type": "code",
   "execution_count": 70,
   "metadata": {
    "id": "atP6Y8xlTIGz"
   },
   "outputs": [
    {
     "data": {
      "text/html": [
       "<div>\n",
       "<style scoped>\n",
       "    .dataframe tbody tr th:only-of-type {\n",
       "        vertical-align: middle;\n",
       "    }\n",
       "\n",
       "    .dataframe tbody tr th {\n",
       "        vertical-align: top;\n",
       "    }\n",
       "\n",
       "    .dataframe thead th {\n",
       "        text-align: right;\n",
       "    }\n",
       "</style>\n",
       "<table border=\"1\" class=\"dataframe\">\n",
       "  <thead>\n",
       "    <tr style=\"text-align: right;\">\n",
       "      <th></th>\n",
       "      <th>index</th>\n",
       "      <th>일시</th>\n",
       "      <th>평균기온</th>\n",
       "      <th>최고기온</th>\n",
       "      <th>최고기온시각</th>\n",
       "      <th>최저기온</th>\n",
       "      <th>최조기온시각</th>\n",
       "      <th>일교차</th>\n",
       "      <th>년도</th>\n",
       "      <th>날짜</th>\n",
       "    </tr>\n",
       "  </thead>\n",
       "  <tbody>\n",
       "    <tr>\n",
       "      <th>0</th>\n",
       "      <td>3136</td>\n",
       "      <td>2018-08-03</td>\n",
       "      <td>33.1</td>\n",
       "      <td>37.9</td>\n",
       "      <td>14:15</td>\n",
       "      <td>30.0</td>\n",
       "      <td>23:42</td>\n",
       "      <td>7.9</td>\n",
       "      <td>2018</td>\n",
       "      <td>08-03</td>\n",
       "    </tr>\n",
       "  </tbody>\n",
       "</table>\n",
       "</div>"
      ],
      "text/plain": [
       "   index          일시  평균기온  최고기온 최고기온시각  최저기온 최조기온시각  일교차    년도     날짜\n",
       "0   3136  2018-08-03  33.1  37.9  14:15  30.0  23:42  7.9  2018  08-03"
      ]
     },
     "execution_count": 70,
     "metadata": {},
     "output_type": "execute_result"
    }
   ],
   "source": [
    "# 2단계 : 생성된 '날짜'열 값에서 본인 생일과 동일한 날짜 검색하여 birthData 변수에 저장\n",
    "# 예: data[data['날짜']=='10-01']\n",
    "birthdata=data[data['날짜']=='08-03']\n",
    "\n",
    "rmaxt=birthdata[birthdata['최고기온']==birthdata['최고기온'].max()]\n",
    "rmaxt=rmaxt.reset_index()\n",
    "rmaxt"
   ]
  },
  {
   "cell_type": "code",
   "execution_count": 71,
   "metadata": {
    "id": "6w9K8oeypRtK"
   },
   "outputs": [
    {
     "data": {
      "image/png": "[encoded data removed]",
      "text/plain": [
       "<Figure size 640x480 with 1 Axes>"
      ]
     },
     "metadata": {},
     "output_type": "display_data"
    }
   ],
   "source": [
    "# 3단계 :'년도(2010 ~ 2023)'별로 '최고기온'과 '최저기온' 꺽은선 그래프 작성, birthData 변수 이용\n",
    "# 차트 사이즈 : 가로 - 12 inch, 세로 - 10 inch\n",
    "import matplotlib.pyplot as plt\n",
    "meanData = data.groupby('년도')[['평균기온']].mean()\n",
    "plt.plot(meanData)\n",
    "plt.show()"
   ]
  },
  {
   "cell_type": "code",
   "execution_count": 73,
   "metadata": {},
   "outputs": [
    {
     "data": {
      "image/png": "[encoded data removed]",
      "text/plain": [
       "<Figure size 640x480 with 1 Axes>"
      ]
     },
     "metadata": {},
     "output_type": "display_data"
    }
   ],
   "source": [
    "plt.plot(birthdata['년도'],birthdata['최고기온'],label='max')\n",
    "plt.plot(birthdata['년도'],birthdata['최저기온'],label='min')\n",
    "plt.legend()\n",
    "plt.show()"
   ]
  },
  {
   "cell_type": "code",
   "execution_count": null,
   "metadata": {},
   "outputs": [],
   "source": []
  }
 ],
 "metadata": {
  "colab": {
   "provenance": []
  },
  "kernelspec": {
   "display_name": "Python 3 (ipykernel)",
   "language": "python",
   "name": "python3"
  },
  "language_info": {
   "codemirror_mode": {
    "name": "ipython",
    "version": 3
   },
   "file_extension": ".py",
   "mimetype": "text/x-python",
   "name": "python",
   "nbconvert_exporter": "python",
   "pygments_lexer": "ipython3",
   "version": "3.11.6"
  }
 },
 "nbformat": 4,
 "nbformat_minor": 4
}
