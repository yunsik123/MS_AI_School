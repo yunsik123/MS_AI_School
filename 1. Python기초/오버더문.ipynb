{
 "cells": [
  {
   "cell_type": "code",
   "execution_count": 1,
   "id": "ec03b447-424b-47d7-9885-ebcab595adc4",
   "metadata": {},
   "outputs": [],
   "source": [
    "import pandas as pd\n",
    "import numpy as np"
   ]
  },
  {
   "cell_type": "code",
   "execution_count": 2,
   "id": "b3b013de-99c5-4568-a272-28f3effa9ebf",
   "metadata": {},
   "outputs": [],
   "source": [
    "meteorshowers=pd.read_csv(\"data/meteorshowers.csv\")\n",
    "cities=pd.read_csv(\"data/cities.csv\")\n",
    "moon_phases=pd.read_csv(\"data/moonphases.csv\")\n",
    "constellations=pd.read_csv(\"data/constellations.csv\")"
   ]
  },
  {
   "cell_type": "code",
   "execution_count": 3,
   "id": "d9e20c09-8761-4519-8570-1c9f71e7dd1d",
   "metadata": {},
   "outputs": [
    {
     "name": "stdout",
     "output_type": "stream",
     "text": [
      "<class 'pandas.core.frame.DataFrame'>\n",
      "RangeIndex: 5 entries, 0 to 4\n",
      "Data columns (total 9 columns):\n",
      " #   Column               Non-Null Count  Dtype \n",
      "---  ------               --------------  ----- \n",
      " 0   name                 5 non-null      object\n",
      " 1   radiant              5 non-null      object\n",
      " 2   bestmonth            5 non-null      object\n",
      " 3   startmonth           5 non-null      object\n",
      " 4   startday             5 non-null      int64 \n",
      " 5   endmonth             5 non-null      object\n",
      " 6   endday               5 non-null      int64 \n",
      " 7   hemisphere           5 non-null      object\n",
      " 8   preferredhemisphere  5 non-null      object\n",
      "dtypes: int64(2), object(7)\n",
      "memory usage: 492.0+ bytes\n",
      "<class 'pandas.core.frame.DataFrame'>\n",
      "RangeIndex: 256 entries, 0 to 255\n",
      "Data columns (total 3 columns):\n",
      " #   Column    Non-Null Count  Dtype  \n",
      "---  ------    --------------  -----  \n",
      " 0   city      256 non-null    object \n",
      " 1   latitude  256 non-null    float64\n",
      " 2   country   256 non-null    object \n",
      "dtypes: float64(1), object(2)\n",
      "memory usage: 6.1+ KB\n",
      "<class 'pandas.core.frame.DataFrame'>\n",
      "RangeIndex: 366 entries, 0 to 365\n",
      "Data columns (total 4 columns):\n",
      " #   Column        Non-Null Count  Dtype \n",
      "---  ------        --------------  ----- \n",
      " 0   month         366 non-null    object\n",
      " 1   day           366 non-null    int64 \n",
      " 2   moonphase     50 non-null     object\n",
      " 3   specialevent  10 non-null     object\n",
      "dtypes: int64(1), object(3)\n",
      "memory usage: 11.6+ KB\n",
      "<class 'pandas.core.frame.DataFrame'>\n",
      "RangeIndex: 5 entries, 0 to 4\n",
      "Data columns (total 6 columns):\n",
      " #   Column         Non-Null Count  Dtype \n",
      "---  ------         --------------  ----- \n",
      " 0   constellation  5 non-null      object\n",
      " 1   bestmonth      5 non-null      object\n",
      " 2   latitudestart  5 non-null      int64 \n",
      " 3   latitudeend    5 non-null      int64 \n",
      " 4   besttime       5 non-null      object\n",
      " 5   hemisphere     5 non-null      object\n",
      "dtypes: int64(2), object(4)\n",
      "memory usage: 372.0+ bytes\n"
     ]
    }
   ],
   "source": [
    "meteorshowers.info()\n",
    "cities.info()\n",
    "moon_phases.info()\n",
    "constellations.info()"
   ]
  },
  {
   "cell_type": "code",
   "execution_count": 4,
   "id": "7560b940-dc27-4937-ae4a-5caf196864b2",
   "metadata": {},
   "outputs": [
    {
     "data": {
      "text/html": [
       "<div>\n",
       "<style scoped>\n",
       "    .dataframe tbody tr th:only-of-type {\n",
       "        vertical-align: middle;\n",
       "    }\n",
       "\n",
       "    .dataframe tbody tr th {\n",
       "        vertical-align: top;\n",
       "    }\n",
       "\n",
       "    .dataframe thead th {\n",
       "        text-align: right;\n",
       "    }\n",
       "</style>\n",
       "<table border=\"1\" class=\"dataframe\">\n",
       "  <thead>\n",
       "    <tr style=\"text-align: right;\">\n",
       "      <th></th>\n",
       "      <th>name</th>\n",
       "      <th>radiant</th>\n",
       "      <th>bestmonth</th>\n",
       "      <th>startmonth</th>\n",
       "      <th>startday</th>\n",
       "      <th>endmonth</th>\n",
       "      <th>endday</th>\n",
       "      <th>hemisphere</th>\n",
       "      <th>preferredhemisphere</th>\n",
       "    </tr>\n",
       "  </thead>\n",
       "  <tbody>\n",
       "    <tr>\n",
       "      <th>0</th>\n",
       "      <td>Lyrids</td>\n",
       "      <td>Lyra</td>\n",
       "      <td>april</td>\n",
       "      <td>april</td>\n",
       "      <td>21</td>\n",
       "      <td>april</td>\n",
       "      <td>22</td>\n",
       "      <td>northern</td>\n",
       "      <td>northern</td>\n",
       "    </tr>\n",
       "    <tr>\n",
       "      <th>1</th>\n",
       "      <td>Eta Aquarids</td>\n",
       "      <td>Aquarius</td>\n",
       "      <td>may</td>\n",
       "      <td>april</td>\n",
       "      <td>19</td>\n",
       "      <td>may</td>\n",
       "      <td>28</td>\n",
       "      <td>northern, southern</td>\n",
       "      <td>southern</td>\n",
       "    </tr>\n",
       "    <tr>\n",
       "      <th>2</th>\n",
       "      <td>Orionids</td>\n",
       "      <td>Orion</td>\n",
       "      <td>october</td>\n",
       "      <td>october</td>\n",
       "      <td>2</td>\n",
       "      <td>november</td>\n",
       "      <td>7</td>\n",
       "      <td>northern, southern</td>\n",
       "      <td>northern, southern</td>\n",
       "    </tr>\n",
       "    <tr>\n",
       "      <th>3</th>\n",
       "      <td>Perseids</td>\n",
       "      <td>Perseus</td>\n",
       "      <td>august</td>\n",
       "      <td>july</td>\n",
       "      <td>14</td>\n",
       "      <td>august</td>\n",
       "      <td>24</td>\n",
       "      <td>northern</td>\n",
       "      <td>northern</td>\n",
       "    </tr>\n",
       "    <tr>\n",
       "      <th>4</th>\n",
       "      <td>Leonids</td>\n",
       "      <td>Leo</td>\n",
       "      <td>november</td>\n",
       "      <td>november</td>\n",
       "      <td>6</td>\n",
       "      <td>november</td>\n",
       "      <td>30</td>\n",
       "      <td>northern, southern</td>\n",
       "      <td>northern, southern</td>\n",
       "    </tr>\n",
       "  </tbody>\n",
       "</table>\n",
       "</div>"
      ],
      "text/plain": [
       "           name   radiant bestmonth startmonth  startday  endmonth  endday  \\\n",
       "0        Lyrids      Lyra     april      april        21     april      22   \n",
       "1  Eta Aquarids  Aquarius       may      april        19       may      28   \n",
       "2      Orionids     Orion   october    october         2  november       7   \n",
       "3      Perseids   Perseus    august       july        14    august      24   \n",
       "4       Leonids       Leo  november   november         6  november      30   \n",
       "\n",
       "           hemisphere preferredhemisphere  \n",
       "0            northern            northern  \n",
       "1  northern, southern            southern  \n",
       "2  northern, southern  northern, southern  \n",
       "3            northern            northern  \n",
       "4  northern, southern  northern, southern  "
      ]
     },
     "execution_count": 4,
     "metadata": {},
     "output_type": "execute_result"
    }
   ],
   "source": [
    "meteorshowers.head()"
   ]
  },
  {
   "cell_type": "code",
   "execution_count": 5,
   "id": "dc44d73e-c42a-49aa-a3e3-73117ea9059b",
   "metadata": {},
   "outputs": [
    {
     "data": {
      "text/plain": [
       "array(['april', 'october', 'july', 'november'], dtype=object)"
      ]
     },
     "execution_count": 5,
     "metadata": {},
     "output_type": "execute_result"
    }
   ],
   "source": [
    "meteorshowers['startmonth'].unique()"
   ]
  },
  {
   "cell_type": "code",
   "execution_count": 6,
   "id": "cae42a4d-1474-4d33-b87e-f72cf8e428f9",
   "metadata": {},
   "outputs": [],
   "source": [
    "months = {'january':1,'february':2,'march':3,'april':4,'may':5,'june':6,'july':7,'august':8,'september':9,'october':10,'november':11,'december':12}"
   ]
  },
  {
   "cell_type": "code",
   "execution_count": 7,
   "id": "e7b24227-f9ec-4073-ac5a-4419a6be1114",
   "metadata": {},
   "outputs": [],
   "source": [
    "#딕셔너리를 이요한 mapping\n",
    "meteorshowers['startmonth']=meteorshowers['startmonth'].map(months)\n",
    "meteorshowers['bestmonth']=meteorshowers['bestmonth'].map(months)\n",
    "meteorshowers['endmonth']=meteorshowers['endmonth'].map(months)"
   ]
  },
  {
   "cell_type": "code",
   "execution_count": 8,
   "id": "f660de46-e67b-474c-8795-e76162fee00e",
   "metadata": {},
   "outputs": [
    {
     "name": "stdout",
     "output_type": "stream",
     "text": [
      "<class 'pandas.core.frame.DataFrame'>\n",
      "RangeIndex: 5 entries, 0 to 4\n",
      "Data columns (total 9 columns):\n",
      " #   Column               Non-Null Count  Dtype \n",
      "---  ------               --------------  ----- \n",
      " 0   name                 5 non-null      object\n",
      " 1   radiant              5 non-null      object\n",
      " 2   bestmonth            5 non-null      int64 \n",
      " 3   startmonth           5 non-null      int64 \n",
      " 4   startday             5 non-null      int64 \n",
      " 5   endmonth             5 non-null      int64 \n",
      " 6   endday               5 non-null      int64 \n",
      " 7   hemisphere           5 non-null      object\n",
      " 8   preferredhemisphere  5 non-null      object\n",
      "dtypes: int64(5), object(4)\n",
      "memory usage: 492.0+ bytes\n"
     ]
    }
   ],
   "source": [
    "meteorshowers.info()"
   ]
  },
  {
   "cell_type": "code",
   "execution_count": 9,
   "id": "9a91d768-cf81-432b-89c4-6705ec51e6fe",
   "metadata": {},
   "outputs": [],
   "source": [
    "#날짜 형식의 데이터로 만들겠다.\n",
    "meteorshowers['startdate']=2020*10000+meteorshowers['startmonth']*100+meteorshowers['startday']"
   ]
  },
  {
   "cell_type": "code",
   "execution_count": 10,
   "id": "488ca606-1f8e-459d-a055-4926122beacf",
   "metadata": {},
   "outputs": [],
   "source": [
    "meteorshowers['startdate']=pd.to_datetime(meteorshowers['startdate'], format='%Y%m%d')"
   ]
  },
  {
   "cell_type": "code",
   "execution_count": 11,
   "id": "451fa8b4-d585-4a21-b44b-ff70111081ba",
   "metadata": {},
   "outputs": [],
   "source": [
    "meteorshowers['enddate']=pd.to_datetime(2020*10000+meteorshowers['endmonth']*100+meteorshowers['endday'],format='%Y%m%d')"
   ]
  },
  {
   "cell_type": "code",
   "execution_count": 12,
   "id": "6e2e820f-732f-412e-b7e9-0a21073a6111",
   "metadata": {},
   "outputs": [
    {
     "name": "stdout",
     "output_type": "stream",
     "text": [
      "<class 'pandas.core.frame.DataFrame'>\n",
      "RangeIndex: 366 entries, 0 to 365\n",
      "Data columns (total 4 columns):\n",
      " #   Column        Non-Null Count  Dtype \n",
      "---  ------        --------------  ----- \n",
      " 0   month         366 non-null    object\n",
      " 1   day           366 non-null    int64 \n",
      " 2   moonphase     50 non-null     object\n",
      " 3   specialevent  10 non-null     object\n",
      "dtypes: int64(1), object(3)\n",
      "memory usage: 11.6+ KB\n"
     ]
    }
   ],
   "source": [
    "moon_phases.info()\n",
    "moon_phases['month']=moon_phases['month'].map(months)"
   ]
  },
  {
   "cell_type": "code",
   "execution_count": 13,
   "id": "974fca4e-c348-4408-b215-4a6cdaa0e3c6",
   "metadata": {},
   "outputs": [],
   "source": [
    "moon_phases['date']=pd.to_datetime(2020*10000+moon_phases['month']*100+moon_phases['day'],format='%Y%m%d')"
   ]
  },
  {
   "cell_type": "code",
   "execution_count": 14,
   "id": "41c7dff4-c495-4e41-99a5-b01367182ff4",
   "metadata": {},
   "outputs": [
    {
     "data": {
      "text/plain": [
       "array([nan, 'first quarter', 'full moon', 'third quarter', 'new moon'],\n",
       "      dtype=object)"
      ]
     },
     "execution_count": 14,
     "metadata": {},
     "output_type": "execute_result"
    }
   ],
   "source": [
    "moon_phases['moonphase'].unique()"
   ]
  },
  {
   "cell_type": "code",
   "execution_count": 15,
   "id": "42b1448a-7af0-4753-8661-bfdfd84492fc",
   "metadata": {},
   "outputs": [],
   "source": [
    "phases={'first quarter':0.5, 'full moon':1,'third quarter':0.5, 'new moon':0}"
   ]
  },
  {
   "cell_type": "code",
   "execution_count": 16,
   "id": "7b378fe0-9124-4024-9974-51bd03c830f2",
   "metadata": {},
   "outputs": [],
   "source": [
    "moon_phases['percentage']=moon_phases['moonphase'].map(phases)"
   ]
  },
  {
   "cell_type": "code",
   "execution_count": 17,
   "id": "6703a38a-f0a8-4a25-b459-2e71a211c101",
   "metadata": {},
   "outputs": [],
   "source": [
    "moon_phases.drop(['month','day','moonphase','specialevent'],axis=1,inplace=True)"
   ]
  },
  {
   "cell_type": "code",
   "execution_count": 18,
   "id": "639301cb-d74a-448f-9531-d45969cbcf46",
   "metadata": {},
   "outputs": [],
   "source": [
    "meteorshowers.drop(['startmonth','startday','endmonth','endday','hemisphere'],axis=1,inplace=True)"
   ]
  },
  {
   "cell_type": "code",
   "execution_count": 19,
   "id": "9c0bcecf-e783-4fc5-acc6-8a5669921dfd",
   "metadata": {},
   "outputs": [],
   "source": [
    "constellations.drop(['besttime'],axis=1,inplace=True)"
   ]
  },
  {
   "cell_type": "code",
   "execution_count": 20,
   "id": "0e649eff-164c-4e31-b85c-f3185eb83edf",
   "metadata": {},
   "outputs": [
    {
     "name": "stdout",
     "output_type": "stream",
     "text": [
      "0/ndate         2020-01-01\n",
      "percentage          NaT\n",
      "Name: 0, dtype: datetime64[ns]\n"
     ]
    }
   ],
   "source": [
    "for index,row in moon_phases.iterrows():\n",
    "    print(index,row,sep='/n')\n",
    "    break"
   ]
  },
  {
   "cell_type": "code",
   "execution_count": 21,
   "id": "93991490-0175-48c1-898a-8df189933e85",
   "metadata": {},
   "outputs": [
    {
     "name": "stdout",
     "output_type": "stream",
     "text": [
      "0 NaT\n"
     ]
    }
   ],
   "source": [
    "for index,row in moon_phases.iterrows():\n",
    "    print(index,row['percentage'])\n",
    "    break"
   ]
  },
  {
   "cell_type": "code",
   "execution_count": 22,
   "id": "acb3a7bb-251b-4283-86ed-ec36fa01f555",
   "metadata": {},
   "outputs": [],
   "source": [
    "moon_phases1=moon_phases.copy()"
   ]
  },
  {
   "cell_type": "code",
   "execution_count": 23,
   "id": "1963d7cc-1d6f-45ee-94c6-9397e469df6d",
   "metadata": {},
   "outputs": [],
   "source": [
    "lastphase=0\n",
    "for index,row in moon_phases.iterrows():\n",
    "    if pd.isnull(row['percentage']):\n",
    "        moon_phases.loc[index,'percentage']=lastphase\n",
    "    else:\n",
    "        lastphase = moon_phases.loc[index,'percentage']"
   ]
  },
  {
   "cell_type": "code",
   "execution_count": 24,
   "id": "86ffd316-8894-4f99-a772-0329d43503b5",
   "metadata": {},
   "outputs": [
    {
     "data": {
      "text/html": [
       "<div>\n",
       "<style scoped>\n",
       "    .dataframe tbody tr th:only-of-type {\n",
       "        vertical-align: middle;\n",
       "    }\n",
       "\n",
       "    .dataframe tbody tr th {\n",
       "        vertical-align: top;\n",
       "    }\n",
       "\n",
       "    .dataframe thead th {\n",
       "        text-align: right;\n",
       "    }\n",
       "</style>\n",
       "<table border=\"1\" class=\"dataframe\">\n",
       "  <thead>\n",
       "    <tr style=\"text-align: right;\">\n",
       "      <th></th>\n",
       "      <th>date</th>\n",
       "      <th>percentage</th>\n",
       "    </tr>\n",
       "  </thead>\n",
       "  <tbody>\n",
       "    <tr>\n",
       "      <th>0</th>\n",
       "      <td>2020-01-01</td>\n",
       "      <td>0.0</td>\n",
       "    </tr>\n",
       "    <tr>\n",
       "      <th>1</th>\n",
       "      <td>2020-01-02</td>\n",
       "      <td>0.5</td>\n",
       "    </tr>\n",
       "    <tr>\n",
       "      <th>2</th>\n",
       "      <td>2020-01-03</td>\n",
       "      <td>0.5</td>\n",
       "    </tr>\n",
       "    <tr>\n",
       "      <th>3</th>\n",
       "      <td>2020-01-04</td>\n",
       "      <td>0.5</td>\n",
       "    </tr>\n",
       "    <tr>\n",
       "      <th>4</th>\n",
       "      <td>2020-01-05</td>\n",
       "      <td>0.5</td>\n",
       "    </tr>\n",
       "  </tbody>\n",
       "</table>\n",
       "</div>"
      ],
      "text/plain": [
       "        date  percentage\n",
       "0 2020-01-01         0.0\n",
       "1 2020-01-02         0.5\n",
       "2 2020-01-03         0.5\n",
       "3 2020-01-04         0.5\n",
       "4 2020-01-05         0.5"
      ]
     },
     "execution_count": 24,
     "metadata": {},
     "output_type": "execute_result"
    }
   ],
   "source": [
    "moon_phases.head()"
   ]
  },
  {
   "cell_type": "markdown",
   "id": "ab150147-6616-479d-a417-0c7336b5594b",
   "metadata": {},
   "source": [
    "* 위도를 체크하고 해당 도시에 표시되는 별자리를 확인 \n",
    "* 그 후 별자리를 복사점으로 가지는 유성우 시작일과 종료일 정보확인\n",
    "* 달의 위상 최저치 추출(달이 가장 어두운 날을 검색 및 출력)"
   ]
  },
  {
   "cell_type": "markdown",
   "id": "dc15cb98-43a3-44ff-ba93-a61ddf963dcf",
   "metadata": {},
   "source": [
    "## 도시의 위도 검색"
   ]
  },
  {
   "cell_type": "code",
   "execution_count": 25,
   "id": "a7a937dc-66a0-496c-b9c1-4ce8ada2bfee",
   "metadata": {},
   "outputs": [
    {
     "data": {
      "text/plain": [
       "Index(['city', 'latitude', 'country'], dtype='object')"
      ]
     },
     "execution_count": 25,
     "metadata": {},
     "output_type": "execute_result"
    }
   ],
   "source": [
    "cities.columns"
   ]
  },
  {
   "cell_type": "code",
   "execution_count": 26,
   "id": "842a70a3-740a-48c8-91e7-7df083404c73",
   "metadata": {
    "scrolled": true
   },
   "outputs": [
    {
     "data": {
      "text/html": [
       "<div>\n",
       "<style scoped>\n",
       "    .dataframe tbody tr th:only-of-type {\n",
       "        vertical-align: middle;\n",
       "    }\n",
       "\n",
       "    .dataframe tbody tr th {\n",
       "        vertical-align: top;\n",
       "    }\n",
       "\n",
       "    .dataframe thead th {\n",
       "        text-align: right;\n",
       "    }\n",
       "</style>\n",
       "<table border=\"1\" class=\"dataframe\">\n",
       "  <thead>\n",
       "    <tr style=\"text-align: right;\">\n",
       "      <th></th>\n",
       "      <th>city</th>\n",
       "      <th>latitude</th>\n",
       "    </tr>\n",
       "  </thead>\n",
       "  <tbody>\n",
       "    <tr>\n",
       "      <th>0</th>\n",
       "      <td>Abu Dhabi</td>\n",
       "      <td>24.47</td>\n",
       "    </tr>\n",
       "    <tr>\n",
       "      <th>1</th>\n",
       "      <td>Abuja</td>\n",
       "      <td>9.07</td>\n",
       "    </tr>\n",
       "    <tr>\n",
       "      <th>2</th>\n",
       "      <td>Accra</td>\n",
       "      <td>5.55</td>\n",
       "    </tr>\n",
       "    <tr>\n",
       "      <th>3</th>\n",
       "      <td>Adamstown</td>\n",
       "      <td>-25.07</td>\n",
       "    </tr>\n",
       "    <tr>\n",
       "      <th>4</th>\n",
       "      <td>Addis Ababa</td>\n",
       "      <td>9.02</td>\n",
       "    </tr>\n",
       "    <tr>\n",
       "      <th>...</th>\n",
       "      <td>...</td>\n",
       "      <td>...</td>\n",
       "    </tr>\n",
       "    <tr>\n",
       "      <th>251</th>\n",
       "      <td>Abidjan(former capital)</td>\n",
       "      <td>6.82</td>\n",
       "    </tr>\n",
       "    <tr>\n",
       "      <th>252</th>\n",
       "      <td>Yaounde</td>\n",
       "      <td>3.87</td>\n",
       "    </tr>\n",
       "    <tr>\n",
       "      <th>253</th>\n",
       "      <td>Yaren(de facto)</td>\n",
       "      <td>-0.53</td>\n",
       "    </tr>\n",
       "    <tr>\n",
       "      <th>254</th>\n",
       "      <td>Yerevan</td>\n",
       "      <td>40.18</td>\n",
       "    </tr>\n",
       "    <tr>\n",
       "      <th>255</th>\n",
       "      <td>Zagreb</td>\n",
       "      <td>45.82</td>\n",
       "    </tr>\n",
       "  </tbody>\n",
       "</table>\n",
       "<p>256 rows × 2 columns</p>\n",
       "</div>"
      ],
      "text/plain": [
       "                        city  latitude\n",
       "0                  Abu Dhabi     24.47\n",
       "1                      Abuja      9.07\n",
       "2                      Accra      5.55\n",
       "3                  Adamstown    -25.07\n",
       "4                Addis Ababa      9.02\n",
       "..                       ...       ...\n",
       "251  Abidjan(former capital)      6.82\n",
       "252                  Yaounde      3.87\n",
       "253          Yaren(de facto)     -0.53\n",
       "254                  Yerevan     40.18\n",
       "255                   Zagreb     45.82\n",
       "\n",
       "[256 rows x 2 columns]"
      ]
     },
     "execution_count": 26,
     "metadata": {},
     "output_type": "execute_result"
    }
   ],
   "source": [
    "cities[['city','latitude']]"
   ]
  },
  {
   "cell_type": "code",
   "execution_count": 27,
   "id": "69ba653f-1b66-4117-8888-e51e4044a2a8",
   "metadata": {},
   "outputs": [
    {
     "name": "stdout",
     "output_type": "stream",
     "text": [
      "Accra\n"
     ]
    }
   ],
   "source": [
    "c='Accra'\n",
    "if c in cities.values:\n",
    "    print(c)"
   ]
  },
  {
   "cell_type": "code",
   "execution_count": 28,
   "id": "e138864b-b2a5-49ae-a9fa-265ed0ca1c2b",
   "metadata": {},
   "outputs": [
    {
     "data": {
      "text/plain": [
       "array(['Abu Dhabi', 'Abuja', 'Accra', 'Adamstown', 'Addis Ababa',\n",
       "       'Algiers', 'Alofi', 'Amman', 'Amsterdam', 'Andorra la Vella',\n",
       "       'Ankara', 'Antananarivo', 'Apia', 'Ashgabat', 'Asmara', 'Asuncion',\n",
       "       'Athens', 'Avarua', 'Baghdad', 'Baku', 'Bamako',\n",
       "       'Bandar Seri Begawan', 'Bangkok', 'Bangui', 'Banjul', 'Basseterre',\n",
       "       'Beijing', 'Beirut', 'Belgrade', 'Belmopan', 'Berlin', 'Bern',\n",
       "       'Bishkek', 'Bissau', 'Bloemfontein(judicial)', 'Bogota',\n",
       "       'Brasilia', 'Bratislava', 'Brazzaville', 'Bridgetown', 'Brussels',\n",
       "       'Bucharest', 'Budapest', 'Buenos Aires', 'Cairo', 'Canberra',\n",
       "       'Cape Town(legislative)', 'Caracas', 'Castries', 'Cayenne',\n",
       "       'Charlotte Amalie', 'Chi-in-u', 'Conakry', 'Copenhagen', 'Dakar',\n",
       "       'Damascus', 'Dhaka', 'Dili', 'Djibouti', 'Dodoma(official)',\n",
       "       'Dar es Salaam(former capital; some government offices remaining)',\n",
       "       'Doha', 'Douglas', 'Dublin', 'Dushanbe',\n",
       "       'Edinburgh of the Seven Seas', 'El Aaiun(declared)',\n",
       "       'Episkopi Cantonment', 'Flying Fish Cove', 'Freetown', 'Funafuti',\n",
       "       'Gaborone', 'George Town', 'Georgetown', 'Gibraltar', 'Gitega',\n",
       "       'Guatemala City', 'Gustavia', 'Hagatna', 'Hamilton', 'Hanga Roa',\n",
       "       'Hanoi', 'Harare', 'Hargeisa', 'Havana', 'Helsinki', 'Honiara',\n",
       "       'Islamabad', 'Jakarta', 'Jamestown',\n",
       "       'Jerusalem(declared de facto)', 'Juba', 'Kabul', 'Kampala',\n",
       "       'Kathmandu', 'Khartoum', 'Kigali', 'King Edward Point', 'Kingston',\n",
       "       'Kingstown', 'Kinshasa',\n",
       "       'Kuala Lumpur(official legislative and royal)',\n",
       "       'Putrajaya(administrative and judicial)', 'Kutaisi(legislative)',\n",
       "       'Kuwait City', 'Kiev', 'Libreville', 'Lilongwe', 'Lima', 'Lisbon',\n",
       "       'Ljubljana', 'Lobamba(royal and legislative)', 'Lome', 'London',\n",
       "       'Longyearbyen', 'Luanda', 'Lusaka', 'Luxembourg', 'Madrid',\n",
       "       'Majuro', 'Malabo', 'Male', 'Managua', 'Manama', 'Manila',\n",
       "       'Maputo', 'Marigot', 'Maseru', 'Mata-Utu',\n",
       "       'Mbabane(administrative)', 'Mexico City', 'Minsk', 'Mogadishu',\n",
       "       'Monaco', 'Monrovia', 'Montevideo', 'Moroni', 'Moscow', 'Muscat',\n",
       "       'Nairobi', 'Nassau', 'Naypyidaw', \"N'Djamena\", 'New Delhi',\n",
       "       'Ngerulmud', 'Niamey', 'Nicosia', 'Nouakchott', 'Noumea',\n",
       "       'Nuku-alofa', 'Nur-Sultan (Astana)', 'Nuuk', 'Oranjestad', 'Oslo',\n",
       "       'Ottawa', 'Ouagadougou', 'Pago Pago', 'Palikir', 'Panama City',\n",
       "       'Papeete', 'Paramaribo', 'Paris', 'Philipsburg', 'Phnom Penh',\n",
       "       'Plymouth(official)', 'Brades Estate(de facto)',\n",
       "       'Podgorica(official)', 'Cetinje(seat of the President)',\n",
       "       'Port Louis', 'Port Moresby', 'Port Vila', 'Port-au-Prince',\n",
       "       'Port of Spain', 'Porto-Novo(official)', 'Cotonou(de facto)',\n",
       "       'Prague', 'Praia', 'Pretoria(executive)', 'Pristina', 'Pyongyang',\n",
       "       'Quito', 'Rabat', 'Reykjavik', 'Riga', 'Riyadh', 'Road Town',\n",
       "       'Rome', 'Roseau', 'Saipan', 'San Jose', 'San Juan', 'San Marino',\n",
       "       'San Salvador', \"Sana'a\", 'Santiago(official)',\n",
       "       'Valparaiso(legislative)', 'Santo Domingo', 'Sao Tome', 'Sarajevo',\n",
       "       'Seoul', 'Singapore', 'Skopje', 'Sofia',\n",
       "       'Sri Jayawardenepura Kotte(official)', 'Colombo(former capital)',\n",
       "       \"St. George's\", 'St. Helier', \"St. John's\", 'St. Peter Port',\n",
       "       'St. Pierre', 'Stanley', 'Stepanakert', 'Stockholm',\n",
       "       'Sucre(constitutional)', 'La Paz(administrative)', 'Sukhumi',\n",
       "       'Suva', 'Taipei', 'Tallinn', 'Tarawa', 'Tashkent',\n",
       "       'Tbilisi(official)', 'Tegucigalpa', 'Tehran', 'Thimphu', 'Tirana',\n",
       "       'Tiraspol', 'Tokyo', 'Torshavn', 'Tripoli', 'Tskhinvali', 'Tunis',\n",
       "       'Ulan Bator', 'Vaduz', 'Valletta', 'The Valley', 'Vatican City',\n",
       "       'Victoria', 'Vienna', 'Vientiane', 'Vilnius', 'Warsaw',\n",
       "       'Washington D.C.', 'Wellington', 'West Island', 'Willemstad',\n",
       "       'Windhoek', 'Yamoussoukro(official)', 'Abidjan(former capital)',\n",
       "       'Yaounde', 'Yaren(de facto)', 'Yerevan', 'Zagreb'], dtype=object)"
      ]
     },
     "execution_count": 28,
     "metadata": {},
     "output_type": "execute_result"
    }
   ],
   "source": [
    "cities['city'].unique()"
   ]
  },
  {
   "cell_type": "code",
   "execution_count": 29,
   "id": "d77705dc-55c6-4bfb-a110-e4024a19c9f5",
   "metadata": {},
   "outputs": [
    {
     "data": {
      "text/plain": [
       "0    24.47\n",
       "Name: latitude, dtype: float64"
      ]
     },
     "execution_count": 29,
     "metadata": {},
     "output_type": "execute_result"
    }
   ],
   "source": [
    "#아래 2가지 방식이 결과가 같다.\n",
    "#cities[cities['city']=='Abu Dhabia']['latitude']\n",
    "cities.loc[cities['city']=='Abu Dhabi','latitude']"
   ]
  },
  {
   "cell_type": "code",
   "execution_count": 30,
   "id": "82fbd629-d2c0-4cf5-975c-16d783cecf27",
   "metadata": {},
   "outputs": [
    {
     "ename": "KeyboardInterrupt",
     "evalue": "Interrupted by user",
     "output_type": "error",
     "traceback": [
      "\u001b[0;31m---------------------------------------------------------------------------\u001b[0m",
      "\u001b[0;31mKeyboardInterrupt\u001b[0m                         Traceback (most recent call last)",
      "Cell \u001b[0;32mIn[30], line 20\u001b[0m\n\u001b[1;32m     16\u001b[0m     shower_string \u001b[38;5;241m=\u001b[39m city \u001b[38;5;241m+\u001b[39m \u001b[38;5;124m'\u001b[39m\u001b[38;5;124m에서 유성우를 볼 수 있습니다.\u001b[39m\u001b[38;5;124m'\u001b[39m\n\u001b[1;32m     18\u001b[0m     \u001b[38;5;28;01mreturn\u001b[39;00m shower_string\n\u001b[0;32m---> 20\u001b[0m incity \u001b[38;5;241m=\u001b[39m \u001b[38;5;28;43minput\u001b[39;49m\u001b[43m(\u001b[49m\u001b[38;5;124;43m'\u001b[39;49m\u001b[38;5;124;43mcity>> \u001b[39;49m\u001b[38;5;124;43m'\u001b[39;49m\u001b[43m)\u001b[49m    \u001b[38;5;66;03m#function으로만들기\u001b[39;00m\n\u001b[1;32m     21\u001b[0m \u001b[38;5;28mprint\u001b[39m(predict_best_shower_viewing(incity))\n",
      "File \u001b[0;32m/opt/conda/lib/python3.11/site-packages/ipykernel/kernelbase.py:1202\u001b[0m, in \u001b[0;36mKernel.raw_input\u001b[0;34m(self, prompt)\u001b[0m\n\u001b[1;32m   1200\u001b[0m     msg \u001b[38;5;241m=\u001b[39m \u001b[38;5;124m\"\u001b[39m\u001b[38;5;124mraw_input was called, but this frontend does not support input requests.\u001b[39m\u001b[38;5;124m\"\u001b[39m\n\u001b[1;32m   1201\u001b[0m     \u001b[38;5;28;01mraise\u001b[39;00m StdinNotImplementedError(msg)\n\u001b[0;32m-> 1202\u001b[0m \u001b[38;5;28;01mreturn\u001b[39;00m \u001b[38;5;28;43mself\u001b[39;49m\u001b[38;5;241;43m.\u001b[39;49m\u001b[43m_input_request\u001b[49m\u001b[43m(\u001b[49m\n\u001b[1;32m   1203\u001b[0m \u001b[43m    \u001b[49m\u001b[38;5;28;43mstr\u001b[39;49m\u001b[43m(\u001b[49m\u001b[43mprompt\u001b[49m\u001b[43m)\u001b[49m\u001b[43m,\u001b[49m\n\u001b[1;32m   1204\u001b[0m \u001b[43m    \u001b[49m\u001b[38;5;28;43mself\u001b[39;49m\u001b[38;5;241;43m.\u001b[39;49m\u001b[43m_parent_ident\u001b[49m\u001b[43m[\u001b[49m\u001b[38;5;124;43m\"\u001b[39;49m\u001b[38;5;124;43mshell\u001b[39;49m\u001b[38;5;124;43m\"\u001b[39;49m\u001b[43m]\u001b[49m\u001b[43m,\u001b[49m\n\u001b[1;32m   1205\u001b[0m \u001b[43m    \u001b[49m\u001b[38;5;28;43mself\u001b[39;49m\u001b[38;5;241;43m.\u001b[39;49m\u001b[43mget_parent\u001b[49m\u001b[43m(\u001b[49m\u001b[38;5;124;43m\"\u001b[39;49m\u001b[38;5;124;43mshell\u001b[39;49m\u001b[38;5;124;43m\"\u001b[39;49m\u001b[43m)\u001b[49m\u001b[43m,\u001b[49m\n\u001b[1;32m   1206\u001b[0m \u001b[43m    \u001b[49m\u001b[43mpassword\u001b[49m\u001b[38;5;241;43m=\u001b[39;49m\u001b[38;5;28;43;01mFalse\u001b[39;49;00m\u001b[43m,\u001b[49m\n\u001b[1;32m   1207\u001b[0m \u001b[43m\u001b[49m\u001b[43m)\u001b[49m\n",
      "File \u001b[0;32m/opt/conda/lib/python3.11/site-packages/ipykernel/kernelbase.py:1245\u001b[0m, in \u001b[0;36mKernel._input_request\u001b[0;34m(self, prompt, ident, parent, password)\u001b[0m\n\u001b[1;32m   1242\u001b[0m \u001b[38;5;28;01mexcept\u001b[39;00m \u001b[38;5;167;01mKeyboardInterrupt\u001b[39;00m:\n\u001b[1;32m   1243\u001b[0m     \u001b[38;5;66;03m# re-raise KeyboardInterrupt, to truncate traceback\u001b[39;00m\n\u001b[1;32m   1244\u001b[0m     msg \u001b[38;5;241m=\u001b[39m \u001b[38;5;124m\"\u001b[39m\u001b[38;5;124mInterrupted by user\u001b[39m\u001b[38;5;124m\"\u001b[39m\n\u001b[0;32m-> 1245\u001b[0m     \u001b[38;5;28;01mraise\u001b[39;00m \u001b[38;5;167;01mKeyboardInterrupt\u001b[39;00m(msg) \u001b[38;5;28;01mfrom\u001b[39;00m \u001b[38;5;28;01mNone\u001b[39;00m\n\u001b[1;32m   1246\u001b[0m \u001b[38;5;28;01mexcept\u001b[39;00m \u001b[38;5;167;01mException\u001b[39;00m:\n\u001b[1;32m   1247\u001b[0m     \u001b[38;5;28mself\u001b[39m\u001b[38;5;241m.\u001b[39mlog\u001b[38;5;241m.\u001b[39mwarning(\u001b[38;5;124m\"\u001b[39m\u001b[38;5;124mInvalid Message:\u001b[39m\u001b[38;5;124m\"\u001b[39m, exc_info\u001b[38;5;241m=\u001b[39m\u001b[38;5;28;01mTrue\u001b[39;00m)\n",
      "\u001b[0;31mKeyboardInterrupt\u001b[0m: Interrupted by user"
     ]
    }
   ],
   "source": [
    "#위도 가져오는 사용자 정의 함수 정의\n",
    "def predict_best_shower_viewing(city):\n",
    "\n",
    "    shower_string = \"\"\n",
    "    if city not in cities.values:\n",
    "        shower_string = city + '는 현재 예측할 수 없습니다.'\n",
    "        return shower_string\n",
    "\n",
    "    \n",
    "    latitude = cities.loc[cities['city']==city,'latitude'].iloc[0]\n",
    "    constellations_list = constellations.loc[(constellations['latitudestart']>=latitude)&(constellations['latitudeend']<=latitude),'constellation'].to_list()\n",
    "\n",
    "    if not constellations_list:\n",
    "        shower_string = city + \"에서는 볼 수 있는 유성우는 없습니다\"\n",
    "        return shower_string\n",
    "    shower_string = city + '에서 유성우를 볼 수 있습니다.'\n",
    "    \n",
    "    return shower_string\n",
    "\n",
    "incity = input('city>> ')    #function으로만들기\n",
    "print(predict_best_shower_viewing(incity))"
   ]
  },
  {
   "cell_type": "code",
   "execution_count": null,
   "id": "97a7170f-3726-4828-ab0d-64d9f2ebfd60",
   "metadata": {},
   "outputs": [],
   "source": []
  },
  {
   "cell_type": "code",
   "execution_count": null,
   "id": "b85b7317-d67c-4180-a0bf-065da57188f9",
   "metadata": {},
   "outputs": [],
   "source": []
  }
 ],
 "metadata": {
  "kernelspec": {
   "display_name": "Python 3 (ipykernel)",
   "language": "python",
   "name": "python3"
  },
  "language_info": {
   "codemirror_mode": {
    "name": "ipython",
    "version": 3
   },
   "file_extension": ".py",
   "mimetype": "text/x-python",
   "name": "python",
   "nbconvert_exporter": "python",
   "pygments_lexer": "ipython3",
   "version": "3.11.6"
  }
 },
 "nbformat": 4,
 "nbformat_minor": 5
}
