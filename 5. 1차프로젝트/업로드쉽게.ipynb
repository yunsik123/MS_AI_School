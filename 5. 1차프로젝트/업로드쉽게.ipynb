{
 "cells": [
  {
   "cell_type": "code",
   "execution_count": 76,
   "metadata": {},
   "outputs": [
    {
     "name": "stdout",
     "output_type": "stream",
     "text": [
      "Converted 화면 캡처 2024-07-22 151858.jpg to 화면 캡처 2024-07-22 151858.jpg\n",
      "Converted 화면 캡처 2024-07-22 151913.jpg to 화면 캡처 2024-07-22 151913.jpg\n",
      "Converted 화면 캡처 2024-07-22 151933.jpg to 화면 캡처 2024-07-22 151933.jpg\n",
      "Converted 화면 캡처 2024-07-22 151949.jpg to 화면 캡처 2024-07-22 151949.jpg\n",
      "Converted 화면 캡처 2024-07-22 152005.jpg to 화면 캡처 2024-07-22 152005.jpg\n",
      "Converted 화면 캡처 2024-07-22 152025.jpg to 화면 캡처 2024-07-22 152025.jpg\n",
      "Converted 화면 캡처 2024-07-22 152041.jpg to 화면 캡처 2024-07-22 152041.jpg\n",
      "Converted 화면 캡처 2024-07-22 152059.jpg to 화면 캡처 2024-07-22 152059.jpg\n",
      "Converted 화면 캡처 2024-07-22 152113.jpg to 화면 캡처 2024-07-22 152113.jpg\n",
      "Converted 화면 캡처 2024-07-22 152132.jpg to 화면 캡처 2024-07-22 152132.jpg\n",
      "Converted 화면 캡처 2024-07-22 152143.jpg to 화면 캡처 2024-07-22 152143.jpg\n",
      "Converted 화면 캡처 2024-07-22 152156.jpg to 화면 캡처 2024-07-22 152156.jpg\n",
      "Converted 화면 캡처 2024-07-22 152207.jpg to 화면 캡처 2024-07-22 152207.jpg\n",
      "Converted 화면 캡처 2024-07-22 152221.jpg to 화면 캡처 2024-07-22 152221.jpg\n",
      "Converted 화면 캡처 2024-07-22 152232.jpg to 화면 캡처 2024-07-22 152232.jpg\n",
      "Converted 화면 캡처 2024-07-22 152247.jpg to 화면 캡처 2024-07-22 152247.jpg\n",
      "Converted 화면 캡처 2024-07-22 152259.jpg to 화면 캡처 2024-07-22 152259.jpg\n",
      "Converted 화면 캡처 2024-07-22 152311.jpg to 화면 캡처 2024-07-22 152311.jpg\n",
      "Converted 화면 캡처 2024-07-22 152322.jpg to 화면 캡처 2024-07-22 152322.jpg\n",
      "Converted 화면 캡처 2024-07-22 152333.jpg to 화면 캡처 2024-07-22 152333.jpg\n",
      "Converted 화면 캡처 2024-07-22 152345.jpg to 화면 캡처 2024-07-22 152345.jpg\n",
      "Converted 화면 캡처 2024-07-22 152355.jpg to 화면 캡처 2024-07-22 152355.jpg\n",
      "Converted 화면 캡처 2024-07-22 152408.jpg to 화면 캡처 2024-07-22 152408.jpg\n",
      "Converted 화면 캡처 2024-07-22 152421.jpg to 화면 캡처 2024-07-22 152421.jpg\n",
      "Converted 화면 캡처 2024-07-22 152432.jpg to 화면 캡처 2024-07-22 152432.jpg\n",
      "Converted 화면 캡처 2024-07-22 152446.jpg to 화면 캡처 2024-07-22 152446.jpg\n",
      "Converted 화면 캡처 2024-07-22 152457.jpg to 화면 캡처 2024-07-22 152457.jpg\n",
      "Converted 화면 캡처 2024-07-22 152507.jpg to 화면 캡처 2024-07-22 152507.jpg\n",
      "Converted 화면 캡처 2024-07-22 152518.jpg to 화면 캡처 2024-07-22 152518.jpg\n",
      "Converted 화면 캡처 2024-07-22 152531.jpg to 화면 캡처 2024-07-22 152531.jpg\n",
      "Converted 화면 캡처 2024-07-22 152542.jpg to 화면 캡처 2024-07-22 152542.jpg\n",
      "Converted 화면 캡처 2024-07-22 152558.jpg to 화면 캡처 2024-07-22 152558.jpg\n",
      "Converted 화면 캡처 2024-07-22 152608.jpg to 화면 캡처 2024-07-22 152608.jpg\n",
      "Converted 화면 캡처 2024-07-22 152618.jpg to 화면 캡처 2024-07-22 152618.jpg\n",
      "Converted 화면 캡처 2024-07-22 152628.jpg to 화면 캡처 2024-07-22 152628.jpg\n",
      "Converted 화면 캡처 2024-07-22 152639.jpg to 화면 캡처 2024-07-22 152639.jpg\n",
      "Converted 화면 캡처 2024-07-22 152648.jpg to 화면 캡처 2024-07-22 152648.jpg\n",
      "Converted 화면 캡처 2024-07-22 152703.jpg to 화면 캡처 2024-07-22 152703.jpg\n",
      "Converted 화면 캡처 2024-07-22 152713.jpg to 화면 캡처 2024-07-22 152713.jpg\n",
      "Converted 화면 캡처 2024-07-22 152724.jpg to 화면 캡처 2024-07-22 152724.jpg\n",
      "Converted 화면 캡처 2024-07-22 152735.jpg to 화면 캡처 2024-07-22 152735.jpg\n",
      "Converted 화면 캡처 2024-07-22 152745.jpg to 화면 캡처 2024-07-22 152745.jpg\n",
      "Converted 화면 캡처 2024-07-22 152758.jpg to 화면 캡처 2024-07-22 152758.jpg\n",
      "Converted 화면 캡처 2024-07-22 152808.jpg to 화면 캡처 2024-07-22 152808.jpg\n",
      "Converted 화면 캡처 2024-07-22 152820.jpg to 화면 캡처 2024-07-22 152820.jpg\n",
      "Converted 화면 캡처 2024-07-22 152829.jpg to 화면 캡처 2024-07-22 152829.jpg\n",
      "Converted 화면 캡처 2024-07-22 152839.jpg to 화면 캡처 2024-07-22 152839.jpg\n",
      "Converted 화면 캡처 2024-07-22 152848.jpg to 화면 캡처 2024-07-22 152848.jpg\n",
      "Converted 화면 캡처 2024-07-22 152859.jpg to 화면 캡처 2024-07-22 152859.jpg\n",
      "Converted 화면 캡처 2024-07-22 152908.jpg to 화면 캡처 2024-07-22 152908.jpg\n",
      "Converted 화면 캡처 2024-07-22 152918.jpg to 화면 캡처 2024-07-22 152918.jpg\n",
      "Converted 화면 캡처 2024-07-22 152929.jpg to 화면 캡처 2024-07-22 152929.jpg\n"
     ]
    }
   ],
   "source": [
    "from PIL import Image\n",
    "import os\n",
    "\n",
    "def convert_images_to_jpg(input_folder, output_folder):\n",
    "    if not os.path.exists(output_folder):\n",
    "        os.makedirs(output_folder)\n",
    "\n",
    "    # Iterate over all files in the input folder\n",
    "    for filename in os.listdir(input_folder):\n",
    "        # Construct full file path\n",
    "        file_path = os.path.join(input_folder, filename)\n",
    "        \n",
    "        # Check if it is a file\n",
    "        if os.path.isfile(file_path):\n",
    "            try:\n",
    "                # Open the image file\n",
    "                with Image.open(file_path) as img:\n",
    "                    # Convert the image to RGB (necessary for JPEG format)\n",
    "                    rgb_img = img.convert('RGB')\n",
    "                    \n",
    "                    # Create new filename with .jpg extension\n",
    "                    new_filename = os.path.splitext(filename)[0] + '.jpg'\n",
    "                    new_file_path = os.path.join(output_folder, new_filename)\n",
    "                    \n",
    "                    # Save the image in JPG format\n",
    "                    rgb_img.save(new_file_path, 'JPEG')\n",
    "                    \n",
    "                    print(f'Converted {filename} to {new_filename}')\n",
    "            except Exception as e:\n",
    "                print(f'Error processing {filename}: {e}')\n",
    "\n",
    "# Example usage\n",
    "input_folder = \"C:/Users/USER/Desktop/new그립플라이어\"  # Replace with the path to your folder containing images\n",
    "output_folder = \"C:/Users/USER/Desktop/그립플라이어200jpg\"  # Replace with the path to your output folder\n",
    "\n",
    "convert_images_to_jpg(input_folder, output_folder)\n"
   ]
  },
  {
   "cell_type": "code",
   "execution_count": 77,
   "metadata": {},
   "outputs": [
    {
     "name": "stdout",
     "output_type": "stream",
     "text": [
      "파일 이름 변경 완료\n"
     ]
    }
   ],
   "source": [
    "import os\n",
    "import re\n",
    "\n",
    "# 디렉토리 경로 설정\n",
    "directory = \"C:/Users/USER/Desktop/그립플라이어200jpg\"\n",
    "\n",
    "# 디렉토리 내 파일 목록 가져오기\n",
    "files = os.listdir(directory)\n",
    "\n",
    "# 정규 표현식으로 파일 이름 정렬 (숫자가 포함된 파일 이름을 기준으로 정렬)\n",
    "files.sort(key=lambda x: int(re.search(r'\\d+', x).group()))\n",
    "\n",
    "# 파일 이름을 snap_{i+1} 형식으로 변경\n",
    "for i, filename in enumerate(files):\n",
    "    # 파일 확장자 추출\n",
    "    file_extension = os.path.splitext(filename)[1]\n",
    "    \n",
    "    # 새 파일 이름 생성\n",
    "    new_name = f'grip_{i+1}{file_extension}'\n",
    "    \n",
    "    # 경로 설정\n",
    "    old_path = os.path.join(directory, filename)\n",
    "    new_path = os.path.join(directory, new_name)\n",
    "    \n",
    "    # 파일 이름 변경\n",
    "    os.rename(old_path, new_path)\n",
    "\n",
    "print(\"파일 이름 변경 완료\")\n"
   ]
  },
  {
   "cell_type": "code",
   "execution_count": 78,
   "metadata": {},
   "outputs": [],
   "source": [
    "from azure.cognitiveservices.vision.customvision.training import CustomVisionTrainingClient\n",
    "from azure.cognitiveservices.vision.customvision.prediction import CustomVisionPredictionClient\n",
    "from azure.cognitiveservices.vision.customvision.training.models import ImageFileCreateBatch, ImageFileCreateEntry, Region\n",
    "from msrest.authentication import ApiKeyCredentials\n",
    "import os, time, uuid"
   ]
  },
  {
   "cell_type": "code",
   "execution_count": 79,
   "metadata": {},
   "outputs": [],
   "source": [
    "ENDPOINT = os.environ[\"VISION_TRAINING_ENDPOINT\"]\n",
    "training_key = os.environ[\"VISION_TRAINING_KEY\"]\n",
    "prediction_key = os.environ[\"VISION_PREDICTION_KEY\"]\n",
    "prediction_resource_id = os.environ[\"VISION_PREDICTION_RESOURCE_ID\"]"
   ]
  },
  {
   "cell_type": "code",
   "execution_count": 80,
   "metadata": {},
   "outputs": [],
   "source": [
    "credentials = ApiKeyCredentials(in_headers={\"Training-key\": training_key})\n",
    "trainer = CustomVisionTrainingClient(ENDPOINT, credentials)\n",
    "prediction_credentials = ApiKeyCredentials(in_headers={\"Prediction-key\": prediction_key})\n",
    "predictor = CustomVisionPredictionClient(ENDPOINT, prediction_credentials)"
   ]
  },
  {
   "cell_type": "code",
   "execution_count": 81,
   "metadata": {},
   "outputs": [
    {
     "name": "stdout",
     "output_type": "stream",
     "text": [
      "Creating project...\n"
     ]
    }
   ],
   "source": [
    "publish_iteration_name = \"detectModel\"\n",
    "\n",
    "# Find the object detection domain\n",
    "obj_detection_domain = next(domain for domain in trainer.get_domains() if domain.type == \"ObjectDetection\" and domain.name == \"General\")\n",
    "\n",
    "# Create a new project\n",
    "print (\"Creating project...\")\n",
    "# Use uuid to avoid project name collisions.\n",
    "project = trainer.create_project(str(uuid.uuid4()), domain_id=obj_detection_domain.id)"
   ]
  },
  {
   "cell_type": "code",
   "execution_count": 82,
   "metadata": {},
   "outputs": [],
   "source": [
    "# Make two tags in the new project\n",
    "snap_tag = trainer.create_tag(project.id, \"snap200\")\n",
    "grip_tag = trainer.create_tag(project.id, \"grip200\")"
   ]
  },
  {
   "cell_type": "code",
   "execution_count": 83,
   "metadata": {},
   "outputs": [],
   "source": [
    "snap_image_regions = {f\"snap_{i+1}\": [0, 0, 1, 1] for i in range(500)}\n",
    "grip_image_regions = {f\"grip_{i+1}\": [0, 0, 1, 1] for i in range(50)}"
   ]
  },
  {
   "cell_type": "code",
   "execution_count": 84,
   "metadata": {},
   "outputs": [
    {
     "name": "stdout",
     "output_type": "stream",
     "text": [
      "Adding images...\n"
     ]
    }
   ],
   "source": [
    "base_image_location = \"C:/Users/USER/Desktop/그립플라이어200jpg\"\n",
    "# Go through the data table above and create the images\n",
    "print (\"Adding images...\")\n",
    "tagged_images_with_regions = []#태깅을위한 리스트 초기화"
   ]
  },
  {
   "cell_type": "code",
   "execution_count": 85,
   "metadata": {},
   "outputs": [],
   "source": [
    "for file_name in grip_image_regions.keys():\n",
    "    x,y,w,h = grip_image_regions[file_name]\n",
    "    regions = [ Region(tag_id=grip_tag.id, left=x,top=y,width=w,height=h) ]\n",
    "\n",
    "# 이미지 파일 경로를 구성\n",
    "    file_path = os.path.join(base_image_location, file_name + \".jpg\")\n",
    "    \n",
    "    with open(file_path, mode=\"rb\") as image_contents:\n",
    "        tagged_images_with_regions.append(ImageFileCreateEntry(name=file_name, contents=image_contents.read(), regions=regions))\n"
   ]
  },
  {
   "cell_type": "code",
   "execution_count": 86,
   "metadata": {},
   "outputs": [],
   "source": [
    "# 이미지 리스트를 64개씩 분할\n",
    "batches = [tagged_images_with_regions[i:i + 64] for i in range(0, len(tagged_images_with_regions), 64)]\n",
    "\n",
    "for batch in batches:\n",
    "    upload_result = trainer.create_images_from_files(project.id, ImageFileCreateBatch(images=batch))\n",
    "    if not upload_result.is_batch_successful:\n",
    "        print(\"Image batch upload failed.\")\n",
    "        for image in upload_result.images:\n",
    "            print(\"Image status: \", image.status)\n",
    "        exit(-1)\n"
   ]
  },
  {
   "cell_type": "code",
   "execution_count": null,
   "metadata": {},
   "outputs": [],
   "source": []
  },
  {
   "cell_type": "code",
   "execution_count": null,
   "metadata": {},
   "outputs": [],
   "source": []
  },
  {
   "cell_type": "code",
   "execution_count": null,
   "metadata": {},
   "outputs": [],
   "source": []
  }
 ],
 "metadata": {
  "kernelspec": {
   "display_name": "Python 3",
   "language": "python",
   "name": "python3"
  },
  "language_info": {
   "codemirror_mode": {
    "name": "ipython",
    "version": 3
   },
   "file_extension": ".py",
   "mimetype": "text/x-python",
   "name": "python",
   "nbconvert_exporter": "python",
   "pygments_lexer": "ipython3",
   "version": "3.9.2rc1"
  }
 },
 "nbformat": 4,
 "nbformat_minor": 2
}
