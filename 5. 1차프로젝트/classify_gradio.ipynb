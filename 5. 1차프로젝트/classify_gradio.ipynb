{
 "cells": [
  {
   "cell_type": "code",
   "execution_count": 20,
   "metadata": {},
   "outputs": [
    {
     "name": "stdout",
     "output_type": "stream",
     "text": [
      "Running on local URL:  http://127.0.0.1:7862\n",
      "\n",
      "To create a public link, set `share=True` in `launch()`.\n"
     ]
    },
    {
     "data": {
      "text/html": [
       "<div><iframe src=\"http://127.0.0.1:7862/\" width=\"100%\" height=\"500\" allow=\"autoplay; camera; microphone; clipboard-read; clipboard-write;\" frameborder=\"0\" allowfullscreen></iframe></div>"
      ],
      "text/plain": [
       "<IPython.core.display.HTML object>"
      ]
     },
     "metadata": {},
     "output_type": "display_data"
    },
    {
     "data": {
      "text/plain": []
     },
     "execution_count": 20,
     "metadata": {},
     "output_type": "execute_result"
    },
    {
     "name": "stdout",
     "output_type": "stream",
     "text": [
      "Image dimensions: Height=500, Width=500\n",
      "snapring_plier: 99.85%\n",
      "long_nose: 0.14%\n",
      "bolt cutter: 0.00%\n",
      "stubby_screwdriver: 0.00%\n",
      "water_plier: 0.00%\n",
      "hex wrench: 0.00%\n",
      "Phillips_screwdriver: 0.00%\n",
      "grip_plier: 0.00%\n",
      "motor_wrench: 0.00%\n",
      "gear_puller: 0.00%\n",
      "monkey_spanner: 0.00%\n",
      "hacksaw: 0.00%\n",
      "precision_screwdriver: 0.00%\n",
      "box-end spanner: 0.00%\n",
      "offset_wrench: 0.00%\n"
     ]
    },
    {
     "name": "stderr",
     "output_type": "stream",
     "text": [
      "C:\\Users\\USER\\AppData\\Local\\Temp\\ipykernel_3752\\3701189840.py:50: UserWarning: FigureCanvasAgg is non-interactive, and thus cannot be shown\n",
      "  plt.show()\n"
     ]
    }
   ],
   "source": [
    "from azure.cognitiveservices.vision.customvision.prediction import CustomVisionPredictionClient\n",
    "from msrest.authentication import ApiKeyCredentials\n",
    "from matplotlib import pyplot as plt\n",
    "from PIL import Image, ImageDraw\n",
    "import numpy as np\n",
    "import io\n",
    "import gradio as gr\n",
    "\n",
    "# Azure Custom Vision configuration\n",
    "ENDPOINT = \"https://30findbuneemlcv20240717-prediction.cognitiveservices.azure.com\"\n",
    "PREDICTION_KEY = \"77fdcfb7028a4933b1b8efe9587a26ea\"\n",
    "PROJECT_ID = \"f67342fc-9055-4960-b0df-ef9c57dd827f\"\n",
    "PUBLISH_ITERATION_NAME = \"Hani_wind\"\n",
    "\n",
    "# Authenticate the predictor\n",
    "credentials = ApiKeyCredentials(in_headers={\"Prediction-key\": PREDICTION_KEY})\n",
    "predictor = CustomVisionPredictionClient(endpoint=ENDPOINT, credentials=credentials)\n",
    "\n",
    "def predict(image):\n",
    "\n",
    "    # Get image dimensions\n",
    "    h, w = image.size\n",
    "    print(f\"Image dimensions: Height={h}, Width={w}\")\n",
    "\n",
    "    # Convert image to byte array\n",
    "    img_byte_arr = io.BytesIO()\n",
    "    image.save(img_byte_arr, format='JPEG')\n",
    "    img_bytes = img_byte_arr.getvalue()\n",
    "    \n",
    "    # Perform image classification\n",
    "    results = predictor.classify_image(PROJECT_ID, PUBLISH_ITERATION_NAME, img_bytes)\n",
    "\n",
    "    # Print prediction results\n",
    "    for prediction in results.predictions:\n",
    "        print(f\"{prediction.tag_name}: {prediction.probability * 100:.2f}%\")\n",
    "    \n",
    "    # Create a figure for displaying the image and results\n",
    "    fig = plt.figure(figsize=(8, 8))\n",
    "    plt.axis('off')\n",
    "\n",
    "    # Draw the image\n",
    "    plt.imshow(image)\n",
    "\n",
    "    # Annotate the image with classification results\n",
    "    for prediction in results.predictions:\n",
    "        if prediction.probability > 0.5:  # Only show predictions with >50% confidence\n",
    "            plt.annotate(f\"{prediction.tag_name} {prediction.probability * 100:.2f}%\", \n",
    "                         (10, 10), color='magenta', fontsize=12, ha='left')\n",
    "\n",
    "    plt.show()\n",
    "    return fig\n",
    "\n",
    "def classify_image(image):\n",
    "    return predict(image)\n",
    "\n",
    "# Create a Gradio interface\n",
    "interface = gr.Interface(\n",
    "    fn=classify_image, \n",
    "    inputs=gr.Image(type=\"pil\"), \n",
    "    outputs=gr.Plot(),\n",
    "    title=\"Image Classification\",\n",
    "    description=\"Upload an image to classify it using the model.\"\n",
    ")\n",
    "\n",
    "# Launch the interface\n",
    "interface.launch()\n"
   ]
  },
  {
   "cell_type": "code",
   "execution_count": null,
   "metadata": {},
   "outputs": [],
   "source": []
  }
 ],
 "metadata": {
  "kernelspec": {
   "display_name": "Python 3",
   "language": "python",
   "name": "python3"
  },
  "language_info": {
   "codemirror_mode": {
    "name": "ipython",
    "version": 3
   },
   "file_extension": ".py",
   "mimetype": "text/x-python",
   "name": "python",
   "nbconvert_exporter": "python",
   "pygments_lexer": "ipython3",
   "version": "3.9.2rc1"
  }
 },
 "nbformat": 4,
 "nbformat_minor": 2
}
