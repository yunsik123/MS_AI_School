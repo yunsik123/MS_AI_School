{
  "cells": [
    {
      "cell_type": "code",
      "execution_count": 1,
      "metadata": {
        "colab": {
          "base_uri": "https://localhost:8080/"
        },
        "id": "uafyROH0dgfz",
        "outputId": "bb3ebfb2-8582-4fa2-c085-265967b29bfe"
      },
      "outputs": [
        {
          "name": "stdout",
          "output_type": "stream",
          "text": [
            "Requirement already satisfied: requests in /usr/local/lib/python3.10/dist-packages (2.31.0)\n",
            "Requirement already satisfied: beautifulsoup4 in /usr/local/lib/python3.10/dist-packages (4.12.3)\n",
            "Requirement already satisfied: charset-normalizer<4,>=2 in /usr/local/lib/python3.10/dist-packages (from requests) (3.3.2)\n",
            "Requirement already satisfied: idna<4,>=2.5 in /usr/local/lib/python3.10/dist-packages (from requests) (3.7)\n",
            "Requirement already satisfied: urllib3<3,>=1.21.1 in /usr/local/lib/python3.10/dist-packages (from requests) (2.0.7)\n",
            "Requirement already satisfied: certifi>=2017.4.17 in /usr/local/lib/python3.10/dist-packages (from requests) (2024.7.4)\n",
            "Requirement already satisfied: soupsieve>1.2 in /usr/local/lib/python3.10/dist-packages (from beautifulsoup4) (2.5)\n"
          ]
        }
      ],
      "source": [
        "#pip install requests beautifulsoup4\n"
      ]
    },
    {
      "cell_type": "code",
      "execution_count": 1,
      "metadata": {
        "colab": {
          "base_uri": "https://localhost:8080/"
        },
        "id": "hm-j9FjSgWrT",
        "outputId": "9bfa4960-1fea-467c-8e1b-dc6632d118e9"
      },
      "outputs": [
        {
          "name": "stdout",
          "output_type": "stream",
          "text": [
            "Image saved: Images\\181032_R.jpg\n",
            "Image saved: Images\\170312_R.jpg\n",
            "Image saved: Images\\108461_R.jpg\n",
            "Image saved: Images\\170160_R.jpg\n",
            "Image saved: Images\\152576_R.jpg\n",
            "Image saved: Images\\152077_R.jpg\n",
            "Image saved: Images\\181032_R.jpg\n",
            "Image saved: Images\\178009_R.jpg\n",
            "Image saved: Images\\170134_R.jpg\n",
            "Image saved: Images\\152506_R.jpg\n",
            "Image saved: Images\\323979_R.jpg\n",
            "Image saved: Images\\108457_R.jpg\n",
            "Image saved: Images\\170100_R.jpg\n",
            "Image saved: Images\\152476_R.jpg\n",
            "Image saved: Images\\108436_R.jpg\n",
            "Image saved: Images\\152504_R.jpg\n",
            "Image saved: Images\\151986_R.jpg\n",
            "Image saved: Images\\152474_R.jpg\n",
            "Image saved: Images\\181033_R.jpg\n",
            "Image saved: Images\\152496_R.jpg\n",
            "Image saved: Images\\177919_R.jpg\n"
          ]
        }
      ],
      "source": [
        "import requests\n",
        "from bs4 import BeautifulSoup\n",
        "import os\n",
        "\n",
        "# 이미지 저장 폴더\n",
        "image_folder = 'Images'\n",
        "os.makedirs(image_folder, exist_ok=True)\n",
        "\n",
        "# 웹사이트 URL\n",
        "url = 'https://www.globalmro.com/shop/prd_list.php?catcode=10101310'\n",
        "\n",
        "# 웹사이트 HTML 코드 가져오기\n",
        "response = requests.get(url)\n",
        "soup = BeautifulSoup(response.content, 'html.parser')\n",
        "\n",
        "# 이미지 태그 찾기\n",
        "images = soup.find_all('img')\n",
        "\n",
        "# 이미지 다운로드\n",
        "for img in images:\n",
        "    src = img.get('src')\n",
        "    if src and src.startswith('/data/prdimg/'):\n",
        "        img_url = f'https://www.globalmro.com{src}'\n",
        "        img_name = os.path.basename(src)\n",
        "        img_path = os.path.join(image_folder, img_name)\n",
        "\n",
        "        # 이미지 다운로드 및 저장\n",
        "        img_response = requests.get(img_url)\n",
        "        with open(img_path, 'wb') as f:\n",
        "            f.write(img_response.content)\n",
        "        print(f'Image saved: {img_path}')\n"
      ]
    },
    {
      "cell_type": "code",
      "execution_count": null,
      "metadata": {},
      "outputs": [],
      "source": []
    }
  ],
  "metadata": {
    "colab": {
      "provenance": []
    },
    "kernelspec": {
      "display_name": "Python 3",
      "name": "python3"
    },
    "language_info": {
      "codemirror_mode": {
        "name": "ipython",
        "version": 3
      },
      "file_extension": ".py",
      "mimetype": "text/x-python",
      "name": "python",
      "nbconvert_exporter": "python",
      "pygments_lexer": "ipython3",
      "version": "3.9.2"
    }
  },
  "nbformat": 4,
  "nbformat_minor": 0
}
