{
  "cells": [
    {
      "cell_type": "code",
      "execution_count": 5,
      "metadata": {
        "id": "8LPlUQ4n2ehz"
      },
      "outputs": [],
      "source": [
        "import json\n",
        "import gradio as gr\n",
        "import requests"
      ]
    },
    {
      "cell_type": "code",
      "execution_count": 6,
      "metadata": {
        "id": "MVaEtILd2SIi"
      },
      "outputs": [],
      "source": [
        "# Azure Custom Vision API 설정\n",
        "ENDPOINT = \"https://30findbuneemlcv20240717-prediction.cognitiveservices.azure.com\"\n",
        "PREDICTION_KEY = \"77fdcfb7028a4933b1b8efe9587a26ea\"\n",
        "PROJECT_ID = \"f67342fc-9055-4960-b0df-ef9c57dd827f\"\n",
        "PUBLISH_ITERATION_NAME = \"Hani_wind\""
      ]
    },
    {
      "cell_type": "code",
      "execution_count": 9,
      "metadata": {
        "id": "ew8neUm422Gh"
      },
      "outputs": [],
      "source": [
        "# JSON 파일 경로 지정\n",
        "json_file_path = 'C:/Users/USER/Desktop/1차프로젝트/product_info.json'\n",
        "\n",
        "# JSON 파일에서 제품 정보 불러오기\n",
        "with open(json_file_path, 'r', encoding='utf-8') as f:\n",
        "    product_info = json.load(f)"
      ]
    },
    {
      "cell_type": "code",
      "execution_count": 10,
      "metadata": {
        "colab": {
          "base_uri": "https://localhost:8080/",
          "height": 625
        },
        "id": "OrPbUCR427e5",
        "outputId": "0513889c-d980-4d25-abda-2de99443f9d0"
      },
      "outputs": [
        {
          "name": "stdout",
          "output_type": "stream",
          "text": [
            "Running on local URL:  http://127.0.0.1:7862\n",
            "\n",
            "To create a public link, set `share=True` in `launch()`.\n"
          ]
        },
        {
          "data": {
            "text/html": [
              "<div><iframe src=\"http://127.0.0.1:7862/\" width=\"100%\" height=\"500\" allow=\"autoplay; camera; microphone; clipboard-read; clipboard-write;\" frameborder=\"0\" allowfullscreen></iframe></div>"
            ],
            "text/plain": [
              "<IPython.core.display.HTML object>"
            ]
          },
          "metadata": {},
          "output_type": "display_data"
        },
        {
          "data": {
            "text/plain": []
          },
          "execution_count": 10,
          "metadata": {},
          "output_type": "execute_result"
        },
        {
          "name": "stderr",
          "output_type": "stream",
          "text": [
            "Traceback (most recent call last):\n",
            "  File \"c:\\Users\\USER\\AppData\\Local\\Programs\\Python\\Python39\\lib\\site-packages\\gradio\\queueing.py\", line 536, in process_events\n",
            "    response = await route_utils.call_process_api(\n",
            "  File \"c:\\Users\\USER\\AppData\\Local\\Programs\\Python\\Python39\\lib\\site-packages\\gradio\\route_utils.py\", line 276, in call_process_api\n",
            "    output = await app.get_blocks().process_api(\n",
            "  File \"c:\\Users\\USER\\AppData\\Local\\Programs\\Python\\Python39\\lib\\site-packages\\gradio\\blocks.py\", line 1897, in process_api\n",
            "    result = await self.call_function(\n",
            "  File \"c:\\Users\\USER\\AppData\\Local\\Programs\\Python\\Python39\\lib\\site-packages\\gradio\\blocks.py\", line 1483, in call_function\n",
            "    prediction = await anyio.to_thread.run_sync(\n",
            "  File \"c:\\Users\\USER\\AppData\\Local\\Programs\\Python\\Python39\\lib\\site-packages\\anyio\\to_thread.py\", line 56, in run_sync\n",
            "    return await get_async_backend().run_sync_in_worker_thread(\n",
            "  File \"c:\\Users\\USER\\AppData\\Local\\Programs\\Python\\Python39\\lib\\site-packages\\anyio\\_backends\\_asyncio.py\", line 2177, in run_sync_in_worker_thread\n",
            "    return await future\n",
            "  File \"c:\\Users\\USER\\AppData\\Local\\Programs\\Python\\Python39\\lib\\site-packages\\anyio\\_backends\\_asyncio.py\", line 859, in run\n",
            "    result = context.run(func, *args)\n",
            "  File \"c:\\Users\\USER\\AppData\\Local\\Programs\\Python\\Python39\\lib\\site-packages\\gradio\\utils.py\", line 816, in wrapper\n",
            "    response = f(*args, **kwargs)\n",
            "  File \"C:\\Users\\USER\\AppData\\Local\\Temp\\ipykernel_22108\\400749003.py\", line 3, in classify_image\n",
            "    image_data = open(image, \"rb\").read()\n",
            "  File \"C:\\Users\\USER\\AppData\\Roaming\\Python\\Python39\\site-packages\\IPython\\core\\interactiveshell.py\", line 310, in _modified_open\n",
            "    return io_open(file, *args, **kwargs)\n",
            "TypeError: expected str, bytes or os.PathLike object, not NoneType\n"
          ]
        }
      ],
      "source": [
        "def classify_image(image):\n",
        "    # 이미지 파일을 바이너리 형태로 변환\n",
        "    image_data = open(image, \"rb\").read()\n",
        "\n",
        "    # API 호출 설정\n",
        "    headers = {\n",
        "        'Content-Type': 'application/octet-stream',\n",
        "        'Prediction-Key': PREDICTION_KEY,\n",
        "    }\n",
        "    params = {\n",
        "        'iterationId': PUBLISH_ITERATION_NAME,\n",
        "    }\n",
        "    url = f\"{ENDPOINT}/customvision/v3.0/Prediction/{PROJECT_ID}/classify/iterations/{PUBLISH_ITERATION_NAME}/image\"\n",
        "\n",
        "    # API 호출\n",
        "    response = requests.post(url, headers=headers, params=params, data=image_data)\n",
        "    predictions = response.json()[\"predictions\"]\n",
        "\n",
        "    # 가장 높은 확률의 라벨 선택\n",
        "    best_prediction = max(predictions, key=lambda x: x[\"probability\"])\n",
        "    label = best_prediction[\"tagName\"]\n",
        "\n",
        "    # 상품 정보 불러오기\n",
        "    product_info_result = product_info.get(label, {\"name\": \"알 수 없음\", \"description\": \"해당 제품에 대한 설명이 없습니다.\", \"price\": \"N/A\"})\n",
        "\n",
        "    return product_info_result[\"name\"], product_info_result[\"description\"], product_info_result[\"price\"], image\n",
        "\n",
        "# Gradio 인터페이스 설정\n",
        "iface = gr.Interface(\n",
        "    fn=classify_image,\n",
        "    inputs=gr.Image(type=\"filepath\"),\n",
        "    outputs=[gr.Textbox(label=\"Product Name\"), gr.Textbox(label=\"Description\"), gr.Textbox(label=\"Price\"), gr.Image(type=\"filepath\")],\n",
        "    live=True\n",
        ")\n",
        "\n",
        "# 웹 인터페이스 실행\n",
        "iface.launch()"
      ]
    },
    {
      "cell_type": "code",
      "execution_count": null,
      "metadata": {},
      "outputs": [],
      "source": []
    },
    {
      "cell_type": "code",
      "execution_count": null,
      "metadata": {},
      "outputs": [],
      "source": []
    }
  ],
  "metadata": {
    "colab": {
      "provenance": []
    },
    "kernelspec": {
      "display_name": "Python 3",
      "name": "python3"
    },
    "language_info": {
      "codemirror_mode": {
        "name": "ipython",
        "version": 3
      },
      "file_extension": ".py",
      "mimetype": "text/x-python",
      "name": "python",
      "nbconvert_exporter": "python",
      "pygments_lexer": "ipython3",
      "version": "3.9.2rc1"
    }
  },
  "nbformat": 4,
  "nbformat_minor": 0
}
