{
 "cells": [
  {
   "cell_type": "code",
   "execution_count": 1,
   "metadata": {},
   "outputs": [
    {
     "name": "stdout",
     "output_type": "stream",
     "text": [
      "Requirement already satisfied: gradio in c:\\users\\user\\appdata\\local\\programs\\python\\python39\\lib\\site-packages (4.38.1)\n",
      "Requirement already satisfied: ruff>=0.2.2; sys_platform != \"emscripten\" in c:\\users\\user\\appdata\\local\\programs\\python\\python39\\lib\\site-packages (from gradio) (0.5.2)\n",
      "Requirement already satisfied: aiofiles<24.0,>=22.0 in c:\\users\\user\\appdata\\local\\programs\\python\\python39\\lib\\site-packages (from gradio) (23.2.1)\n",
      "Requirement already satisfied: jinja2<4.0 in c:\\users\\user\\appdata\\local\\programs\\python\\python39\\lib\\site-packages (from gradio) (3.1.4)\n",
      "Requirement already satisfied: pandas<3.0,>=1.0 in c:\\users\\user\\appdata\\local\\programs\\python\\python39\\lib\\site-packages (from gradio) (2.2.2)\n",
      "Requirement already satisfied: altair<6.0,>=5.0 in c:\\users\\user\\appdata\\local\\programs\\python\\python39\\lib\\site-packages (from gradio) (5.3.0)\n",
      "Requirement already satisfied: huggingface-hub>=0.19.3 in c:\\users\\user\\appdata\\local\\programs\\python\\python39\\lib\\site-packages (from gradio) (0.23.5)\n",
      "Requirement already satisfied: pyyaml<7.0,>=5.0 in c:\\users\\user\\appdata\\local\\programs\\python\\python39\\lib\\site-packages (from gradio) (6.0.1)\n",
      "Requirement already satisfied: python-multipart>=0.0.9 in c:\\users\\user\\appdata\\local\\programs\\python\\python39\\lib\\site-packages (from gradio) (0.0.9)\n",
      "Requirement already satisfied: orjson~=3.0 in c:\\users\\user\\appdata\\local\\programs\\python\\python39\\lib\\site-packages (from gradio) (3.10.6)\n",
      "Requirement already satisfied: importlib-resources<7.0,>=1.3 in c:\\users\\user\\appdata\\local\\programs\\python\\python39\\lib\\site-packages (from gradio) (6.4.0)\n",
      "Requirement already satisfied: pydantic>=2.0 in c:\\users\\user\\appdata\\local\\programs\\python\\python39\\lib\\site-packages (from gradio) (2.8.2)\n",
      "Requirement already satisfied: packaging in c:\\users\\user\\appdata\\local\\programs\\python\\python39\\lib\\site-packages (from gradio) (24.1)\n",
      "Requirement already satisfied: numpy<3.0,>=1.0 in c:\\users\\user\\appdata\\local\\programs\\python\\python39\\lib\\site-packages (from gradio) (2.0.0)\n",
      "Requirement already satisfied: fastapi in c:\\users\\user\\appdata\\local\\programs\\python\\python39\\lib\\site-packages (from gradio) (0.111.1)\n",
      "Requirement already satisfied: typer<1.0,>=0.12; sys_platform != \"emscripten\" in c:\\users\\user\\appdata\\local\\programs\\python\\python39\\lib\\site-packages (from gradio) (0.12.3)\n",
      "Requirement already satisfied: httpx>=0.24.1 in c:\\users\\user\\appdata\\local\\programs\\python\\python39\\lib\\site-packages (from gradio) (0.27.0)\n",
      "Requirement already satisfied: pillow<11.0,>=8.0 in c:\\users\\user\\appdata\\local\\programs\\python\\python39\\lib\\site-packages (from gradio) (10.3.0)\n",
      "Requirement already satisfied: tomlkit==0.12.0 in c:\\users\\user\\appdata\\local\\programs\\python\\python39\\lib\\site-packages (from gradio) (0.12.0)\n",
      "Requirement already satisfied: markupsafe~=2.0 in c:\\users\\user\\appdata\\local\\programs\\python\\python39\\lib\\site-packages (from gradio) (2.1.5)\n",
      "Requirement already satisfied: ffmpy in c:\\users\\user\\appdata\\local\\programs\\python\\python39\\lib\\site-packages (from gradio) (0.3.2)\n",
      "Requirement already satisfied: pydub in c:\\users\\user\\appdata\\local\\programs\\python\\python39\\lib\\site-packages (from gradio) (0.25.1)\n",
      "Requirement already satisfied: gradio-client==1.1.0 in c:\\users\\user\\appdata\\local\\programs\\python\\python39\\lib\\site-packages (from gradio) (1.1.0)\n",
      "Requirement already satisfied: semantic-version~=2.0 in c:\\users\\user\\appdata\\local\\programs\\python\\python39\\lib\\site-packages (from gradio) (2.10.0)\n",
      "Requirement already satisfied: urllib3~=2.0 in c:\\users\\user\\appdata\\local\\programs\\python\\python39\\lib\\site-packages (from gradio) (2.2.2)\n",
      "Requirement already satisfied: uvicorn>=0.14.0; sys_platform != \"emscripten\" in c:\\users\\user\\appdata\\local\\programs\\python\\python39\\lib\\site-packages (from gradio) (0.30.1)\n",
      "Requirement already satisfied: matplotlib~=3.0 in c:\\users\\user\\appdata\\local\\programs\\python\\python39\\lib\\site-packages (from gradio) (3.9.0)\n",
      "Requirement already satisfied: typing-extensions~=4.0 in c:\\users\\user\\appdata\\roaming\\python\\python39\\site-packages (from gradio) (4.12.2)\n",
      "Requirement already satisfied: tzdata>=2022.7 in c:\\users\\user\\appdata\\local\\programs\\python\\python39\\lib\\site-packages (from pandas<3.0,>=1.0->gradio) (2024.1)\n",
      "Requirement already satisfied: python-dateutil>=2.8.2 in c:\\users\\user\\appdata\\local\\programs\\python\\python39\\lib\\site-packages (from pandas<3.0,>=1.0->gradio) (2.9.0.post0)\n",
      "Requirement already satisfied: pytz>=2020.1 in c:\\users\\user\\appdata\\local\\programs\\python\\python39\\lib\\site-packages (from pandas<3.0,>=1.0->gradio) (2024.1)\n",
      "Requirement already satisfied: toolz in c:\\users\\user\\appdata\\local\\programs\\python\\python39\\lib\\site-packages (from altair<6.0,>=5.0->gradio) (0.12.1)\n",
      "Requirement already satisfied: jsonschema>=3.0 in c:\\users\\user\\appdata\\local\\programs\\python\\python39\\lib\\site-packages (from altair<6.0,>=5.0->gradio) (4.23.0)\n",
      "Requirement already satisfied: fsspec>=2023.5.0 in c:\\users\\user\\appdata\\local\\programs\\python\\python39\\lib\\site-packages (from huggingface-hub>=0.19.3->gradio) (2024.6.1)\n",
      "Requirement already satisfied: filelock in c:\\users\\user\\appdata\\local\\programs\\python\\python39\\lib\\site-packages (from huggingface-hub>=0.19.3->gradio) (3.15.4)\n",
      "Requirement already satisfied: requests in c:\\users\\user\\appdata\\local\\programs\\python\\python39\\lib\\site-packages (from huggingface-hub>=0.19.3->gradio) (2.32.3)\n",
      "Requirement already satisfied: tqdm>=4.42.1 in c:\\users\\user\\appdata\\local\\programs\\python\\python39\\lib\\site-packages (from huggingface-hub>=0.19.3->gradio) (4.66.4)\n",
      "Requirement already satisfied: zipp>=3.1.0; python_version < \"3.10\" in c:\\users\\user\\appdata\\local\\programs\\python\\python39\\lib\\site-packages (from importlib-resources<7.0,>=1.3->gradio) (3.19.2)\n",
      "Requirement already satisfied: annotated-types>=0.4.0 in c:\\users\\user\\appdata\\local\\programs\\python\\python39\\lib\\site-packages (from pydantic>=2.0->gradio) (0.7.0)\n",
      "Requirement already satisfied: pydantic-core==2.20.1 in c:\\users\\user\\appdata\\local\\programs\\python\\python39\\lib\\site-packages (from pydantic>=2.0->gradio) (2.20.1)\n",
      "Requirement already satisfied: starlette<0.38.0,>=0.37.2 in c:\\users\\user\\appdata\\local\\programs\\python\\python39\\lib\\site-packages (from fastapi->gradio) (0.37.2)\n",
      "Requirement already satisfied: fastapi-cli>=0.0.2 in c:\\users\\user\\appdata\\local\\programs\\python\\python39\\lib\\site-packages (from fastapi->gradio) (0.0.4)\n",
      "Requirement already satisfied: email_validator>=2.0.0 in c:\\users\\user\\appdata\\local\\programs\\python\\python39\\lib\\site-packages (from fastapi->gradio) (2.2.0)\n",
      "Requirement already satisfied: click>=8.0.0 in c:\\users\\user\\appdata\\local\\programs\\python\\python39\\lib\\site-packages (from typer<1.0,>=0.12; sys_platform != \"emscripten\"->gradio) (8.1.7)\n",
      "Requirement already satisfied: rich>=10.11.0 in c:\\users\\user\\appdata\\local\\programs\\python\\python39\\lib\\site-packages (from typer<1.0,>=0.12; sys_platform != \"emscripten\"->gradio) (13.7.1)\n",
      "Requirement already satisfied: shellingham>=1.3.0 in c:\\users\\user\\appdata\\local\\programs\\python\\python39\\lib\\site-packages (from typer<1.0,>=0.12; sys_platform != \"emscripten\"->gradio) (1.5.4)\n",
      "Requirement already satisfied: anyio in c:\\users\\user\\appdata\\local\\programs\\python\\python39\\lib\\site-packages (from httpx>=0.24.1->gradio) (4.4.0)\n",
      "Requirement already satisfied: certifi in c:\\users\\user\\appdata\\local\\programs\\python\\python39\\lib\\site-packages (from httpx>=0.24.1->gradio) (2024.7.4)\n",
      "Requirement already satisfied: httpcore==1.* in c:\\users\\user\\appdata\\local\\programs\\python\\python39\\lib\\site-packages (from httpx>=0.24.1->gradio) (1.0.5)\n",
      "Requirement already satisfied: idna in c:\\users\\user\\appdata\\local\\programs\\python\\python39\\lib\\site-packages (from httpx>=0.24.1->gradio) (3.7)\n",
      "Requirement already satisfied: sniffio in c:\\users\\user\\appdata\\local\\programs\\python\\python39\\lib\\site-packages (from httpx>=0.24.1->gradio) (1.3.1)\n",
      "Requirement already satisfied: websockets<12.0,>=10.0 in c:\\users\\user\\appdata\\local\\programs\\python\\python39\\lib\\site-packages (from gradio-client==1.1.0->gradio) (11.0.3)\n",
      "Requirement already satisfied: h11>=0.8 in c:\\users\\user\\appdata\\local\\programs\\python\\python39\\lib\\site-packages (from uvicorn>=0.14.0; sys_platform != \"emscripten\"->gradio) (0.14.0)\n",
      "Requirement already satisfied: pyparsing>=2.3.1 in c:\\users\\user\\appdata\\local\\programs\\python\\python39\\lib\\site-packages (from matplotlib~=3.0->gradio) (3.1.2)\n",
      "Requirement already satisfied: kiwisolver>=1.3.1 in c:\\users\\user\\appdata\\local\\programs\\python\\python39\\lib\\site-packages (from matplotlib~=3.0->gradio) (1.4.5)\n",
      "Requirement already satisfied: fonttools>=4.22.0 in c:\\users\\user\\appdata\\local\\programs\\python\\python39\\lib\\site-packages (from matplotlib~=3.0->gradio) (4.53.0)\n",
      "Requirement already satisfied: contourpy>=1.0.1 in c:\\users\\user\\appdata\\local\\programs\\python\\python39\\lib\\site-packages (from matplotlib~=3.0->gradio) (1.2.1)\n",
      "Requirement already satisfied: cycler>=0.10 in c:\\users\\user\\appdata\\local\\programs\\python\\python39\\lib\\site-packages (from matplotlib~=3.0->gradio) (0.12.1)\n",
      "Requirement already satisfied: six>=1.5 in c:\\users\\user\\appdata\\local\\programs\\python\\python39\\lib\\site-packages (from python-dateutil>=2.8.2->pandas<3.0,>=1.0->gradio) (1.16.0)\n",
      "Requirement already satisfied: referencing>=0.28.4 in c:\\users\\user\\appdata\\local\\programs\\python\\python39\\lib\\site-packages (from jsonschema>=3.0->altair<6.0,>=5.0->gradio) (0.35.1)\n",
      "Requirement already satisfied: jsonschema-specifications>=2023.03.6 in c:\\users\\user\\appdata\\local\\programs\\python\\python39\\lib\\site-packages (from jsonschema>=3.0->altair<6.0,>=5.0->gradio) (2023.12.1)\n",
      "Requirement already satisfied: attrs>=22.2.0 in c:\\users\\user\\appdata\\local\\programs\\python\\python39\\lib\\site-packages (from jsonschema>=3.0->altair<6.0,>=5.0->gradio) (23.2.0)\n",
      "Requirement already satisfied: rpds-py>=0.7.1 in c:\\users\\user\\appdata\\local\\programs\\python\\python39\\lib\\site-packages (from jsonschema>=3.0->altair<6.0,>=5.0->gradio) (0.19.0)\n",
      "Requirement already satisfied: charset-normalizer<4,>=2 in c:\\users\\user\\appdata\\local\\programs\\python\\python39\\lib\\site-packages (from requests->huggingface-hub>=0.19.3->gradio) (3.3.2)\n",
      "Requirement already satisfied: colorama; platform_system == \"Windows\" in c:\\users\\user\\appdata\\roaming\\python\\python39\\site-packages (from tqdm>=4.42.1->huggingface-hub>=0.19.3->gradio) (0.4.6)\n",
      "Requirement already satisfied: dnspython>=2.0.0 in c:\\users\\user\\appdata\\local\\programs\\python\\python39\\lib\\site-packages (from email_validator>=2.0.0->fastapi->gradio) (2.6.1)\n",
      "Requirement already satisfied: pygments<3.0.0,>=2.13.0 in c:\\users\\user\\appdata\\roaming\\python\\python39\\site-packages (from rich>=10.11.0->typer<1.0,>=0.12; sys_platform != \"emscripten\"->gradio) (2.18.0)\n",
      "Requirement already satisfied: markdown-it-py>=2.2.0 in c:\\users\\user\\appdata\\local\\programs\\python\\python39\\lib\\site-packages (from rich>=10.11.0->typer<1.0,>=0.12; sys_platform != \"emscripten\"->gradio) (3.0.0)\n",
      "Requirement already satisfied: exceptiongroup>=1.0.2; python_version < \"3.11\" in c:\\users\\user\\appdata\\roaming\\python\\python39\\site-packages (from anyio->httpx>=0.24.1->gradio) (1.2.1)\n",
      "Requirement already satisfied: mdurl~=0.1 in c:\\users\\user\\appdata\\local\\programs\\python\\python39\\lib\\site-packages (from markdown-it-py>=2.2.0->rich>=10.11.0->typer<1.0,>=0.12; sys_platform != \"emscripten\"->gradio) (0.1.2)\n",
      "Note: you may need to restart the kernel to use updated packages.\n"
     ]
    },
    {
     "name": "stderr",
     "output_type": "stream",
     "text": [
      "WARNING: You are using pip version 20.2.3; however, version 24.2 is available.\n",
      "You should consider upgrading via the 'c:\\Users\\USER\\AppData\\Local\\Programs\\Python\\Python39\\python.exe -m pip install --upgrade pip' command.\n"
     ]
    }
   ],
   "source": [
    "#%pip install gradio"
   ]
  },
  {
   "cell_type": "code",
   "execution_count": 1,
   "metadata": {},
   "outputs": [
    {
     "name": "stderr",
     "output_type": "stream",
     "text": [
      "c:\\Users\\USER\\AppData\\Local\\Programs\\Python\\Python39\\lib\\site-packages\\tqdm\\auto.py:21: TqdmWarning: IProgress not found. Please update jupyter and ipywidgets. See https://ipywidgets.readthedocs.io/en/stable/user_install.html\n",
      "  from .autonotebook import tqdm as notebook_tqdm\n"
     ]
    },
    {
     "name": "stdout",
     "output_type": "stream",
     "text": [
      "Running on local URL:  http://127.0.0.1:7860\n",
      "\n",
      "To create a public link, set `share=True` in `launch()`.\n"
     ]
    },
    {
     "data": {
      "text/html": [
       "<div><iframe src=\"http://127.0.0.1:7860/\" width=\"100%\" height=\"500\" allow=\"autoplay; camera; microphone; clipboard-read; clipboard-write;\" frameborder=\"0\" allowfullscreen></iframe></div>"
      ],
      "text/plain": [
       "<IPython.core.display.HTML object>"
      ]
     },
     "metadata": {},
     "output_type": "display_data"
    },
    {
     "data": {
      "text/plain": []
     },
     "execution_count": 1,
     "metadata": {},
     "output_type": "execute_result"
    }
   ],
   "source": [
    "#실습1\n",
    "import gradio as gr\n",
    " \n",
    "def greet(name):\n",
    "    return \"Hello!!!\" + name + \"World!!!\"\n",
    " \n",
    "with gr.Interface(fn=greet, inputs=\"text\", outputs=\"text\") as demo:\n",
    "    pass\n",
    " \n",
    "demo.launch()"
   ]
  },
  {
   "cell_type": "code",
   "execution_count": 8,
   "metadata": {},
   "outputs": [
    {
     "name": "stdout",
     "output_type": "stream",
     "text": [
      "Running on local URL:  http://127.0.0.1:7861\n",
      "\n",
      "Thanks for being a Gradio user! If you have questions or feedback, please join our Discord server and chat with us: https://discord.gg/feTf9x3ZSB\n",
      "\n",
      "To create a public link, set `share=True` in `launch()`.\n"
     ]
    },
    {
     "data": {
      "text/html": [
       "<div><iframe src=\"http://127.0.0.1:7861/\" width=\"100%\" height=\"500\" allow=\"autoplay; camera; microphone; clipboard-read; clipboard-write;\" frameborder=\"0\" allowfullscreen></iframe></div>"
      ],
      "text/plain": [
       "<IPython.core.display.HTML object>"
      ]
     },
     "metadata": {},
     "output_type": "display_data"
    },
    {
     "data": {
      "text/plain": []
     },
     "execution_count": 8,
     "metadata": {},
     "output_type": "execute_result"
    }
   ],
   "source": [
    "#실습2\n",
    "import gradio as gr\n",
    " \n",
    "def greet(name):\n",
    "    return \"Hello!!!\" + name + \"World!!!\"\n",
    " \n",
    "with gr.Blocks() as demo:\n",
    "    name = gr.Textbox(label='이름')\n",
    "    output = gr.Textbox(label='출력')\n",
    "    submit_button = gr.Button('전송')\n",
    "    submit_button.click(fn=greet, inputs=[name], outputs=[output], api_name='전송')\n",
    " \n",
    "demo.launch()"
   ]
  },
  {
   "cell_type": "code",
   "execution_count": 12,
   "metadata": {},
   "outputs": [
    {
     "name": "stdout",
     "output_type": "stream",
     "text": [
      "Running on local URL:  http://127.0.0.1:7869\n",
      "\n",
      "To create a public link, set `share=True` in `launch()`.\n"
     ]
    },
    {
     "data": {
      "text/html": [
       "<div><iframe src=\"http://127.0.0.1:7869/\" width=\"100%\" height=\"500\" allow=\"autoplay; camera; microphone; clipboard-read; clipboard-write;\" frameborder=\"0\" allowfullscreen></iframe></div>"
      ],
      "text/plain": [
       "<IPython.core.display.HTML object>"
      ]
     },
     "metadata": {},
     "output_type": "display_data"
    },
    {
     "data": {
      "text/plain": []
     },
     "execution_count": 12,
     "metadata": {},
     "output_type": "execute_result"
    }
   ],
   "source": [
    "#실습3 이벤트 리스너\n",
    "def welcome(name):\n",
    "    return f\"Welcome to Gradio, {name}!\"\n",
    "\n",
    "with gr.Blocks() as demo:\n",
    "    gr.Markdown(\n",
    "    \"\"\"\n",
    "    # Hello World!\n",
    "    Start typing below to see the output\n",
    "    \"\"\")\n",
    "    inp = gr.Textbox(placeholder='What is your name?')\n",
    "    out = gr.Textbox()\n",
    "    inp.change(welcome,inp,out)\n",
    "\n",
    "demo.launch()\n"
   ]
  },
  {
   "cell_type": "code",
   "execution_count": 13,
   "metadata": {},
   "outputs": [
    {
     "name": "stdout",
     "output_type": "stream",
     "text": [
      "Running on local URL:  http://127.0.0.1:7870\n",
      "\n",
      "To create a public link, set `share=True` in `launch()`.\n"
     ]
    },
    {
     "data": {
      "text/html": [
       "<div><iframe src=\"http://127.0.0.1:7870/\" width=\"100%\" height=\"500\" allow=\"autoplay; camera; microphone; clipboard-read; clipboard-write;\" frameborder=\"0\" allowfullscreen></iframe></div>"
      ],
      "text/plain": [
       "<IPython.core.display.HTML object>"
      ]
     },
     "metadata": {},
     "output_type": "display_data"
    }
   ],
   "source": [
    "import requests\n",
    "import gradio as gr\n",
    "\n",
    "AZURE_OPENAI_ENDPOINT = \"https://b22-openai.openai.azure.com/openai/deployments/b22-gpt4o/chat/completions?api-version=2024-02-15-preview\"\n",
    "AZURE_OPENAI_API_KEY = \"1dbcc70ac05e48b68207e09ed5667d74\"\n",
    "DEPLOYMENT_NAME = \"b22-gpt4o\" \n",
    "\n",
    "def chatgpt_response(prompt, history):\n",
    "    print(prompt, history)\n",
    "    headers = {  \n",
    "        'Content-Type': 'application/json',  \n",
    "        'api-key': AZURE_OPENAI_API_KEY  \n",
    "    }  \n",
    "  \n",
    "    payload = {\n",
    "        \"messages\": [\n",
    "            {\n",
    "                \"role\": \"system\",\n",
    "                \"content\": \"You are an AI assistant that helps people find information.\"\n",
    "            },\n",
    "            {\n",
    "                \"role\": \"user\",\n",
    "                \"content\": prompt\n",
    "            }\n",
    "        ],\n",
    "        \"temperature\": 0.7,\n",
    "        \"top_p\": 0.95,\n",
    "        \"max_tokens\": 4096\n",
    "    }\n",
    "  \n",
    "    response = requests.post(\n",
    "        f\"{AZURE_OPENAI_ENDPOINT}\",\n",
    "        headers=headers,\n",
    "        json=payload\n",
    "    )\n",
    "  \n",
    "    result = response.json()\n",
    "    print(result)  # API 응답을 출력하여 확인\n",
    "\n",
    "    if 'choices' not in result:\n",
    "        return \"Error: API response does not contain 'choices' key\", history\n",
    "\n",
    "    bot_response = result['choices'][0]['message']['content'].strip()\n",
    "    history.append((prompt, bot_response))\n",
    "    return '', history\n",
    "\n",
    "def greet(name):\n",
    "    name_length = len(name)\n",
    "    if name_length > 5:\n",
    "        return \"Hello!!! \" + name + \" World!!!\"\n",
    "    else:\n",
    "        return \"\"\n",
    "\n",
    "with gr.Blocks() as demo:\n",
    "    gr.Markdown(\"#  ChatGPT World!!!\")\n",
    "    chatbot = gr.Chatbot()\n",
    "    \n",
    "    with gr.Column():\n",
    "        with gr.Row():\n",
    "            prompt = gr.Textbox(label=\"프롬프트\", placeholder=\"프롬프트를 입력하세요\", scale=3)\n",
    "            send_button = gr.Button(\">\", scale=1)\n",
    "            clear_button = gr.Button(\"X\")\n",
    "        send_button.click(fn=chatgpt_response, inputs=[prompt, chatbot], outputs=[prompt, chatbot])\n",
    "        prompt.submit(fn=chatgpt_response, inputs=[prompt, chatbot], outputs=[prompt, chatbot])\n",
    "        clear_button.click(lambda: None, None, queue=False)\n",
    "    demo.launch()\n"
   ]
  },
  {
   "cell_type": "code",
   "execution_count": 32,
   "metadata": {},
   "outputs": [
    {
     "name": "stdout",
     "output_type": "stream",
     "text": [
      "Running on local URL:  http://127.0.0.1:7885\n",
      "\n",
      "To create a public link, set `share=True` in `launch()`.\n"
     ]
    },
    {
     "data": {
      "text/html": [
       "<div><iframe src=\"http://127.0.0.1:7885/\" width=\"100%\" height=\"500\" allow=\"autoplay; camera; microphone; clipboard-read; clipboard-write;\" frameborder=\"0\" allowfullscreen></iframe></div>"
      ],
      "text/plain": [
       "<IPython.core.display.HTML object>"
      ]
     },
     "metadata": {},
     "output_type": "display_data"
    }
   ],
   "source": [
    "#이전대화고려\n",
    "import requests\n",
    "import gradio as gr\n",
    "\n",
    "AZURE_OPENAI_ENDPOINT = \"https://b22-openai.openai.azure.com/openai/deployments/b22-gpt4o/chat/completions?api-version=2024-02-15-preview\"\n",
    "AZURE_OPENAI_API_KEY = \"1dbcc70ac05e48b68207e09ed5667d74\"\n",
    "DEPLOYMENT_NAME = \"b22-gpt4o\" \n",
    "\n",
    "def chatgpt_response(prompt, history):\n",
    "    print(prompt, history)\n",
    "    headers = {  \n",
    "        'Content-Type': 'application/json',  \n",
    "        'api-key': AZURE_OPENAI_API_KEY  \n",
    "    }  \n",
    "    \n",
    "    # Prepare messages including history\n",
    "    messages = [\n",
    "        {\n",
    "            \"role\": \"system\",\n",
    "            \"content\": \"You are an AI assistant that helps people find information.\"\n",
    "        }\n",
    "    ]\n",
    "\n",
    "    # Add previous history to the messages\n",
    "    for user_prompt, bot_reply in history:\n",
    "        messages.append({\"role\": \"user\", \"content\": user_prompt})\n",
    "        messages.append({\"role\": \"assistant\", \"content\": bot_reply})\n",
    "    \n",
    "    # Add current user prompt\n",
    "    messages.append({\"role\": \"user\", \"content\": prompt})\n",
    "    \n",
    "    payload = {\n",
    "        \"messages\": messages,\n",
    "        \"temperature\": 0.7,\n",
    "        \"top_p\": 0.95,\n",
    "        \"max_tokens\": 4096\n",
    "    }\n",
    "  \n",
    "    response = requests.post(\n",
    "        f\"{AZURE_OPENAI_ENDPOINT}\",\n",
    "        headers=headers,\n",
    "        json=payload\n",
    "    )\n",
    "  \n",
    "    result = response.json()\n",
    "    print(result)  # API 응답을 출력하여 확인\n",
    "\n",
    "    if 'choices' not in result:\n",
    "        return \"Error: API response does not contain 'choices' key\", history\n",
    "\n",
    "    bot_response = result['choices'][0]['message']['content'].strip()\n",
    "    history.append((prompt, bot_response))\n",
    "    return '', history\n",
    "\n",
    "# UI 구성\n",
    "with gr.Blocks() as demo:\n",
    "    gr.Markdown(\"#  ChatGPT World!!!\")\n",
    "    chatbot = gr.Chatbot()\n",
    "    \n",
    "    with gr.Column():\n",
    "        with gr.Row():\n",
    "            prompt = gr.Textbox(label=\"프롬프트\", placeholder=\"프롬프트를 입력하세요\", scale=3)\n",
    "            send_button = gr.Button(\">\", scale=1)\n",
    "            clear_button = gr.Button(\"X\")\n",
    "        \n",
    "        def clear_chat():\n",
    "            return \"\", []\n",
    "        \n",
    "        send_button.click(fn=chatgpt_response, inputs=[prompt, chatbot], outputs=[prompt, chatbot])\n",
    "        prompt.submit(fn=chatgpt_response, inputs=[prompt, chatbot], outputs=[prompt, chatbot])\n",
    "        clear_button.click(fn=clear_chat, inputs=[], outputs=[chatbot, prompt])\n",
    "    \n",
    "    demo.launch()\n"
   ]
  },
  {
   "cell_type": "code",
   "execution_count": 33,
   "metadata": {},
   "outputs": [
    {
     "name": "stdout",
     "output_type": "stream",
     "text": [
      "Running on local URL:  http://127.0.0.1:7886\n",
      "\n",
      "To create a public link, set `share=True` in `launch()`.\n"
     ]
    },
    {
     "data": {
      "text/html": [
       "<div><iframe src=\"http://127.0.0.1:7886/\" width=\"100%\" height=\"500\" allow=\"autoplay; camera; microphone; clipboard-read; clipboard-write;\" frameborder=\"0\" allowfullscreen></iframe></div>"
      ],
      "text/plain": [
       "<IPython.core.display.HTML object>"
      ]
     },
     "metadata": {},
     "output_type": "display_data"
    },
    {
     "name": "stderr",
     "output_type": "stream",
     "text": [
      "Traceback (most recent call last):\n",
      "  File \"c:\\Users\\USER\\AppData\\Local\\Programs\\Python\\Python39\\lib\\site-packages\\gradio\\queueing.py\", line 536, in process_events\n",
      "    response = await route_utils.call_process_api(\n",
      "  File \"c:\\Users\\USER\\AppData\\Local\\Programs\\Python\\Python39\\lib\\site-packages\\gradio\\route_utils.py\", line 276, in call_process_api\n",
      "    output = await app.get_blocks().process_api(\n",
      "  File \"c:\\Users\\USER\\AppData\\Local\\Programs\\Python\\Python39\\lib\\site-packages\\gradio\\blocks.py\", line 1907, in process_api\n",
      "    data = await self.postprocess_data(block_fn, result[\"prediction\"], state)\n",
      "  File \"c:\\Users\\USER\\AppData\\Local\\Programs\\Python\\Python39\\lib\\site-packages\\gradio\\blocks.py\", line 1728, in postprocess_data\n",
      "    if block._id in state:\n",
      "  File \"c:\\Users\\USER\\AppData\\Local\\Programs\\Python\\Python39\\lib\\site-packages\\gradio\\state_holder.py\", line 104, in __contains__\n",
      "    block = self.blocks_config.blocks[key]\n",
      "KeyError: 305\n"
     ]
    },
    {
     "name": "stdout",
     "output_type": "stream",
     "text": [
      "대화가통하니? []\n",
      "{'choices': [{'content_filter_results': {'hate': {'filtered': False, 'severity': 'safe'}, 'protected_material_code': {'filtered': False, 'detected': False}, 'protected_material_text': {'filtered': False, 'detected': False}, 'self_harm': {'filtered': False, 'severity': 'safe'}, 'sexual': {'filtered': False, 'severity': 'safe'}, 'violence': {'filtered': False, 'severity': 'safe'}}, 'finish_reason': 'stop', 'index': 0, 'logprobs': None, 'message': {'content': '네, 물론입니다! 무엇을 도와드릴까요?', 'role': 'assistant'}}], 'created': 1722580620, 'id': 'chatcmpl-9rgCKsOIZBAUM6DD0SM9kbUWQpkLx', 'model': 'gpt-4o-2024-05-13', 'object': 'chat.completion', 'prompt_filter_results': [{'prompt_index': 0, 'content_filter_results': {'hate': {'filtered': False, 'severity': 'safe'}, 'jailbreak': {'filtered': False, 'detected': False}, 'self_harm': {'filtered': False, 'severity': 'safe'}, 'sexual': {'filtered': False, 'severity': 'safe'}, 'violence': {'filtered': False, 'severity': 'safe'}}}], 'system_fingerprint': 'fp_abc28019ad', 'usage': {'completion_tokens': 13, 'prompt_tokens': 29, 'total_tokens': 42}}\n"
     ]
    }
   ],
   "source": [
    "#ui꾸미기1\n",
    "import requests\n",
    "import gradio as gr\n",
    "\n",
    "AZURE_OPENAI_ENDPOINT = \"https://b22-openai.openai.azure.com/openai/deployments/b22-gpt4o/chat/completions?api-version=2024-02-15-preview\"\n",
    "AZURE_OPENAI_API_KEY = \"1dbcc70ac05e48b68207e09ed5667d74\"\n",
    "DEPLOYMENT_NAME = \"b22-gpt4o\" \n",
    "\n",
    "def chatgpt_response(prompt, history):\n",
    "    print(prompt, history)\n",
    "    headers = {  \n",
    "        'Content-Type': 'application/json',  \n",
    "        'api-key': AZURE_OPENAI_API_KEY  \n",
    "    }  \n",
    "    \n",
    "    # Prepare messages including history\n",
    "    messages = [\n",
    "        {\n",
    "            \"role\": \"system\",\n",
    "            \"content\": \"You are an AI assistant that helps people find information.\"\n",
    "        }\n",
    "    ]\n",
    "\n",
    "    # Add previous history to the messages\n",
    "    for user_prompt, bot_reply in history:\n",
    "        messages.append({\"role\": \"user\", \"content\": user_prompt})\n",
    "        messages.append({\"role\": \"assistant\", \"content\": bot_reply})\n",
    "    \n",
    "    # Add current user prompt\n",
    "    messages.append({\"role\": \"user\", \"content\": prompt})\n",
    "    \n",
    "    payload = {\n",
    "        \"messages\": messages,\n",
    "        \"temperature\": 0.7,\n",
    "        \"top_p\": 0.95,\n",
    "        \"max_tokens\": 4096\n",
    "    }\n",
    "  \n",
    "    response = requests.post(\n",
    "        f\"{AZURE_OPENAI_ENDPOINT}\",\n",
    "        headers=headers,\n",
    "        json=payload\n",
    "    )\n",
    "  \n",
    "    result = response.json()\n",
    "    print(result)  # API 응답을 출력하여 확인\n",
    "\n",
    "    if 'choices' not in result:\n",
    "        return \"Error: API response does not contain 'choices' key\", history\n",
    "\n",
    "    bot_response = result['choices'][0]['message']['content'].strip()\n",
    "    history.append((prompt, bot_response))\n",
    "    return '', history\n",
    "\n",
    "def clear_chat():\n",
    "    return \"\", []\n",
    "\n",
    "# UI 구성\n",
    "with gr.Blocks() as demo:\n",
    "    gr.Markdown(\"# ChatGPT World!!!\\n음식점 전문가와의 대화 시작하기\")\n",
    "    \n",
    "    with gr.Row():\n",
    "        with gr.Column(scale=2):\n",
    "            gr.Markdown(\"### 자주 묻는 질문\")\n",
    "            initial_questions = [\n",
    "                \"오늘의 추천 음식은 무엇인가요?\",\n",
    "                \"최고의 음식점은 어디인가요?\",\n",
    "                \"특별한 기념일에 적합한 레스토랑은?\",\n",
    "                \"가족과 함께 가기 좋은 식당은 어디인가요?\"\n",
    "            ]\n",
    "            for question in initial_questions:\n",
    "                gr.Button(question, elem_id=f\"button-{question}\").click(fn=lambda q=question: q, outputs=[prompt])\n",
    "    \n",
    "    with gr.Row():\n",
    "        with gr.Column(scale=4):\n",
    "            chatbot = gr.Chatbot(label=\"Chat History\")\n",
    "        \n",
    "        with gr.Column(scale=2):\n",
    "            prompt = gr.Textbox(\n",
    "                label=\"프롬프트\", \n",
    "                placeholder=\"프롬프트를 입력하세요\", \n",
    "                lines=1,\n",
    "                elem_id=\"input-textbox\"\n",
    "            )\n",
    "            with gr.Row():\n",
    "                send_button = gr.Button(\"Send\", elem_id=\"send-button\")\n",
    "                clear_button = gr.Button(\"Clear\", elem_id=\"clear-button\")\n",
    "            \n",
    "            send_button.click(fn=chatgpt_response, inputs=[prompt, chatbot], outputs=[prompt, chatbot])\n",
    "            prompt.submit(fn=chatgpt_response, inputs=[prompt, chatbot], outputs=[prompt, chatbot])\n",
    "            clear_button.click(fn=clear_chat, inputs=[], outputs=[chatbot, prompt])\n",
    "\n",
    "    demo.launch()\n"
   ]
  },
  {
   "cell_type": "code",
   "execution_count": 48,
   "metadata": {},
   "outputs": [
    {
     "name": "stdout",
     "output_type": "stream",
     "text": [
      "Running on local URL:  http://127.0.0.1:7897\n",
      "\n",
      "To create a public link, set `share=True` in `launch()`.\n"
     ]
    },
    {
     "data": {
      "text/html": [
       "<div><iframe src=\"http://127.0.0.1:7897/\" width=\"100%\" height=\"500\" allow=\"autoplay; camera; microphone; clipboard-read; clipboard-write;\" frameborder=\"0\" allowfullscreen></iframe></div>"
      ],
      "text/plain": [
       "<IPython.core.display.HTML object>"
      ]
     },
     "metadata": {},
     "output_type": "display_data"
    },
    {
     "name": "stderr",
     "output_type": "stream",
     "text": [
      "Traceback (most recent call last):\n",
      "  File \"c:\\Users\\USER\\AppData\\Local\\Programs\\Python\\Python39\\lib\\site-packages\\gradio\\queueing.py\", line 536, in process_events\n",
      "    response = await route_utils.call_process_api(\n",
      "  File \"c:\\Users\\USER\\AppData\\Local\\Programs\\Python\\Python39\\lib\\site-packages\\gradio\\route_utils.py\", line 276, in call_process_api\n",
      "    session_hash = getattr(body, \"session_hash\", None)\n",
      "  File \"c:\\Users\\USER\\AppData\\Local\\Programs\\Python\\Python39\\lib\\site-packages\\gradio\\blocks.py\", line 1907, in process_api\n",
      "    await self.postprocess_data(block_fn, list(o), state)\n",
      "  File \"c:\\Users\\USER\\AppData\\Local\\Programs\\Python\\Python39\\lib\\site-packages\\gradio\\blocks.py\", line 1728, in postprocess_data\n",
      "    prediction_value = utils.delete_none(\n",
      "  File \"c:\\Users\\USER\\AppData\\Local\\Programs\\Python\\Python39\\lib\\site-packages\\gradio\\state_holder.py\", line 104, in __contains__\n",
      "    block = self.blocks_config.blocks[key]\n",
      "KeyError: 544\n",
      "Traceback (most recent call last):\n",
      "  File \"c:\\Users\\USER\\AppData\\Local\\Programs\\Python\\Python39\\lib\\site-packages\\gradio\\queueing.py\", line 536, in process_events\n",
      "    response = await route_utils.call_process_api(\n",
      "  File \"c:\\Users\\USER\\AppData\\Local\\Programs\\Python\\Python39\\lib\\site-packages\\gradio\\route_utils.py\", line 276, in call_process_api\n",
      "    session_hash = getattr(body, \"session_hash\", None)\n",
      "  File \"c:\\Users\\USER\\AppData\\Local\\Programs\\Python\\Python39\\lib\\site-packages\\gradio\\blocks.py\", line 1907, in process_api\n",
      "    await self.postprocess_data(block_fn, list(o), state)\n",
      "  File \"c:\\Users\\USER\\AppData\\Local\\Programs\\Python\\Python39\\lib\\site-packages\\gradio\\blocks.py\", line 1728, in postprocess_data\n",
      "    prediction_value = utils.delete_none(\n",
      "  File \"c:\\Users\\USER\\AppData\\Local\\Programs\\Python\\Python39\\lib\\site-packages\\gradio\\state_holder.py\", line 104, in __contains__\n",
      "    block = self.blocks_config.blocks[key]\n",
      "KeyError: 544\n",
      "Traceback (most recent call last):\n",
      "  File \"c:\\Users\\USER\\AppData\\Local\\Programs\\Python\\Python39\\lib\\site-packages\\gradio\\queueing.py\", line 536, in process_events\n",
      "    response = await route_utils.call_process_api(\n",
      "  File \"c:\\Users\\USER\\AppData\\Local\\Programs\\Python\\Python39\\lib\\site-packages\\gradio\\route_utils.py\", line 276, in call_process_api\n",
      "    session_hash = getattr(body, \"session_hash\", None)\n",
      "  File \"c:\\Users\\USER\\AppData\\Local\\Programs\\Python\\Python39\\lib\\site-packages\\gradio\\blocks.py\", line 1907, in process_api\n",
      "    await self.postprocess_data(block_fn, list(o), state)\n",
      "  File \"c:\\Users\\USER\\AppData\\Local\\Programs\\Python\\Python39\\lib\\site-packages\\gradio\\blocks.py\", line 1728, in postprocess_data\n",
      "    prediction_value = utils.delete_none(\n",
      "  File \"c:\\Users\\USER\\AppData\\Local\\Programs\\Python\\Python39\\lib\\site-packages\\gradio\\state_holder.py\", line 104, in __contains__\n",
      "    block = self.blocks_config.blocks[key]\n",
      "KeyError: 544\n",
      "Traceback (most recent call last):\n",
      "  File \"c:\\Users\\USER\\AppData\\Local\\Programs\\Python\\Python39\\lib\\site-packages\\gradio\\queueing.py\", line 536, in process_events\n",
      "    response = await route_utils.call_process_api(\n",
      "  File \"c:\\Users\\USER\\AppData\\Local\\Programs\\Python\\Python39\\lib\\site-packages\\gradio\\route_utils.py\", line 276, in call_process_api\n",
      "    session_hash = getattr(body, \"session_hash\", None)\n",
      "  File \"c:\\Users\\USER\\AppData\\Local\\Programs\\Python\\Python39\\lib\\site-packages\\gradio\\blocks.py\", line 1907, in process_api\n",
      "    await self.postprocess_data(block_fn, list(o), state)\n",
      "  File \"c:\\Users\\USER\\AppData\\Local\\Programs\\Python\\Python39\\lib\\site-packages\\gradio\\blocks.py\", line 1728, in postprocess_data\n",
      "    prediction_value = utils.delete_none(\n",
      "  File \"c:\\Users\\USER\\AppData\\Local\\Programs\\Python\\Python39\\lib\\site-packages\\gradio\\state_holder.py\", line 104, in __contains__\n",
      "    block = self.blocks_config.blocks[key]\n",
      "KeyError: 544\n",
      "Traceback (most recent call last):\n",
      "  File \"c:\\Users\\USER\\AppData\\Local\\Programs\\Python\\Python39\\lib\\site-packages\\gradio\\queueing.py\", line 536, in process_events\n",
      "    response = await route_utils.call_process_api(\n",
      "  File \"c:\\Users\\USER\\AppData\\Local\\Programs\\Python\\Python39\\lib\\site-packages\\gradio\\route_utils.py\", line 276, in call_process_api\n",
      "    session_hash = getattr(body, \"session_hash\", None)\n",
      "  File \"c:\\Users\\USER\\AppData\\Local\\Programs\\Python\\Python39\\lib\\site-packages\\gradio\\blocks.py\", line 1907, in process_api\n",
      "    await self.postprocess_data(block_fn, list(o), state)\n",
      "  File \"c:\\Users\\USER\\AppData\\Local\\Programs\\Python\\Python39\\lib\\site-packages\\gradio\\blocks.py\", line 1728, in postprocess_data\n",
      "    prediction_value = utils.delete_none(\n",
      "  File \"c:\\Users\\USER\\AppData\\Local\\Programs\\Python\\Python39\\lib\\site-packages\\gradio\\state_holder.py\", line 104, in __contains__\n",
      "    block = self.blocks_config.blocks[key]\n",
      "KeyError: 544\n",
      "Traceback (most recent call last):\n",
      "  File \"c:\\Users\\USER\\AppData\\Local\\Programs\\Python\\Python39\\lib\\site-packages\\gradio\\queueing.py\", line 536, in process_events\n",
      "    response = await route_utils.call_process_api(\n",
      "  File \"c:\\Users\\USER\\AppData\\Local\\Programs\\Python\\Python39\\lib\\site-packages\\gradio\\route_utils.py\", line 276, in call_process_api\n",
      "    session_hash = getattr(body, \"session_hash\", None)\n",
      "  File \"c:\\Users\\USER\\AppData\\Local\\Programs\\Python\\Python39\\lib\\site-packages\\gradio\\blocks.py\", line 1907, in process_api\n",
      "    await self.postprocess_data(block_fn, list(o), state)\n",
      "  File \"c:\\Users\\USER\\AppData\\Local\\Programs\\Python\\Python39\\lib\\site-packages\\gradio\\blocks.py\", line 1728, in postprocess_data\n",
      "    prediction_value = utils.delete_none(\n",
      "  File \"c:\\Users\\USER\\AppData\\Local\\Programs\\Python\\Python39\\lib\\site-packages\\gradio\\state_holder.py\", line 104, in __contains__\n",
      "    block = self.blocks_config.blocks[key]\n",
      "KeyError: 544\n",
      "Traceback (most recent call last):\n",
      "  File \"c:\\Users\\USER\\AppData\\Local\\Programs\\Python\\Python39\\lib\\site-packages\\gradio\\queueing.py\", line 536, in process_events\n",
      "    response = await route_utils.call_process_api(\n",
      "  File \"c:\\Users\\USER\\AppData\\Local\\Programs\\Python\\Python39\\lib\\site-packages\\gradio\\route_utils.py\", line 276, in call_process_api\n",
      "    session_hash = getattr(body, \"session_hash\", None)\n",
      "  File \"c:\\Users\\USER\\AppData\\Local\\Programs\\Python\\Python39\\lib\\site-packages\\gradio\\blocks.py\", line 1907, in process_api\n",
      "    await self.postprocess_data(block_fn, list(o), state)\n",
      "  File \"c:\\Users\\USER\\AppData\\Local\\Programs\\Python\\Python39\\lib\\site-packages\\gradio\\blocks.py\", line 1728, in postprocess_data\n",
      "    prediction_value = utils.delete_none(\n",
      "  File \"c:\\Users\\USER\\AppData\\Local\\Programs\\Python\\Python39\\lib\\site-packages\\gradio\\state_holder.py\", line 104, in __contains__\n",
      "    block = self.blocks_config.blocks[key]\n",
      "KeyError: 544\n",
      "Traceback (most recent call last):\n",
      "  File \"c:\\Users\\USER\\AppData\\Local\\Programs\\Python\\Python39\\lib\\site-packages\\gradio\\queueing.py\", line 536, in process_events\n",
      "    response = await route_utils.call_process_api(\n",
      "  File \"c:\\Users\\USER\\AppData\\Local\\Programs\\Python\\Python39\\lib\\site-packages\\gradio\\route_utils.py\", line 276, in call_process_api\n",
      "    session_hash = getattr(body, \"session_hash\", None)\n",
      "  File \"c:\\Users\\USER\\AppData\\Local\\Programs\\Python\\Python39\\lib\\site-packages\\gradio\\blocks.py\", line 1907, in process_api\n",
      "    await self.postprocess_data(block_fn, list(o), state)\n",
      "  File \"c:\\Users\\USER\\AppData\\Local\\Programs\\Python\\Python39\\lib\\site-packages\\gradio\\blocks.py\", line 1728, in postprocess_data\n",
      "    prediction_value = utils.delete_none(\n",
      "  File \"c:\\Users\\USER\\AppData\\Local\\Programs\\Python\\Python39\\lib\\site-packages\\gradio\\state_holder.py\", line 104, in __contains__\n",
      "    block = self.blocks_config.blocks[key]\n",
      "KeyError: 544\n"
     ]
    }
   ],
   "source": [
    "import requests\n",
    "import gradio as gr\n",
    "\n",
    "AZURE_OPENAI_ENDPOINT = \"https://b22-openai.openai.azure.com/openai/deployments/b22-gpt4o/chat/completions?api-version=2024-02-15-preview\"\n",
    "AZURE_OPENAI_API_KEY = \"1dbcc70ac05e48b68207e09ed5667d74\"\n",
    "\n",
    "def chatgpt_response(prompt, history):\n",
    "    print(prompt, history)\n",
    "    headers = {  \n",
    "        'Content-Type': 'application/json',  \n",
    "        'api-key': AZURE_OPENAI_API_KEY  \n",
    "    }  \n",
    "    \n",
    "    # Prepare messages including history\n",
    "    messages = [\n",
    "        {\n",
    "            \"role\": \"system\",\n",
    "            \"content\": \"You are an AI assistant that helps people find information.\"\n",
    "        }\n",
    "    ]\n",
    "\n",
    "    # Add previous history to the messages\n",
    "    for user_prompt, bot_reply in history:\n",
    "        messages.append({\"role\": \"user\", \"content\": user_prompt})\n",
    "        messages.append({\"role\": \"assistant\", \"content\": bot_reply})\n",
    "    \n",
    "    # Add current user prompt\n",
    "    messages.append({\"role\": \"user\", \"content\": prompt})\n",
    "    \n",
    "    payload = {\n",
    "        \"messages\": messages,\n",
    "        \"temperature\": 0.7,\n",
    "        \"top_p\": 0.95,\n",
    "        \"max_tokens\": 4096\n",
    "    }\n",
    "  \n",
    "    response = requests.post(\n",
    "        f\"{AZURE_OPENAI_ENDPOINT}\",\n",
    "        headers=headers,\n",
    "        json=payload\n",
    "    )\n",
    "  \n",
    "    result = response.json()\n",
    "    print(result)  # API 응답을 출력하여 확인\n",
    "\n",
    "    if 'choices' not in result:\n",
    "        return \"Error: API response does not contain 'choices' key\", history\n",
    "\n",
    "    bot_response = result['choices'][0]['message']['content'].strip()\n",
    "    history.append((prompt, bot_response))\n",
    "    return '', history\n",
    "\n",
    "def clear_chat():\n",
    "    return \"\", []\n",
    "\n",
    "def display_question(question):\n",
    "    # Return the question as a prompt but do not update history\n",
    "    return question, []\n",
    "\n",
    "# UI 구성\n",
    "with gr.Blocks() as demo:\n",
    "    gr.Markdown(\"# ChatGPT World!!!\\n음식점 전문가와의 대화 시작하기\")\n",
    "    \n",
    "    with gr.Row():\n",
    "        with gr.Column(scale=2):\n",
    "            gr.Markdown(\"### 자주 묻는 질문\")\n",
    "            initial_questions = [\n",
    "                \"오늘의 추천 음식은 무엇인가요?\",\n",
    "                \"최고의 음식점은 어디인가요?\",\n",
    "                \"특별한 기념일에 적합한 레스토랑은?\",\n",
    "                \"가족과 함께 가기 좋은 식당은 어디인가요?\"\n",
    "            ]\n",
    "            for question in initial_questions:\n",
    "                gr.Button(question, elem_id=f\"button-{question}\").click(fn=lambda q=question: display_question(q), outputs=[prompt])\n",
    "    \n",
    "    with gr.Row():\n",
    "        with gr.Column(scale=4):\n",
    "            chatbot = gr.Chatbot(label=\"Chat History\")\n",
    "        \n",
    "        with gr.Column(scale=2):\n",
    "            prompt = gr.Textbox(\n",
    "                label=\"프롬프트\", \n",
    "                placeholder=\"프롬프트를 입력하세요\", \n",
    "                lines=1\n",
    "            )\n",
    "            with gr.Row():\n",
    "                send_button = gr.Button(\"Send\")\n",
    "                clear_button = gr.Button(\"Clear\")\n",
    "            \n",
    "            send_button.click(fn=chatgpt_response, inputs=[prompt, chatbot], outputs=[prompt, chatbot])\n",
    "            prompt.submit(fn=chatgpt_response, inputs=[prompt, chatbot], outputs=[prompt, chatbot])\n",
    "            clear_button.click(fn=clear_chat, inputs=[], outputs=[chatbot, prompt])\n",
    "\n",
    "    demo.launch()\n"
   ]
  },
  {
   "cell_type": "code",
   "execution_count": 51,
   "metadata": {},
   "outputs": [
    {
     "name": "stdout",
     "output_type": "stream",
     "text": [
      "Running on local URL:  http://127.0.0.1:7899\n",
      "\n",
      "To create a public link, set `share=True` in `launch()`.\n"
     ]
    },
    {
     "data": {
      "text/html": [
       "<div><iframe src=\"http://127.0.0.1:7899/\" width=\"100%\" height=\"500\" allow=\"autoplay; camera; microphone; clipboard-read; clipboard-write;\" frameborder=\"0\" allowfullscreen></iframe></div>"
      ],
      "text/plain": [
       "<IPython.core.display.HTML object>"
      ]
     },
     "metadata": {},
     "output_type": "display_data"
    },
    {
     "name": "stderr",
     "output_type": "stream",
     "text": [
      "Traceback (most recent call last):\n",
      "  File \"c:\\Users\\USER\\AppData\\Local\\Programs\\Python\\Python39\\lib\\site-packages\\gradio\\queueing.py\", line 536, in process_events\n",
      "    response = await route_utils.call_process_api(\n",
      "  File \"c:\\Users\\USER\\AppData\\Local\\Programs\\Python\\Python39\\lib\\site-packages\\gradio\\route_utils.py\", line 276, in call_process_api\n",
      "    session_hash = getattr(body, \"session_hash\", None)\n",
      "  File \"c:\\Users\\USER\\AppData\\Local\\Programs\\Python\\Python39\\lib\\site-packages\\gradio\\blocks.py\", line 1907, in process_api\n",
      "    await self.postprocess_data(block_fn, list(o), state)\n",
      "  File \"c:\\Users\\USER\\AppData\\Local\\Programs\\Python\\Python39\\lib\\site-packages\\gradio\\blocks.py\", line 1728, in postprocess_data\n",
      "    prediction_value = utils.delete_none(\n",
      "  File \"c:\\Users\\USER\\AppData\\Local\\Programs\\Python\\Python39\\lib\\site-packages\\gradio\\state_holder.py\", line 104, in __contains__\n",
      "    block = self.blocks_config.blocks[key]\n",
      "KeyError: 593\n"
     ]
    }
   ],
   "source": [
    "import requests\n",
    "import gradio as gr\n",
    "\n",
    "AZURE_OPENAI_ENDPOINT = \"https://b22-openai.openai.azure.com/openai/deployments/b22-gpt4o/chat/completions?api-version=2024-02-15-preview\"\n",
    "AZURE_OPENAI_API_KEY = \"1dbcc70ac05e48b68207e09ed5667d74\"\n",
    "\n",
    "def chatgpt_response(prompt, history):\n",
    "    headers = {  \n",
    "        'Content-Type': 'application/json',  \n",
    "        'api-key': AZURE_OPENAI_API_KEY  \n",
    "    }  \n",
    "    \n",
    "    # Prepare messages including history\n",
    "    messages = [\n",
    "        {\n",
    "            \"role\": \"system\",\n",
    "            \"content\": \"You are an AI assistant that helps people find information.\"\n",
    "        }\n",
    "    ]\n",
    "\n",
    "    # Add previous history to the messages\n",
    "    for user_prompt, bot_reply in history:\n",
    "        messages.append({\"role\": \"user\", \"content\": user_prompt})\n",
    "        messages.append({\"role\": \"assistant\", \"content\": bot_reply})\n",
    "    \n",
    "    # Add current user prompt\n",
    "    messages.append({\"role\": \"user\", \"content\": prompt})\n",
    "    \n",
    "    payload = {\n",
    "        \"messages\": messages,\n",
    "        \"temperature\": 0.7,\n",
    "        \"top_p\": 0.95,\n",
    "        \"max_tokens\": 4096\n",
    "    }\n",
    "  \n",
    "    response = requests.post(\n",
    "        f\"{AZURE_OPENAI_ENDPOINT}\",\n",
    "        headers=headers,\n",
    "        json=payload\n",
    "    )\n",
    "  \n",
    "    result = response.json()\n",
    "    print(result)  # API 응답을 출력하여 확인\n",
    "\n",
    "    if 'choices' not in result:\n",
    "        return \"Error: API response does not contain 'choices' key\", history\n",
    "\n",
    "    bot_response = result['choices'][0]['message']['content'].strip()\n",
    "    history.append((prompt, bot_response))\n",
    "    return '', history\n",
    "\n",
    "def clear_chat():\n",
    "    return \"\", []\n",
    "\n",
    "def display_question(question):\n",
    "    # Return the question as a prompt but do not update history\n",
    "    return question, []\n",
    "\n",
    "# UI 구성\n",
    "with gr.Blocks() as demo:\n",
    "    gr.Markdown(\"# ChatGPT World!!!\\n음식점 전문가와의 대화 시작하기\")\n",
    "    \n",
    "    with gr.Row():\n",
    "        with gr.Column(scale=2):\n",
    "            gr.Markdown(\"### 자주 묻는 질문\")\n",
    "            initial_questions = [\n",
    "                \"오늘의 추천 음식은 무엇인가요?\",\n",
    "                \"최고의 음식점은 어디인가요?\",\n",
    "                \"특별한 기념일에 적합한 레스토랑은?\",\n",
    "                \"가족과 함께 가기 좋은 식당은 어디인가요?\"\n",
    "            ]\n",
    "            with gr.Column():\n",
    "                for question in initial_questions:\n",
    "                    gr.Button(question).click(\n",
    "                        fn=lambda q=question: display_question(q), outputs=[prompt]\n",
    "                    )\n",
    "    \n",
    "    with gr.Row():\n",
    "        with gr.Column(scale=4):\n",
    "            chatbot = gr.Chatbot(label=\"Chat History\")\n",
    "        \n",
    "        with gr.Column(scale=2):\n",
    "            prompt = gr.Textbox(\n",
    "                label=\"프롬프트\", \n",
    "                placeholder=\"프롬프트를 입력하세요\", \n",
    "                lines=1\n",
    "            )\n",
    "            with gr.Row():\n",
    "                send_button = gr.Button(\"Send\")\n",
    "                clear_button = gr.Button(\"Clear\")\n",
    "            \n",
    "            send_button.click(fn=chatgpt_response, inputs=[prompt, chatbot], outputs=[prompt, chatbot])\n",
    "            prompt.submit(fn=chatgpt_response, inputs=[prompt, chatbot], outputs=[prompt, chatbot])\n",
    "            clear_button.click(fn=clear_chat, inputs=[], outputs=[chatbot, prompt])\n",
    "\n",
    "    demo.launch()\n"
   ]
  },
  {
   "cell_type": "code",
   "execution_count": null,
   "metadata": {},
   "outputs": [],
   "source": []
  }
 ],
 "metadata": {
  "kernelspec": {
   "display_name": "Python 3",
   "language": "python",
   "name": "python3"
  },
  "language_info": {
   "codemirror_mode": {
    "name": "ipython",
    "version": 3
   },
   "file_extension": ".py",
   "mimetype": "text/x-python",
   "name": "python",
   "nbconvert_exporter": "python",
   "pygments_lexer": "ipython3",
   "version": "3.9.2rc1"
  }
 },
 "nbformat": 4,
 "nbformat_minor": 2
}
