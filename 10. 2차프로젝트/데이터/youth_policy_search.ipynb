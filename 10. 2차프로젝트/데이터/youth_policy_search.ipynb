{
 "cells": [
  {
   "cell_type": "code",
   "execution_count": 2,
   "metadata": {},
   "outputs": [
    {
     "data": {
      "text/plain": [
       "[{'rnum': '1',\n",
       "  'bizId': 'R2024071524979',\n",
       "  'polyBizSjnm': '청년취업지원센터 교육(7월)',\n",
       "  'polyItcnCn': '1:1 취업컨설팅 및 현직자 직무멘토링 교육지원',\n",
       "  'rqutUrla': 'https://blog.naver.com/PostList.naver?blogId=dbyouthjob&from=postList&categoryNo=1&parentCategoryNo=1'},\n",
       " {'rnum': '2',\n",
       "  'bizId': 'R2024071524978',\n",
       "  'polyBizSjnm': '청년취업지원센터(도봉구)',\n",
       "  'polyItcnCn': '지역 내 청년들의 취업역량 강화를 위한 ‘청년취업지원센터’를 조성하여 취업 준비부터 최종 합격에 이르기까지 취업에 필요한 전 단계를 지원',\n",
       "  'rqutUrla': 'null'},\n",
       " {'rnum': '3',\n",
       "  'bizId': 'R2024070324623',\n",
       "  'polyBizSjnm': '청년취업사관학교 강남캠퍼스',\n",
       "  'polyItcnCn': '청년 구직자 디지털 역량 강화를 통한 청년 일자리 미스매칭 해소 사업',\n",
       "  'rqutUrla': 'null'},\n",
       " {'rnum': '4',\n",
       "  'bizId': 'R2024041821966',\n",
       "  'polyBizSjnm': '청년취업 자격취득 활동지원 사업(동대문구)',\n",
       "  'polyItcnCn': '구직활동에 필요한 어학·자격시험 응시료 지원을 통해 청년의 경제적 부담을 완화하고 청년들의 실질적인 취업지원 사업',\n",
       "  'rqutUrla': 'null'},\n",
       " {'rnum': '5',\n",
       "  'bizId': 'R2024041721908',\n",
       "  'polyBizSjnm': '청년취업 해Dream 사업',\n",
       "  'polyItcnCn': '동대문구에서 구내 청년들을 위한 정책으로 현직자에게 직접 배우는 직무교육부터 실제 일자리 연계까지 직무별 구직청년 맞춤Fit 취업연계 사업',\n",
       "  'rqutUrla': 'null'}]"
      ]
     },
     "execution_count": 2,
     "metadata": {},
     "output_type": "execute_result"
    }
   ],
   "source": [
    "# 셀 1: 필요한 라이브러리 임포트\n",
    "import requests\n",
    "import xml.etree.ElementTree as ET\n",
    "\n",
    "# 셀 2: 청년 정책 검색 함수 정의 (XML 처리 포함)\n",
    "def search_youth_policy(api_key, display=10, page_index=1, srch_policy_id=None, query=None, biz_tycd_sel=None, srch_poly_biz_secd=None, keyword=None):\n",
    "    url = \"https://www.youthcenter.go.kr/opi/youthPlcyList.do\"\n",
    "    \n",
    "    params = {\n",
    "        \"openApiVlak\": api_key,\n",
    "        \"display\": display,\n",
    "        \"pageIndex\": page_index,\n",
    "    }\n",
    "    \n",
    "    # Optional parameters\n",
    "    if srch_policy_id:\n",
    "        params[\"srchPolicyId\"] = srch_policy_id\n",
    "    if query:\n",
    "        params[\"query\"] = query\n",
    "    if biz_tycd_sel:\n",
    "        params[\"bizTycdSel\"] = biz_tycd_sel\n",
    "    if srch_poly_biz_secd:\n",
    "        params[\"srchPolyBizSecd\"] = srch_poly_biz_secd\n",
    "    if keyword:\n",
    "        params[\"keyword\"] = keyword\n",
    "    \n",
    "    response = requests.get(url, params=params)\n",
    "    \n",
    "    if response.status_code == 200:\n",
    "        try:\n",
    "            # XML 데이터를 파싱\n",
    "            root = ET.fromstring(response.content)\n",
    "            policies = []\n",
    "            \n",
    "            for policy in root.findall('youthPolicy'):\n",
    "                policy_data = {\n",
    "                    'rnum': policy.find('rnum').text,\n",
    "                    'bizId': policy.find('bizId').text,\n",
    "                    'polyBizSjnm': policy.find('polyBizSjnm').text,\n",
    "                    'polyItcnCn': policy.find('polyItcnCn').text,\n",
    "                    'rqutUrla': policy.find('rqutUrla').text\n",
    "                }\n",
    "                policies.append(policy_data)\n",
    "            \n",
    "            return policies\n",
    "        except ET.ParseError:\n",
    "            return \"Error: Failed to parse XML response.\"\n",
    "    else:\n",
    "        return f\"Error: {response.status_code} - {response.text}\"\n",
    "\n",
    "# 셀 3: 함수 사용 예시\n",
    "api_key = \"bb7d5124a944a089bc868488\" \n",
    "result = search_youth_policy(api_key, display=5, query=\"청년취업\", biz_tycd_sel=\"023010\", srch_poly_biz_secd=\"003002001\")\n",
    "result\n",
    "\n"
   ]
  }
 ],
 "metadata": {
  "kernelspec": {
   "display_name": "Python 3",
   "language": "python",
   "name": "python3"
  },
  "language_info": {
   "codemirror_mode": {
    "name": "ipython",
    "version": 3
   },
   "file_extension": ".py",
   "mimetype": "text/x-python",
   "name": "python",
   "nbconvert_exporter": "python",
   "pygments_lexer": "ipython3",
   "version": "3.12.3"
  }
 },
 "nbformat": 4,
 "nbformat_minor": 2
}
