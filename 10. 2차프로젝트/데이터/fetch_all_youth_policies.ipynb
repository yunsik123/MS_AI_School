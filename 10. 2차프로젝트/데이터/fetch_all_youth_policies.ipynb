{
 "cells": [
  {
   "cell_type": "code",
   "execution_count": 1,
   "metadata": {},
   "outputs": [
    {
     "name": "stdout",
     "output_type": "stream",
     "text": [
      "Data successfully saved to all_youth_policies.json\n"
     ]
    }
   ],
   "source": [
    "# 셀 1: 필요한 라이브러리 임포트\n",
    "import requests\n",
    "import xml.etree.ElementTree as ET\n",
    "import json\n",
    "\n",
    "# 셀 2: 청년 정책 검색 함수 정의 (전체 필드 추출 포함, 페이지네이션 추가)\n",
    "def get_all_youth_policies(api_key, display=100):\n",
    "    url = \"https://www.youthcenter.go.kr/opi/youthPlcyList.do\"\n",
    "    all_policies = []\n",
    "    page_index = 1\n",
    "    \n",
    "    while True:\n",
    "        params = {\n",
    "            \"openApiVlak\": api_key,\n",
    "            \"display\": display,\n",
    "            \"pageIndex\": page_index,\n",
    "        }\n",
    "        \n",
    "        response = requests.get(url, params=params)\n",
    "        \n",
    "        if response.status_code == 200:\n",
    "            try:\n",
    "                # XML 데이터를 파싱\n",
    "                root = ET.fromstring(response.content)\n",
    "                policies = []\n",
    "                \n",
    "                for policy in root.findall('youthPolicy'):\n",
    "                    policy_data = {}\n",
    "                    \n",
    "                    # 모든 자식 노드의 태그와 텍스트 값을 추출\n",
    "                    for child in policy:\n",
    "                        policy_data[child.tag] = child.text\n",
    "                    \n",
    "                    policies.append(policy_data)\n",
    "                \n",
    "                if not policies:\n",
    "                    break  # 더 이상 데이터가 없으면 종료\n",
    "                \n",
    "                all_policies.extend(policies)\n",
    "                page_index += 1\n",
    "                \n",
    "            except ET.ParseError:\n",
    "                print(\"Error: Failed to parse XML response.\")\n",
    "                break\n",
    "        else:\n",
    "            print(f\"Error: {response.status_code} - {response.text}\")\n",
    "            break\n",
    "    \n",
    "    return all_policies\n",
    "\n",
    "# 셀 3: 결과를 파일로 저장하는 함수\n",
    "def save_to_file(data, filename):\n",
    "    with open(filename, 'w', encoding='utf-8') as f:\n",
    "        json.dump(data, f, ensure_ascii=False, indent=4)\n",
    "    print(f\"Data successfully saved to {filename}\")\n",
    "\n",
    "# 셀 4: 함수 사용 예시 및 파일 저장\n",
    "api_key = \"bb7d5124a944a089bc868488\"  # Replace with your actual API key\n",
    "result = get_all_youth_policies(api_key, display=100)\n",
    "\n",
    "# 저장할 파일명 설정\n",
    "filename = \"all_youth_policies.json\"\n",
    "save_to_file(result, filename)\n"
   ]
  }
 ],
 "metadata": {
  "kernelspec": {
   "display_name": "Python 3",
   "language": "python",
   "name": "python3"
  },
  "language_info": {
   "codemirror_mode": {
    "name": "ipython",
    "version": 3
   },
   "file_extension": ".py",
   "mimetype": "text/x-python",
   "name": "python",
   "nbconvert_exporter": "python",
   "pygments_lexer": "ipython3",
   "version": "3.12.3"
  }
 },
 "nbformat": 4,
 "nbformat_minor": 2
}
