{
 "cells": [
  {
   "cell_type": "code",
   "execution_count": 7,
   "metadata": {},
   "outputs": [],
   "source": [
    "#%pip install azure-cognitiveservices-vision-customvision\n",
    " "
   ]
  },
  {
   "cell_type": "code",
   "execution_count": 3,
   "metadata": {},
   "outputs": [],
   "source": [
    "from azure.cognitiveservices.vision.customvision.training import CustomVisionTrainingClient\n",
    "from azure.cognitiveservices.vision.customvision.prediction import CustomVisionPredictionClient\n",
    "from azure.cognitiveservices.vision.customvision.training.models import ImageFileCreateBatch, ImageFileCreateEntry, Region\n",
    "from msrest.authentication import ApiKeyCredentials\n",
    "import os, time, uuid\n",
    "\n",
    "endpoint = \"https://b22customvision.cognitiveservices.azure.com/\"\n",
    "training_key = \"01aa1dc893d04cc18e1215aec5a88214\"\n",
    "prediction_key = \"1bc6002cc4a74ecc973d3bc2d43b04e1\"\n",
    "\n",
    "credentials = ApiKeyCredentials(in_headers={\"Training-key\": training_key})\n",
    "trainer = CustomVisionTrainingClient(endpoint, credentials)\n",
    "prediction_credentials = ApiKeyCredentials(in_headers={\"Prediction-key\": prediction_key})\n",
    "predictor = CustomVisionPredictionClient(endpoint, prediction_credentials)\n",
    "\n",
    "\n"
   ]
  },
  {
   "cell_type": "code",
   "execution_count": 4,
   "metadata": {},
   "outputs": [
    {
     "name": "stdout",
     "output_type": "stream",
     "text": [
      "Create Project!!\n"
     ]
    },
    {
     "data": {
      "text/plain": [
       "<azure.cognitiveservices.vision.customvision.training.models._models_py3.Project at 0x1caefec3f40>"
      ]
     },
     "execution_count": 4,
     "metadata": {},
     "output_type": "execute_result"
    }
   ],
   "source": [
    "publish_iteration_name = \"classifyModel\"\n",
    "project_name = \"intrus-kitchen-v3\"\n",
    "\n",
    "obj_detection_domain = None\n",
    "for domain in trainer.get_domains():\n",
    "    if domain.type == \"ObjectDetection\" and domain.name == \"General\":\n",
    "        obj_detection_domain = domain\n",
    "        break\n",
    "\n",
    "print(\"Create Project!!\")\n",
    "\n",
    "project = trainer.create_project(project_name, domain_id=obj_detection_domain.id)\n",
    "project"
   ]
  },
  {
   "cell_type": "code",
   "execution_count": 5,
   "metadata": {},
   "outputs": [
    {
     "name": "stdout",
     "output_type": "stream",
     "text": [
      "4f94c66c-662d-4f1a-8c77-5e8a68178bfb intrus-kitchen-v3\n"
     ]
    }
   ],
   "source": [
    "print(project.id, project.name)\n",
    "\n",
    "# 태그 생성\n",
    "fork_tag = trainer.create_tag(project.id, \"fork\")\n",
    "scissors_tag = trainer.create_tag(project.id, \"scissors\")"
   ]
  },
  {
   "cell_type": "code",
   "execution_count": 16,
   "metadata": {},
   "outputs": [],
   "source": [
    "fork_image_regions = {\n",
    "    \"fork_1\": [ 0.145833328, 0.3509314, 0.5894608, 0.238562092 ],\n",
    "    \"fork_2\": [ 0.294117659, 0.216944471, 0.534313738, 0.5980392 ],\n",
    "    \"fork_3\": [ 0.09191177, 0.0682516545, 0.757352948, 0.6143791 ],\n",
    "    \"fork_4\": [ 0.254901975, 0.185898721, 0.5232843, 0.594771266 ],\n",
    "    \"fork_5\": [ 0.2365196, 0.128709182, 0.5845588, 0.71405226 ],\n",
    "    \"fork_6\": [ 0.115196079, 0.133611143, 0.676470637, 0.6993464 ],\n",
    "    \"fork_7\": [ 0.164215669, 0.31008172, 0.767156839, 0.410130739 ],\n",
    "    \"fork_8\": [ 0.118872553, 0.318251669, 0.817401946, 0.225490168 ],\n",
    "    \"fork_9\": [ 0.18259804, 0.2136765, 0.6335784, 0.643790841 ],\n",
    "    \"fork_10\": [ 0.05269608, 0.282303959, 0.8088235, 0.452614367 ],\n",
    "    \"fork_11\": [ 0.05759804, 0.0894935, 0.9007353, 0.3251634 ],\n",
    "    \"fork_12\": [ 0.3345588, 0.07315363, 0.375, 0.9150327 ],\n",
    "    \"fork_13\": [ 0.269607842, 0.194068655, 0.4093137, 0.6732026 ],\n",
    "    \"fork_14\": [ 0.143382356, 0.218578458, 0.7977941, 0.295751631 ],\n",
    "    \"fork_15\": [ 0.19240196, 0.0633497, 0.5710784, 0.8398692 ],\n",
    "    \"fork_16\": [ 0.140931368, 0.480016381, 0.6838235, 0.240196079 ],\n",
    "    \"fork_17\": [ 0.305147052, 0.2512582, 0.4791667, 0.5408496 ],\n",
    "    \"fork_18\": [ 0.234068632, 0.445702642, 0.6127451, 0.344771236 ],\n",
    "    \"fork_19\": [ 0.219362751, 0.141781077, 0.5919118, 0.6683006 ],\n",
    "    \"fork_20\": [ 0.180147052, 0.239820287, 0.6887255, 0.235294119 ]\n",
    "}\n",
    " \n",
    "scissors_image_regions = {\n",
    "    \"scissors_1\": [ 0.4007353, 0.194068655, 0.259803921, 0.6617647 ],\n",
    "    \"scissors_2\": [ 0.426470578, 0.185898721, 0.172794119, 0.5539216 ],\n",
    "    \"scissors_3\": [ 0.289215684, 0.259428144, 0.403186262, 0.421568632 ],\n",
    "    \"scissors_4\": [ 0.343137264, 0.105833367, 0.332107842, 0.8055556 ],\n",
    "    \"scissors_5\": [ 0.3125, 0.09766343, 0.435049027, 0.71405226 ],\n",
    "    \"scissors_6\": [ 0.379901975, 0.24308826, 0.32107842, 0.5718954 ],\n",
    "    \"scissors_7\": [ 0.341911763, 0.20714055, 0.3137255, 0.6356209 ],\n",
    "    \"scissors_8\": [ 0.231617644, 0.08459154, 0.504901946, 0.8480392 ],\n",
    "    \"scissors_9\": [ 0.170343131, 0.332957536, 0.767156839, 0.403594762 ],\n",
    "    \"scissors_10\": [ 0.204656869, 0.120539248, 0.5245098, 0.743464053 ],\n",
    "    \"scissors_11\": [ 0.05514706, 0.159754932, 0.799019635, 0.730392158 ],\n",
    "    \"scissors_12\": [ 0.265931368, 0.169558853, 0.5061275, 0.606209159 ],\n",
    "    \"scissors_13\": [ 0.241421565, 0.184264734, 0.448529422, 0.6830065 ],\n",
    "    \"scissors_14\": [ 0.05759804, 0.05027781, 0.75, 0.882352948 ],\n",
    "    \"scissors_15\": [ 0.191176474, 0.169558853, 0.6936275, 0.6748366 ],\n",
    "    \"scissors_16\": [ 0.1004902, 0.279036, 0.6911765, 0.477124184 ],\n",
    "    \"scissors_17\": [ 0.2720588, 0.131977156, 0.4987745, 0.6911765 ],\n",
    "    \"scissors_18\": [ 0.180147052, 0.112369314, 0.6262255, 0.6666667 ],\n",
    "    \"scissors_19\": [ 0.333333343, 0.0274019931, 0.443627447, 0.852941155 ],\n",
    "    \"scissors_20\": [ 0.158088237, 0.04047389, 0.6691176, 0.843137264 ]\n",
    "}"
   ]
  },
  {
   "cell_type": "code",
   "execution_count": 19,
   "metadata": {},
   "outputs": [
    {
     "name": "stdout",
     "output_type": "stream",
     "text": [
      "40\n",
      "image status:  OK\n",
      "image status:  OK\n",
      "image status:  OK\n",
      "image status:  OK\n",
      "image status:  OK\n",
      "image status:  OK\n",
      "image status:  OK\n",
      "image status:  OK\n",
      "image status:  OK\n",
      "image status:  OKDuplicate\n",
      "image status:  OKDuplicate\n",
      "image status:  OK\n",
      "image status:  OKDuplicate\n",
      "image status:  OK\n",
      "image status:  OKDuplicate\n",
      "image status:  OKDuplicate\n",
      "image status:  OKDuplicate\n",
      "image status:  OKDuplicate\n",
      "image status:  OK\n",
      "image status:  OKDuplicate\n",
      "image status:  OKDuplicate\n",
      "image status:  OKDuplicate\n",
      "image status:  OK\n",
      "image status:  OKDuplicate\n",
      "image status:  OK\n",
      "image status:  OK\n",
      "image status:  OK\n",
      "image status:  OKDuplicate\n",
      "image status:  OKDuplicate\n",
      "image status:  OK\n",
      "image status:  OK\n",
      "image status:  OK\n",
      "image status:  OKDuplicate\n",
      "image status:  OKDuplicate\n",
      "image status:  OKDuplicate\n",
      "image status:  OKDuplicate\n",
      "image status:  OKDuplicate\n",
      "image status:  OK\n",
      "image status:  OKDuplicate\n",
      "image status:  OKDuplicate\n"
     ]
    }
   ],
   "source": [
    "base_image_location = os.path.join(\"images\")\n",
    "\n",
    "tagged_images_with_regions = []\n",
    "\n",
    "for file_name in fork_image_regions.keys():\n",
    "    x, y, w, h = fork_image_regions[file_name]\n",
    "    regions = [Region(tag_id=fork_tag.id, left=x, top=y, width=w, height=h)]\n",
    "    with open(os.path.join(base_image_location, \"fork\", f\"{file_name}.jpg\"), 'rb') as image:\n",
    "        image_data = image.read()\n",
    "    tagged_images_with_regions.append(ImageFileCreateEntry(name=file_name, contents=image_data, regions=regions))\n",
    "\n",
    "for file_name in scissors_image_regions.keys():\n",
    "    x, y, w, h = scissors_image_regions[file_name]\n",
    "    regions = [Region(tag_id=scissors_tag.id, left=x, top=y, width=w, height=h)]\n",
    "    with open(os.path.join(base_image_location, \"scissors\", f\"{file_name}.jpg\"), 'rb') as image:\n",
    "        image_data = image.read()\n",
    "    tagged_images_with_regions.append(ImageFileCreateEntry(name=file_name, contents=image_data, regions=regions))\n",
    "\n",
    "print(len(tagged_images_with_regions))\n",
    "\n",
    "upload_result = trainer.create_images_from_files(project_id=project.id, batch=ImageFileCreateBatch(images=tagged_images_with_regions))\n",
    "\n",
    "if upload_result.is_batch_successful:\n",
    "    print(\"succeed\")\n",
    "else:\n",
    "    for image in upload_result.images:\n",
    "        print(\"image status: \", image.status)\n"
   ]
  },
  {
   "cell_type": "code",
   "execution_count": 21,
   "metadata": {},
   "outputs": [
    {
     "name": "stdout",
     "output_type": "stream",
     "text": [
      "4f94c66c-662d-4f1a-8c77-5e8a68178bfb intrus-kitchen-v3\n"
     ]
    }
   ],
   "source": [
    "print(project.id,project.name)"
   ]
  },
  {
   "cell_type": "code",
   "execution_count": 23,
   "metadata": {},
   "outputs": [
    {
     "name": "stdout",
     "output_type": "stream",
     "text": [
      "fork scissors\n"
     ]
    }
   ],
   "source": [
    "exist_tag_list = trainer.get_tags(project_id=project.id)\n",
    "\n",
    "fork_tag = None\n",
    "scissors_tag = None\n",
    "\n",
    "for c in exist_tag_list:\n",
    "    if c.name == \"fork\":\n",
    "        fork_tag = trainer.get_tag(project.id, tag_id=c.id)\n",
    "    elif c.name == \"scissors\":\n",
    "        scissors_tag = trainer.get_tag(project.id, tag_id=c.id)\n",
    "\n",
    "if fork_tag is None:\n",
    "    fork_tag = trainer.create_tag(project.id, \"fork\")\n",
    "if scissors_tag is None:\n",
    "    scissors_tag = trainer.create_tag(project.id, \"scissors\")\n",
    "\n",
    "print(fork_tag.name, scissors_tag.name)\n"
   ]
  },
  {
   "cell_type": "code",
   "execution_count": null,
   "metadata": {},
   "outputs": [],
   "source": []
  }
 ],
 "metadata": {
  "kernelspec": {
   "display_name": "Python 3",
   "language": "python",
   "name": "python3"
  },
  "language_info": {
   "codemirror_mode": {
    "name": "ipython",
    "version": 3
   },
   "file_extension": ".py",
   "mimetype": "text/x-python",
   "name": "python",
   "nbconvert_exporter": "python",
   "pygments_lexer": "ipython3",
   "version": "3.9.2rc1"
  }
 },
 "nbformat": 4,
 "nbformat_minor": 2
}
