{
 "cells": [
  {
   "cell_type": "code",
   "execution_count": 5,
   "metadata": {},
   "outputs": [
    {
     "name": "stdout",
     "output_type": "stream",
     "text": [
      "Running on local URL:  http://127.0.0.1:7864\n",
      "\n",
      "To create a public link, set `share=True` in `launch()`.\n"
     ]
    },
    {
     "data": {
      "text/html": [
       "<div><iframe src=\"http://127.0.0.1:7864/\" width=\"100%\" height=\"500\" allow=\"autoplay; camera; microphone; clipboard-read; clipboard-write;\" frameborder=\"0\" allowfullscreen></iframe></div>"
      ],
      "text/plain": [
       "<IPython.core.display.HTML object>"
      ]
     },
     "metadata": {},
     "output_type": "display_data"
    },
    {
     "data": {
      "text/plain": []
     },
     "execution_count": 5,
     "metadata": {},
     "output_type": "execute_result"
    },
    {
     "name": "stdout",
     "output_type": "stream",
     "text": [
      "animal\n",
      "turtle\n"
     ]
    }
   ],
   "source": [
    "import gradio as gr\n",
    "from PIL import Image, ImageDraw, ImageFont\n",
    "import numpy as np\n",
    "import requests\n",
    "import io\n",
    "\n",
    "sample_data = {\n",
    "    \"modelVersion\": \"2023-10-01\",\n",
    "    \"metadata\": {\n",
    "        \"width\": 816,\n",
    "        \"height\": 612\n",
    "    },\n",
    "    \"objectsResult\": {\n",
    "        \"values\": [\n",
    "            {\n",
    "                \"boundingBox\": {\n",
    "                    \"x\": 85,\n",
    "                    \"y\": 146,\n",
    "                    \"w\": 559,\n",
    "                    \"h\": 348\n",
    "                },\n",
    "                \"tags\": [\n",
    "                    {\n",
    "                        \"name\": \"tool\",\n",
    "                        \"confidence\": 0.749\n",
    "                    }\n",
    "                ]\n",
    "            }\n",
    "        ]\n",
    "    }\n",
    "}\n",
    "\n",
    "def request_object_detection(image_path):\n",
    "    endpoint = \"https://fimtrus-computervision2.cognitiveservices.azure.com/computervision/imageanalysis:analyze?api-version=2024-02-01&features=objects\" # &model-name=kitchendetection\"\n",
    "    api_key = \"ee6d3d3de333480291b572fc7147b015\"\n",
    "\n",
    "    headers = {\n",
    "        \"Content-Type\": \"application/octet-stream\",\n",
    "        \"Ocp-Apim-Subscription-Key\": api_key\n",
    "    }\n",
    "    with open(image_path, \"rb\") as image:\n",
    "        image_data = image.read()\n",
    "\n",
    "    response = requests.post(endpoint,\n",
    "                  headers=headers,\n",
    "                  data=image_data)\n",
    "    \n",
    "    if response.status_code == 200:\n",
    "        response_json = response.json()\n",
    "        object_list = response_json[\"objectsResult\"][\"values\"]\n",
    "        return object_list     \n",
    "    else:\n",
    "        return None\n",
    "\n",
    "def draw_rectangle(image_path):\n",
    "    \n",
    "    if image_path is None:\n",
    "        return None\n",
    "    # with open(image_path, \"rb\") as image:\n",
    "    #     image_data = image.read()\n",
    "    # 파일 경로를 사용하여 이미지 열기\n",
    "    image = Image.open(image_path)\n",
    "    object_list = request_object_detection(image_path)\n",
    "    # object_list = sample_data[\"objectsResult\"][\"values\"]\n",
    "    # Draw 객체 생성\n",
    "    draw = ImageDraw.Draw(image)\n",
    "\n",
    "    try:\n",
    "        # font = ImageFont.truetype(\"arial.ttf\", font_size)\n",
    "        font = ImageFont.truetype(\"NanumGothic.ttf\", 30)\n",
    "    except IOError:\n",
    "        # Arial 폰트가 없으면 기본 폰트를 사용합니다.\n",
    "        font = ImageFont.load_default()\n",
    "\n",
    "\n",
    "    # 샘플 데이터에서 값을 불러옴.   \n",
    "    for c in object_list:\n",
    "        bounding_box = c['boundingBox']\n",
    "        if len(c['tags']) > 0:\n",
    "            keyword = c['tags'][0]['name']\n",
    "        else:\n",
    "            keyword = ''\n",
    "        x = bounding_box[\"x\"]\n",
    "        y = bounding_box[\"y\"]\n",
    "        w = bounding_box[\"w\"]\n",
    "        h = bounding_box[\"h\"]\n",
    "    \n",
    "\n",
    "        # 네모 그리기 (왼쪽 상단 (50, 50)에서 오른쪽 하단 (200, 200)까지)\n",
    "        start_point = (x, y)\n",
    "        end_point = (x + w, y + h)\n",
    "\n",
    "        random_colors = tuple(np.random.randint(0, 255, 3))\n",
    "        thickness = 2\n",
    "        # 네모 그리기\n",
    "        draw.rectangle([start_point, end_point], outline=random_colors, width=thickness)\n",
    "        # 텍스트 그리기\n",
    "        print(keyword)\n",
    "        if keyword:    \n",
    "        #     # 태그 이름 텍스트 추가\n",
    "            draw.text((x + 5, y + 5), keyword, fill=random_colors, font=font)\n",
    "\n",
    "    return image\n",
    "\n",
    "with gr.Blocks() as demo:\n",
    "    input_image = gr.Image(type=\"filepath\")\n",
    "    result_image = gr.Image(type=\"pil\")\n",
    "\n",
    "    input_image.change(fn=draw_rectangle, inputs=[input_image], outputs=[result_image])\n",
    "\n",
    "demo.launch()"
   ]
  },
  {
   "cell_type": "code",
   "execution_count": 18,
   "metadata": {},
   "outputs": [
    {
     "name": "stdout",
     "output_type": "stream",
     "text": [
      "[{'boundingBox': {'x': 112, 'y': 71, 'w': 107, 'h': 132}, 'tags': [{'name': 'person', 'confidence': 0.743}]}, {'boundingBox': {'x': 199, 'y': 52, 'w': 201, 'h': 162}, 'tags': [{'name': 'boat', 'confidence': 0.586}]}]\n"
     ]
    }
   ],
   "source": [
    "def request_object_detection(image_path):\n",
    "    endpoint = \"https://fimtrus-computervision2.cognitiveservices.azure.com/computervision/imageanalysis:analyze?api-version=2024-02-01&features=objects\" # &model-name=kitchendetection\"\n",
    "    api_key = \"ee6d3d3de333480291b572fc7147b015\"\n",
    "\n",
    "    headers = {\n",
    "        \"Content-Type\": \"application/octet-stream\",\n",
    "        \"Ocp-Apim-Subscription-Key\": api_key\n",
    "    }\n",
    "    with open(image_path, \"rb\") as image:\n",
    "        image_data = image.read()\n",
    "\n",
    "    response = requests.post(endpoint,\n",
    "                  headers=headers,\n",
    "                  data=image_data)\n",
    "    \n",
    "    if response.status_code == 200:\n",
    "        response_json = response.json()\n",
    "        object_list = response_json[\"objectsResult\"][\"values\"]\n",
    "        return object_list     \n",
    "    else:\n",
    "        return None\n",
    "\n",
    "print(request_object_detection('/Users/fimtrus/Pictures/002.다이빙/501be83cf4a806200d4ab58d39ba71db_thumbnail.JPG'))"
   ]
  },
  {
   "cell_type": "code",
   "execution_count": null,
   "metadata": {},
   "outputs": [],
   "source": []
  }
 ],
 "metadata": {
  "kernelspec": {
   "display_name": "openai",
   "language": "python",
   "name": "python3"
  },
  "language_info": {
   "codemirror_mode": {
    "name": "ipython",
    "version": 3
   },
   "file_extension": ".py",
   "mimetype": "text/x-python",
   "name": "python",
   "nbconvert_exporter": "python",
   "pygments_lexer": "ipython3",
   "version": "3.11.9"
  }
 },
 "nbformat": 4,
 "nbformat_minor": 2
}
