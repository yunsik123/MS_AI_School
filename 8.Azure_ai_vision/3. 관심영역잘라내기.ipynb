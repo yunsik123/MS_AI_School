{
 "cells": [
  {
   "cell_type": "code",
   "execution_count": 1,
   "metadata": {},
   "outputs": [
    {
     "name": "stderr",
     "output_type": "stream",
     "text": [
      "c:\\Users\\USER\\AppData\\Local\\Programs\\Python\\Python39\\lib\\site-packages\\tqdm\\auto.py:21: TqdmWarning: IProgress not found. Please update jupyter and ipywidgets. See https://ipywidgets.readthedocs.io/en/stable/user_install.html\n",
      "  from .autonotebook import tqdm as notebook_tqdm\n"
     ]
    },
    {
     "name": "stdout",
     "output_type": "stream",
     "text": [
      "Running on local URL:  http://127.0.0.1:7860\n",
      "\n",
      "To create a public link, set `share=True` in `launch()`.\n"
     ]
    },
    {
     "data": {
      "text/html": [
       "<div><iframe src=\"http://127.0.0.1:7860/\" width=\"100%\" height=\"500\" allow=\"autoplay; camera; microphone; clipboard-read; clipboard-write;\" frameborder=\"0\" allowfullscreen></iframe></div>"
      ],
      "text/plain": [
       "<IPython.core.display.HTML object>"
      ]
     },
     "metadata": {},
     "output_type": "display_data"
    },
    {
     "data": {
      "text/plain": []
     },
     "execution_count": 1,
     "metadata": {},
     "output_type": "execute_result"
    },
    {
     "name": "stdout",
     "output_type": "stream",
     "text": [
      "{'modelVersion': '2023-10-01', 'metadata': {'width': 1024, 'height': 1024}, 'smartCropsResult': {'values': [{'aspectRatio': 1.0, 'boundingBox': {'x': 0, 'y': 0, 'w': 1020, 'h': 1020}}, {'aspectRatio': 1.1, 'boundingBox': {'x': 0, 'y': 24, 'w': 1020, 'h': 927}}, {'aspectRatio': 1.5, 'boundingBox': {'x': 0, 'y': 120, 'w': 1020, 'h': 679}}]}}\n",
      "0 0 1020 1020\n",
      "0 24 1020 927\n",
      "0 120 1020 679\n",
      "{'modelVersion': '2023-10-01', 'metadata': {'width': 802, 'height': 538}, 'smartCropsResult': {'values': [{'aspectRatio': 1.0, 'boundingBox': {'x': 163, 'y': 0, 'w': 511, 'h': 511}}, {'aspectRatio': 1.1, 'boundingBox': {'x': 138, 'y': 0, 'w': 552, 'h': 502}}, {'aspectRatio': 1.5, 'boundingBox': {'x': 0, 'y': 0, 'w': 750, 'h': 499}}]}}\n",
      "163 0 511 511\n",
      "138 0 552 502\n",
      "0 0 750 499\n"
     ]
    }
   ],
   "source": [
    "import requests\n",
    "import gradio as gr\n",
    "from PIL import Image, ImageDraw, ImageFont\n",
    " \n",
    "def request_vision(image_path):\n",
    "    features = \"SmartCrops\"\n",
    "    endpoint = f\"https://fimtrus-computervision2.cognitiveservices.azure.com/computervision/imageanalysis:analyze?api-version=2024-02-01&features={features}&smartcrops-aspect-ratios=1,1.1,1.5\"\n",
    "    api_key = \"ee6d3d3de333480291b572fc7147b015\"\n",
    " \n",
    " \n",
    "    headers = {\n",
    "        \"Content-Type\": \"application/octet-stream\",\n",
    "        \"Ocp-Apim-Subscription-Key\": api_key\n",
    "    }\n",
    " \n",
    "    with open(image_path, 'rb') as image:\n",
    "        image_data = image.read()\n",
    " \n",
    "    response = requests.post(endpoint,\n",
    "                            headers=headers,\n",
    "                            data=image_data)\n",
    " \n",
    "    response_json = response.json()\n",
    "    print(response_json)\n",
    " \n",
    "    return response_json\n",
    " \n",
    "def change_image(image_path):\n",
    " \n",
    "    if image_path is None:\n",
    "        return None\n",
    "    \n",
    "    image = Image.open(image_path)\n",
    "    draw = ImageDraw.Draw(image)\n",
    "    try:\n",
    "        font = ImageFont.truetype(\"NanumGothic.ttf\", 30)\n",
    "    except IOError:\n",
    "        # Arial 폰트가 없으면 기본 폰트를 사용합니다.\n",
    "        font = ImageFont.load_default()\n",
    "    \n",
    "    # request_vision을 통해 데이터를 받아 온다.\n",
    "    # 받은 데이터를 파싱해서 image에 그린다.\n",
    " \n",
    "    response_json = request_vision(image_path)\n",
    "    # 받은 데이터를 파싱해서 image에 그린다.  \n",
    "    if \"objectsResult\" in response_json and \"values\" in response_json[\"objectsResult\"]:  \n",
    "        for obj in response_json[\"objectsResult\"][\"values\"]:  \n",
    "            box = obj[\"boundingBox\"]  \n",
    "            x, y, w, h = box[\"x\"], box[\"y\"], box[\"w\"], box[\"h\"]  \n",
    "            print(x, y, w, h)\n",
    "            draw.rectangle([(x, y), (x + w, y + h)], outline=\"red\", width=2)  \n",
    "            if \"tags\" in obj:  \n",
    "                for tag in obj[\"tags\"]:  \n",
    "                    draw.text((x, y - 10), tag[\"name\"], fill=\"red\", font=font)  \n",
    " \n",
    "    if \"tagsResult\" in response_json and \"values\" in response_json[\"tagsResult\"]:  \n",
    "        for obj in response_json[\"tagsResult\"][\"values\"]:  \n",
    "            print(obj['name'], int(obj['confidence']*100))\n",
    " \n",
    "    if \"smartCropsResult\" in response_json and \"values\" in response_json[\"smartCropsResult\"]:  \n",
    "        for obj in response_json[\"smartCropsResult\"][\"values\"]:  \n",
    "            box = obj[\"boundingBox\"]  \n",
    "            x, y, w, h = box[\"x\"], box[\"y\"], box[\"w\"], box[\"h\"]  \n",
    "            print(x, y, w, h)\n",
    "            draw.rectangle([(x, y), (x + w, y + h)], outline=\"red\", width=2)  \n",
    "            draw.text((x, y - 10), str(obj['aspectRatio']), fill=\"red\", font=font)  \n",
    " \n",
    " \n",
    "    return image\n",
    " \n",
    "with gr.Blocks() as demo:\n",
    " \n",
    "    input_image = gr.Image(label=\"이미지 선택\", type=\"filepath\", width=800)\n",
    "    output_image = gr.Image(label=\"출력 이미지\", type=\"pil\", width=800, interactive=False)\n",
    " \n",
    "    input_image.change(fn=change_image, inputs=[input_image], outputs=[output_image])\n",
    " \n",
    "demo.launch()\n",
    " "
   ]
  },
  {
   "cell_type": "code",
   "execution_count": null,
   "metadata": {},
   "outputs": [],
   "source": [
    "headers = {\n",
    "    \"Content-Type\": \"application/octet-stream\",\n",
    "    \"Ocp-Apim-Subscription-Key\": api_key\n",
    "}\n",
    "\n",
    "params = {\n",
    "    \"features\": \"objects\",\n",
    "    \"api-version\": \"2024-02-01\"\n",
    "}\n",
    "\n",
    "def draw_rectangle(image_path):\n",
    "    # Image_path를 받아와서 객체화 시킨다.\n",
    "    image = Image.open(image_path)\n",
    "    draw = ImageDraw.Draw(image)\n",
    "    # 이미지 데이터를 서버로 request 한다.\n",
    "    with open(image_path, \"rb\") as image_file:\n",
    "        image_data = image_file.read()\n",
    "    response = requests.post(\n",
    "        endpoint,\n",
    "        headers=headers,\n",
    "        params=params,\n",
    "        data=image_data  # Assuming the API accepts a URL\n",
    "    )\n",
    "    response_json = response.json()\n",
    "    # 받아몬 데이터를 파성해서 이미지 위메 그려준다.\n",
    "    object_detection_list = response_json['objectsResult']['values']\n",
    "    for c in object_detection_list:\n",
    "        bounding_box = c['boundingBox']\n",
    "        tag_list = c['tags']\n",
    "        x, y, w, h = bounding_box['x'], bounding_box['y'], bounding_box['w'], bounding_box['h']\n",
    "        # Draw rectangle\n",
    "        draw.rectangle([(x, y), (x + w, y + h)], outline=\"red\", width=2)\n",
    "        # Draw label\n"
   ]
  }
 ],
 "metadata": {
  "kernelspec": {
   "display_name": "Python 3",
   "language": "python",
   "name": "python3"
  },
  "language_info": {
   "codemirror_mode": {
    "name": "ipython",
    "version": 3
   },
   "file_extension": ".py",
   "mimetype": "text/x-python",
   "name": "python",
   "nbconvert_exporter": "python",
   "pygments_lexer": "ipython3",
   "version": "3.9.2rc1"
  }
 },
 "nbformat": 4,
 "nbformat_minor": 2
}
