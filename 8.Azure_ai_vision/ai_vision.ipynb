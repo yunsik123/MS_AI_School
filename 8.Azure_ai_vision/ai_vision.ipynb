{
 "cells": [
  {
   "cell_type": "code",
   "execution_count": null,
   "metadata": {},
   "outputs": [],
   "source": [
    "%pip install requests\n",
    "%pip install azure-ai-vision-imageanalysis"
   ]
  },
  {
   "cell_type": "code",
   "execution_count": 3,
   "metadata": {},
   "outputs": [],
   "source": [
    "import requests\n",
    "from azure.ai.vision.imageanalysis import ImageAnalysisClient\n",
    "from azure.ai.vision.imageanalysis.models import VisualFeatures\n",
    "from azure.core.credentials import AzureKeyCredential"
   ]
  },
  {
   "cell_type": "code",
   "execution_count": 15,
   "metadata": {},
   "outputs": [
    {
     "name": "stdout",
     "output_type": "stream",
     "text": [
      "Running on local URL:  http://127.0.0.1:7868\n",
      "\n",
      "To create a public link, set `share=True` in `launch()`.\n"
     ]
    },
    {
     "data": {
      "text/html": [
       "<div><iframe src=\"http://127.0.0.1:7868/\" width=\"100%\" height=\"500\" allow=\"autoplay; camera; microphone; clipboard-read; clipboard-write;\" frameborder=\"0\" allowfullscreen></iframe></div>"
      ],
      "text/plain": [
       "<IPython.core.display.HTML object>"
      ]
     },
     "metadata": {},
     "output_type": "display_data"
    },
    {
     "data": {
      "text/plain": []
     },
     "execution_count": 15,
     "metadata": {},
     "output_type": "execute_result"
    },
    {
     "name": "stdout",
     "output_type": "stream",
     "text": [
      "{'modelVersion': '2023-10-01', 'metadata': {'width': 3672, 'height': 2654}, 'objectsResult': {'values': [{'boundingBox': {'x': 560, 'y': 458, 'w': 1057, 'h': 1007}, 'tags': [{'name': 'person', 'confidence': 0.771}]}, {'boundingBox': {'x': 2159, 'y': 769, 'w': 1004, 'h': 1026}, 'tags': [{'name': 'person', 'confidence': 0.829}]}]}}\n",
      "560 458 1057 1007\n",
      "2159 769 1004 1026\n"
     ]
    }
   ],
   "source": [
    "import requests\n",
    "import gradio as gr\n",
    "from PIL import Image, ImageDraw\n",
    "\n",
    "def request_vision(image_path):\n",
    "    features = \"objects\"\n",
    "    endpoint = f\"https://fimtrus-computervision2.cognitiveservices.azure.com/computervision/imageanalysis:analyze?api-version=2024-02-01&features={features}\"\n",
    "    api_key = \"ee6d3d3de333480291b572fc7147b015\"\n",
    "\n",
    "\n",
    "    headers = {\n",
    "        \"Content-Type\": \"application/octet-stream\",\n",
    "        \"Ocp-Apim-Subscription-Key\": api_key\n",
    "    }\n",
    "\n",
    "    with open(image_path, 'rb') as image:\n",
    "        image_data = image.read()\n",
    "\n",
    "    response = requests.post(endpoint,\n",
    "                            headers=headers,\n",
    "                            data=image_data)\n",
    "\n",
    "    response_json = response.json()\n",
    "    print(response_json)\n",
    "\n",
    "    return response_json\n",
    "\n",
    "def change_image(image_path):\n",
    "\n",
    "    if image_path is None:\n",
    "        return None\n",
    "    \n",
    "    image = Image.open(image_path)\n",
    "    draw = ImageDraw.Draw(image)\n",
    "    \n",
    "    # request_vision을 통해 데이터를 받아 온다.\n",
    "    # 받은 데이터를 파싱해서 image에 그린다.\n",
    "\n",
    "    response_json = request_vision(image_path)\n",
    "    # 받은 데이터를 파싱해서 image에 그린다.  \n",
    "    if \"objectsResult\" in response_json and \"values\" in response_json[\"objectsResult\"]:  \n",
    "        for obj in response_json[\"objectsResult\"][\"values\"]:  \n",
    "            box = obj[\"boundingBox\"]  \n",
    "            x, y, w, h = box[\"x\"], box[\"y\"], box[\"w\"], box[\"h\"]  \n",
    "            print(x, y, w, h)\n",
    "            draw.rectangle([(x, y), (x + w, y + h)], outline=\"red\", width=2)  \n",
    "            if \"tags\" in obj:  \n",
    "                for tag in obj[\"tags\"]:  \n",
    "                    draw.text((x, y - 10), tag[\"name\"], fill=\"red\")  \n",
    "\n",
    "    return image\n",
    "\n",
    "with gr.Blocks() as demo:\n",
    "\n",
    "    input_image = gr.Image(label=\"이미지 선택\", type=\"filepath\", width=800)\n",
    "    output_image = gr.Image(label=\"출력 이미지\", type=\"pil\", width=800, interactive=False)\n",
    "\n",
    "    input_image.change(fn=change_image, inputs=[input_image], outputs=[output_image])\n",
    "\n",
    "demo.launch()"
   ]
  }
 ],
 "metadata": {
  "kernelspec": {
   "display_name": "openai",
   "language": "python",
   "name": "python3"
  },
  "language_info": {
   "codemirror_mode": {
    "name": "ipython",
    "version": 3
   },
   "file_extension": ".py",
   "mimetype": "text/x-python",
   "name": "python",
   "nbconvert_exporter": "python",
   "pygments_lexer": "ipython3",
   "version": "3.11.9"
  }
 },
 "nbformat": 4,
 "nbformat_minor": 2
}
