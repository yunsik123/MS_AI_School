{
 "cells": [
  {
   "cell_type": "code",
   "execution_count": 2,
   "metadata": {},
   "outputs": [
    {
     "name": "stdout",
     "output_type": "stream",
     "text": [
      "Collecting azure-ai-vision-imageanalysis\n",
      "  Downloading azure_ai_vision_imageanalysis-1.0.0b3-py3-none-any.whl (64 kB)\n",
      "Requirement already satisfied: isodate>=0.6.1 in c:\\users\\user\\appdata\\local\\programs\\python\\python39\\lib\\site-packages (from azure-ai-vision-imageanalysis) (0.6.1)\n",
      "Requirement already satisfied: typing-extensions>=4.6.0 in c:\\users\\user\\appdata\\roaming\\python\\python39\\site-packages (from azure-ai-vision-imageanalysis) (4.12.2)\n",
      "Requirement already satisfied: azure-core>=1.30.0 in c:\\users\\user\\appdata\\local\\programs\\python\\python39\\lib\\site-packages (from azure-ai-vision-imageanalysis) (1.30.2)\n",
      "Requirement already satisfied: six in c:\\users\\user\\appdata\\local\\programs\\python\\python39\\lib\\site-packages (from isodate>=0.6.1->azure-ai-vision-imageanalysis) (1.16.0)\n",
      "Requirement already satisfied: requests>=2.21.0 in c:\\users\\user\\appdata\\local\\programs\\python\\python39\\lib\\site-packages (from azure-core>=1.30.0->azure-ai-vision-imageanalysis) (2.32.3)\n",
      "Requirement already satisfied: certifi>=2017.4.17 in c:\\users\\user\\appdata\\local\\programs\\python\\python39\\lib\\site-packages (from requests>=2.21.0->azure-core>=1.30.0->azure-ai-vision-imageanalysis) (2024.7.4)\n",
      "Requirement already satisfied: charset-normalizer<4,>=2 in c:\\users\\user\\appdata\\local\\programs\\python\\python39\\lib\\site-packages (from requests>=2.21.0->azure-core>=1.30.0->azure-ai-vision-imageanalysis) (3.3.2)\n",
      "Requirement already satisfied: urllib3<3,>=1.21.1 in c:\\users\\user\\appdata\\local\\programs\\python\\python39\\lib\\site-packages (from requests>=2.21.0->azure-core>=1.30.0->azure-ai-vision-imageanalysis) (2.2.2)\n",
      "Requirement already satisfied: idna<4,>=2.5 in c:\\users\\user\\appdata\\local\\programs\\python\\python39\\lib\\site-packages (from requests>=2.21.0->azure-core>=1.30.0->azure-ai-vision-imageanalysis) (3.7)\n",
      "Installing collected packages: azure-ai-vision-imageanalysis\n",
      "Successfully installed azure-ai-vision-imageanalysis-1.0.0b3\n",
      "Note: you may need to restart the kernel to use updated packages.\n"
     ]
    },
    {
     "name": "stderr",
     "output_type": "stream",
     "text": [
      "WARNING: You are using pip version 20.2.3; however, version 24.2 is available.\n",
      "You should consider upgrading via the 'c:\\Users\\USER\\AppData\\Local\\Programs\\Python\\Python39\\python.exe -m pip install --upgrade pip' command.\n"
     ]
    }
   ],
   "source": [
    "%pip install azure-ai-vision-imageanalysis\n",
    " "
   ]
  },
  {
   "cell_type": "code",
   "execution_count": 1,
   "metadata": {},
   "outputs": [],
   "source": [
    "import requests\n",
    "from azure.ai.vision.imageanalysis import ImageAnalysisClient\n",
    "from azure.ai.vision.imageanalysis.models import VisualFeatures\n",
    "from azure.core.credentials import AzureKeyCredential"
   ]
  },
  {
   "cell_type": "code",
   "execution_count": 2,
   "metadata": {},
   "outputs": [
    {
     "name": "stdout",
     "output_type": "stream",
     "text": [
      "{'modelVersion': '2023-10-01', 'metadata': {'width': 1038, 'height': 692}, 'objectsResult': {'values': [{'boundingBox': {'x': 655, 'y': 83, 'w': 263, 'h': 605}, 'tags': [{'name': 'person', 'confidence': 0.905}]}, {'boundingBox': {'x': 75, 'y': 76, 'w': 678, 'h': 414}, 'tags': [{'name': 'television', 'confidence': 0.808}]}]}}\n"
     ]
    }
   ],
   "source": [
    "import requests\n",
    "from azure.ai.vision.imageanalysis import ImageAnalysisClient\n",
    "from azure.ai.vision.imageanalysis.models import VisualFeatures\n",
    "from azure.core.credentials import AzureKeyCredential\n",
    " \n",
    "endpoint = \"https://fimtrus-computervision2.cognitiveservices.azure.com/\"\n",
    "api_key = \"ee6d3d3de333480291b572fc7147b015\"\n",
    " \n",
    "client = ImageAnalysisClient(\n",
    "    endpoint=endpoint,\n",
    "    credential=AzureKeyCredential(api_key)\n",
    ")\n",
    "result = client.analyze_from_url(\n",
    "    image_url=\"https://learn.microsoft.com/azure/ai-services/computer-vision/media/quickstarts/presentation.png\",\n",
    "    visual_features=[VisualFeatures.OBJECTS],\n",
    "    gender_neutral_caption=True,  # Optional (default is False)\n",
    ")\n",
    " \n",
    "print(result)"
   ]
  },
  {
   "cell_type": "code",
   "execution_count": 3,
   "metadata": {},
   "outputs": [
    {
     "name": "stdout",
     "output_type": "stream",
     "text": [
      "{'modelVersion': '2023-10-01', 'metadata': {'width': 1038, 'height': 692}, 'tagsResult': {'values': [{'name': 'text', 'confidence': 0.9966012835502625}, {'name': 'clothing', 'confidence': 0.9801061749458313}, {'name': 'person', 'confidence': 0.9596298933029175}, {'name': 'display device', 'confidence': 0.9490274786949158}, {'name': 'indoor', 'confidence': 0.947483241558075}, {'name': 'wall', 'confidence': 0.9395942091941833}, {'name': 'media', 'confidence': 0.9306115508079529}, {'name': 'television set', 'confidence': 0.9280921816825867}, {'name': 'led-backlit lcd display', 'confidence': 0.9254803657531738}, {'name': 'flat panel display', 'confidence': 0.9209462404251099}, {'name': 'furniture', 'confidence': 0.9132540225982666}, {'name': 'lcd tv', 'confidence': 0.8950581550598145}, {'name': 'man', 'confidence': 0.8883928060531616}, {'name': 'television', 'confidence': 0.8766454458236694}, {'name': 'video', 'confidence': 0.8746979236602783}, {'name': 'multimedia', 'confidence': 0.8719363212585449}, {'name': 'output device', 'confidence': 0.8585697412490845}, {'name': 'computer monitor', 'confidence': 0.8441622257232666}, {'name': 'table', 'confidence': 0.8429544568061829}, {'name': 'screen', 'confidence': 0.7113145589828491}, {'name': 'standing', 'confidence': 0.7051218152046204}, {'name': 'design', 'confidence': 0.40424397587776184}]}, 'objectsResult': {'values': [{'boundingBox': {'x': 655, 'y': 83, 'w': 263, 'h': 605}, 'tags': [{'name': 'person', 'confidence': 0.905}]}, {'boundingBox': {'x': 75, 'y': 76, 'w': 678, 'h': 414}, 'tags': [{'name': 'television', 'confidence': 0.808}]}]}, 'peopleResult': {'values': [{'boundingBox': {'x': 659, 'y': 82, 'w': 256, 'h': 594}, 'confidence': 0.9592611193656921}, {'boundingBox': {'x': 0, 'y': 1, 'w': 200, 'h': 507}, 'confidence': 0.00403070030733943}, {'boundingBox': {'x': 0, 'y': 7, 'w': 69, 'h': 509}, 'confidence': 0.0024984374176710844}, {'boundingBox': {'x': 0, 'y': 0, 'w': 203, 'h': 141}, 'confidence': 0.001100298948585987}]}}\n"
     ]
    }
   ],
   "source": [
    "import requests\n",
    " \n",
    "features = \"objects,people,tags\"\n",
    "endpoint = f\"https://fimtrus-computervision2.cognitiveservices.azure.com/computervision/imageanalysis:analyze?api-version=2024-02-01&features={features}\"\n",
    "api_key = \"ee6d3d3de333480291b572fc7147b015\"\n",
    " \n",
    " \n",
    "headers = {\n",
    "    \"Content-Type\": \"application/json\",\n",
    "    \"Ocp-Apim-Subscription-Key\": api_key\n",
    "}\n",
    " \n",
    "response = requests.post(endpoint,\n",
    "                         headers=headers,\n",
    "                         json={\n",
    "                             \"url\": \"https://learn.microsoft.com/azure/ai-services/computer-vision/media/quickstarts/presentation.png\"\n",
    "                         })\n",
    " \n",
    "response_json = response.json()\n",
    "print(response_json)"
   ]
  },
  {
   "cell_type": "code",
   "execution_count": null,
   "metadata": {},
   "outputs": [],
   "source": [
    "import requests\n",
    " \n",
    "features = \"objects,people,tags\"\n",
    "endpoint = f\"<MY ENDPOINT>/computervision/imageanalysis:analyze?api-version=2024-02-01&features={features}\"\n",
    "api_key = \"<MY API_KEY>\"\n",
    " \n",
    " \n",
    "headers = {\n",
    "    \"Content-Type\": \"application/json\",\n",
    "    \"Ocp-Apim-Subscription-Key\": api_key\n",
    "}\n",
    " \n",
    "response = requests.post(endpoint,\n",
    "                         headers=headers,\n",
    "                         json={\n",
    "                             \"url\": \"https://learn.microsoft.com/azure/ai-services/computer-vision/media/quickstarts/presentation.png\"\n",
    "                         })\n",
    " \n",
    "response_json = response.json()\n",
    "print(response_json)\n",
    "#상황에 맞는 메뉴 있음\n",
    "\n"
   ]
  }
 ],
 "metadata": {
  "kernelspec": {
   "display_name": "Python 3",
   "language": "python",
   "name": "python3"
  },
  "language_info": {
   "codemirror_mode": {
    "name": "ipython",
    "version": 3
   },
   "file_extension": ".py",
   "mimetype": "text/x-python",
   "name": "python",
   "nbconvert_exporter": "python",
   "pygments_lexer": "ipython3",
   "version": "3.9.2rc1"
  }
 },
 "nbformat": 4,
 "nbformat_minor": 2
}
