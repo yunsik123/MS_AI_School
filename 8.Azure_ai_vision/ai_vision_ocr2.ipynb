{
 "cells": [
  {
   "cell_type": "code",
   "execution_count": 12,
   "metadata": {},
   "outputs": [
    {
     "data": {
      "text/plain": [
       "'Darwin'"
      ]
     },
     "execution_count": 12,
     "metadata": {},
     "output_type": "execute_result"
    }
   ],
   "source": []
  },
  {
   "cell_type": "code",
   "execution_count": 20,
   "metadata": {},
   "outputs": [
    {
     "name": "stdout",
     "output_type": "stream",
     "text": [
      "Running on local URL:  http://127.0.0.1:7871\n",
      "\n",
      "To create a public link, set `share=True` in `launch()`.\n"
     ]
    },
    {
     "data": {
      "text/html": [
       "<div><iframe src=\"http://127.0.0.1:7871/\" width=\"100%\" height=\"500\" allow=\"autoplay; camera; microphone; clipboard-read; clipboard-write;\" frameborder=\"0\" allowfullscreen></iframe></div>"
      ],
      "text/plain": [
       "<IPython.core.display.HTML object>"
      ]
     },
     "metadata": {},
     "output_type": "display_data"
    },
    {
     "data": {
      "text/plain": []
     },
     "execution_count": 20,
     "metadata": {},
     "output_type": "execute_result"
    },
    {
     "name": "stdout",
     "output_type": "stream",
     "text": [
      "4:54 [{'x': 99, 'y': 51}, {'x': 200, 'y': 52}, {'x': 198, 'y': 90}, {'x': 98, 'y': 91}]\n",
      "섶섬 [{'x': 274, 'y': 205}, {'x': 347, 'y': 206}, {'x': 344, 'y': 245}, {'x': 274, 'y': 245}]\n",
      "문섬 [{'x': 518, 'y': 205}, {'x': 591, 'y': 206}, {'x': 590, 'y': 248}, {'x': 517, 'y': 247}]\n",
      "범섬 [{'x': 766, 'y': 205}, {'x': 838, 'y': 205}, {'x': 837, 'y': 244}, {'x': 766, 'y': 245}]\n",
      "도움말 [{'x': 1003, 'y': 207}, {'x': 1118, 'y': 204}, {'x': 1116, 'y': 253}, {'x': 1003, 'y': 250}]\n",
      "큰한개창 [{'x': 1045, 'y': 393}, {'x': 1163, 'y': 395}, {'x': 1162, 'y': 432}, {'x': 1045, 'y': 430}]\n",
      "제지기 [{'x': 177, 'y': 1027}, {'x': 270, 'y': 1030}, {'x': 269, 'y': 1064}, {'x': 177, 'y': 1064}]\n",
      "동모 [{'x': 356, 'y': 1029}, {'x': 413, 'y': 1030}, {'x': 413, 'y': 1060}, {'x': 355, 'y': 1060}]\n",
      "중간한개창 [{'x': 989, 'y': 1002}, {'x': 1135, 'y': 1004}, {'x': 1135, 'y': 1041}, {'x': 989, 'y': 1039}]\n",
      "작은한개창 [{'x': 727, 'y': 1151}, {'x': 879, 'y': 1154}, {'x': 879, 'y': 1192}, {'x': 727, 'y': 1190}]\n",
      "꽃동산 [{'x': 999, 'y': 1181}, {'x': 1091, 'y': 1181}, {'x': 1091, 'y': 1216}, {'x': 1001, 'y': 1215}]\n",
      "볼레낭개 [{'x': 63, 'y': 1307}, {'x': 183, 'y': 1308}, {'x': 183, 'y': 1343}, {'x': 63, 'y': 1342}]\n",
      "거북이집 [{'x': 246, 'y': 1280}, {'x': 370, 'y': 1280}, {'x': 371, 'y': 1320}, {'x': 246, 'y': 1321}]\n",
      "너알 [{'x': 1058, 'y': 1283}, {'x': 1117, 'y': 1284}, {'x': 1117, 'y': 1316}, {'x': 1058, 'y': 1315}]\n",
      "북돌 [{'x': 577, 'y': 1357}, {'x': 637, 'y': 1361}, {'x': 637, 'y': 1393}, {'x': 575, 'y': 1392}]\n",
      "소천지 [{'x': 798, 'y': 1462}, {'x': 889, 'y': 1462}, {'x': 889, 'y': 1495}, {'x': 798, 'y': 1495}]\n",
      "검은여동굴 [{'x': 1019, 'y': 1508}, {'x': 1164, 'y': 1508}, {'x': 1164, 'y': 1549}, {'x': 1019, 'y': 1549}]\n",
      "제주도 지역 나의 포스트잇! [{'x': 54, 'y': 2255}, {'x': 538, 'y': 2254}, {'x': 539, 'y': 2302}, {'x': 54, 'y': 2305}]\n",
      "최근 다이빙 지역: 최근 다이빙 지역: 섶섬 제지기 [{'x': 197, 'y': 2351}, {'x': 952, 'y': 2351}, {'x': 952, 'y': 2398}, {'x': 197, 'y': 2398}]\n",
      "4개 포인트 완료(총 46개 포인트) [{'x': 201, 'y': 2399}, {'x': 725, 'y': 2399}, {'x': 724, 'y': 2447}, {'x': 201, 'y': 2446}]\n",
      "제주도 지역 7회 다이빙(1위) [{'x': 191, 'y': 2447}, {'x': 642, 'y': 2447}, {'x': 642, 'y': 2491}, {'x': 191, 'y': 2491}]\n",
      "▶ 실측사이즈 [{'x': 13, 'y': 12}, {'x': 112, 'y': 11}, {'x': 112, 'y': 30}, {'x': 13, 'y': 31}]\n",
      "허리에 히든밴드 처리가 되어있어 최대 2~3CM 늘어납니다. [{'x': 130, 'y': 10}, {'x': 539, 'y': 10}, {'x': 539, 'y': 31}, {'x': 130, 'y': 30}]\n",
      "사이즈(SIZE) [{'x': 34, 'y': 56}, {'x': 116, 'y': 56}, {'x': 116, 'y': 74}, {'x': 34, 'y': 74}]\n",
      "28(S) [{'x': 172, 'y': 56}, {'x': 207, 'y': 57}, {'x': 207, 'y': 73}, {'x': 172, 'y': 73}]\n",
      "30(M) [{'x': 250, 'y': 57}, {'x': 292, 'y': 57}, {'x': 291, 'y': 74}, {'x': 250, 'y': 73}]\n",
      "32(L) [{'x': 334, 'y': 56}, {'x': 368, 'y': 57}, {'x': 367, 'y': 73}, {'x': 333, 'y': 73}]\n",
      "34(XL) [{'x': 411, 'y': 57}, {'x': 455, 'y': 57}, {'x': 454, 'y': 73}, {'x': 411, 'y': 73}]\n",
      "36(2XL) [{'x': 490, 'y': 56}, {'x': 540, 'y': 57}, {'x': 540, 'y': 73}, {'x': 490, 'y': 73}]\n",
      "38(3XL) [{'x': 570, 'y': 57}, {'x': 623, 'y': 57}, {'x': 623, 'y': 73}, {'x': 570, 'y': 73}]\n",
      "40(4XL) [{'x': 652, 'y': 57}, {'x': 704, 'y': 57}, {'x': 704, 'y': 73}, {'x': 652, 'y': 73}]\n",
      "허리 [{'x': 60, 'y': 95}, {'x': 87, 'y': 95}, {'x': 87, 'y': 112}, {'x': 60, 'y': 111}]\n",
      "39 [{'x': 180, 'y': 96}, {'x': 198, 'y': 97}, {'x': 198, 'y': 111}, {'x': 180, 'y': 111}]\n",
      "41 [{'x': 262, 'y': 97}, {'x': 278, 'y': 97}, {'x': 278, 'y': 110}, {'x': 262, 'y': 110}]\n",
      "43 [{'x': 342, 'y': 96}, {'x': 360, 'y': 97}, {'x': 359, 'y': 110}, {'x': 341, 'y': 110}]\n",
      "45 [{'x': 426, 'y': 97}, {'x': 443, 'y': 97}, {'x': 442, 'y': 110}, {'x': 426, 'y': 110}]\n",
      "47 [{'x': 507, 'y': 96}, {'x': 525, 'y': 97}, {'x': 524, 'y': 111}, {'x': 507, 'y': 110}]\n",
      "허벅지 [{'x': 53, 'y': 132}, {'x': 94, 'y': 132}, {'x': 94, 'y': 149}, {'x': 53, 'y': 149}]\n",
      "27 [{'x': 180, 'y': 133}, {'x': 195, 'y': 134}, {'x': 195, 'y': 148}, {'x': 180, 'y': 147}]\n",
      "28 [{'x': 262, 'y': 134}, {'x': 278, 'y': 134}, {'x': 278, 'y': 148}, {'x': 262, 'y': 147}]\n",
      "29 [{'x': 341, 'y': 133}, {'x': 358, 'y': 134}, {'x': 358, 'y': 147}, {'x': 341, 'y': 147}]\n",
      "30 [{'x': 425, 'y': 134}, {'x': 444, 'y': 134}, {'x': 444, 'y': 148}, {'x': 425, 'y': 148}]\n",
      "31 [{'x': 506, 'y': 133}, {'x': 522, 'y': 133}, {'x': 522, 'y': 147}, {'x': 505, 'y': 147}]\n",
      "엉덩이 [{'x': 53, 'y': 170}, {'x': 94, 'y': 170}, {'x': 93, 'y': 186}, {'x': 53, 'y': 187}]\n",
      "50 [{'x': 180, 'y': 170}, {'x': 200, 'y': 171}, {'x': 199, 'y': 185}, {'x': 180, 'y': 185}]\n",
      "52 [{'x': 263, 'y': 170}, {'x': 278, 'y': 171}, {'x': 278, 'y': 185}, {'x': 263, 'y': 184}]\n",
      "54 [{'x': 342, 'y': 171}, {'x': 359, 'y': 171}, {'x': 358, 'y': 185}, {'x': 342, 'y': 184}]\n",
      "56 [{'x': 425, 'y': 171}, {'x': 442, 'y': 171}, {'x': 442, 'y': 185}, {'x': 424, 'y': 185}]\n",
      "58 [{'x': 506, 'y': 170}, {'x': 522, 'y': 171}, {'x': 522, 'y': 185}, {'x': 506, 'y': 185}]\n",
      "밑위 [{'x': 59, 'y': 206}, {'x': 88, 'y': 207}, {'x': 89, 'y': 223}, {'x': 59, 'y': 223}]\n",
      "25 [{'x': 180, 'y': 208}, {'x': 198, 'y': 208}, {'x': 198, 'y': 221}, {'x': 179, 'y': 221}]\n",
      "26 [{'x': 262, 'y': 208}, {'x': 281, 'y': 208}, {'x': 281, 'y': 221}, {'x': 262, 'y': 221}]\n",
      "27 [{'x': 342, 'y': 208}, {'x': 359, 'y': 208}, {'x': 358, 'y': 221}, {'x': 341, 'y': 220}]\n",
      "27 [{'x': 425, 'y': 208}, {'x': 444, 'y': 208}, {'x': 444, 'y': 222}, {'x': 424, 'y': 221}]\n",
      "28 [{'x': 506, 'y': 207}, {'x': 522, 'y': 207}, {'x': 522, 'y': 222}, {'x': 505, 'y': 221}]\n",
      "밑단 [{'x': 60, 'y': 243}, {'x': 89, 'y': 244}, {'x': 88, 'y': 260}, {'x': 59, 'y': 260}]\n",
      "16 [{'x': 181, 'y': 245}, {'x': 198, 'y': 245}, {'x': 198, 'y': 259}, {'x': 181, 'y': 259}]\n",
      "17 [{'x': 264, 'y': 245}, {'x': 281, 'y': 245}, {'x': 280, 'y': 259}, {'x': 263, 'y': 258}]\n",
      "18 [{'x': 342, 'y': 245}, {'x': 359, 'y': 245}, {'x': 359, 'y': 259}, {'x': 342, 'y': 259}]\n",
      "19 [{'x': 426, 'y': 245}, {'x': 442, 'y': 245}, {'x': 442, 'y': 260}, {'x': 426, 'y': 260}]\n",
      "20 [{'x': 505, 'y': 244}, {'x': 526, 'y': 245}, {'x': 526, 'y': 259}, {'x': 504, 'y': 259}]\n",
      "총기장 [{'x': 54, 'y': 280}, {'x': 96, 'y': 280}, {'x': 95, 'y': 297}, {'x': 53, 'y': 297}]\n",
      "98 [{'x': 179, 'y': 282}, {'x': 198, 'y': 282}, {'x': 197, 'y': 295}, {'x': 180, 'y': 295}]\n",
      "99 [{'x': 261, 'y': 282}, {'x': 278, 'y': 282}, {'x': 278, 'y': 296}, {'x': 261, 'y': 296}]\n",
      "100 [{'x': 338, 'y': 282}, {'x': 364, 'y': 282}, {'x': 364, 'y': 295}, {'x': 337, 'y': 295}]\n",
      "101 [{'x': 421, 'y': 281}, {'x': 447, 'y': 282}, {'x': 447, 'y': 296}, {'x': 421, 'y': 296}]\n",
      "102 [{'x': 502, 'y': 281}, {'x': 529, 'y': 282}, {'x': 529, 'y': 296}, {'x': 502, 'y': 296}]\n",
      "[단면 : CM] [{'x': 773, 'y': 317}, {'x': 858, 'y': 317}, {'x': 858, 'y': 331}, {'x': 773, 'y': 331}]\n"
     ]
    }
   ],
   "source": [
    "import requests\n",
    "import gradio as gr\n",
    "from PIL import Image, ImageDraw, ImageFont\n",
    "import platform\n",
    "\n",
    "def request_vision(image_path):\n",
    "    endpoint = \"https://fimtrus-computervision2.cognitiveservices.azure.com/computervision/imageanalysis:analyze\"\n",
    "    api_key = \"ee6d3d3de333480291b572fc7147b015\"\n",
    "    # endpoint = \"https://a34computerv.cognitiveservices.azure.com/computervision/imageanalysis:analyze\"\n",
    "    # api_key = \"7ac1a12a429341ee994c513631eef79b\"\n",
    "    \n",
    "    headers = {\n",
    "        \"Content-Type\": \"application/octet-stream\",\n",
    "        \"Ocp-Apim-Subscription-Key\": api_key\n",
    "    }\n",
    "    \n",
    "    params = {\n",
    "        \"api-version\": \"2024-02-01\",\n",
    "        \"features\": \"read\"\n",
    "    }\n",
    "\n",
    "    with open(image_path, 'rb') as image:\n",
    "        image_data = image.read()\n",
    "\n",
    "    response = requests.post(endpoint,  \n",
    "                             headers=headers,\n",
    "                             params=params,\n",
    "                             data=image_data)\n",
    "    \n",
    "    response_json = response.json()\n",
    "    return response_json\n",
    "\n",
    "def draw_image(image_path, data):\n",
    "    image = Image.open(image_path)\n",
    "    draw = ImageDraw.Draw(image)\n",
    "    \n",
    "    font_size = 20\n",
    "    if platform.system() == \"Darwin\":\n",
    "        font = ImageFont.truetype(\"AppleGothic.ttf\", size=font_size)\n",
    "    elif platform.system() == \"Windows\":\n",
    "        font = ImageFont.truetype(\"malgun.ttf\", size=font_size)\n",
    "    else:\n",
    "        font = ImageFont.load_default(size=font_size)\n",
    "\n",
    "    if \"readResult\" in data and \"blocks\"in data['readResult']:\n",
    "        block_list = data['readResult']['blocks']\n",
    "\n",
    "        for block in block_list:\n",
    "            line_list = block['lines']\n",
    "            for line in line_list:\n",
    "                text = line['text']\n",
    "                bounding_polygon = line['boundingPolygon']\n",
    "                polygon = list(map(lambda p: (p['x'], p['y']), bounding_polygon))\n",
    "                draw.polygon(polygon, outline='red', fill=None, width=3)\n",
    "                draw.text((bounding_polygon[3]['x'], bounding_polygon[3]['y'] + 3), text=text, fill='green', font=font)\n",
    "                print(text, bounding_polygon)\n",
    "\n",
    "    return image\n",
    "\n",
    "def change_image(image_path):\n",
    "\n",
    "    response_json = request_vision(image_path=image_path)\n",
    "    image = draw_image(image_path=image_path, data=response_json)\n",
    "    return image\n",
    "\n",
    "with gr.Blocks() as demo:\n",
    "\n",
    "    input_image = gr.Image(label=\"이미지 선택\", type=\"filepath\", width=800)\n",
    "    output_image = gr.Image(label=\"결과 이미지\", type=\"pil\", interactive=False, width=800)\n",
    "\n",
    "    input_image.change(fn=change_image, inputs=[input_image], outputs=[output_image])\n",
    "\n",
    "demo.launch()\n",
    "\n",
    "# import json\n",
    "# '/Users/fimtrus/Pictures/099.기타/바지 사이즈.png'\n",
    "# print(json.dumps(request_vision('/Users/fimtrus/Pictures/099.기타/바지 사이즈.png'), indent=2))\n",
    "# change_image('/Users/fimtrus/Pictures/099.기타/바지 사이즈.png')"
   ]
  },
  {
   "cell_type": "code",
   "execution_count": null,
   "metadata": {},
   "outputs": [],
   "source": []
  }
 ],
 "metadata": {
  "kernelspec": {
   "display_name": "openai",
   "language": "python",
   "name": "python3"
  },
  "language_info": {
   "codemirror_mode": {
    "name": "ipython",
    "version": 3
   },
   "file_extension": ".py",
   "mimetype": "text/x-python",
   "name": "python",
   "nbconvert_exporter": "python",
   "pygments_lexer": "ipython3",
   "version": "3.11.9"
  }
 },
 "nbformat": 4,
 "nbformat_minor": 2
}
