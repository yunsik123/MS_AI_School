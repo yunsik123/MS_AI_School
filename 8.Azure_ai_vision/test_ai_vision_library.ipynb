{
 "cells": [
  {
   "cell_type": "code",
   "execution_count": 1,
   "metadata": {},
   "outputs": [
    {
     "name": "stdout",
     "output_type": "stream",
     "text": [
      "Requirement already satisfied: azure-ai-vision-imageanalysis in /Users/fimtrus/.pyenv/versions/3.11.9/envs/openai/lib/python3.11/site-packages (1.0.0b3)\n",
      "Requirement already satisfied: isodate>=0.6.1 in /Users/fimtrus/.pyenv/versions/3.11.9/envs/openai/lib/python3.11/site-packages (from azure-ai-vision-imageanalysis) (0.6.1)\n",
      "Requirement already satisfied: azure-core>=1.30.0 in /Users/fimtrus/.pyenv/versions/3.11.9/envs/openai/lib/python3.11/site-packages (from azure-ai-vision-imageanalysis) (1.30.2)\n",
      "Requirement already satisfied: typing-extensions>=4.6.0 in /Users/fimtrus/.pyenv/versions/3.11.9/envs/openai/lib/python3.11/site-packages (from azure-ai-vision-imageanalysis) (4.12.2)\n",
      "Requirement already satisfied: requests>=2.21.0 in /Users/fimtrus/.pyenv/versions/3.11.9/envs/openai/lib/python3.11/site-packages (from azure-core>=1.30.0->azure-ai-vision-imageanalysis) (2.32.3)\n",
      "Requirement already satisfied: six>=1.11.0 in /Users/fimtrus/.pyenv/versions/3.11.9/envs/openai/lib/python3.11/site-packages (from azure-core>=1.30.0->azure-ai-vision-imageanalysis) (1.16.0)\n",
      "Requirement already satisfied: charset-normalizer<4,>=2 in /Users/fimtrus/.pyenv/versions/3.11.9/envs/openai/lib/python3.11/site-packages (from requests>=2.21.0->azure-core>=1.30.0->azure-ai-vision-imageanalysis) (3.3.2)\n",
      "Requirement already satisfied: idna<4,>=2.5 in /Users/fimtrus/.pyenv/versions/3.11.9/envs/openai/lib/python3.11/site-packages (from requests>=2.21.0->azure-core>=1.30.0->azure-ai-vision-imageanalysis) (3.7)\n",
      "Requirement already satisfied: urllib3<3,>=1.21.1 in /Users/fimtrus/.pyenv/versions/3.11.9/envs/openai/lib/python3.11/site-packages (from requests>=2.21.0->azure-core>=1.30.0->azure-ai-vision-imageanalysis) (2.2.2)\n",
      "Requirement already satisfied: certifi>=2017.4.17 in /Users/fimtrus/.pyenv/versions/3.11.9/envs/openai/lib/python3.11/site-packages (from requests>=2.21.0->azure-core>=1.30.0->azure-ai-vision-imageanalysis) (2024.7.4)\n",
      "Note: you may need to restart the kernel to use updated packages.\n"
     ]
    }
   ],
   "source": [
    "%pip install azure-ai-vision-imageanalysis"
   ]
  },
  {
   "cell_type": "code",
   "execution_count": 15,
   "metadata": {},
   "outputs": [
    {
     "ename": "KeyboardInterrupt",
     "evalue": "",
     "output_type": "error",
     "traceback": [
      "\u001b[0;31m---------------------------------------------------------------------------\u001b[0m",
      "\u001b[0;31mKeyboardInterrupt\u001b[0m                         Traceback (most recent call last)",
      "Cell \u001b[0;32mIn[15], line 74\u001b[0m\n\u001b[1;32m     71\u001b[0m     input_image\u001b[38;5;241m.\u001b[39mchange(fn\u001b[38;5;241m=\u001b[39mchange_image, inputs\u001b[38;5;241m=\u001b[39m[input_image], outputs\u001b[38;5;241m=\u001b[39m[output_image])\n\u001b[1;32m     73\u001b[0m \u001b[38;5;66;03m# demo.launch()\u001b[39;00m\n\u001b[0;32m---> 74\u001b[0m \u001b[43mchange_image\u001b[49m\u001b[43m(\u001b[49m\u001b[38;5;124;43m'\u001b[39;49m\u001b[38;5;124;43m/Users/fimtrus/Pictures/002.다이빙/501be83cf4a806200d4ab58d39ba71db_thumbnail.JPG\u001b[39;49m\u001b[38;5;124;43m'\u001b[39;49m\u001b[43m)\u001b[49m\n",
      "Cell \u001b[0;32mIn[15], line 56\u001b[0m, in \u001b[0;36mchange_image\u001b[0;34m(image_path)\u001b[0m\n\u001b[1;32m     53\u001b[0m item_list \u001b[38;5;241m=\u001b[39m response\u001b[38;5;241m.\u001b[39mobjects\u001b[38;5;241m.\u001b[39mlist\n\u001b[1;32m     55\u001b[0m \u001b[38;5;28;01mfor\u001b[39;00m item \u001b[38;5;129;01min\u001b[39;00m item_list:\n\u001b[0;32m---> 56\u001b[0m    box \u001b[38;5;241m=\u001b[39m \u001b[43mitem\u001b[49m\u001b[38;5;241m.\u001b[39mget(\u001b[38;5;124m'\u001b[39m\u001b[38;5;124mboundingBox\u001b[39m\u001b[38;5;124m'\u001b[39m)\n\u001b[1;32m     57\u001b[0m    x, y, w, h \u001b[38;5;241m=\u001b[39m box[\u001b[38;5;124m\"\u001b[39m\u001b[38;5;124mx\u001b[39m\u001b[38;5;124m\"\u001b[39m], box[\u001b[38;5;124m\"\u001b[39m\u001b[38;5;124my\u001b[39m\u001b[38;5;124m\"\u001b[39m], box[\u001b[38;5;124m\"\u001b[39m\u001b[38;5;124mw\u001b[39m\u001b[38;5;124m\"\u001b[39m], box[\u001b[38;5;124m\"\u001b[39m\u001b[38;5;124mh\u001b[39m\u001b[38;5;124m\"\u001b[39m]  \n\u001b[1;32m     58\u001b[0m    \u001b[38;5;66;03m# item = dict\u001b[39;00m\n",
      "File \u001b[0;32m_pydevd_bundle/pydevd_cython.pyx:1457\u001b[0m, in \u001b[0;36m_pydevd_bundle.pydevd_cython.SafeCallWrapper.__call__\u001b[0;34m()\u001b[0m\n",
      "File \u001b[0;32m_pydevd_bundle/pydevd_cython.pyx:701\u001b[0m, in \u001b[0;36m_pydevd_bundle.pydevd_cython.PyDBFrame.trace_dispatch\u001b[0;34m()\u001b[0m\n",
      "File \u001b[0;32m_pydevd_bundle/pydevd_cython.pyx:1152\u001b[0m, in \u001b[0;36m_pydevd_bundle.pydevd_cython.PyDBFrame.trace_dispatch\u001b[0;34m()\u001b[0m\n",
      "File \u001b[0;32m_pydevd_bundle/pydevd_cython.pyx:1135\u001b[0m, in \u001b[0;36m_pydevd_bundle.pydevd_cython.PyDBFrame.trace_dispatch\u001b[0;34m()\u001b[0m\n",
      "File \u001b[0;32m_pydevd_bundle/pydevd_cython.pyx:312\u001b[0m, in \u001b[0;36m_pydevd_bundle.pydevd_cython.PyDBFrame.do_wait_suspend\u001b[0;34m()\u001b[0m\n",
      "File \u001b[0;32m~/.pyenv/versions/3.11.9/envs/openai/lib/python3.11/site-packages/debugpy/_vendored/pydevd/pydevd.py:2070\u001b[0m, in \u001b[0;36mPyDB.do_wait_suspend\u001b[0;34m(self, thread, frame, event, arg, exception_type)\u001b[0m\n\u001b[1;32m   2067\u001b[0m             from_this_thread\u001b[38;5;241m.\u001b[39mappend(frame_custom_thread_id)\n\u001b[1;32m   2069\u001b[0m     \u001b[38;5;28;01mwith\u001b[39;00m \u001b[38;5;28mself\u001b[39m\u001b[38;5;241m.\u001b[39m_threads_suspended_single_notification\u001b[38;5;241m.\u001b[39mnotify_thread_suspended(thread_id, thread, stop_reason):\n\u001b[0;32m-> 2070\u001b[0m         keep_suspended \u001b[38;5;241m=\u001b[39m \u001b[38;5;28;43mself\u001b[39;49m\u001b[38;5;241;43m.\u001b[39;49m\u001b[43m_do_wait_suspend\u001b[49m\u001b[43m(\u001b[49m\u001b[43mthread\u001b[49m\u001b[43m,\u001b[49m\u001b[43m \u001b[49m\u001b[43mframe\u001b[49m\u001b[43m,\u001b[49m\u001b[43m \u001b[49m\u001b[43mevent\u001b[49m\u001b[43m,\u001b[49m\u001b[43m \u001b[49m\u001b[43marg\u001b[49m\u001b[43m,\u001b[49m\u001b[43m \u001b[49m\u001b[43msuspend_type\u001b[49m\u001b[43m,\u001b[49m\u001b[43m \u001b[49m\u001b[43mfrom_this_thread\u001b[49m\u001b[43m,\u001b[49m\u001b[43m \u001b[49m\u001b[43mframes_tracker\u001b[49m\u001b[43m)\u001b[49m\n\u001b[1;32m   2072\u001b[0m frames_list \u001b[38;5;241m=\u001b[39m \u001b[38;5;28;01mNone\u001b[39;00m\n\u001b[1;32m   2074\u001b[0m \u001b[38;5;28;01mif\u001b[39;00m keep_suspended:\n\u001b[1;32m   2075\u001b[0m     \u001b[38;5;66;03m# This means that we should pause again after a set next statement.\u001b[39;00m\n",
      "File \u001b[0;32m~/.pyenv/versions/3.11.9/envs/openai/lib/python3.11/site-packages/debugpy/_vendored/pydevd/pydevd.py:2106\u001b[0m, in \u001b[0;36mPyDB._do_wait_suspend\u001b[0;34m(self, thread, frame, event, arg, suspend_type, from_this_thread, frames_tracker)\u001b[0m\n\u001b[1;32m   2103\u001b[0m         \u001b[38;5;28mself\u001b[39m\u001b[38;5;241m.\u001b[39m_call_input_hook()\n\u001b[1;32m   2105\u001b[0m     \u001b[38;5;28mself\u001b[39m\u001b[38;5;241m.\u001b[39mprocess_internal_commands()\n\u001b[0;32m-> 2106\u001b[0m     time\u001b[38;5;241m.\u001b[39msleep(\u001b[38;5;241m0.01\u001b[39m)\n\u001b[1;32m   2108\u001b[0m \u001b[38;5;28mself\u001b[39m\u001b[38;5;241m.\u001b[39mcancel_async_evaluation(get_current_thread_id(thread), \u001b[38;5;28mstr\u001b[39m(\u001b[38;5;28mid\u001b[39m(frame)))\n\u001b[1;32m   2110\u001b[0m \u001b[38;5;66;03m# process any stepping instructions\u001b[39;00m\n",
      "\u001b[0;31mKeyboardInterrupt\u001b[0m: "
     ]
    }
   ],
   "source": [
    "import os\n",
    "from azure.ai.vision.imageanalysis import ImageAnalysisClient\n",
    "from azure.ai.vision.imageanalysis.models import VisualFeatures\n",
    "from azure.core.credentials import AzureKeyCredential\n",
    "from PIL import Image, ImageDraw, ImageFont\n",
    "import gradio as gr\n",
    "\n",
    "# Set the values of your computer vision endpoint and computer vision key\n",
    "# as environment variables:\n",
    "def request_vision(image_path):\n",
    "    endpoint = \"https://fimtrus-computervision2.cognitiveservices.azure.com/\"\n",
    "    key = \"ee6d3d3de333480291b572fc7147b015\"\n",
    "\n",
    "    features = VisualFeatures.OBJECTS\n",
    "\n",
    "    # Create an Image Analysis client\n",
    "    client = ImageAnalysisClient(\n",
    "        endpoint=endpoint,\n",
    "        credential=AzureKeyCredential(key)\n",
    "    )\n",
    "\n",
    "    with open(image_path, 'rb') as image:\n",
    "        image_data = image.read()\n",
    "\n",
    "    # Get a caption for the image. This will be a synchronously (blocking) call.\n",
    "    result = client._analyze_from_image_data(\n",
    "        # language='ko',\n",
    "        # smart_crops_aspect_ratios=[1.2,0.75,1.8],\n",
    "        # image_url=\"https://learn.microsoft.com/azure/ai-services/computer-vision/media/quickstarts/presentation.png\",\n",
    "        image_data=image_data,\n",
    "        visual_features=[VisualFeatures.OBJECTS], #VisualFeatures.CAPTION, VisualFeatures.READ],\n",
    "        gender_neutral_caption=True,  # Optional (default is False)\n",
    "    )\n",
    "\n",
    "    return result\n",
    "\n",
    "def change_image(image_path):\n",
    "\n",
    "    if image_path is None:\n",
    "        return None\n",
    "    \n",
    "    image = Image.open(image_path)\n",
    "    draw = ImageDraw.Draw(image)\n",
    "    try:\n",
    "        font = ImageFont.truetype(\"NanumGothic.ttf\", 30)\n",
    "    except IOError:\n",
    "        # Arial 폰트가 없으면 기본 폰트를 사용합니다.\n",
    "        font = ImageFont.load_default()\n",
    "\n",
    "    response = request_vision(image_path)\n",
    "\n",
    "    if response and response.objects and response.objects.list:\n",
    "        item_list = response.objects.list\n",
    "\n",
    "        for item in item_list:\n",
    "           box = item.get('boundingBox')\n",
    "           x, y, w, h = box[\"x\"], box[\"y\"], box[\"w\"], box[\"h\"]  \n",
    "           # item = dict\n",
    "           draw.rectangle([(x, y), (x + w, y + h)], outline=\"red\", width=2)  \n",
    "           if item.tags:  \n",
    "                for tag in item.tags:  \n",
    "                    draw.text((x, y - 10), tag[\"name\"], fill=\"red\", font=font)\n",
    "\n",
    "    return image\n",
    "\n",
    "with gr.Blocks() as demo:\n",
    "\n",
    "    input_image = gr.Image(label=\"이미지 선택\", type=\"filepath\", width=800)\n",
    "    output_image = gr.Image(label=\"출력 이미지\", type=\"pil\", width=800, interactive=False)\n",
    "\n",
    "    input_image.change(fn=change_image, inputs=[input_image], outputs=[output_image])\n",
    "\n",
    "# demo.launch()\n",
    "change_image('/Users/fimtrus/Pictures/002.다이빙/501be83cf4a806200d4ab58d39ba71db_thumbnail.JPG')\n"
   ]
  },
  {
   "cell_type": "code",
   "execution_count": null,
   "metadata": {},
   "outputs": [],
   "source": []
  }
 ],
 "metadata": {
  "kernelspec": {
   "display_name": "openai",
   "language": "python",
   "name": "python3"
  },
  "language_info": {
   "codemirror_mode": {
    "name": "ipython",
    "version": 3
   },
   "file_extension": ".py",
   "mimetype": "text/x-python",
   "name": "python",
   "nbconvert_exporter": "python",
   "pygments_lexer": "ipython3",
   "version": "3.11.9"
  }
 },
 "nbformat": 4,
 "nbformat_minor": 2
}
