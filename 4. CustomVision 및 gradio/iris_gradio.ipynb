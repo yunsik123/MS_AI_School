{
  "cells": [
    {
      "cell_type": "code",
      "execution_count": 1,
      "metadata": {},
      "outputs": [],
      "source": [
        " import urllib.request\n",
        " import json\n",
        " import os\n",
        " import ssl\n",
        " \n",
        " \n",
        " def allowSelfSignedHttps(allowed):\n",
        "    # bypass the server certificate verification on client side\n",
        "    if allowed and not os.environ.get('PYTHONHTTPSVERIFY', '') and getattr(ssl, '_create_unverified_context', None):\n",
        "        ssl._create_default_https_context = ssl._create_unverified_context\n",
        " \n",
        " allowSelfSignedHttps(True)"
      ]
    },
    {
      "cell_type": "code",
      "execution_count": 2,
      "metadata": {},
      "outputs": [
        {
          "name": "stderr",
          "output_type": "stream",
          "text": [
            "c:\\Users\\USER\\AppData\\Local\\Programs\\Python\\Python39\\lib\\site-packages\\tqdm\\auto.py:21: TqdmWarning: IProgress not found. Please update jupyter and ipywidgets. See https://ipywidgets.readthedocs.io/en/stable/user_install.html\n",
            "  from .autonotebook import tqdm as notebook_tqdm\n"
          ]
        },
        {
          "name": "stdout",
          "output_type": "stream",
          "text": [
            "Running on local URL:  http://127.0.0.1:7860\n",
            "Running on public URL: https://6421aeed96335691b1.gradio.live\n",
            "\n",
            "This share link expires in 72 hours. For free permanent hosting and GPU upgrades, run `gradio deploy` from Terminal to deploy to Spaces (https://huggingface.co/spaces)\n"
          ]
        },
        {
          "data": {
            "text/html": [
              "<div><iframe src=\"https://6421aeed96335691b1.gradio.live\" width=\"100%\" height=\"500\" allow=\"autoplay; camera; microphone; clipboard-read; clipboard-write;\" frameborder=\"0\" allowfullscreen></iframe></div>"
            ],
            "text/plain": [
              "<IPython.core.display.HTML object>"
            ]
          },
          "metadata": {},
          "output_type": "display_data"
        },
        {
          "data": {
            "text/plain": []
          },
          "execution_count": 2,
          "metadata": {},
          "output_type": "execute_result"
        }
      ],
      "source": [
        "import gradio as gr\n",
        "\n",
        "def iris(num1, num2, num3, num4):\n",
        "    \n",
        "    \n",
        "    ###\n",
        "    data = {\n",
        "\"Inputs\": {\n",
        "    \"input1\": [\n",
        "        {\n",
        "            \"sepal_length\" : num1,\n",
        "            \"sepal_width\" : num2,\n",
        "            \"petal_length\" : num3,\n",
        "            \"petal_width\" : num4,\n",
        "            \"class\" : \"unknown\"\n",
        "        },\n",
        "    ]\n",
        "},\n",
        "\"GlobalParameters\" : {}\n",
        "}\n",
        "    \n",
        "    \n",
        "    \n",
        "    \n",
        "    \n",
        "    \n",
        "    \n",
        "    \n",
        "    \n",
        "    \n",
        "    \n",
        "    ###\n",
        "    body = str.encode(json.dumps(data))\n",
        "\n",
        "    url = 'http://3224459f-7d14-4f9f-b1a2-13fb3021e0c3.koreacentral.azurecontainer.io/score'\n",
        "    # Replace this with the primary/secondary key, AMLToken, or Microsoft Entra ID token for the endpoint\n",
        "    api_key = 'kmdrINqKEUIHV3XzmGS9sc6vMgb8dJOB'\n",
        "    if not api_key:\n",
        "        raise Exception(\"A key should be provided to invoke the endpoint\")\n",
        "\n",
        "\n",
        "    headers = {'Content-Type':'application/json', 'Authorization':('Bearer '+ api_key)}\n",
        "\n",
        "    req = urllib.request.Request(url, body, headers)\n",
        "\n",
        "    try:\n",
        "        response = urllib.request.urlopen(req)\n",
        "#####\n",
        "        response.read().decode('utf-8') #azure에서 줄때 이렇게 줌 그래서 utf8로 고쳐서 json으로 바꿔줌\n",
        "        result_json = json.loads(result_text)\n",
        "        assignments_value = result_json['Results']['webServiceOutput0'][0]['Assignments']\n",
        "        \n",
        "        return str(assignments_value)\n",
        "####\n",
        "    except urllib.error.HTTPError as error:\n",
        "        print(\"The request failed with status code: \" + str(error.code))\n",
        "        error_message = f\"The request failed with status code: {error.code}\\n{error.read().decode('utf8', 'ignore')}\"\n",
        " \n",
        "        # Print the headers - they include the requert ID and the timestamp, which are useful for debugging the failure\n",
        "        print(error.info())\n",
        "        print(error.read().decode(\"utf8\", 'ignore'))\n",
        "    \n",
        "    \n",
        "    return error_message\n",
        "\n",
        "\n",
        "\n",
        " \n",
        "with gr.Blocks() as demo:\n",
        " # 입력 레이블과 입력 필드 구성\n",
        "    with gr.Row():\n",
        "        num1 = gr.Number(label=\"꽃받침의 길이\")\n",
        "        num2 = gr.Number(label=\"꽃받침의 폭\")\n",
        "    with gr.Row():\n",
        "        num3 = gr.Number(label=\"꽃잎의 길이\")\n",
        "        num4 = gr.Number(label=\"꽃잎의 폭\")\n",
        "        \n",
        "        \n",
        "    submit_btn = gr.Button(\"제출\")\n",
        "    result = gr.Textbox(label=\"결과\")\n",
        "    submit_btn.click(iris, inputs=[num1, num2, num3, num4], outputs=[result])\n",
        "demo.launch(share=True)"
      ]
    },
    {
      "cell_type": "code",
      "execution_count": null,
      "metadata": {},
      "outputs": [],
      "source": []
    }
  ],
  "metadata": {
    "kernel_info": {
      "name": "python38-azureml"
    },
    "kernelspec": {
      "display_name": "Python 3",
      "language": "python",
      "name": "python3"
    },
    "language_info": {
      "codemirror_mode": {
        "name": "ipython",
        "version": 3
      },
      "file_extension": ".py",
      "mimetype": "text/x-python",
      "name": "python",
      "nbconvert_exporter": "python",
      "pygments_lexer": "ipython3",
      "version": "3.9.2"
    },
    "microsoft": {
      "host": {
        "AzureML": {
          "notebookHasBeenCompleted": true
        }
      }
    },
    "nteract": {
      "version": "nteract-front-end@1.0.0"
    }
  },
  "nbformat": 4,
  "nbformat_minor": 2
}
