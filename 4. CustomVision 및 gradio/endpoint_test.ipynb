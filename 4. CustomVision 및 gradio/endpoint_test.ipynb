{
  "cells": [
    {
      "cell_type": "code",
      "source": [
        "import urllib.request\n",
        "import json\n",
        "import os\n",
        "import ssl\n",
        "\n",
        "def allowSelfSignedHttps(allowed):\n",
        "    # bypass the server certificate verification on client side\n",
        "    if allowed and not os.environ.get('PYTHONHTTPSVERIFY', '') and getattr(ssl, '_create_unverified_context', None):\n",
        "        ssl._create_default_https_context = ssl._create_unverified_context\n",
        "\n",
        "allowSelfSignedHttps(True) # this line is needed if you use self-signed certificate in your scoring service.\n",
        "\n",
        "# Request data goes here\n",
        "# The example below assumes JSON formatting which may be updated\n",
        "# depending on the format your endpoint expects.\n",
        "# More information can be found here:\n",
        "# https://docs.microsoft.com/azure/machine-learning/how-to-deploy-advanced-entry-script\n",
        "data = {\n",
        "\"Inputs\": {\n",
        "    \"input1\": [\n",
        "        {\n",
        "            \"sepal_length\" : 6.3,\n",
        "            \"sepal_width\" : 2.7,\n",
        "            \"petal_length\" : 0.3,\n",
        "            \"petal_width\" : 0.3,\n",
        "            \"class\" : \"unknown\"\n",
        "        },\n",
        "                {\n",
        "            \"sepal_length\" : 6.5,\n",
        "            \"sepal_width\" : 2.7,\n",
        "            \"petal_length\" : 6.1,\n",
        "            \"petal_width\" : 1.9,\n",
        "            \"class\" : \"unknown\"\n",
        "        },\n",
        "                {\n",
        "            \"sepal_length\" : 5.9,\n",
        "            \"sepal_width\" : 3.6,\n",
        "            \"petal_length\" : 1.1,\n",
        "            \"petal_width\" : 0.3,\n",
        "            \"class\" : \"unknown\"\n",
        "        }\n",
        "    ]\n",
        "},\n",
        "}\n",
        "\n",
        "body = str.encode(json.dumps(data))\n",
        "\n",
        "url = 'http://3224459f-7d14-4f9f-b1a2-13fb3021e0c3.koreacentral.azurecontainer.io/score'\n",
        "# Replace this with the primary/secondary key, AMLToken, or Microsoft Entra ID token for the endpoint\n",
        "api_key = 'kmdrINqKEUIHV3XzmGS9sc6vMgb8dJOB'\n",
        "if not api_key:\n",
        "    raise Exception(\"A key should be provided to invoke the endpoint\")\n",
        "\n",
        "\n",
        "headers = {'Content-Type':'application/json', 'Authorization':('Bearer '+ api_key)}\n",
        "\n",
        "req = urllib.request.Request(url, body, headers)\n",
        "\n",
        "try:\n",
        "    response = urllib.request.urlopen(req)\n",
        "\n",
        "    result = response.read()\n",
        "    print(result)\n",
        "except urllib.error.HTTPError as error:\n",
        "    print(\"The request failed with status code: \" + str(error.code))\n",
        "\n",
        "    # Print the headers - they include the requert ID and the timestamp, which are useful for debugging the failure\n",
        "    print(error.info())\n",
        "    print(error.read().decode(\"utf8\", 'ignore'))"
      ],
      "outputs": [
        {
          "output_type": "stream",
          "name": "stdout",
          "text": "b'{\"Results\": {\"WebServiceOutput0\": [{\"sepal_length\": 0.5533332750260068, \"sepal_width\": -0.8191664965674684, \"petal_length\": -1.9667951486416073, \"petal_width\": -1.1815037572407716, \"class\": \"unknown\", \"Assignments\": 1, \"DistancesToClusterCenter no.0\": 1.537798851476089, \"DistancesToClusterCenter no.1\": 1.1352179838711518, \"DistancesToClusterCenter no.2\": 1.3050238112192958}, {\"sepal_length\": 0.7956690159133096, \"sepal_width\": -0.8191664965674684, \"petal_length\": 1.331415682735028, \"petal_width\": 0.9220637630692072, \"class\": \"unknown\", \"Assignments\": 0, \"DistancesToClusterCenter no.0\": 1.012131280815524, \"DistancesToClusterCenter no.1\": 1.5652625260331432, \"DistancesToClusterCenter no.2\": 1.0927958234372712}, {\"sepal_length\": 0.06866179325140237, \"sepal_width\": 1.2634601896210098, \"petal_length\": -1.5118695167275884, \"petal_width\": -1.1815037572407716, \"class\": \"unknown\", \"Assignments\": 1, \"DistancesToClusterCenter no.0\": 1.4885349570266342, \"DistancesToClusterCenter no.1\": 1.0428467134041497, \"DistancesToClusterCenter no.2\": 1.2751234233478959}]}}'\n"
        }
      ],
      "execution_count": 2,
      "metadata": {
        "gather": {
          "logged": 1721205409324
        }
      }
    },
    {
      "cell_type": "code",
      "source": [],
      "outputs": [],
      "execution_count": null,
      "metadata": {
        "jupyter": {
          "source_hidden": false,
          "outputs_hidden": false
        },
        "nteract": {
          "transient": {
            "deleting": false
          }
        }
      }
    }
  ],
  "metadata": {
    "kernelspec": {
      "name": "python38-azureml-pt-tf",
      "language": "python",
      "display_name": "Python 3.8 - Pytorch and Tensorflow"
    },
    "language_info": {
      "name": "python",
      "version": "3.9.19",
      "mimetype": "text/x-python",
      "codemirror_mode": {
        "name": "ipython",
        "version": 3
      },
      "pygments_lexer": "ipython3",
      "nbconvert_exporter": "python",
      "file_extension": ".py"
    },
    "kernel_info": {
      "name": "python38-azureml-pt-tf"
    },
    "microsoft": {
      "host": {
        "AzureML": {
          "notebookHasBeenCompleted": true
        }
      }
    },
    "nteract": {
      "version": "nteract-front-end@1.0.0"
    }
  },
  "nbformat": 4,
  "nbformat_minor": 2
}