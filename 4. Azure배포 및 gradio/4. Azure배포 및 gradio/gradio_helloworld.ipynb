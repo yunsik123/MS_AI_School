{
  "cells": [
    {
      "cell_type": "code",
      "source": [
        "#pip install gradio"
      ],
      "outputs": [
        {
          "output_type": "stream",
          "name": "stdout",
          "text": "Collecting gradio\n  Downloading gradio-4.38.1-py3-none-any.whl (12.4 MB)\n\u001b[2K     \u001b[90m━━━━━━━━━━━━━━━━━━━━━━━━━━━━━━━━━━━━━━━━\u001b[0m \u001b[32m12.4/12.4 MB\u001b[0m \u001b[31m39.2 MB/s\u001b[0m eta \u001b[36m0:00:00\u001b[0m00:01\u001b[0m0:01\u001b[0m\n\u001b[?25hRequirement already satisfied: python-multipart>=0.0.9 in /anaconda/envs/azureml_py38/lib/python3.9/site-packages (from gradio) (0.0.9)\nRequirement already satisfied: pandas<3.0,>=1.0 in /anaconda/envs/azureml_py38/lib/python3.9/site-packages (from gradio) (1.1.5)\nRequirement already satisfied: numpy<3.0,>=1.0 in /anaconda/envs/azureml_py38/lib/python3.9/site-packages (from gradio) (1.22.0)\nRequirement already satisfied: pillow<11.0,>=8.0 in /anaconda/envs/azureml_py38/lib/python3.9/site-packages (from gradio) (9.2.0)\nCollecting ffmpy\n  Downloading ffmpy-0.3.2.tar.gz (5.5 kB)\n  Preparing metadata (setup.py) ... \u001b[?25l-\b \b\\\b \bdone\n\u001b[?25hRequirement already satisfied: orjson~=3.0 in /anaconda/envs/azureml_py38/lib/python3.9/site-packages (from gradio) (3.10.4)\nCollecting urllib3~=2.0\n  Downloading urllib3-2.2.2-py3-none-any.whl (121 kB)\n\u001b[2K     \u001b[90m━━━━━━━━━━━━━━━━━━━━━━━━━━━━━━━━━━━━━━━\u001b[0m \u001b[32m121.4/121.4 kB\u001b[0m \u001b[31m3.8 MB/s\u001b[0m eta \u001b[36m0:00:00\u001b[0m\n\u001b[?25hRequirement already satisfied: typing-extensions~=4.0 in /anaconda/envs/azureml_py38/lib/python3.9/site-packages (from gradio) (4.12.2)\nCollecting tomlkit==0.12.0\n  Downloading tomlkit-0.12.0-py3-none-any.whl (37 kB)\nCollecting ruff>=0.2.2\n  Downloading ruff-0.5.2-py3-none-manylinux_2_17_x86_64.manylinux2014_x86_64.whl (10.1 MB)\n\u001b[2K     \u001b[90m━━━━━━━━━━━━━━━━━━━━━━━━━━━━━━━━━━━━━━━━\u001b[0m \u001b[32m10.1/10.1 MB\u001b[0m \u001b[31m38.0 MB/s\u001b[0m eta \u001b[36m0:00:00\u001b[0m00:01\u001b[0m0:01\u001b[0mm\n\u001b[?25hRequirement already satisfied: jinja2<4.0 in /anaconda/envs/azureml_py38/lib/python3.9/site-packages (from gradio) (2.11.2)\nRequirement already satisfied: markupsafe~=2.0 in /anaconda/envs/azureml_py38/lib/python3.9/site-packages (from gradio) (2.0.1)\nRequirement already satisfied: packaging in /anaconda/envs/azureml_py38/lib/python3.9/site-packages (from gradio) (24.0)\nRequirement already satisfied: fastapi in /anaconda/envs/azureml_py38/lib/python3.9/site-packages (from gradio) (0.111.0)\nRequirement already satisfied: huggingface-hub>=0.19.3 in /anaconda/envs/azureml_py38/lib/python3.9/site-packages (from gradio) (0.22.2)\nCollecting semantic-version~=2.0\n  Downloading semantic_version-2.10.0-py2.py3-none-any.whl (15 kB)\nRequirement already satisfied: matplotlib~=3.0 in /anaconda/envs/azureml_py38/lib/python3.9/site-packages (from gradio) (3.2.1)\nCollecting pydantic>=2.0\n  Downloading pydantic-2.8.2-py3-none-any.whl (423 kB)\n\u001b[2K     \u001b[90m━━━━━━━━━━━━━━━━━━━━━━━━━━━━━━━━━━━━━━\u001b[0m \u001b[32m423.9/423.9 kB\u001b[0m \u001b[31m18.3 MB/s\u001b[0m eta \u001b[36m0:00:00\u001b[0m\n\u001b[?25hRequirement already satisfied: uvicorn>=0.14.0 in /anaconda/envs/azureml_py38/lib/python3.9/site-packages (from gradio) (0.30.1)\nRequirement already satisfied: aiofiles<24.0,>=22.0 in /anaconda/envs/azureml_py38/lib/python3.9/site-packages (from gradio) (22.1.0)\nRequirement already satisfied: httpx>=0.24.1 in /anaconda/envs/azureml_py38/lib/python3.9/site-packages (from gradio) (0.27.0)\nRequirement already satisfied: typer<1.0,>=0.12 in /anaconda/envs/azureml_py38/lib/python3.9/site-packages (from gradio) (0.12.3)\nRequirement already satisfied: importlib-resources<7.0,>=1.3 in /anaconda/envs/azureml_py38/lib/python3.9/site-packages (from gradio) (6.1.0)\nCollecting pydub\n  Downloading pydub-0.25.1-py2.py3-none-any.whl (32 kB)\nRequirement already satisfied: pyyaml<7.0,>=5.0 in /anaconda/envs/azureml_py38/lib/python3.9/site-packages (from gradio) (6.0.1)\nCollecting altair<6.0,>=5.0\n  Downloading altair-5.3.0-py3-none-any.whl (857 kB)\n\u001b[2K     \u001b[90m━━━━━━━━━━━━━━━━━━━━━━━━━━━━━━━━━━━━━━\u001b[0m \u001b[32m857.8/857.8 kB\u001b[0m \u001b[31m23.2 MB/s\u001b[0m eta \u001b[36m0:00:00\u001b[0m00:01\u001b[0m\n\u001b[?25hCollecting gradio-client==1.1.0\n  Downloading gradio_client-1.1.0-py3-none-any.whl (318 kB)\n\u001b[2K     \u001b[90m━━━━━━━━━━━━━━━━━━━━━━━━━━━━━━━━━━━━━━\u001b[0m \u001b[32m318.1/318.1 kB\u001b[0m \u001b[31m14.6 MB/s\u001b[0m eta \u001b[36m0:00:00\u001b[0m\n\u001b[?25hRequirement already satisfied: fsspec in /anaconda/envs/azureml_py38/lib/python3.9/site-packages (from gradio-client==1.1.0->gradio) (2024.3.1)\nCollecting websockets<12.0,>=10.0\n  Downloading websockets-11.0.3-cp39-cp39-manylinux_2_5_x86_64.manylinux1_x86_64.manylinux_2_17_x86_64.manylinux2014_x86_64.whl (129 kB)\n\u001b[2K     \u001b[90m━━━━━━━━━━━━━━━━━━━━━━━━━━━━━━━━━━━━━━━\u001b[0m \u001b[32m129.7/129.7 kB\u001b[0m \u001b[31m7.5 MB/s\u001b[0m eta \u001b[36m0:00:00\u001b[0m\n\u001b[?25hRequirement already satisfied: jsonschema>=3.0 in /anaconda/envs/azureml_py38/lib/python3.9/site-packages (from altair<6.0,>=5.0->gradio) (4.21.1)\nRequirement already satisfied: toolz in /anaconda/envs/azureml_py38/lib/python3.9/site-packages (from altair<6.0,>=5.0->gradio) (0.12.1)\nRequirement already satisfied: anyio in /anaconda/envs/azureml_py38/lib/python3.9/site-packages (from httpx>=0.24.1->gradio) (4.3.0)\nRequirement already satisfied: sniffio in /anaconda/envs/azureml_py38/lib/python3.9/site-packages (from httpx>=0.24.1->gradio) (1.3.1)\nRequirement already satisfied: certifi in /anaconda/envs/azureml_py38/lib/python3.9/site-packages (from httpx>=0.24.1->gradio) (2022.9.24)\nRequirement already satisfied: idna in /anaconda/envs/azureml_py38/lib/python3.9/site-packages (from httpx>=0.24.1->gradio) (3.7)\nRequirement already satisfied: httpcore==1.* in /anaconda/envs/azureml_py38/lib/python3.9/site-packages (from httpx>=0.24.1->gradio) (1.0.5)\nRequirement already satisfied: h11<0.15,>=0.13 in /anaconda/envs/azureml_py38/lib/python3.9/site-packages (from httpcore==1.*->httpx>=0.24.1->gradio) (0.14.0)\nRequirement already satisfied: filelock in /anaconda/envs/azureml_py38/lib/python3.9/site-packages (from huggingface-hub>=0.19.3->gradio) (3.14.0)\nRequirement already satisfied: tqdm>=4.42.1 in /anaconda/envs/azureml_py38/lib/python3.9/site-packages (from huggingface-hub>=0.19.3->gradio) (4.66.2)\nRequirement already satisfied: requests in /anaconda/envs/azureml_py38/lib/python3.9/site-packages (from huggingface-hub>=0.19.3->gradio) (2.31.0)\nRequirement already satisfied: zipp>=3.1.0 in /anaconda/envs/azureml_py38/lib/python3.9/site-packages (from importlib-resources<7.0,>=1.3->gradio) (3.12.0)\nRequirement already satisfied: kiwisolver>=1.0.1 in /anaconda/envs/azureml_py38/lib/python3.9/site-packages (from matplotlib~=3.0->gradio) (1.4.5)\nRequirement already satisfied: python-dateutil>=2.1 in /anaconda/envs/azureml_py38/lib/python3.9/site-packages (from matplotlib~=3.0->gradio) (2.9.0.post0)\nRequirement already satisfied: pyparsing!=2.0.4,!=2.1.2,!=2.1.6,>=2.0.1 in /anaconda/envs/azureml_py38/lib/python3.9/site-packages (from matplotlib~=3.0->gradio) (3.1.2)\nRequirement already satisfied: cycler>=0.10 in /anaconda/envs/azureml_py38/lib/python3.9/site-packages (from matplotlib~=3.0->gradio) (0.12.1)\nRequirement already satisfied: pytz>=2017.2 in /anaconda/envs/azureml_py38/lib/python3.9/site-packages (from pandas<3.0,>=1.0->gradio) (2022.5)\nCollecting annotated-types>=0.4.0\n  Downloading annotated_types-0.7.0-py3-none-any.whl (13 kB)\nCollecting pydantic-core==2.20.1\n  Downloading pydantic_core-2.20.1-cp39-cp39-manylinux_2_17_x86_64.manylinux2014_x86_64.whl (2.1 MB)\n\u001b[2K     \u001b[90m━━━━━━━━━━━━━━━━━━━━━━━━━━━━━━━━━━━━━━━━\u001b[0m \u001b[32m2.1/2.1 MB\u001b[0m \u001b[31m32.1 MB/s\u001b[0m eta \u001b[36m0:00:00\u001b[0m00:01\u001b[0m\n\u001b[?25hRequirement already satisfied: click>=8.0.0 in /anaconda/envs/azureml_py38/lib/python3.9/site-packages (from typer<1.0,>=0.12->gradio) (8.1.7)\nRequirement already satisfied: shellingham>=1.3.0 in /anaconda/envs/azureml_py38/lib/python3.9/site-packages (from typer<1.0,>=0.12->gradio) (1.5.4)\nRequirement already satisfied: rich>=10.11.0 in /anaconda/envs/azureml_py38/lib/python3.9/site-packages (from typer<1.0,>=0.12->gradio) (13.7.1)\nRequirement already satisfied: fastapi-cli>=0.0.2 in /anaconda/envs/azureml_py38/lib/python3.9/site-packages (from fastapi->gradio) (0.0.4)\nRequirement already satisfied: email_validator>=2.0.0 in /anaconda/envs/azureml_py38/lib/python3.9/site-packages (from fastapi->gradio) (2.1.1)\nRequirement already satisfied: starlette<0.38.0,>=0.37.2 in /anaconda/envs/azureml_py38/lib/python3.9/site-packages (from fastapi->gradio) (0.37.2)\nRequirement already satisfied: ujson!=4.0.2,!=4.1.0,!=4.2.0,!=4.3.0,!=5.0.0,!=5.1.0,>=4.0.1 in /anaconda/envs/azureml_py38/lib/python3.9/site-packages (from fastapi->gradio) (5.10.0)\nRequirement already satisfied: dnspython>=2.0.0 in /anaconda/envs/azureml_py38/lib/python3.9/site-packages (from email_validator>=2.0.0->fastapi->gradio) (2.6.1)\nRequirement already satisfied: attrs>=22.2.0 in /anaconda/envs/azureml_py38/lib/python3.9/site-packages (from jsonschema>=3.0->altair<6.0,>=5.0->gradio) (23.2.0)\nRequirement already satisfied: jsonschema-specifications>=2023.03.6 in /anaconda/envs/azureml_py38/lib/python3.9/site-packages (from jsonschema>=3.0->altair<6.0,>=5.0->gradio) (2023.12.1)\nRequirement already satisfied: rpds-py>=0.7.1 in /anaconda/envs/azureml_py38/lib/python3.9/site-packages (from jsonschema>=3.0->altair<6.0,>=5.0->gradio) (0.18.0)\nRequirement already satisfied: referencing>=0.28.4 in /anaconda/envs/azureml_py38/lib/python3.9/site-packages (from jsonschema>=3.0->altair<6.0,>=5.0->gradio) (0.35.0)\nRequirement already satisfied: six>=1.5 in /anaconda/envs/azureml_py38/lib/python3.9/site-packages (from python-dateutil>=2.1->matplotlib~=3.0->gradio) (1.16.0)\nRequirement already satisfied: pygments<3.0.0,>=2.13.0 in /anaconda/envs/azureml_py38/lib/python3.9/site-packages (from rich>=10.11.0->typer<1.0,>=0.12->gradio) (2.18.0)\nRequirement already satisfied: markdown-it-py>=2.2.0 in /anaconda/envs/azureml_py38/lib/python3.9/site-packages (from rich>=10.11.0->typer<1.0,>=0.12->gradio) (3.0.0)\nRequirement already satisfied: exceptiongroup>=1.0.2 in /anaconda/envs/azureml_py38/lib/python3.9/site-packages (from anyio->httpx>=0.24.1->gradio) (1.2.1)\nRequirement already satisfied: python-dotenv>=0.13 in /anaconda/envs/azureml_py38/lib/python3.9/site-packages (from uvicorn>=0.14.0->gradio) (1.0.1)\nRequirement already satisfied: watchfiles>=0.13 in /anaconda/envs/azureml_py38/lib/python3.9/site-packages (from uvicorn>=0.14.0->gradio) (0.22.0)\nRequirement already satisfied: uvloop!=0.15.0,!=0.15.1,>=0.14.0 in /anaconda/envs/azureml_py38/lib/python3.9/site-packages (from uvicorn>=0.14.0->gradio) (0.19.0)\nRequirement already satisfied: httptools>=0.5.0 in /anaconda/envs/azureml_py38/lib/python3.9/site-packages (from uvicorn>=0.14.0->gradio) (0.6.1)\nRequirement already satisfied: charset-normalizer<4,>=2 in /anaconda/envs/azureml_py38/lib/python3.9/site-packages (from requests->huggingface-hub>=0.19.3->gradio) (3.3.2)\nRequirement already satisfied: mdurl~=0.1 in /anaconda/envs/azureml_py38/lib/python3.9/site-packages (from markdown-it-py>=2.2.0->rich>=10.11.0->typer<1.0,>=0.12->gradio) (0.1.2)\nBuilding wheels for collected packages: ffmpy\n  Building wheel for ffmpy (setup.py) ... \u001b[?25l-\b \b\\\b \b|\b \b/\b \bdone\n\u001b[?25h  Created wheel for ffmpy: filename=ffmpy-0.3.2-py3-none-any.whl size=5582 sha256=4b45ae647e6833159a54939e0ae0a1fe3501336901555682dac6253da2c79d7c\n  Stored in directory: /home/azureuser/.cache/pip/wheels/19/d7/89/d2745add714dc079c0307144c221adbc6cddbba3a0cd2a35fb\nSuccessfully built ffmpy\nInstalling collected packages: pydub, ffmpy, websockets, urllib3, tomlkit, semantic-version, ruff, pydantic-core, annotated-types, pydantic, gradio-client, altair, gradio\n  Attempting uninstall: websockets\n    Found existing installation: websockets 12.0\n    Uninstalling websockets-12.0:\n      Successfully uninstalled websockets-12.0\n  Attempting uninstall: urllib3\n    Found existing installation: urllib3 1.26.18\n    Uninstalling urllib3-1.26.18:\n      Successfully uninstalled urllib3-1.26.18\n  Attempting uninstall: tomlkit\n    Found existing installation: tomlkit 0.12.5\n    Uninstalling tomlkit-0.12.5:\n      Successfully uninstalled tomlkit-0.12.5\n  Attempting uninstall: pydantic\n    Found existing installation: pydantic 1.10.15\n    Uninstalling pydantic-1.10.15:\n      Successfully uninstalled pydantic-1.10.15\n\u001b[31mERROR: pip's dependency resolver does not currently take into account all the packages that are installed. This behaviour is the source of the following dependency conflicts.\nspacy 3.4.4 requires pydantic!=1.8,!=1.8.1,<1.11.0,>=1.7.4, but you have pydantic 2.8.2 which is incompatible.\nspacy 3.4.4 requires typer<0.8.0,>=0.3.0, but you have typer 0.12.3 which is incompatible.\njupyterlab-server 2.27.1 requires jinja2>=3.0.3, but you have jinja2 2.11.2 which is incompatible.\ndatasets 2.16.1 requires dill<0.3.8,>=0.3.0, but you have dill 0.3.8 which is incompatible.\ndatasets 2.16.1 requires fsspec[http]<=2023.10.0,>=2023.1.0, but you have fsspec 2024.3.1 which is incompatible.\ndask-sql 2024.5.0 requires dask[dataframe]>=2024.4.1, but you have dask 2023.2.0 which is incompatible.\ndask-sql 2024.5.0 requires distributed>=2024.4.1, but you have distributed 2023.2.0 which is incompatible.\ndask-sql 2024.5.0 requires pandas>=1.4.0, but you have pandas 1.1.5 which is incompatible.\nbotocore 1.23.19 requires urllib3<1.27,>=1.25.4, but you have urllib3 2.2.2 which is incompatible.\nazureml-training-tabular 1.56.0 requires pandas==1.3.5, but you have pandas 1.1.5 which is incompatible.\nazureml-training-tabular 1.56.0 requires urllib3<2.0.0, but you have urllib3 2.2.2 which is incompatible.\nazureml-train-automl-runtime 1.56.0 requires pandas==1.3.5, but you have pandas 1.1.5 which is incompatible.\nazureml-train-automl-runtime 1.56.0 requires urllib3<2.0.0, but you have urllib3 2.2.2 which is incompatible.\nazureml-inference-server-http 1.0.0 requires pydantic<1.11,>=1.9, but you have pydantic 2.8.2 which is incompatible.\nazureml-automl-runtime 1.56.0 requires pandas==1.3.5, but you have pandas 1.1.5 which is incompatible.\nazureml-automl-runtime 1.56.0 requires urllib3<2.0.0, but you have urllib3 2.2.2 which is incompatible.\nazure-cli 2.59.0 requires azure-keyvault-keys==4.9.0b3, but you have azure-keyvault-keys 4.8.0 which is incompatible.\u001b[0m\u001b[31m\n\u001b[0mSuccessfully installed altair-5.3.0 annotated-types-0.7.0 ffmpy-0.3.2 gradio-4.38.1 gradio-client-1.1.0 pydantic-2.8.2 pydantic-core-2.20.1 pydub-0.25.1 ruff-0.5.2 semantic-version-2.10.0 tomlkit-0.12.0 urllib3-2.2.2 websockets-11.0.3\nNote: you may need to restart the kernel to use updated packages.\n"
        }
      ],
      "execution_count": 2,
      "metadata": {
        "gather": {
          "logged": 1721208545718
        }
      }
    },
    {
      "cell_type": "code",
      "source": [
        "#pip install gradio\n",
        "import gradio as gr\n",
        "\n",
        "def greet(name, intensity):\n",
        "    return \"Hello, \" + name + \"!\" * int(intensity)\n",
        "\n",
        "demo = gr.Interface(\n",
        "    fn=greet,\n",
        "    inputs=[\"text\", \"slider\"],\n",
        "    outputs=[\"text\"],\n",
        ")\n",
        "\n",
        "demo.launch()\n"
      ],
      "outputs": [
        {
          "output_type": "stream",
          "name": "stdout",
          "text": "Running on local URL:  http://127.0.0.1:7861\n\nTo create a public link, set `share=True` in `launch()`.\n"
        },
        {
          "output_type": "display_data",
          "data": {
            "text/plain": "<IPython.core.display.HTML object>",
            "text/html": "<div><iframe src=\"http://127.0.0.1:7861/\" width=\"100%\" height=\"500\" allow=\"autoplay; camera; microphone; clipboard-read; clipboard-write;\" frameborder=\"0\" allowfullscreen></iframe></div>"
          },
          "metadata": {}
        },
        {
          "output_type": "execute_result",
          "execution_count": 4,
          "data": {
            "text/plain": ""
          },
          "metadata": {}
        }
      ],
      "execution_count": 4,
      "metadata": {
        "jupyter": {
          "source_hidden": false,
          "outputs_hidden": false
        },
        "nteract": {
          "transient": {
            "deleting": false
          }
        },
        "gather": {
          "logged": 1721208571638
        }
      }
    },
    {
      "cell_type": "code",
      "source": [],
      "outputs": [],
      "execution_count": null,
      "metadata": {
        "jupyter": {
          "source_hidden": false,
          "outputs_hidden": false
        },
        "nteract": {
          "transient": {
            "deleting": false
          }
        }
      }
    },
    {
      "cell_type": "code",
      "source": [],
      "outputs": [],
      "execution_count": null,
      "metadata": {
        "jupyter": {
          "source_hidden": false,
          "outputs_hidden": false
        },
        "nteract": {
          "transient": {
            "deleting": false
          }
        }
      }
    }
  ],
  "metadata": {
    "kernelspec": {
      "name": "python38-azureml",
      "language": "python",
      "display_name": "Python 3.8 - AzureML"
    },
    "language_info": {
      "name": "python",
      "version": "3.9.19",
      "mimetype": "text/x-python",
      "codemirror_mode": {
        "name": "ipython",
        "version": 3
      },
      "pygments_lexer": "ipython3",
      "nbconvert_exporter": "python",
      "file_extension": ".py"
    },
    "kernel_info": {
      "name": "python38-azureml"
    },
    "nteract": {
      "version": "nteract-front-end@1.0.0"
    },
    "microsoft": {
      "host": {
        "AzureML": {
          "notebookHasBeenCompleted": true
        }
      }
    }
  },
  "nbformat": 4,
  "nbformat_minor": 2
}